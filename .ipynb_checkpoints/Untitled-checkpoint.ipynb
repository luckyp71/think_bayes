{
 "cells": [
  {
   "cell_type": "code",
   "execution_count": 1,
   "id": "96a70aa1-3d92-4e15-8404-067dcacf7104",
   "metadata": {},
   "outputs": [
    {
     "name": "stderr",
     "output_type": "stream",
     "text": [
      "/home/lucky/anaconda3/envs/python311/lib/python3.11/site-packages/rpy2/rinterface/__init__.py:1211: UserWarning: Environment variable \"LD_LIBRARY_PATH\" redefined by R and overriding existing variable. Current: \"/usr/local/cuda-12.1/lib64:\", R: \"/usr/lib/R/lib:/usr/lib/x86_64-linux-gnu:/usr/lib/jvm/default-java/lib/server:/usr/local/cuda-12.1/lib64:\"\n",
      "  warnings.warn(\n",
      "/home/lucky/anaconda3/envs/python311/lib/python3.11/site-packages/rpy2/rinterface/__init__.py:1211: UserWarning: Environment variable \"PWD\" redefined by R and overriding existing variable. Current: \"/mnt/d/Projects/python\", R: \"/mnt/d/Projects/python/think_bayes\"\n",
      "  warnings.warn(\n",
      "/home/lucky/anaconda3/envs/python311/lib/python3.11/site-packages/rpy2/rinterface/__init__.py:1211: UserWarning: Environment variable \"LD_LIBRARY_PATH\" redefined by R and overriding existing variable. Current: \"/usr/lib/R/lib:/usr/lib/x86_64-linux-gnu:/usr/lib/jvm/default-java/lib/server:/usr/local/cuda-12.1/lib64:\", R: \"/usr/lib/R/lib:/usr/lib/x86_64-linux-gnu:/usr/lib/jvm/default-java/lib/server:/usr/lib/R/lib:/usr/lib/x86_64-linux-gnu:/usr/lib/jvm/default-java/lib/server:/usr/local/cuda-12.1/lib64:\"\n",
      "  warnings.warn(\n",
      "/home/lucky/anaconda3/envs/python311/lib/python3.11/site-packages/rpy2/rinterface/__init__.py:1211: UserWarning: Environment variable \"R_LIBS_SITE\" redefined by R and overriding existing variable. Current: \"/usr/local/lib/R/site-library/:/usr/local/lib/R/site-library:/usr/lib/R/site-library:/usr/lib/R/library\", R: \"/usr/local/lib/R/site-library/:/usr/local/lib/R/site-library/:/usr/local/lib/R/site-library/:/usr/local/lib/R/site-library:/usr/lib/R/site-library:/usr/lib/R/library:/usr/lib/R/library:/usr/lib/R/library\"\n",
      "  warnings.warn(\n",
      "/home/lucky/anaconda3/envs/python311/lib/python3.11/site-packages/rpy2/rinterface/__init__.py:1211: UserWarning: Environment variable \"R_PAPERSIZE_USER\" redefined by R and overriding existing variable. Current: \"a4\", R: \"letter\"\n",
      "  warnings.warn(\n",
      "/home/lucky/anaconda3/envs/python311/lib/python3.11/site-packages/rpy2/rinterface/__init__.py:1211: UserWarning: Environment variable \"R_SESSION_TMPDIR\" redefined by R and overriding existing variable. Current: \"/tmp/RtmpvuRkP1\", R: \"/tmp/Rtmpo8AjKU\"\n",
      "  warnings.warn(\n"
     ]
    }
   ],
   "source": [
    "import rpy2.robjects as robjects"
   ]
  },
  {
   "cell_type": "code",
   "execution_count": 2,
   "id": "307946cb-0c0c-43db-859f-9982ff58637a",
   "metadata": {},
   "outputs": [],
   "source": [
    "r = robjects.r"
   ]
  },
  {
   "cell_type": "code",
   "execution_count": 3,
   "id": "69d387e6-afc4-4210-8348-b6848d8db3e1",
   "metadata": {},
   "outputs": [],
   "source": [
    "r('test1 <- c(1,2,3,4)')"
   ]
  },
  {
   "cell_type": "code",
   "execution_count": 4,
   "id": "199d1b18-20f7-4620-9d6f-7b128972b4b2",
   "metadata": {},
   "outputs": [
    {
     "data": {
      "text/html": [
       "\n",
       "        <span>FloatVector with 4 elements.</span>\n",
       "        <table>\n",
       "        <tbody>\n",
       "          <tr>\n",
       "          \n",
       "            <td>\n",
       "            1.000000\n",
       "            </td>\n",
       "          \n",
       "            <td>\n",
       "            2.000000\n",
       "            </td>\n",
       "          \n",
       "            <td>\n",
       "            3.000000\n",
       "            </td>\n",
       "          \n",
       "            <td>\n",
       "            4.000000\n",
       "            </td>\n",
       "          \n",
       "          </tr>\n",
       "        </tbody>\n",
       "        </table>\n",
       "        "
      ],
      "text/plain": [
       "<rpy2.robjects.vectors.FloatVector object at 0x756f000f3c10> [14]\n",
       "R classes: ('numeric',)\n",
       "[1.000000, 2.000000, 3.000000, 4.000000]"
      ]
     },
     "execution_count": 4,
     "metadata": {},
     "output_type": "execute_result"
    }
   ],
   "source": [
    "r('test1')"
   ]
  },
  {
   "cell_type": "code",
   "execution_count": 5,
   "id": "53ab95bb-e4e3-4869-906b-38980e857cb5",
   "metadata": {},
   "outputs": [],
   "source": [
    "r(\"test2 <- c('lucky', 'pratama')\")"
   ]
  },
  {
   "cell_type": "code",
   "execution_count": 6,
   "id": "88520c57-71cd-4053-aa1b-e8acd54b2a2b",
   "metadata": {},
   "outputs": [
    {
     "data": {
      "text/html": [
       "\n",
       "        <span>StrVector with 2 elements.</span>\n",
       "        <table>\n",
       "        <tbody>\n",
       "          <tr>\n",
       "          \n",
       "            <td>\n",
       "            'lucky'\n",
       "            </td>\n",
       "          \n",
       "            <td>\n",
       "            'pratama'\n",
       "            </td>\n",
       "          \n",
       "          </tr>\n",
       "        </tbody>\n",
       "        </table>\n",
       "        "
      ],
      "text/plain": [
       "<rpy2.robjects.vectors.StrVector object at 0x756f00115f10> [16]\n",
       "R classes: ('character',)\n",
       "['lucky', 'pratama']"
      ]
     },
     "execution_count": 6,
     "metadata": {},
     "output_type": "execute_result"
    }
   ],
   "source": [
    "r['test2']"
   ]
  },
  {
   "cell_type": "code",
   "execution_count": 7,
   "id": "495fe907-070d-431a-9be2-97fb33e95213",
   "metadata": {},
   "outputs": [
    {
     "data": {
      "text/html": [
       "\n",
       "        <span>StrVector with 2 elements.</span>\n",
       "        <table>\n",
       "        <tbody>\n",
       "          <tr>\n",
       "          \n",
       "            <td>\n",
       "            'lucky'\n",
       "            </td>\n",
       "          \n",
       "            <td>\n",
       "            'pratama'\n",
       "            </td>\n",
       "          \n",
       "          </tr>\n",
       "        </tbody>\n",
       "        </table>\n",
       "        "
      ],
      "text/plain": [
       "<rpy2.robjects.vectors.StrVector object at 0x756f18ceadd0> [16]\n",
       "R classes: ('character',)\n",
       "['lucky', 'pratama']"
      ]
     },
     "execution_count": 7,
     "metadata": {},
     "output_type": "execute_result"
    }
   ],
   "source": [
    "r('test2')"
   ]
  },
  {
   "cell_type": "code",
   "execution_count": 8,
   "id": "7faedd13-8c21-4882-ba00-837ca66d9360",
   "metadata": {},
   "outputs": [
    {
     "data": {
      "text/html": [
       "\n",
       "        <span>StrVector with 1 elements.</span>\n",
       "        <table>\n",
       "        <tbody>\n",
       "          <tr>\n",
       "          \n",
       "            <td>\n",
       "            'character'\n",
       "            </td>\n",
       "          \n",
       "          </tr>\n",
       "        </tbody>\n",
       "        </table>\n",
       "        "
      ],
      "text/plain": [
       "<rpy2.robjects.vectors.StrVector object at 0x756f001320d0> [16]\n",
       "R classes: ('character',)\n",
       "['character']"
      ]
     },
     "execution_count": 8,
     "metadata": {},
     "output_type": "execute_result"
    }
   ],
   "source": [
    "r('typeof(test2)')"
   ]
  }
 ],
 "metadata": {
  "kernelspec": {
   "display_name": "Python 3 (ipykernel)",
   "language": "python",
   "name": "python3"
  },
  "language_info": {
   "codemirror_mode": {
    "name": "ipython",
    "version": 3
   },
   "file_extension": ".py",
   "mimetype": "text/x-python",
   "name": "python",
   "nbconvert_exporter": "python",
   "pygments_lexer": "ipython3",
   "version": "3.11.0"
  }
 },
 "nbformat": 4,
 "nbformat_minor": 5
}
