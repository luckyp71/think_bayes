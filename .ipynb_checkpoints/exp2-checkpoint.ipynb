{
 "cells": [
  {
   "cell_type": "markdown",
   "id": "ec9550c6-9e18-4560-a9ca-e8123f1c29e1",
   "metadata": {},
   "source": [
    "# Diachronic Bayes\n",
    "\n",
    "There is another way to think of Bayes's Theorem: it gives us a way to update the probability of a hypothesis, H, given some body of data D. This interpretations is \"diachronic\", which means \"related to change over time\"; in this case, the probability of the hypotheses changes as we see new data.<br/><br/>\n",
    "\n",
    "**P(H|D) = P(H)\\*P(D|H)/P(D)**\n",
    "<br/>\n",
    "- P(H) is the probability of hypothesis before we see the data, called the prior probability or just **prior**\n",
    "- **P(H|D)** is the probability of the hypothesis after we see the data, called the **posterior**\n",
    "- **P(D|H)** is the probability of the data under the hypothesis, called the **likelihood**\n",
    "- **P(D)** is the **total probability of the data**, under any hypothesis\n",
    "\n",
    "**P(D) = Sum of P(Hi) \\* P(D|Hi)**<br/>\n",
    "Where **i** is the number of hypothesis"
   ]
  },
  {
   "cell_type": "markdown",
   "id": "146e0a16-dd5b-4f99-b097-9d2cecb04347",
   "metadata": {},
   "source": [
    "# The Dice Problem\n",
    "\n",
    "A box of 6-sided die, 8-sided die, and 12-sided die.<br/>\n",
    "Someone pick one box at random, roll the die, then report the outcome is a 1.<br/>\n",
    "**What is the probability that he chose the 6-sided die?**"
   ]
  },
  {
   "cell_type": "code",
   "execution_count": 1,
   "id": "8260189d-416d-4e9c-b500-5412757b0c9b",
   "metadata": {},
   "outputs": [],
   "source": [
    "import pandas as pd\n",
    "import numpy as np\n",
    "from fractions import Fraction"
   ]
  },
  {
   "cell_type": "markdown",
   "id": "e9582115-7e95-4bc0-97ca-fcb499f01ea8",
   "metadata": {},
   "source": [
    "### User Defined Functions"
   ]
  },
  {
   "cell_type": "code",
   "execution_count": 2,
   "id": "a5802856-4988-4bd7-bf38-5d920fdd3c94",
   "metadata": {},
   "outputs": [],
   "source": [
    "def update(data):\n",
    "    ## compute the posterior probability\n",
    "    data['unormalized_posterior'] = data['prior']*data['likelihood']\n",
    "    ## total probability of the data P(D)\n",
    "    data['pd'] = data['unormalized_posterior'].sum()\n",
    "    data['posterior'] = data['unormalized_posterior']/data['pd']\n",
    "    return data"
   ]
  },
  {
   "cell_type": "markdown",
   "id": "0febb37e-a624-4412-ab00-e9ab937f6558",
   "metadata": {},
   "source": [
    "#### Create a Bayes Table"
   ]
  },
  {
   "cell_type": "code",
   "execution_count": 3,
   "id": "7937b002-d181-43ff-9cec-e52273e77c20",
   "metadata": {},
   "outputs": [],
   "source": [
    "df = pd.DataFrame(index=[6, 8, 12])"
   ]
  },
  {
   "cell_type": "code",
   "execution_count": 4,
   "id": "11ee6763-e13b-4cf4-b873-fff9e46ce516",
   "metadata": {},
   "outputs": [],
   "source": [
    "df['prior'] = Fraction(1, 3)\n",
    "df['likelihood'] = Fraction(1,6), Fraction(1,8), Fraction(1,12)"
   ]
  },
  {
   "cell_type": "code",
   "execution_count": 5,
   "id": "e3129f26-e80c-4f79-a177-953e50e1dd28",
   "metadata": {},
   "outputs": [
    {
     "data": {
      "text/html": [
       "<div>\n",
       "<style scoped>\n",
       "    .dataframe tbody tr th:only-of-type {\n",
       "        vertical-align: middle;\n",
       "    }\n",
       "\n",
       "    .dataframe tbody tr th {\n",
       "        vertical-align: top;\n",
       "    }\n",
       "\n",
       "    .dataframe thead th {\n",
       "        text-align: right;\n",
       "    }\n",
       "</style>\n",
       "<table border=\"1\" class=\"dataframe\">\n",
       "  <thead>\n",
       "    <tr style=\"text-align: right;\">\n",
       "      <th></th>\n",
       "      <th>prior</th>\n",
       "      <th>likelihood</th>\n",
       "    </tr>\n",
       "  </thead>\n",
       "  <tbody>\n",
       "    <tr>\n",
       "      <th>6</th>\n",
       "      <td>1/3</td>\n",
       "      <td>1/6</td>\n",
       "    </tr>\n",
       "    <tr>\n",
       "      <th>8</th>\n",
       "      <td>1/3</td>\n",
       "      <td>1/8</td>\n",
       "    </tr>\n",
       "    <tr>\n",
       "      <th>12</th>\n",
       "      <td>1/3</td>\n",
       "      <td>1/12</td>\n",
       "    </tr>\n",
       "  </tbody>\n",
       "</table>\n",
       "</div>"
      ],
      "text/plain": [
       "   prior likelihood\n",
       "6    1/3        1/6\n",
       "8    1/3        1/8\n",
       "12   1/3       1/12"
      ]
     },
     "execution_count": 5,
     "metadata": {},
     "output_type": "execute_result"
    }
   ],
   "source": [
    "df"
   ]
  },
  {
   "cell_type": "code",
   "execution_count": 6,
   "id": "0b35bcdc-effd-4f5c-85fe-65d7414ad7a6",
   "metadata": {},
   "outputs": [
    {
     "data": {
      "text/html": [
       "<div>\n",
       "<style scoped>\n",
       "    .dataframe tbody tr th:only-of-type {\n",
       "        vertical-align: middle;\n",
       "    }\n",
       "\n",
       "    .dataframe tbody tr th {\n",
       "        vertical-align: top;\n",
       "    }\n",
       "\n",
       "    .dataframe thead th {\n",
       "        text-align: right;\n",
       "    }\n",
       "</style>\n",
       "<table border=\"1\" class=\"dataframe\">\n",
       "  <thead>\n",
       "    <tr style=\"text-align: right;\">\n",
       "      <th></th>\n",
       "      <th>prior</th>\n",
       "      <th>likelihood</th>\n",
       "      <th>unormalized_posterior</th>\n",
       "      <th>pd</th>\n",
       "      <th>posterior</th>\n",
       "    </tr>\n",
       "  </thead>\n",
       "  <tbody>\n",
       "    <tr>\n",
       "      <th>6</th>\n",
       "      <td>1/3</td>\n",
       "      <td>1/6</td>\n",
       "      <td>1/18</td>\n",
       "      <td>1/8</td>\n",
       "      <td>4/9</td>\n",
       "    </tr>\n",
       "    <tr>\n",
       "      <th>8</th>\n",
       "      <td>1/3</td>\n",
       "      <td>1/8</td>\n",
       "      <td>1/24</td>\n",
       "      <td>1/8</td>\n",
       "      <td>1/3</td>\n",
       "    </tr>\n",
       "    <tr>\n",
       "      <th>12</th>\n",
       "      <td>1/3</td>\n",
       "      <td>1/12</td>\n",
       "      <td>1/36</td>\n",
       "      <td>1/8</td>\n",
       "      <td>2/9</td>\n",
       "    </tr>\n",
       "  </tbody>\n",
       "</table>\n",
       "</div>"
      ],
      "text/plain": [
       "   prior likelihood unormalized_posterior   pd posterior\n",
       "6    1/3        1/6                  1/18  1/8       4/9\n",
       "8    1/3        1/8                  1/24  1/8       1/3\n",
       "12   1/3       1/12                  1/36  1/8       2/9"
      ]
     },
     "execution_count": 6,
     "metadata": {},
     "output_type": "execute_result"
    }
   ],
   "source": [
    "update(df)"
   ]
  },
  {
   "cell_type": "markdown",
   "id": "871730e3-59c6-4366-9636-1bb23efa0673",
   "metadata": {},
   "source": [
    "The posterior probability of the 6-sided die is 4/9. Intuitively, the 6-sided die is the most likely because it had the highest likelihood of producing the outcome we saw"
   ]
  },
  {
   "cell_type": "code",
   "execution_count": 7,
   "id": "eb6c63c8-dc31-4c01-b2f8-c74a9fec7bc5",
   "metadata": {},
   "outputs": [
    {
     "data": {
      "text/plain": [
       "0.4444444444444444"
      ]
     },
     "execution_count": 7,
     "metadata": {},
     "output_type": "execute_result"
    }
   ],
   "source": [
    "4/9"
   ]
  },
  {
   "cell_type": "code",
   "execution_count": 8,
   "id": "2705b220-b8d8-44e0-b905-a8984d2fda73",
   "metadata": {},
   "outputs": [
    {
     "data": {
      "text/plain": [
       "0.3333333333333333"
      ]
     },
     "execution_count": 8,
     "metadata": {},
     "output_type": "execute_result"
    }
   ],
   "source": [
    "1/3"
   ]
  },
  {
   "cell_type": "markdown",
   "id": "a88737f8-5ae8-411e-ad5f-8dfcdbe38680",
   "metadata": {},
   "source": [
    "# The Monty Hall Problem"
   ]
  },
  {
   "cell_type": "markdown",
   "id": "041eae7b-5cdc-4ba4-a19d-4fb7c7cd4d35",
   "metadata": {},
   "source": [
    "- The host, Monty Hall, shows you three closed doors - numbered 1, 2, and 3 - and tells you there is a prize behind each door.\n",
    "- One prize is valuable (traditionally a car), th other two are less valuable (traditionally goats)\n",
    "- The object of the game is to guess which door has the car. If you guess right, you get to keep the car.\n",
    "\n",
    "**Suppose you pick Door 1. Before opening the door you chose, Monty opens Door 3 and reveals a goat. The Monty offers you the option to stick with your original choice or switch to the remaining unopened door**"
   ]
  },
  {
   "cell_type": "code",
   "execution_count": 9,
   "id": "d0893867-7939-41c0-8c5a-2c0d7744a9fe",
   "metadata": {},
   "outputs": [],
   "source": [
    "df = pd.DataFrame(index=['Door 1', 'Door 2', 'Door 3'])"
   ]
  },
  {
   "cell_type": "code",
   "execution_count": 10,
   "id": "6f0f387d-1a3c-41e6-b9d9-97815c1b53e4",
   "metadata": {},
   "outputs": [],
   "source": [
    "df['prior'] = Fraction(1, 3)"
   ]
  },
  {
   "cell_type": "code",
   "execution_count": 11,
   "id": "78713454-83a5-4581-a1e9-a2507ece4089",
   "metadata": {},
   "outputs": [
    {
     "data": {
      "text/html": [
       "<div>\n",
       "<style scoped>\n",
       "    .dataframe tbody tr th:only-of-type {\n",
       "        vertical-align: middle;\n",
       "    }\n",
       "\n",
       "    .dataframe tbody tr th {\n",
       "        vertical-align: top;\n",
       "    }\n",
       "\n",
       "    .dataframe thead th {\n",
       "        text-align: right;\n",
       "    }\n",
       "</style>\n",
       "<table border=\"1\" class=\"dataframe\">\n",
       "  <thead>\n",
       "    <tr style=\"text-align: right;\">\n",
       "      <th></th>\n",
       "      <th>prior</th>\n",
       "    </tr>\n",
       "  </thead>\n",
       "  <tbody>\n",
       "    <tr>\n",
       "      <th>Door 1</th>\n",
       "      <td>1/3</td>\n",
       "    </tr>\n",
       "    <tr>\n",
       "      <th>Door 2</th>\n",
       "      <td>1/3</td>\n",
       "    </tr>\n",
       "    <tr>\n",
       "      <th>Door 3</th>\n",
       "      <td>1/3</td>\n",
       "    </tr>\n",
       "  </tbody>\n",
       "</table>\n",
       "</div>"
      ],
      "text/plain": [
       "       prior\n",
       "Door 1   1/3\n",
       "Door 2   1/3\n",
       "Door 3   1/3"
      ]
     },
     "execution_count": 11,
     "metadata": {},
     "output_type": "execute_result"
    }
   ],
   "source": [
    "df"
   ]
  },
  {
   "cell_type": "markdown",
   "id": "f2f42d0c-5898-44ee-9613-9ad90694ef23",
   "metadata": {},
   "source": [
    "The data is that Monty opened Door 3 and revealed a goat. So let's consider the probability of the data under each hypothesis:\n",
    "- If the car is behind Door 1, Monty chooses Door 2 or 3 at random, so the probability he opens Door 3 is 1/2\n",
    "- If the car is behind Door 2, Monty must open Door 3, so the probability he opens Door 3 is 1\n",
    "- If the car is behind Door 3, Monty won't open Door 3, so the probability under this hypothesis is 0"
   ]
  },
  {
   "cell_type": "code",
   "execution_count": 12,
   "id": "8d4f1241-f6d8-4c4c-96ff-f3d2a87e2201",
   "metadata": {},
   "outputs": [
    {
     "data": {
      "text/html": [
       "<div>\n",
       "<style scoped>\n",
       "    .dataframe tbody tr th:only-of-type {\n",
       "        vertical-align: middle;\n",
       "    }\n",
       "\n",
       "    .dataframe tbody tr th {\n",
       "        vertical-align: top;\n",
       "    }\n",
       "\n",
       "    .dataframe thead th {\n",
       "        text-align: right;\n",
       "    }\n",
       "</style>\n",
       "<table border=\"1\" class=\"dataframe\">\n",
       "  <thead>\n",
       "    <tr style=\"text-align: right;\">\n",
       "      <th></th>\n",
       "      <th>prior</th>\n",
       "      <th>likelihood</th>\n",
       "    </tr>\n",
       "  </thead>\n",
       "  <tbody>\n",
       "    <tr>\n",
       "      <th>Door 1</th>\n",
       "      <td>1/3</td>\n",
       "      <td>1/2</td>\n",
       "    </tr>\n",
       "    <tr>\n",
       "      <th>Door 2</th>\n",
       "      <td>1/3</td>\n",
       "      <td>1</td>\n",
       "    </tr>\n",
       "    <tr>\n",
       "      <th>Door 3</th>\n",
       "      <td>1/3</td>\n",
       "      <td>0</td>\n",
       "    </tr>\n",
       "  </tbody>\n",
       "</table>\n",
       "</div>"
      ],
      "text/plain": [
       "       prior likelihood\n",
       "Door 1   1/3        1/2\n",
       "Door 2   1/3          1\n",
       "Door 3   1/3          0"
      ]
     },
     "execution_count": 12,
     "metadata": {},
     "output_type": "execute_result"
    }
   ],
   "source": [
    "df['likelihood'] = Fraction(1,2), 1, 0\n",
    "df"
   ]
  },
  {
   "cell_type": "code",
   "execution_count": 13,
   "id": "6f0a1e1e-3e06-4c76-805c-36d3b2199368",
   "metadata": {},
   "outputs": [
    {
     "data": {
      "text/html": [
       "<div>\n",
       "<style scoped>\n",
       "    .dataframe tbody tr th:only-of-type {\n",
       "        vertical-align: middle;\n",
       "    }\n",
       "\n",
       "    .dataframe tbody tr th {\n",
       "        vertical-align: top;\n",
       "    }\n",
       "\n",
       "    .dataframe thead th {\n",
       "        text-align: right;\n",
       "    }\n",
       "</style>\n",
       "<table border=\"1\" class=\"dataframe\">\n",
       "  <thead>\n",
       "    <tr style=\"text-align: right;\">\n",
       "      <th></th>\n",
       "      <th>prior</th>\n",
       "      <th>likelihood</th>\n",
       "      <th>unorm_posterior</th>\n",
       "    </tr>\n",
       "  </thead>\n",
       "  <tbody>\n",
       "    <tr>\n",
       "      <th>Door 1</th>\n",
       "      <td>1/3</td>\n",
       "      <td>1/2</td>\n",
       "      <td>1/6</td>\n",
       "    </tr>\n",
       "    <tr>\n",
       "      <th>Door 2</th>\n",
       "      <td>1/3</td>\n",
       "      <td>1</td>\n",
       "      <td>1/3</td>\n",
       "    </tr>\n",
       "    <tr>\n",
       "      <th>Door 3</th>\n",
       "      <td>1/3</td>\n",
       "      <td>0</td>\n",
       "      <td>0</td>\n",
       "    </tr>\n",
       "  </tbody>\n",
       "</table>\n",
       "</div>"
      ],
      "text/plain": [
       "       prior likelihood unorm_posterior\n",
       "Door 1   1/3        1/2             1/6\n",
       "Door 2   1/3          1             1/3\n",
       "Door 3   1/3          0               0"
      ]
     },
     "execution_count": 13,
     "metadata": {},
     "output_type": "execute_result"
    }
   ],
   "source": [
    "df['unorm_posterior'] = df['prior']*df['likelihood']\n",
    "df"
   ]
  },
  {
   "cell_type": "code",
   "execution_count": 14,
   "id": "d25a68a0-bb4d-45be-b5b5-060d46e51f7a",
   "metadata": {},
   "outputs": [],
   "source": [
    "df['total_probability_of_the_data']=df['unorm_posterior'].sum()"
   ]
  },
  {
   "cell_type": "code",
   "execution_count": 16,
   "id": "b82d36dd-4c24-42bb-850a-5e39e56dc6d6",
   "metadata": {},
   "outputs": [
    {
     "data": {
      "text/html": [
       "<div>\n",
       "<style scoped>\n",
       "    .dataframe tbody tr th:only-of-type {\n",
       "        vertical-align: middle;\n",
       "    }\n",
       "\n",
       "    .dataframe tbody tr th {\n",
       "        vertical-align: top;\n",
       "    }\n",
       "\n",
       "    .dataframe thead th {\n",
       "        text-align: right;\n",
       "    }\n",
       "</style>\n",
       "<table border=\"1\" class=\"dataframe\">\n",
       "  <thead>\n",
       "    <tr style=\"text-align: right;\">\n",
       "      <th></th>\n",
       "      <th>prior</th>\n",
       "      <th>likelihood</th>\n",
       "      <th>unorm_posterior</th>\n",
       "      <th>total_probability_of_the_data</th>\n",
       "      <th>posterior</th>\n",
       "    </tr>\n",
       "  </thead>\n",
       "  <tbody>\n",
       "    <tr>\n",
       "      <th>Door 1</th>\n",
       "      <td>1/3</td>\n",
       "      <td>1/2</td>\n",
       "      <td>1/6</td>\n",
       "      <td>1/2</td>\n",
       "      <td>1/3</td>\n",
       "    </tr>\n",
       "    <tr>\n",
       "      <th>Door 2</th>\n",
       "      <td>1/3</td>\n",
       "      <td>1</td>\n",
       "      <td>1/3</td>\n",
       "      <td>1/2</td>\n",
       "      <td>2/3</td>\n",
       "    </tr>\n",
       "    <tr>\n",
       "      <th>Door 3</th>\n",
       "      <td>1/3</td>\n",
       "      <td>0</td>\n",
       "      <td>0</td>\n",
       "      <td>1/2</td>\n",
       "      <td>0</td>\n",
       "    </tr>\n",
       "  </tbody>\n",
       "</table>\n",
       "</div>"
      ],
      "text/plain": [
       "       prior likelihood unorm_posterior total_probability_of_the_data  \\\n",
       "Door 1   1/3        1/2             1/6                           1/2   \n",
       "Door 2   1/3          1             1/3                           1/2   \n",
       "Door 3   1/3          0               0                           1/2   \n",
       "\n",
       "       posterior  \n",
       "Door 1       1/3  \n",
       "Door 2       2/3  \n",
       "Door 3         0  "
      ]
     },
     "execution_count": 16,
     "metadata": {},
     "output_type": "execute_result"
    }
   ],
   "source": [
    "df['posterior']=df['unorm_posterior']/df['total_probability_of_the_data']\n",
    "df"
   ]
  },
  {
   "cell_type": "markdown",
   "id": "de20d067-59fe-48c0-95f5-e20b72aa8791",
   "metadata": {},
   "source": [
    "After Monty opens Door 3, the posterior probability of Door 1 is 1/3, the posterior probability of Door 2 is 2/3. So you are better off switch-ing from Door 1 to Door 2."
   ]
  },
  {
   "cell_type": "markdown",
   "id": "96b0c5a0-789e-46d8-9828-6549c6dea219",
   "metadata": {},
   "source": [
    "### Exercise"
   ]
  },
  {
   "cell_type": "markdown",
   "id": "bfe29fd8-c933-453a-bc57-498d3346aef2",
   "metadata": {},
   "source": [
    "#### Example 2-1"
   ]
  },
  {
   "cell_type": "code",
   "execution_count": 17,
   "id": "99028013-384f-40d1-b2ae-fdf755be86bd",
   "metadata": {},
   "outputs": [],
   "source": [
    "df = pd.DataFrame(index=['trick', 'non_trick'])"
   ]
  },
  {
   "cell_type": "code",
   "execution_count": 21,
   "id": "7f96f5ba-7235-4e10-b651-3b2bc80ffdcb",
   "metadata": {},
   "outputs": [],
   "source": [
    "df['prior'] = Fraction(1,2), Fraction(1,2)"
   ]
  },
  {
   "cell_type": "code",
   "execution_count": 22,
   "id": "4d66ffb2-4219-4056-8ca8-d79b233e55cc",
   "metadata": {},
   "outputs": [],
   "source": [
    "df['likelihood'] = Fraction(1,2), 1"
   ]
  },
  {
   "cell_type": "code",
   "execution_count": 23,
   "id": "0409186d-8a54-453c-9298-345d6c75f05d",
   "metadata": {},
   "outputs": [
    {
     "data": {
      "text/html": [
       "<div>\n",
       "<style scoped>\n",
       "    .dataframe tbody tr th:only-of-type {\n",
       "        vertical-align: middle;\n",
       "    }\n",
       "\n",
       "    .dataframe tbody tr th {\n",
       "        vertical-align: top;\n",
       "    }\n",
       "\n",
       "    .dataframe thead th {\n",
       "        text-align: right;\n",
       "    }\n",
       "</style>\n",
       "<table border=\"1\" class=\"dataframe\">\n",
       "  <thead>\n",
       "    <tr style=\"text-align: right;\">\n",
       "      <th></th>\n",
       "      <th>prior</th>\n",
       "      <th>likelihood</th>\n",
       "    </tr>\n",
       "  </thead>\n",
       "  <tbody>\n",
       "    <tr>\n",
       "      <th>trick</th>\n",
       "      <td>1/2</td>\n",
       "      <td>1/2</td>\n",
       "    </tr>\n",
       "    <tr>\n",
       "      <th>non_trick</th>\n",
       "      <td>1/2</td>\n",
       "      <td>1</td>\n",
       "    </tr>\n",
       "  </tbody>\n",
       "</table>\n",
       "</div>"
      ],
      "text/plain": [
       "          prior likelihood\n",
       "trick       1/2        1/2\n",
       "non_trick   1/2          1"
      ]
     },
     "execution_count": 23,
     "metadata": {},
     "output_type": "execute_result"
    }
   ],
   "source": [
    "df"
   ]
  },
  {
   "cell_type": "code",
   "execution_count": 24,
   "id": "3864f706-2f21-4445-a232-865432ec143c",
   "metadata": {},
   "outputs": [],
   "source": [
    "df['unorm_post'] = df['prior']*df['likelihood']"
   ]
  },
  {
   "cell_type": "code",
   "execution_count": 26,
   "id": "b3b38a77-0a9b-4613-a747-6ca5ad7c1d3b",
   "metadata": {},
   "outputs": [],
   "source": [
    "df['post'] = df['unorm_post'] / df['unorm_post'].sum()"
   ]
  },
  {
   "cell_type": "code",
   "execution_count": 27,
   "id": "da287515-f4d2-4ee2-ba04-3fc75704cc68",
   "metadata": {},
   "outputs": [
    {
     "data": {
      "text/html": [
       "<div>\n",
       "<style scoped>\n",
       "    .dataframe tbody tr th:only-of-type {\n",
       "        vertical-align: middle;\n",
       "    }\n",
       "\n",
       "    .dataframe tbody tr th {\n",
       "        vertical-align: top;\n",
       "    }\n",
       "\n",
       "    .dataframe thead th {\n",
       "        text-align: right;\n",
       "    }\n",
       "</style>\n",
       "<table border=\"1\" class=\"dataframe\">\n",
       "  <thead>\n",
       "    <tr style=\"text-align: right;\">\n",
       "      <th></th>\n",
       "      <th>prior</th>\n",
       "      <th>likelihood</th>\n",
       "      <th>unorm_post</th>\n",
       "      <th>post</th>\n",
       "    </tr>\n",
       "  </thead>\n",
       "  <tbody>\n",
       "    <tr>\n",
       "      <th>trick</th>\n",
       "      <td>1/2</td>\n",
       "      <td>1/2</td>\n",
       "      <td>1/4</td>\n",
       "      <td>1/3</td>\n",
       "    </tr>\n",
       "    <tr>\n",
       "      <th>non_trick</th>\n",
       "      <td>1/2</td>\n",
       "      <td>1</td>\n",
       "      <td>1/2</td>\n",
       "      <td>2/3</td>\n",
       "    </tr>\n",
       "  </tbody>\n",
       "</table>\n",
       "</div>"
      ],
      "text/plain": [
       "          prior likelihood unorm_post post\n",
       "trick       1/2        1/2        1/4  1/3\n",
       "non_trick   1/2          1        1/2  2/3"
      ]
     },
     "execution_count": 27,
     "metadata": {},
     "output_type": "execute_result"
    }
   ],
   "source": [
    "df"
   ]
  },
  {
   "cell_type": "code",
   "execution_count": 41,
   "id": "0c15a82f-1032-4064-835e-1ba4d86d1c30",
   "metadata": {},
   "outputs": [
    {
     "data": {
      "text/plain": [
       "Fraction(1, 1)"
      ]
     },
     "execution_count": 41,
     "metadata": {},
     "output_type": "execute_result"
    }
   ],
   "source": [
    "df['posterior'].sum()"
   ]
  },
  {
   "cell_type": "markdown",
   "id": "6a69bdcc-83a8-4b0a-b30c-517477e225a5",
   "metadata": {},
   "source": [
    "#### Example 2-2"
   ]
  },
  {
   "cell_type": "code",
   "execution_count": 28,
   "id": "552f4b47-8c4f-473c-94ec-e1462c62a059",
   "metadata": {},
   "outputs": [],
   "source": [
    "df = pd.DataFrame(index=['Male-Male', 'Male-Female', 'Female-Female'])"
   ]
  },
  {
   "cell_type": "code",
   "execution_count": 29,
   "id": "f84702c7-4ece-4560-993e-5a49e73ec6f1",
   "metadata": {},
   "outputs": [
    {
     "data": {
      "text/html": [
       "<div>\n",
       "<style scoped>\n",
       "    .dataframe tbody tr th:only-of-type {\n",
       "        vertical-align: middle;\n",
       "    }\n",
       "\n",
       "    .dataframe tbody tr th {\n",
       "        vertical-align: top;\n",
       "    }\n",
       "\n",
       "    .dataframe thead th {\n",
       "        text-align: right;\n",
       "    }\n",
       "</style>\n",
       "<table border=\"1\" class=\"dataframe\">\n",
       "  <thead>\n",
       "    <tr style=\"text-align: right;\">\n",
       "      <th></th>\n",
       "    </tr>\n",
       "  </thead>\n",
       "  <tbody>\n",
       "    <tr>\n",
       "      <th>Male-Male</th>\n",
       "    </tr>\n",
       "    <tr>\n",
       "      <th>Male-Female</th>\n",
       "    </tr>\n",
       "    <tr>\n",
       "      <th>Female-Female</th>\n",
       "    </tr>\n",
       "  </tbody>\n",
       "</table>\n",
       "</div>"
      ],
      "text/plain": [
       "Empty DataFrame\n",
       "Columns: []\n",
       "Index: [Male-Male, Male-Female, Female-Female]"
      ]
     },
     "execution_count": 29,
     "metadata": {},
     "output_type": "execute_result"
    }
   ],
   "source": [
    "df"
   ]
  },
  {
   "cell_type": "code",
   "execution_count": 30,
   "id": "a8b21422-3ca8-4103-9ff0-122cd171a935",
   "metadata": {},
   "outputs": [],
   "source": [
    "df['prior'] = Fraction(1,3),Fraction(1,3),Fraction(1,3) "
   ]
  },
  {
   "cell_type": "code",
   "execution_count": 31,
   "id": "99ea37d3-d137-498c-a88f-4ef5e939f70f",
   "metadata": {},
   "outputs": [
    {
     "data": {
      "text/html": [
       "<div>\n",
       "<style scoped>\n",
       "    .dataframe tbody tr th:only-of-type {\n",
       "        vertical-align: middle;\n",
       "    }\n",
       "\n",
       "    .dataframe tbody tr th {\n",
       "        vertical-align: top;\n",
       "    }\n",
       "\n",
       "    .dataframe thead th {\n",
       "        text-align: right;\n",
       "    }\n",
       "</style>\n",
       "<table border=\"1\" class=\"dataframe\">\n",
       "  <thead>\n",
       "    <tr style=\"text-align: right;\">\n",
       "      <th></th>\n",
       "      <th>prior</th>\n",
       "    </tr>\n",
       "  </thead>\n",
       "  <tbody>\n",
       "    <tr>\n",
       "      <th>Male-Male</th>\n",
       "      <td>1/3</td>\n",
       "    </tr>\n",
       "    <tr>\n",
       "      <th>Male-Female</th>\n",
       "      <td>1/3</td>\n",
       "    </tr>\n",
       "    <tr>\n",
       "      <th>Female-Female</th>\n",
       "      <td>1/3</td>\n",
       "    </tr>\n",
       "  </tbody>\n",
       "</table>\n",
       "</div>"
      ],
      "text/plain": [
       "              prior\n",
       "Male-Male       1/3\n",
       "Male-Female     1/3\n",
       "Female-Female   1/3"
      ]
     },
     "execution_count": 31,
     "metadata": {},
     "output_type": "execute_result"
    }
   ],
   "source": [
    "df"
   ]
  },
  {
   "cell_type": "code",
   "execution_count": 33,
   "id": "bb986bc0-d008-4b20-8ca7-86194f4d98f3",
   "metadata": {},
   "outputs": [],
   "source": [
    "df['likelihood'] = 0, Fraction(1,2), Fraction(1,2)"
   ]
  },
  {
   "cell_type": "code",
   "execution_count": 40,
   "id": "a8916bf0-b92a-4990-9f65-53eba7544caa",
   "metadata": {},
   "outputs": [
    {
     "data": {
      "text/html": [
       "<div>\n",
       "<style scoped>\n",
       "    .dataframe tbody tr th:only-of-type {\n",
       "        vertical-align: middle;\n",
       "    }\n",
       "\n",
       "    .dataframe tbody tr th {\n",
       "        vertical-align: top;\n",
       "    }\n",
       "\n",
       "    .dataframe thead th {\n",
       "        text-align: right;\n",
       "    }\n",
       "</style>\n",
       "<table border=\"1\" class=\"dataframe\">\n",
       "  <thead>\n",
       "    <tr style=\"text-align: right;\">\n",
       "      <th></th>\n",
       "      <th>prior</th>\n",
       "      <th>likelihood</th>\n",
       "      <th>unorm_post</th>\n",
       "      <th>posterior</th>\n",
       "    </tr>\n",
       "  </thead>\n",
       "  <tbody>\n",
       "    <tr>\n",
       "      <th>Male-Male</th>\n",
       "      <td>1/3</td>\n",
       "      <td>0</td>\n",
       "      <td>0</td>\n",
       "      <td>0</td>\n",
       "    </tr>\n",
       "    <tr>\n",
       "      <th>Male-Female</th>\n",
       "      <td>1/3</td>\n",
       "      <td>1/2</td>\n",
       "      <td>1/6</td>\n",
       "      <td>1/2</td>\n",
       "    </tr>\n",
       "    <tr>\n",
       "      <th>Female-Female</th>\n",
       "      <td>1/3</td>\n",
       "      <td>1/2</td>\n",
       "      <td>1/6</td>\n",
       "      <td>1/2</td>\n",
       "    </tr>\n",
       "  </tbody>\n",
       "</table>\n",
       "</div>"
      ],
      "text/plain": [
       "              prior likelihood unorm_post posterior\n",
       "Male-Male       1/3          0          0         0\n",
       "Male-Female     1/3        1/2        1/6       1/2\n",
       "Female-Female   1/3        1/2        1/6       1/2"
      ]
     },
     "execution_count": 40,
     "metadata": {},
     "output_type": "execute_result"
    }
   ],
   "source": [
    "df['unorm_post'] = df['prior'] * df['likelihood']\n",
    "df['posterior']=df['unorm_post']/df['unorm_post'].sum()\n",
    "df"
   ]
  },
  {
   "cell_type": "code",
   "execution_count": 42,
   "id": "978cd92d-e531-4d2f-9521-f65332a1ebce",
   "metadata": {},
   "outputs": [
    {
     "data": {
      "text/plain": [
       "Fraction(1, 1)"
      ]
     },
     "execution_count": 42,
     "metadata": {},
     "output_type": "execute_result"
    }
   ],
   "source": [
    "df['posterior'].sum()"
   ]
  },
  {
   "cell_type": "code",
   "execution_count": null,
   "id": "9d44f291-4d3c-4a07-924e-942076eb0151",
   "metadata": {},
   "outputs": [],
   "source": []
  }
 ],
 "metadata": {
  "kernelspec": {
   "display_name": "Python 3 (ipykernel)",
   "language": "python",
   "name": "python3"
  },
  "language_info": {
   "codemirror_mode": {
    "name": "ipython",
    "version": 3
   },
   "file_extension": ".py",
   "mimetype": "text/x-python",
   "name": "python",
   "nbconvert_exporter": "python",
   "pygments_lexer": "ipython3",
   "version": "3.11.0"
  }
 },
 "nbformat": 4,
 "nbformat_minor": 5
}
