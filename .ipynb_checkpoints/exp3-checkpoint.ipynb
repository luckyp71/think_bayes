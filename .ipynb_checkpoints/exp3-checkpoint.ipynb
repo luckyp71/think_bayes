{
 "cells": [
  {
   "cell_type": "markdown",
   "id": "fc1482f2-9c0f-470c-9f5f-c80c0bf21284",
   "metadata": {},
   "source": [
    "# Distribution"
   ]
  },
  {
   "cell_type": "code",
   "execution_count": 1,
   "id": "ab94f035-b792-45c5-afcb-76ee67a39f18",
   "metadata": {},
   "outputs": [],
   "source": [
    "import pandas as pd\n",
    "from fractions import Fraction\n",
    "from empiricaldist import Pmf\n",
    "import numpy as np\n",
    "import matplotlib.pyplot as plt\n",
    "from scipy.stats import binom, bernoulli, uniform"
   ]
  },
  {
   "cell_type": "markdown",
   "id": "eea09523-c007-4a58-b8a6-6a61bcc324e0",
   "metadata": {},
   "source": [
    "## The Cookie Problem\n",
    "\n",
    "Suppose there are two bowls of cookies:\n",
    "- Bowl 1 contains 30 vanilla cookies and 10 chocolate cookies\n",
    "- Bowl 2 contains 20 vanilla cookies and 20 chocolate cookies\n",
    "\n",
    "After choose bowl at random, someone reports that the outcome is vanilla cookie.<br/>\n",
    "**What is the probability that it came from Bowl 1?**"
   ]
  },
  {
   "cell_type": "code",
   "execution_count": 2,
   "id": "9428e786-92ee-485f-a741-d1c1eddaa153",
   "metadata": {},
   "outputs": [
    {
     "data": {
      "text/html": [
       "<div>\n",
       "<style scoped>\n",
       "    .dataframe tbody tr th:only-of-type {\n",
       "        vertical-align: middle;\n",
       "    }\n",
       "\n",
       "    .dataframe tbody tr th {\n",
       "        vertical-align: top;\n",
       "    }\n",
       "\n",
       "    .dataframe thead th {\n",
       "        text-align: right;\n",
       "    }\n",
       "</style>\n",
       "<table border=\"1\" class=\"dataframe\">\n",
       "  <thead>\n",
       "    <tr style=\"text-align: right;\">\n",
       "      <th></th>\n",
       "    </tr>\n",
       "  </thead>\n",
       "  <tbody>\n",
       "    <tr>\n",
       "      <th>Bowl 1</th>\n",
       "    </tr>\n",
       "    <tr>\n",
       "      <th>Bowl 2</th>\n",
       "    </tr>\n",
       "  </tbody>\n",
       "</table>\n",
       "</div>"
      ],
      "text/plain": [
       "Empty DataFrame\n",
       "Columns: []\n",
       "Index: [Bowl 1, Bowl 2]"
      ]
     },
     "execution_count": 2,
     "metadata": {},
     "output_type": "execute_result"
    }
   ],
   "source": [
    "df = pd.DataFrame(index=['Bowl 1', 'Bowl 2'])\n",
    "df"
   ]
  },
  {
   "cell_type": "code",
   "execution_count": 3,
   "id": "48a89d4e-9834-475c-9685-7d1fd2c075f3",
   "metadata": {},
   "outputs": [],
   "source": [
    "df['prior'] = Fraction(1,2), Fraction(1,2)"
   ]
  },
  {
   "cell_type": "code",
   "execution_count": 4,
   "id": "c2bb8a53-752a-4099-9c1d-170a417dc118",
   "metadata": {},
   "outputs": [
    {
     "data": {
      "text/html": [
       "<div>\n",
       "<style scoped>\n",
       "    .dataframe tbody tr th:only-of-type {\n",
       "        vertical-align: middle;\n",
       "    }\n",
       "\n",
       "    .dataframe tbody tr th {\n",
       "        vertical-align: top;\n",
       "    }\n",
       "\n",
       "    .dataframe thead th {\n",
       "        text-align: right;\n",
       "    }\n",
       "</style>\n",
       "<table border=\"1\" class=\"dataframe\">\n",
       "  <thead>\n",
       "    <tr style=\"text-align: right;\">\n",
       "      <th></th>\n",
       "      <th>prior</th>\n",
       "    </tr>\n",
       "  </thead>\n",
       "  <tbody>\n",
       "    <tr>\n",
       "      <th>Bowl 1</th>\n",
       "      <td>1/2</td>\n",
       "    </tr>\n",
       "    <tr>\n",
       "      <th>Bowl 2</th>\n",
       "      <td>1/2</td>\n",
       "    </tr>\n",
       "  </tbody>\n",
       "</table>\n",
       "</div>"
      ],
      "text/plain": [
       "       prior\n",
       "Bowl 1   1/2\n",
       "Bowl 2   1/2"
      ]
     },
     "execution_count": 4,
     "metadata": {},
     "output_type": "execute_result"
    }
   ],
   "source": [
    "df"
   ]
  },
  {
   "cell_type": "code",
   "execution_count": 5,
   "id": "e9de2cc8-a060-4efa-81dc-d79f58a3fb30",
   "metadata": {},
   "outputs": [],
   "source": [
    "df['likelihood'] = Fraction(3,4), Fraction(2,4)"
   ]
  },
  {
   "cell_type": "code",
   "execution_count": 6,
   "id": "2e25703a-0666-4241-9f9d-5045bb25eb1d",
   "metadata": {},
   "outputs": [],
   "source": [
    "df['unorm'] = df['prior']*df['likelihood']\n",
    "df['total_proba'] = df['unorm'].sum()\n",
    "df['posterior'] = df['unorm']/df['total_proba']"
   ]
  },
  {
   "cell_type": "code",
   "execution_count": 7,
   "id": "2480981f-4505-4c98-b85c-8126c82d42cc",
   "metadata": {},
   "outputs": [
    {
     "data": {
      "text/html": [
       "<div>\n",
       "<style scoped>\n",
       "    .dataframe tbody tr th:only-of-type {\n",
       "        vertical-align: middle;\n",
       "    }\n",
       "\n",
       "    .dataframe tbody tr th {\n",
       "        vertical-align: top;\n",
       "    }\n",
       "\n",
       "    .dataframe thead th {\n",
       "        text-align: right;\n",
       "    }\n",
       "</style>\n",
       "<table border=\"1\" class=\"dataframe\">\n",
       "  <thead>\n",
       "    <tr style=\"text-align: right;\">\n",
       "      <th></th>\n",
       "      <th>prior</th>\n",
       "      <th>likelihood</th>\n",
       "      <th>unorm</th>\n",
       "      <th>total_proba</th>\n",
       "      <th>posterior</th>\n",
       "    </tr>\n",
       "  </thead>\n",
       "  <tbody>\n",
       "    <tr>\n",
       "      <th>Bowl 1</th>\n",
       "      <td>1/2</td>\n",
       "      <td>3/4</td>\n",
       "      <td>3/8</td>\n",
       "      <td>5/8</td>\n",
       "      <td>3/5</td>\n",
       "    </tr>\n",
       "    <tr>\n",
       "      <th>Bowl 2</th>\n",
       "      <td>1/2</td>\n",
       "      <td>1/2</td>\n",
       "      <td>1/4</td>\n",
       "      <td>5/8</td>\n",
       "      <td>2/5</td>\n",
       "    </tr>\n",
       "  </tbody>\n",
       "</table>\n",
       "</div>"
      ],
      "text/plain": [
       "       prior likelihood unorm total_proba posterior\n",
       "Bowl 1   1/2        3/4   3/8         5/8       3/5\n",
       "Bowl 2   1/2        1/2   1/4         5/8       2/5"
      ]
     },
     "execution_count": 7,
     "metadata": {},
     "output_type": "execute_result"
    }
   ],
   "source": [
    "df"
   ]
  },
  {
   "cell_type": "code",
   "execution_count": 8,
   "id": "dcfde976-342e-4061-a8e9-5bf078dac487",
   "metadata": {},
   "outputs": [
    {
     "data": {
      "text/plain": [
       "(0.6, 0.4)"
      ]
     },
     "execution_count": 8,
     "metadata": {},
     "output_type": "execute_result"
    }
   ],
   "source": [
    "3/5, 2/5"
   ]
  },
  {
   "cell_type": "markdown",
   "id": "2e5439aa-18fa-41ae-98ef-c85d55e787b6",
   "metadata": {},
   "source": [
    "Suppose you put the first cookie back (so the contents of the bowls don't change) and draw again rom the same bowl. If the second cookie is also vanilla, we should update the posterior"
   ]
  },
  {
   "cell_type": "code",
   "execution_count": 9,
   "id": "add82c81-6b7c-4a07-b72d-be48d99a9117",
   "metadata": {},
   "outputs": [],
   "source": [
    "df['unorm_2'] = df['posterior'] * df['likelihood']\n",
    "df['total_proba_2'] = df['unorm_2'].sum()\n",
    "df['posterior_2'] = df['unorm_2'] / df['total_proba_2']"
   ]
  },
  {
   "cell_type": "code",
   "execution_count": 10,
   "id": "af4d31be-7088-42aa-a2f1-c3370f737655",
   "metadata": {},
   "outputs": [
    {
     "data": {
      "text/html": [
       "<div>\n",
       "<style scoped>\n",
       "    .dataframe tbody tr th:only-of-type {\n",
       "        vertical-align: middle;\n",
       "    }\n",
       "\n",
       "    .dataframe tbody tr th {\n",
       "        vertical-align: top;\n",
       "    }\n",
       "\n",
       "    .dataframe thead th {\n",
       "        text-align: right;\n",
       "    }\n",
       "</style>\n",
       "<table border=\"1\" class=\"dataframe\">\n",
       "  <thead>\n",
       "    <tr style=\"text-align: right;\">\n",
       "      <th></th>\n",
       "      <th>prior</th>\n",
       "      <th>likelihood</th>\n",
       "      <th>unorm</th>\n",
       "      <th>total_proba</th>\n",
       "      <th>posterior</th>\n",
       "      <th>unorm_2</th>\n",
       "      <th>total_proba_2</th>\n",
       "      <th>posterior_2</th>\n",
       "    </tr>\n",
       "  </thead>\n",
       "  <tbody>\n",
       "    <tr>\n",
       "      <th>Bowl 1</th>\n",
       "      <td>1/2</td>\n",
       "      <td>3/4</td>\n",
       "      <td>3/8</td>\n",
       "      <td>5/8</td>\n",
       "      <td>3/5</td>\n",
       "      <td>9/20</td>\n",
       "      <td>13/20</td>\n",
       "      <td>9/13</td>\n",
       "    </tr>\n",
       "    <tr>\n",
       "      <th>Bowl 2</th>\n",
       "      <td>1/2</td>\n",
       "      <td>1/2</td>\n",
       "      <td>1/4</td>\n",
       "      <td>5/8</td>\n",
       "      <td>2/5</td>\n",
       "      <td>1/5</td>\n",
       "      <td>13/20</td>\n",
       "      <td>4/13</td>\n",
       "    </tr>\n",
       "  </tbody>\n",
       "</table>\n",
       "</div>"
      ],
      "text/plain": [
       "       prior likelihood unorm total_proba posterior unorm_2 total_proba_2  \\\n",
       "Bowl 1   1/2        3/4   3/8         5/8       3/5    9/20         13/20   \n",
       "Bowl 2   1/2        1/2   1/4         5/8       2/5     1/5         13/20   \n",
       "\n",
       "       posterior_2  \n",
       "Bowl 1        9/13  \n",
       "Bowl 2        4/13  "
      ]
     },
     "execution_count": 10,
     "metadata": {},
     "output_type": "execute_result"
    }
   ],
   "source": [
    "df"
   ]
  },
  {
   "cell_type": "code",
   "execution_count": 11,
   "id": "3010acf4-591c-4fcd-b7a4-380aa2d520ee",
   "metadata": {},
   "outputs": [
    {
     "data": {
      "text/plain": [
       "(0.6923076923076923, 0.3076923076923077)"
      ]
     },
     "execution_count": 11,
     "metadata": {},
     "output_type": "execute_result"
    }
   ],
   "source": [
    "9/13, 4/13"
   ]
  },
  {
   "cell_type": "markdown",
   "id": "d7eb9df6-297d-4286-ac8b-f7acd000c102",
   "metadata": {},
   "source": [
    "Suppose we do the same thing again and get a chocolate cookie."
   ]
  },
  {
   "cell_type": "code",
   "execution_count": 12,
   "id": "3b70897d-bafc-4f3b-9253-432250f02bca",
   "metadata": {},
   "outputs": [
    {
     "data": {
      "text/plain": [
       "(Fraction(1, 4), Fraction(1, 2))"
      ]
     },
     "execution_count": 12,
     "metadata": {},
     "output_type": "execute_result"
    }
   ],
   "source": [
    "likelihood_chocolate = Fraction(1,4), Fraction(2,4)\n",
    "likelihood_chocolate"
   ]
  },
  {
   "cell_type": "code",
   "execution_count": 13,
   "id": "df1a0e40-282f-456e-a1d5-9f4529ed1967",
   "metadata": {},
   "outputs": [
    {
     "data": {
      "text/plain": [
       "Bowl 1    9/52\n",
       "Bowl 2    2/13\n",
       "Name: posterior_2, dtype: object"
      ]
     },
     "execution_count": 13,
     "metadata": {},
     "output_type": "execute_result"
    }
   ],
   "source": [
    "df['posterior_2']*likelihood_chocolate"
   ]
  },
  {
   "cell_type": "code",
   "execution_count": 14,
   "id": "5cbb3a11-2450-4878-88c3-7ff9656c568f",
   "metadata": {},
   "outputs": [],
   "source": [
    "df['unorm_3'] = df['posterior_2']*likelihood_chocolate\n",
    "df['total_proba_3'] = df['unorm_3'].sum()\n",
    "df['posterior_3'] = df['unorm_3']/ df['total_proba_3']"
   ]
  },
  {
   "cell_type": "code",
   "execution_count": 15,
   "id": "6c221149-a917-4c3b-98fa-57de3f9be2c4",
   "metadata": {},
   "outputs": [
    {
     "data": {
      "text/html": [
       "<div>\n",
       "<style scoped>\n",
       "    .dataframe tbody tr th:only-of-type {\n",
       "        vertical-align: middle;\n",
       "    }\n",
       "\n",
       "    .dataframe tbody tr th {\n",
       "        vertical-align: top;\n",
       "    }\n",
       "\n",
       "    .dataframe thead th {\n",
       "        text-align: right;\n",
       "    }\n",
       "</style>\n",
       "<table border=\"1\" class=\"dataframe\">\n",
       "  <thead>\n",
       "    <tr style=\"text-align: right;\">\n",
       "      <th></th>\n",
       "      <th>prior</th>\n",
       "      <th>likelihood</th>\n",
       "      <th>unorm</th>\n",
       "      <th>total_proba</th>\n",
       "      <th>posterior</th>\n",
       "      <th>unorm_2</th>\n",
       "      <th>total_proba_2</th>\n",
       "      <th>posterior_2</th>\n",
       "      <th>unorm_3</th>\n",
       "      <th>total_proba_3</th>\n",
       "      <th>posterior_3</th>\n",
       "    </tr>\n",
       "  </thead>\n",
       "  <tbody>\n",
       "    <tr>\n",
       "      <th>Bowl 1</th>\n",
       "      <td>1/2</td>\n",
       "      <td>3/4</td>\n",
       "      <td>3/8</td>\n",
       "      <td>5/8</td>\n",
       "      <td>3/5</td>\n",
       "      <td>9/20</td>\n",
       "      <td>13/20</td>\n",
       "      <td>9/13</td>\n",
       "      <td>9/52</td>\n",
       "      <td>17/52</td>\n",
       "      <td>9/17</td>\n",
       "    </tr>\n",
       "    <tr>\n",
       "      <th>Bowl 2</th>\n",
       "      <td>1/2</td>\n",
       "      <td>1/2</td>\n",
       "      <td>1/4</td>\n",
       "      <td>5/8</td>\n",
       "      <td>2/5</td>\n",
       "      <td>1/5</td>\n",
       "      <td>13/20</td>\n",
       "      <td>4/13</td>\n",
       "      <td>2/13</td>\n",
       "      <td>17/52</td>\n",
       "      <td>8/17</td>\n",
       "    </tr>\n",
       "  </tbody>\n",
       "</table>\n",
       "</div>"
      ],
      "text/plain": [
       "       prior likelihood unorm total_proba posterior unorm_2 total_proba_2  \\\n",
       "Bowl 1   1/2        3/4   3/8         5/8       3/5    9/20         13/20   \n",
       "Bowl 2   1/2        1/2   1/4         5/8       2/5     1/5         13/20   \n",
       "\n",
       "       posterior_2 unorm_3 total_proba_3 posterior_3  \n",
       "Bowl 1        9/13    9/52         17/52        9/17  \n",
       "Bowl 2        4/13    2/13         17/52        8/17  "
      ]
     },
     "execution_count": 15,
     "metadata": {},
     "output_type": "execute_result"
    }
   ],
   "source": [
    "df"
   ]
  },
  {
   "cell_type": "code",
   "execution_count": 16,
   "id": "134a52db-1680-486b-bbc8-18ba0dafade3",
   "metadata": {},
   "outputs": [
    {
     "data": {
      "text/plain": [
       "(0.5294117647058824, 0.47058823529411764)"
      ]
     },
     "execution_count": 16,
     "metadata": {},
     "output_type": "execute_result"
    }
   ],
   "source": [
    "9/17, 8/17"
   ]
  },
  {
   "cell_type": "markdown",
   "id": "77be9672-2138-4dc1-bab0-d94e59f20192",
   "metadata": {},
   "source": [
    "#### MAP (Maximum Posterior Probability)"
   ]
  },
  {
   "cell_type": "code",
   "execution_count": 17,
   "id": "63c52bae-0f61-4e88-91ac-b318ec000716",
   "metadata": {},
   "outputs": [
    {
     "data": {
      "text/plain": [
       "prior            Bowl 1\n",
       "likelihood       Bowl 1\n",
       "unorm            Bowl 1\n",
       "total_proba      Bowl 1\n",
       "posterior        Bowl 1\n",
       "unorm_2          Bowl 1\n",
       "total_proba_2    Bowl 1\n",
       "posterior_2      Bowl 1\n",
       "unorm_3          Bowl 1\n",
       "total_proba_3    Bowl 1\n",
       "posterior_3      Bowl 1\n",
       "dtype: object"
      ]
     },
     "execution_count": 17,
     "metadata": {},
     "output_type": "execute_result"
    }
   ],
   "source": [
    "df.idxmax()"
   ]
  },
  {
   "cell_type": "markdown",
   "id": "c35b42c7-87fb-40bc-abc4-18a6ee650a16",
   "metadata": {},
   "source": [
    "In this type of problem the likelihoods for chocolate and vanilla cookies are not changed, we just update the posterior by multiplying previous posterior with each type of cookie likelihood."
   ]
  },
  {
   "cell_type": "markdown",
   "id": "d494d52b-215c-4e84-9f13-576d82904076",
   "metadata": {},
   "source": [
    "## Distribution using Scipy"
   ]
  },
  {
   "cell_type": "code",
   "execution_count": 18,
   "id": "c2fdb5f7-3437-4e1e-a1c6-263ecedfdeec",
   "metadata": {},
   "outputs": [
    {
     "data": {
      "text/plain": [
       "array([7.88860905e-31, 7.88860905e-29, 3.90486148e-27, 1.27558808e-25,\n",
       "       3.09330110e-24, 5.93913812e-23, 9.40363535e-22, 1.26277389e-20,\n",
       "       1.46797465e-19, 1.50059631e-18, 1.36554264e-17, 1.11726216e-16,\n",
       "       8.28636101e-16, 5.60922899e-15, 3.48573516e-14, 1.99848816e-13,\n",
       "       1.06169683e-12, 5.24603142e-12, 2.41900338e-11, 1.04399093e-10,\n",
       "       4.22816327e-10, 1.61072886e-09, 5.78398092e-09, 1.96152396e-08,\n",
       "       6.29322272e-08, 1.91313971e-07, 5.51867223e-07, 1.51252498e-06,\n",
       "       3.94336870e-06, 9.79043264e-06, 2.31706906e-05, 5.23209142e-05,\n",
       "       1.12816971e-04, 2.32471335e-04, 4.58105277e-04, 8.63855666e-04,\n",
       "       1.55973940e-03, 2.69792760e-03, 4.47287998e-03, 7.11073227e-03,\n",
       "       1.08438667e-02, 1.58690732e-02, 2.22922695e-02, 3.00686426e-02,\n",
       "       3.89525598e-02, 4.84742966e-02, 5.79583981e-02, 6.65905000e-02,\n",
       "       7.35270104e-02, 7.80286641e-02, 7.95892374e-02, 7.80286641e-02,\n",
       "       7.35270104e-02, 6.65905000e-02, 5.79583981e-02, 4.84742966e-02,\n",
       "       3.89525598e-02, 3.00686426e-02, 2.22922695e-02, 1.58690732e-02,\n",
       "       1.08438667e-02, 7.11073227e-03, 4.47287998e-03, 2.69792760e-03,\n",
       "       1.55973940e-03, 8.63855666e-04, 4.58105277e-04, 2.32471335e-04,\n",
       "       1.12816971e-04, 5.23209142e-05, 2.31706906e-05, 9.79043264e-06,\n",
       "       3.94336870e-06, 1.51252498e-06, 5.51867223e-07, 1.91313971e-07,\n",
       "       6.29322272e-08, 1.96152396e-08, 5.78398092e-09, 1.61072886e-09,\n",
       "       4.22816327e-10, 1.04399093e-10, 2.41900338e-11, 5.24603142e-12,\n",
       "       1.06169683e-12, 1.99848816e-13, 3.48573516e-14, 5.60922899e-15,\n",
       "       8.28636101e-16, 1.11726216e-16, 1.36554264e-17, 1.50059631e-18,\n",
       "       1.46797465e-19, 1.26277389e-20, 9.40363535e-22, 5.93913812e-23,\n",
       "       3.09330110e-24, 1.27558808e-25, 3.90486148e-27, 7.88860905e-29,\n",
       "       7.88860905e-31])"
      ]
     },
     "execution_count": 18,
     "metadata": {},
     "output_type": "execute_result"
    }
   ],
   "source": [
    "# n trials\n",
    "n = 100\n",
    "\n",
    "# probability of success in an experiment\n",
    "p = 0.5\n",
    "\n",
    "# the number we got heads\n",
    "k = np.arange(n+1) # start with 0\n",
    "\n",
    "binom.pmf(k=k, n=n, p=p)"
   ]
  },
  {
   "cell_type": "code",
   "execution_count": 20,
   "id": "2544f111-e2a0-498c-96f7-ce892dea202a",
   "metadata": {},
   "outputs": [],
   "source": [
    "# binom.pmf(k=k, n=n, p=p)/binom.pmf(k=k, n=n, p=p).sum()"
   ]
  },
  {
   "cell_type": "code",
   "execution_count": 142,
   "id": "6ef465e5-3e9d-4154-b872-833c24133487",
   "metadata": {},
   "outputs": [
    {
     "data": {
      "text/plain": [
       "array([  0,   1,   2,   3,   4,   5,   6,   7,   8,   9,  10,  11,  12,\n",
       "        13,  14,  15,  16,  17,  18,  19,  20,  21,  22,  23,  24,  25,\n",
       "        26,  27,  28,  29,  30,  31,  32,  33,  34,  35,  36,  37,  38,\n",
       "        39,  40,  41,  42,  43,  44,  45,  46,  47,  48,  49,  50,  51,\n",
       "        52,  53,  54,  55,  56,  57,  58,  59,  60,  61,  62,  63,  64,\n",
       "        65,  66,  67,  68,  69,  70,  71,  72,  73,  74,  75,  76,  77,\n",
       "        78,  79,  80,  81,  82,  83,  84,  85,  86,  87,  88,  89,  90,\n",
       "        91,  92,  93,  94,  95,  96,  97,  98,  99, 100])"
      ]
     },
     "execution_count": 142,
     "metadata": {},
     "output_type": "execute_result"
    }
   ],
   "source": [
    "k"
   ]
  },
  {
   "cell_type": "code",
   "execution_count": 143,
   "id": "3024ed5a-735b-44d7-a6ac-9d8d1594c61f",
   "metadata": {},
   "outputs": [
    {
     "data": {
      "text/html": [
       "<div>\n",
       "<style scoped>\n",
       "    .dataframe tbody tr th:only-of-type {\n",
       "        vertical-align: middle;\n",
       "    }\n",
       "\n",
       "    .dataframe tbody tr th {\n",
       "        vertical-align: top;\n",
       "    }\n",
       "\n",
       "    .dataframe thead th {\n",
       "        text-align: right;\n",
       "    }\n",
       "</style>\n",
       "<table border=\"1\" class=\"dataframe\">\n",
       "  <thead>\n",
       "    <tr style=\"text-align: right;\">\n",
       "      <th></th>\n",
       "    </tr>\n",
       "  </thead>\n",
       "  <tbody>\n",
       "    <tr>\n",
       "      <th>0</th>\n",
       "    </tr>\n",
       "    <tr>\n",
       "      <th>1</th>\n",
       "    </tr>\n",
       "    <tr>\n",
       "      <th>2</th>\n",
       "    </tr>\n",
       "    <tr>\n",
       "      <th>3</th>\n",
       "    </tr>\n",
       "    <tr>\n",
       "      <th>4</th>\n",
       "    </tr>\n",
       "  </tbody>\n",
       "</table>\n",
       "</div>"
      ],
      "text/plain": [
       "Empty DataFrame\n",
       "Columns: []\n",
       "Index: [0, 1, 2, 3, 4]"
      ]
     },
     "execution_count": 143,
     "metadata": {},
     "output_type": "execute_result"
    }
   ],
   "source": [
    "df=pd.DataFrame(index=k)\n",
    "df.head()"
   ]
  },
  {
   "cell_type": "code",
   "execution_count": 144,
   "id": "6a491f8e-88c7-494e-a40d-19725d2adade",
   "metadata": {},
   "outputs": [
    {
     "data": {
      "text/html": [
       "<div>\n",
       "<style scoped>\n",
       "    .dataframe tbody tr th:only-of-type {\n",
       "        vertical-align: middle;\n",
       "    }\n",
       "\n",
       "    .dataframe tbody tr th {\n",
       "        vertical-align: top;\n",
       "    }\n",
       "\n",
       "    .dataframe thead th {\n",
       "        text-align: right;\n",
       "    }\n",
       "</style>\n",
       "<table border=\"1\" class=\"dataframe\">\n",
       "  <thead>\n",
       "    <tr style=\"text-align: right;\">\n",
       "      <th></th>\n",
       "      <th>pdf_binom</th>\n",
       "      <th>cdf_binom</th>\n",
       "    </tr>\n",
       "  </thead>\n",
       "  <tbody>\n",
       "    <tr>\n",
       "      <th>0</th>\n",
       "      <td>7.888609e-31</td>\n",
       "      <td>7.888609e-31</td>\n",
       "    </tr>\n",
       "    <tr>\n",
       "      <th>1</th>\n",
       "      <td>7.888609e-29</td>\n",
       "      <td>7.967495e-29</td>\n",
       "    </tr>\n",
       "    <tr>\n",
       "      <th>2</th>\n",
       "      <td>3.904861e-27</td>\n",
       "      <td>3.984536e-27</td>\n",
       "    </tr>\n",
       "    <tr>\n",
       "      <th>3</th>\n",
       "      <td>1.275588e-25</td>\n",
       "      <td>1.315433e-25</td>\n",
       "    </tr>\n",
       "    <tr>\n",
       "      <th>4</th>\n",
       "      <td>3.093301e-24</td>\n",
       "      <td>3.224844e-24</td>\n",
       "    </tr>\n",
       "  </tbody>\n",
       "</table>\n",
       "</div>"
      ],
      "text/plain": [
       "      pdf_binom     cdf_binom\n",
       "0  7.888609e-31  7.888609e-31\n",
       "1  7.888609e-29  7.967495e-29\n",
       "2  3.904861e-27  3.984536e-27\n",
       "3  1.275588e-25  1.315433e-25\n",
       "4  3.093301e-24  3.224844e-24"
      ]
     },
     "execution_count": 144,
     "metadata": {},
     "output_type": "execute_result"
    }
   ],
   "source": [
    "df['pdf_binom'] = binom.pmf(k=k, n=n, p=p)\n",
    "df['cdf_binom'] = binom.cdf(p=p, n=n, k=k)\n",
    "df.head()"
   ]
  },
  {
   "cell_type": "code",
   "execution_count": 145,
   "id": "05e65ac2-8d39-4f4f-a407-9b3bb4a59b76",
   "metadata": {},
   "outputs": [
    {
     "data": {
      "text/plain": [
       "np.float64(0.009900990099009896)"
      ]
     },
     "execution_count": 145,
     "metadata": {},
     "output_type": "execute_result"
    }
   ],
   "source": [
    "df.pdf_binom.mean()"
   ]
  },
  {
   "cell_type": "code",
   "execution_count": 154,
   "id": "0600607f-3a27-4411-ad59-a3bd691ec2ad",
   "metadata": {},
   "outputs": [
    {
     "data": {
      "text/plain": [
       "<matplotlib.lines.Line2D at 0x7212bb5de0d0>"
      ]
     },
     "execution_count": 154,
     "metadata": {},
     "output_type": "execute_result"
    },
    {
     "data": {
      "image/png": "[encoded data removed]",
      "text/plain": [
       "<Figure size 640x480 with 1 Axes>"
      ]
     },
     "metadata": {},
     "output_type": "display_data"
    }
   ],
   "source": [
    "# df['pdf_binom'].plot()\n",
    "plt.plot(df['pdf_binom'])\n",
    "plt.xlabel('Number of Heads')\n",
    "plt.ylabel('Probability Density Function')\n",
    "plt.axvline(x=50, color='red', linestyle='--')\n",
    "plt.axvline(x=60, color='green', linestyle='--')"
   ]
  },
  {
   "cell_type": "code",
   "execution_count": 162,
   "id": "50acf477-03db-48f4-8114-ab3dac0f4555",
   "metadata": {},
   "outputs": [
    {
     "data": {
      "text/plain": [
       "<matplotlib.lines.Line2D at 0x7212bb620410>"
      ]
     },
     "execution_count": 162,
     "metadata": {},
     "output_type": "execute_result"
    },
    {
     "data": {
      "image/png": "[encoded data removed]",
      "text/plain": [
       "<Figure size 640x480 with 1 Axes>"
      ]
     },
     "metadata": {},
     "output_type": "display_data"
    }
   ],
   "source": [
    "plt.plot(df['cdf_binom'])\n",
    "plt.xlabel('Number of Head')\n",
    "plt.ylabel('Cumulative Density Function')\n",
    "plt.axvline(x=40, color='yellow', linestyle='--')\n",
    "plt.axvline(x=60, color='red', linestyle='--')\n",
    "plt.axvline(x=50, color='green', linestyle='--')\n",
    "plt.axhline(y=0.5, color='green', linestyle='--')\n",
    "plt.axhline(y=.99, color='red', linestyle='--')\n",
    "plt.axhline(y=.03, color='yellow', linestyle='--')"
   ]
  },
  {
   "cell_type": "code",
   "execution_count": null,
   "id": "c2c6f536-0688-4a93-96be-955338eeaee1",
   "metadata": {},
   "outputs": [],
   "source": []
  },
  {
   "cell_type": "code",
   "execution_count": null,
   "id": "0a162c1c-cf3a-4a3b-b2bb-30751e951955",
   "metadata": {},
   "outputs": [],
   "source": []
  }
 ],
 "metadata": {
  "kernelspec": {
   "display_name": "Python 3 (ipykernel)",
   "language": "python",
   "name": "python3"
  },
  "language_info": {
   "codemirror_mode": {
    "name": "ipython",
    "version": 3
   },
   "file_extension": ".py",
   "mimetype": "text/x-python",
   "name": "python",
   "nbconvert_exporter": "python",
   "pygments_lexer": "ipython3",
   "version": "3.11.0"
  }
 },
 "nbformat": 4,
 "nbformat_minor": 5
}
