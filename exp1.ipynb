{
 "cells": [
  {
   "cell_type": "code",
   "execution_count": 2,
   "id": "9c9fe959-09cd-4605-9d71-49c83ba72dd5",
   "metadata": {},
   "outputs": [],
   "source": [
    "import pandas as pd\n",
    "import numpy as np"
   ]
  },
  {
   "cell_type": "code",
   "execution_count": 4,
   "id": "79741df6-ffe9-4e72-be5b-74e3e15a899c",
   "metadata": {},
   "outputs": [],
   "source": [
    "df = pd.read_csv('./data/gss_bayes.csv')"
   ]
  },
  {
   "cell_type": "markdown",
   "id": "ef8efef5-1400-4000-9d37-5726aed042b5",
   "metadata": {},
   "source": [
    "### User Defined Function"
   ]
  },
  {
   "cell_type": "code",
   "execution_count": 38,
   "id": "2f247956-8eec-44c4-bdf3-5eecae6960a3",
   "metadata": {},
   "outputs": [],
   "source": [
    "# probability function\n",
    "def prob(data):\n",
    "    return data.mean()\n",
    "\n",
    "# conditional probability function\n",
    "def conditional(proposition, given):\n",
    "    return prob(proposition[given])"
   ]
  },
  {
   "cell_type": "code",
   "execution_count": 10,
   "id": "a44f4173-cb89-4fed-9135-925f2fda210e",
   "metadata": {},
   "outputs": [
    {
     "name": "stdout",
     "output_type": "stream",
     "text": [
      "<class 'pandas.core.frame.DataFrame'>\n",
      "RangeIndex: 49290 entries, 0 to 49289\n",
      "Data columns (total 7 columns):\n",
      " #   Column    Non-Null Count  Dtype  \n",
      "---  ------    --------------  -----  \n",
      " 0   caseid    49290 non-null  int64  \n",
      " 1   year      49290 non-null  int64  \n",
      " 2   age       49290 non-null  float64\n",
      " 3   sex       49290 non-null  int64  \n",
      " 4   polviews  49290 non-null  float64\n",
      " 5   partyid   49290 non-null  float64\n",
      " 6   indus10   49290 non-null  float64\n",
      "dtypes: float64(4), int64(3)\n",
      "memory usage: 2.6 MB\n"
     ]
    }
   ],
   "source": [
    "df.info()"
   ]
  },
  {
   "cell_type": "code",
   "execution_count": 9,
   "id": "371a968f-022c-442e-a988-bdb489ecfecb",
   "metadata": {},
   "outputs": [
    {
     "data": {
      "text/plain": [
       "polviews\n",
       "1.0     1442\n",
       "7.0     1595\n",
       "2.0     5808\n",
       "3.0     6243\n",
       "6.0     7319\n",
       "5.0     7940\n",
       "4.0    18943\n",
       "Name: count, dtype: int64"
      ]
     },
     "execution_count": 9,
     "metadata": {},
     "output_type": "execute_result"
    }
   ],
   "source": [
    "df.polviews.value_counts(ascending=True)"
   ]
  },
  {
   "cell_type": "code",
   "execution_count": 14,
   "id": "df04032b-775f-4927-8aec-f805bbe7273b",
   "metadata": {},
   "outputs": [
    {
     "data": {
      "text/plain": [
       "np.float64(0.1266585514303104)"
      ]
     },
     "execution_count": 14,
     "metadata": {},
     "output_type": "execute_result"
    }
   ],
   "source": [
    "prob((df.polviews==3))"
   ]
  },
  {
   "cell_type": "markdown",
   "id": "2e0e8dd9-e8ef-4a56-a20d-2120f0169717",
   "metadata": {},
   "source": [
    "#### Banker"
   ]
  },
  {
   "cell_type": "code",
   "execution_count": 17,
   "id": "dd10a8a2-ad01-4af7-85ec-08775110fef5",
   "metadata": {},
   "outputs": [
    {
     "data": {
      "text/plain": [
       "0    False\n",
       "1    False\n",
       "2    False\n",
       "3     True\n",
       "4    False\n",
       "Name: indus10, dtype: bool"
      ]
     },
     "execution_count": 17,
     "metadata": {},
     "output_type": "execute_result"
    }
   ],
   "source": [
    "banker = (df['indus10'] == 6870)\n",
    "banker.head()"
   ]
  },
  {
   "cell_type": "code",
   "execution_count": 22,
   "id": "a6e9bc68-9064-4403-ba3f-3f4fbaeeb9bd",
   "metadata": {},
   "outputs": [
    {
     "data": {
      "text/plain": [
       "np.float64(0.014769730168391155)"
      ]
     },
     "execution_count": 22,
     "metadata": {},
     "output_type": "execute_result"
    }
   ],
   "source": [
    "prob(banker)"
   ]
  },
  {
   "cell_type": "code",
   "execution_count": 41,
   "id": "b57b0792-65c3-4d7b-8f1c-e66556ae71e3",
   "metadata": {},
   "outputs": [],
   "source": [
    "male = (df['sex'] == 1)"
   ]
  },
  {
   "cell_type": "code",
   "execution_count": 19,
   "id": "e930ddbb-9e6d-4576-8ae9-946204fd3dbb",
   "metadata": {},
   "outputs": [],
   "source": [
    "female = (df['sex']==2)"
   ]
  },
  {
   "cell_type": "code",
   "execution_count": 21,
   "id": "d8a787a3-8db5-42d2-9067-2ef90aa2d6ec",
   "metadata": {},
   "outputs": [
    {
     "data": {
      "text/plain": [
       "np.float64(0.5378575776019476)"
      ]
     },
     "execution_count": 21,
     "metadata": {},
     "output_type": "execute_result"
    }
   ],
   "source": [
    "prob(female)"
   ]
  },
  {
   "cell_type": "markdown",
   "id": "8ecede3c-4706-45d7-84cd-65d0361ddef8",
   "metadata": {},
   "source": [
    "#### Conjunction"
   ]
  },
  {
   "cell_type": "code",
   "execution_count": 23,
   "id": "c503b295-1eaa-4a5f-b3f7-bf3644f5bb00",
   "metadata": {},
   "outputs": [
    {
     "data": {
      "text/plain": [
       "np.float64(0.011381618989653074)"
      ]
     },
     "execution_count": 23,
     "metadata": {},
     "output_type": "execute_result"
    }
   ],
   "source": [
    "prob(banker&female)"
   ]
  },
  {
   "cell_type": "code",
   "execution_count": 33,
   "id": "0782ed70-f83b-450b-b675-ed5564cec986",
   "metadata": {},
   "outputs": [
    {
     "data": {
      "text/plain": [
       "np.float64(0.011381618989653074)"
      ]
     },
     "execution_count": 33,
     "metadata": {},
     "output_type": "execute_result"
    }
   ],
   "source": [
    "prob(female&banker)"
   ]
  },
  {
   "cell_type": "markdown",
   "id": "1ae89b44-5d12-4036-bcb0-4f27950cbe21",
   "metadata": {},
   "source": [
    "A conjunction is communicative which means prob(a & b) = prob(b & a)"
   ]
  },
  {
   "cell_type": "markdown",
   "id": "10c992ed-1cb0-4d6b-bd1c-2d5f6cdc28e8",
   "metadata": {},
   "source": [
    "#### Conditional"
   ]
  },
  {
   "cell_type": "code",
   "execution_count": 27,
   "id": "666cce27-0c5f-4a64-adab-866b745bd13d",
   "metadata": {},
   "outputs": [
    {
     "data": {
      "text/plain": [
       "np.float64(0.7706043956043956)"
      ]
     },
     "execution_count": 27,
     "metadata": {},
     "output_type": "execute_result"
    }
   ],
   "source": [
    "prob(female[banker])"
   ]
  },
  {
   "cell_type": "code",
   "execution_count": 34,
   "id": "c04b8c6a-879f-4d5e-99db-3275c68b3462",
   "metadata": {},
   "outputs": [
    {
     "data": {
      "text/plain": [
       "np.float64(0.02116102749801969)"
      ]
     },
     "execution_count": 34,
     "metadata": {},
     "output_type": "execute_result"
    }
   ],
   "source": [
    "prob(banker[female])"
   ]
  },
  {
   "cell_type": "markdown",
   "id": "c59854bf-a1cc-46cb-ac08-9ebd9ea21067",
   "metadata": {},
   "source": [
    "### Bayes Theorm"
   ]
  },
  {
   "cell_type": "markdown",
   "id": "a587e92b-b4e5-4f58-a288-4b2f957e228a",
   "metadata": {},
   "source": [
    "p(a|b) = p(a)p(b|a) / p(b)"
   ]
  },
  {
   "cell_type": "code",
   "execution_count": 28,
   "id": "d44ac807-8b48-40a3-bbf5-8890ae6cf90b",
   "metadata": {},
   "outputs": [
    {
     "data": {
      "text/plain": [
       "np.float64(0.7706043956043956)"
      ]
     },
     "execution_count": 28,
     "metadata": {},
     "output_type": "execute_result"
    }
   ],
   "source": [
    "prob(female&banker) / prob(banker)"
   ]
  },
  {
   "cell_type": "code",
   "execution_count": 29,
   "id": "c4abb416-b4f2-407e-b844-7f66c4196560",
   "metadata": {},
   "outputs": [
    {
     "data": {
      "text/plain": [
       "np.float64(0.7706043956043956)"
      ]
     },
     "execution_count": 29,
     "metadata": {},
     "output_type": "execute_result"
    }
   ],
   "source": [
    "prob(banker&female) / prob(banker)"
   ]
  },
  {
   "cell_type": "code",
   "execution_count": 30,
   "id": "d52fda36-3ef4-4e95-a59f-bc01b5279bf1",
   "metadata": {},
   "outputs": [
    {
     "data": {
      "text/plain": [
       "np.float64(0.011381618989653074)"
      ]
     },
     "execution_count": 30,
     "metadata": {},
     "output_type": "execute_result"
    }
   ],
   "source": [
    "prob(banker)*prob(female[banker])"
   ]
  },
  {
   "cell_type": "code",
   "execution_count": 31,
   "id": "504f31f3-3fb3-4c04-ac81-9e283c1740c5",
   "metadata": {},
   "outputs": [
    {
     "data": {
      "text/plain": [
       "np.float64(0.7706043956043955)"
      ]
     },
     "execution_count": 31,
     "metadata": {},
     "output_type": "execute_result"
    }
   ],
   "source": [
    "prob(female) * prob(banker[female])/prob(banker)"
   ]
  },
  {
   "cell_type": "code",
   "execution_count": 39,
   "id": "85769c60-7cf8-497f-a333-219c97f9f6ab",
   "metadata": {},
   "outputs": [
    {
     "data": {
      "text/plain": [
       "np.float64(0.7706043956043955)"
      ]
     },
     "execution_count": 39,
     "metadata": {},
     "output_type": "execute_result"
    }
   ],
   "source": [
    "prob(female) * conditional(banker, female) / prob(banker)"
   ]
  },
  {
   "cell_type": "code",
   "execution_count": 42,
   "id": "d3109dbf-996d-47a7-9758-e8fd5704b1b0",
   "metadata": {},
   "outputs": [
    {
     "data": {
      "text/plain": [
       "np.float64(0.014769730168391155)"
      ]
     },
     "execution_count": 42,
     "metadata": {},
     "output_type": "execute_result"
    }
   ],
   "source": [
    "# prob banker?\n",
    "prob(banker)"
   ]
  },
  {
   "cell_type": "code",
   "execution_count": 43,
   "id": "3d39eee3-4821-4f46-8328-6d10817facd8",
   "metadata": {},
   "outputs": [
    {
     "data": {
      "text/plain": [
       "np.float64(0.014769730168391155)"
      ]
     },
     "execution_count": 43,
     "metadata": {},
     "output_type": "execute_result"
    }
   ],
   "source": [
    "prob(female&banker)+prob(male&banker)"
   ]
  },
  {
   "cell_type": "markdown",
   "id": "e2734ea8-32d5-47f7-9e69-396eeee7ac02",
   "metadata": {},
   "source": [
    "because male and female are mutually exclusive and collectively exhaustive (MECE), we get the same result we got by computing the probability of banker directly"
   ]
  }
 ],
 "metadata": {
  "kernelspec": {
   "display_name": "Python 3 (ipykernel)",
   "language": "python",
   "name": "python3"
  },
  "language_info": {
   "codemirror_mode": {
    "name": "ipython",
    "version": 3
   },
   "file_extension": ".py",
   "mimetype": "text/x-python",
   "name": "python",
   "nbconvert_exporter": "python",
   "pygments_lexer": "ipython3",
   "version": "3.11.0"
  }
 },
 "nbformat": 4,
 "nbformat_minor": 5
}
