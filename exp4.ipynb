{
 "cells": [
  {
   "cell_type": "code",
   "execution_count": 1,
   "id": "5cb03b04-4276-4fdd-b3f9-f04961b4b166",
   "metadata": {},
   "outputs": [],
   "source": [
    "import empiricaldist as ed\n",
    "import scipy.stats as stats\n",
    "import pandas as pd\n",
    "import numpy as np\n",
    "import matplotlib.pyplot as plt\n",
    "import plotly.graph_objects as go\n",
    "from plotly.subplots import make_subplots"
   ]
  },
  {
   "cell_type": "code",
   "execution_count": 2,
   "id": "aa75bd1e-bafb-4465-9b4f-6c76dc102275",
   "metadata": {},
   "outputs": [
    {
     "data": {
      "text/plain": [
       "array([0.  , 0.01, 0.02, 0.03, 0.04, 0.05, 0.06, 0.07, 0.08, 0.09, 0.1 ,\n",
       "       0.11, 0.12, 0.13, 0.14, 0.15, 0.16, 0.17, 0.18, 0.19, 0.2 , 0.21,\n",
       "       0.22, 0.23, 0.24, 0.25, 0.26, 0.27, 0.28, 0.29, 0.3 , 0.31, 0.32,\n",
       "       0.33, 0.34, 0.35, 0.36, 0.37, 0.38, 0.39, 0.4 , 0.41, 0.42, 0.43,\n",
       "       0.44, 0.45, 0.46, 0.47, 0.48, 0.49, 0.5 , 0.51, 0.52, 0.53, 0.54,\n",
       "       0.55, 0.56, 0.57, 0.58, 0.59, 0.6 , 0.61, 0.62, 0.63, 0.64, 0.65,\n",
       "       0.66, 0.67, 0.68, 0.69, 0.7 , 0.71, 0.72, 0.73, 0.74, 0.75, 0.76,\n",
       "       0.77, 0.78, 0.79, 0.8 , 0.81, 0.82, 0.83, 0.84, 0.85, 0.86, 0.87,\n",
       "       0.88, 0.89, 0.9 , 0.91, 0.92, 0.93, 0.94, 0.95, 0.96, 0.97, 0.98,\n",
       "       0.99, 1.  ])"
      ]
     },
     "execution_count": 2,
     "metadata": {},
     "output_type": "execute_result"
    }
   ],
   "source": [
    "hypos = np.linspace(0, 1, 101)\n",
    "hypos"
   ]
  },
  {
   "cell_type": "markdown",
   "id": "8b1160a6-efc4-4ea7-9009-8dfdf0c65a37",
   "metadata": {},
   "source": [
    "# Bayesian Estimation"
   ]
  },
  {
   "cell_type": "code",
   "execution_count": 3,
   "id": "fe67bd54-0e99-4a06-a958-a513a61ad448",
   "metadata": {},
   "outputs": [
    {
     "data": {
      "text/html": [
       "<div>\n",
       "<style scoped>\n",
       "    .dataframe tbody tr th:only-of-type {\n",
       "        vertical-align: middle;\n",
       "    }\n",
       "\n",
       "    .dataframe tbody tr th {\n",
       "        vertical-align: top;\n",
       "    }\n",
       "\n",
       "    .dataframe thead th {\n",
       "        text-align: right;\n",
       "    }\n",
       "</style>\n",
       "<table border=\"1\" class=\"dataframe\">\n",
       "  <thead>\n",
       "    <tr style=\"text-align: right;\">\n",
       "      <th></th>\n",
       "    </tr>\n",
       "  </thead>\n",
       "  <tbody>\n",
       "    <tr>\n",
       "      <th>0.00</th>\n",
       "    </tr>\n",
       "    <tr>\n",
       "      <th>0.01</th>\n",
       "    </tr>\n",
       "    <tr>\n",
       "      <th>0.02</th>\n",
       "    </tr>\n",
       "    <tr>\n",
       "      <th>0.03</th>\n",
       "    </tr>\n",
       "    <tr>\n",
       "      <th>0.04</th>\n",
       "    </tr>\n",
       "    <tr>\n",
       "      <th>...</th>\n",
       "    </tr>\n",
       "    <tr>\n",
       "      <th>0.96</th>\n",
       "    </tr>\n",
       "    <tr>\n",
       "      <th>0.97</th>\n",
       "    </tr>\n",
       "    <tr>\n",
       "      <th>0.98</th>\n",
       "    </tr>\n",
       "    <tr>\n",
       "      <th>0.99</th>\n",
       "    </tr>\n",
       "    <tr>\n",
       "      <th>1.00</th>\n",
       "    </tr>\n",
       "  </tbody>\n",
       "</table>\n",
       "<p>101 rows × 0 columns</p>\n",
       "</div>"
      ],
      "text/plain": [
       "Empty DataFrame\n",
       "Columns: []\n",
       "Index: [0.0, 0.01, 0.02, 0.03, 0.04, 0.05, 0.06, 0.07, 0.08, 0.09, 0.1, 0.11, 0.12, 0.13, 0.14, 0.15, 0.16, 0.17, 0.18, 0.19, 0.2, 0.21, 0.22, 0.23, 0.24, 0.25, 0.26, 0.27, 0.28, 0.29, 0.3, 0.31, 0.32, 0.33, 0.34, 0.35000000000000003, 0.36, 0.37, 0.38, 0.39, 0.4, 0.41000000000000003, 0.42, 0.43, 0.44, 0.45, 0.46, 0.47000000000000003, 0.48, 0.49, 0.5, 0.51, 0.52, 0.53, 0.54, 0.55, 0.56, 0.5700000000000001, 0.58, 0.59, 0.6, 0.61, 0.62, 0.63, 0.64, 0.65, 0.66, 0.67, 0.68, 0.6900000000000001, 0.7000000000000001, 0.71, 0.72, 0.73, 0.74, 0.75, 0.76, 0.77, 0.78, 0.79, 0.8, 0.81, 0.8200000000000001, 0.8300000000000001, 0.84, 0.85, 0.86, 0.87, 0.88, 0.89, 0.9, 0.91, 0.92, 0.93, 0.9400000000000001, 0.9500000000000001, 0.96, 0.97, 0.98, 0.99, ...]\n",
       "\n",
       "[101 rows x 0 columns]"
      ]
     },
     "execution_count": 3,
     "metadata": {},
     "output_type": "execute_result"
    }
   ],
   "source": [
    "df = pd.DataFrame(index=hypos)\n",
    "df"
   ]
  },
  {
   "cell_type": "code",
   "execution_count": 4,
   "id": "f24856f1-863f-4f0b-90e7-27e8de3814f6",
   "metadata": {},
   "outputs": [
    {
     "data": {
      "text/html": [
       "<div>\n",
       "<style scoped>\n",
       "    .dataframe tbody tr th:only-of-type {\n",
       "        vertical-align: middle;\n",
       "    }\n",
       "\n",
       "    .dataframe tbody tr th {\n",
       "        vertical-align: top;\n",
       "    }\n",
       "\n",
       "    .dataframe thead th {\n",
       "        text-align: right;\n",
       "    }\n",
       "</style>\n",
       "<table border=\"1\" class=\"dataframe\">\n",
       "  <thead>\n",
       "    <tr style=\"text-align: right;\">\n",
       "      <th></th>\n",
       "      <th>prior</th>\n",
       "    </tr>\n",
       "  </thead>\n",
       "  <tbody>\n",
       "    <tr>\n",
       "      <th>0.00</th>\n",
       "      <td>1</td>\n",
       "    </tr>\n",
       "    <tr>\n",
       "      <th>0.01</th>\n",
       "      <td>1</td>\n",
       "    </tr>\n",
       "    <tr>\n",
       "      <th>0.02</th>\n",
       "      <td>1</td>\n",
       "    </tr>\n",
       "    <tr>\n",
       "      <th>0.03</th>\n",
       "      <td>1</td>\n",
       "    </tr>\n",
       "    <tr>\n",
       "      <th>0.04</th>\n",
       "      <td>1</td>\n",
       "    </tr>\n",
       "  </tbody>\n",
       "</table>\n",
       "</div>"
      ],
      "text/plain": [
       "      prior\n",
       "0.00      1\n",
       "0.01      1\n",
       "0.02      1\n",
       "0.03      1\n",
       "0.04      1"
      ]
     },
     "execution_count": 4,
     "metadata": {},
     "output_type": "execute_result"
    }
   ],
   "source": [
    "df['prior']=[1]*101\n",
    "df.head()"
   ]
  },
  {
   "cell_type": "code",
   "execution_count": 5,
   "id": "548febe9-6118-45cd-b78b-2a3e884e8c17",
   "metadata": {},
   "outputs": [
    {
     "name": "stdout",
     "output_type": "stream",
     "text": [
      "[1.   0.99 0.98 0.97 0.96 0.95 0.94 0.93 0.92 0.91 0.9  0.89 0.88 0.87\n",
      " 0.86 0.85 0.84 0.83 0.82 0.81 0.8  0.79 0.78 0.77 0.76 0.75 0.74 0.73\n",
      " 0.72 0.71 0.7  0.69 0.68 0.67 0.66 0.65 0.64 0.63 0.62 0.61 0.6  0.59\n",
      " 0.58 0.57 0.56 0.55 0.54 0.53 0.52 0.51 0.5  0.49 0.48 0.47 0.46 0.45\n",
      " 0.44 0.43 0.42 0.41 0.4  0.39 0.38 0.37 0.36 0.35 0.34 0.33 0.32 0.31\n",
      " 0.3  0.29 0.28 0.27 0.26 0.25 0.24 0.23 0.22 0.21 0.2  0.19 0.18 0.17\n",
      " 0.16 0.15 0.14 0.13 0.12 0.11 0.1  0.09 0.08 0.07 0.06 0.05 0.04 0.03\n",
      " 0.02 0.01 0.  ]\n"
     ]
    }
   ],
   "source": [
    "likelihood_heads = hypos\n",
    "likelihood_tails = 1-hypos\n",
    "\n",
    "print(likelihood_tails)"
   ]
  },
  {
   "cell_type": "code",
   "execution_count": 6,
   "id": "713df59f-3f38-4a63-81bd-112c3ec750dd",
   "metadata": {},
   "outputs": [],
   "source": [
    "likelihood = {\n",
    "    'H': likelihood_heads,\n",
    "    'T': likelihood_tails\n",
    "}"
   ]
  },
  {
   "cell_type": "code",
   "execution_count": 7,
   "id": "58879ace-d473-4888-b7ee-e75a0c505358",
   "metadata": {},
   "outputs": [
    {
     "data": {
      "text/plain": [
       "{'H': array([0.  , 0.01, 0.02, 0.03, 0.04, 0.05, 0.06, 0.07, 0.08, 0.09, 0.1 ,\n",
       "        0.11, 0.12, 0.13, 0.14, 0.15, 0.16, 0.17, 0.18, 0.19, 0.2 , 0.21,\n",
       "        0.22, 0.23, 0.24, 0.25, 0.26, 0.27, 0.28, 0.29, 0.3 , 0.31, 0.32,\n",
       "        0.33, 0.34, 0.35, 0.36, 0.37, 0.38, 0.39, 0.4 , 0.41, 0.42, 0.43,\n",
       "        0.44, 0.45, 0.46, 0.47, 0.48, 0.49, 0.5 , 0.51, 0.52, 0.53, 0.54,\n",
       "        0.55, 0.56, 0.57, 0.58, 0.59, 0.6 , 0.61, 0.62, 0.63, 0.64, 0.65,\n",
       "        0.66, 0.67, 0.68, 0.69, 0.7 , 0.71, 0.72, 0.73, 0.74, 0.75, 0.76,\n",
       "        0.77, 0.78, 0.79, 0.8 , 0.81, 0.82, 0.83, 0.84, 0.85, 0.86, 0.87,\n",
       "        0.88, 0.89, 0.9 , 0.91, 0.92, 0.93, 0.94, 0.95, 0.96, 0.97, 0.98,\n",
       "        0.99, 1.  ]),\n",
       " 'T': array([1.  , 0.99, 0.98, 0.97, 0.96, 0.95, 0.94, 0.93, 0.92, 0.91, 0.9 ,\n",
       "        0.89, 0.88, 0.87, 0.86, 0.85, 0.84, 0.83, 0.82, 0.81, 0.8 , 0.79,\n",
       "        0.78, 0.77, 0.76, 0.75, 0.74, 0.73, 0.72, 0.71, 0.7 , 0.69, 0.68,\n",
       "        0.67, 0.66, 0.65, 0.64, 0.63, 0.62, 0.61, 0.6 , 0.59, 0.58, 0.57,\n",
       "        0.56, 0.55, 0.54, 0.53, 0.52, 0.51, 0.5 , 0.49, 0.48, 0.47, 0.46,\n",
       "        0.45, 0.44, 0.43, 0.42, 0.41, 0.4 , 0.39, 0.38, 0.37, 0.36, 0.35,\n",
       "        0.34, 0.33, 0.32, 0.31, 0.3 , 0.29, 0.28, 0.27, 0.26, 0.25, 0.24,\n",
       "        0.23, 0.22, 0.21, 0.2 , 0.19, 0.18, 0.17, 0.16, 0.15, 0.14, 0.13,\n",
       "        0.12, 0.11, 0.1 , 0.09, 0.08, 0.07, 0.06, 0.05, 0.04, 0.03, 0.02,\n",
       "        0.01, 0.  ])}"
      ]
     },
     "execution_count": 7,
     "metadata": {},
     "output_type": "execute_result"
    }
   ],
   "source": [
    "likelihood"
   ]
  },
  {
   "cell_type": "markdown",
   "id": "b2b9c816-a7a3-4530-8583-d435248cb688",
   "metadata": {},
   "source": [
    "#### Simulate 250 Coin Toss\n",
    "- 140 Heads\n",
    "- 110 Tails"
   ]
  },
  {
   "cell_type": "code",
   "execution_count": 8,
   "id": "0287d7ea-e69c-4c3c-8648-9315d5335afb",
   "metadata": {},
   "outputs": [],
   "source": [
    "dataset = 'H' * 140 + 'T' * 110"
   ]
  },
  {
   "cell_type": "code",
   "execution_count": 9,
   "id": "07533bc8-67c9-41af-9ae8-0559c18ad525",
   "metadata": {},
   "outputs": [
    {
     "data": {
      "text/plain": [
       "'HHHHHHHHHHHHHHHHHHHHHHHHHHHHHHHHHHHHHHHHHHHHHHHHHHHHHHHHHHHHHHHHHHHHHHHHHHHHHHHHHHHHHHHHHHHHHHHHHHHHHHHHHHHHHHHHHHHHHHHHHHHHHHHHHHHHHHHHHHHHTTTTTTTTTTTTTTTTTTTTTTTTTTTTTTTTTTTTTTTTTTTTTTTTTTTTTTTTTTTTTTTTTTTTTTTTTTTTTTTTTTTTTTTTTTTTTTTTTTTTTTTTTTTTTT'"
      ]
     },
     "execution_count": 9,
     "metadata": {},
     "output_type": "execute_result"
    }
   ],
   "source": [
    "dataset"
   ]
  },
  {
   "cell_type": "code",
   "execution_count": 10,
   "id": "fe04872f-92d3-417c-815e-bb97613bdc1e",
   "metadata": {},
   "outputs": [],
   "source": [
    "def update_euro(pmf, dataset):\n",
    "    for data in dataset:\n",
    "        # pmf represent prior\n",
    "        pmf = pmf * likelihood[data]\n",
    "    pmf = pmf/pmf.sum()\n",
    "    df['posterior_2']= pmf"
   ]
  },
  {
   "cell_type": "code",
   "execution_count": 11,
   "id": "29bdec27-7229-40a0-b06a-44edb53cc0cf",
   "metadata": {},
   "outputs": [],
   "source": [
    "df['posterior_1'] = df['prior']"
   ]
  },
  {
   "cell_type": "code",
   "execution_count": 12,
   "id": "49ce0634-961a-4c0b-b590-908d5a7e01dd",
   "metadata": {},
   "outputs": [],
   "source": [
    "update_euro(df['posterior_1'], dataset)"
   ]
  },
  {
   "cell_type": "code",
   "execution_count": 13,
   "id": "690046ad-16f0-4f2c-b8f6-014075e2ce2e",
   "metadata": {},
   "outputs": [
    {
     "data": {
      "text/html": [
       "<div>\n",
       "<style scoped>\n",
       "    .dataframe tbody tr th:only-of-type {\n",
       "        vertical-align: middle;\n",
       "    }\n",
       "\n",
       "    .dataframe tbody tr th {\n",
       "        vertical-align: top;\n",
       "    }\n",
       "\n",
       "    .dataframe thead th {\n",
       "        text-align: right;\n",
       "    }\n",
       "</style>\n",
       "<table border=\"1\" class=\"dataframe\">\n",
       "  <thead>\n",
       "    <tr style=\"text-align: right;\">\n",
       "      <th></th>\n",
       "      <th>prior</th>\n",
       "      <th>posterior_1</th>\n",
       "      <th>posterior_2</th>\n",
       "    </tr>\n",
       "  </thead>\n",
       "  <tbody>\n",
       "    <tr>\n",
       "      <th>0.00</th>\n",
       "      <td>1</td>\n",
       "      <td>1</td>\n",
       "      <td>0.000000e+00</td>\n",
       "    </tr>\n",
       "    <tr>\n",
       "      <th>0.01</th>\n",
       "      <td>1</td>\n",
       "      <td>1</td>\n",
       "      <td>1.256330e-207</td>\n",
       "    </tr>\n",
       "    <tr>\n",
       "      <th>0.02</th>\n",
       "      <td>1</td>\n",
       "      <td>1</td>\n",
       "      <td>5.731921e-166</td>\n",
       "    </tr>\n",
       "    <tr>\n",
       "      <th>0.03</th>\n",
       "      <td>1</td>\n",
       "      <td>1</td>\n",
       "      <td>8.338711e-142</td>\n",
       "    </tr>\n",
       "    <tr>\n",
       "      <th>0.04</th>\n",
       "      <td>1</td>\n",
       "      <td>1</td>\n",
       "      <td>8.269265e-125</td>\n",
       "    </tr>\n",
       "    <tr>\n",
       "      <th>...</th>\n",
       "      <td>...</td>\n",
       "      <td>...</td>\n",
       "      <td>...</td>\n",
       "    </tr>\n",
       "    <tr>\n",
       "      <th>0.96</th>\n",
       "      <td>1</td>\n",
       "      <td>1</td>\n",
       "      <td>2.107677e-83</td>\n",
       "    </tr>\n",
       "    <tr>\n",
       "      <th>0.97</th>\n",
       "      <td>1</td>\n",
       "      <td>1</td>\n",
       "      <td>1.624102e-96</td>\n",
       "    </tr>\n",
       "    <tr>\n",
       "      <th>0.98</th>\n",
       "      <td>1</td>\n",
       "      <td>1</td>\n",
       "      <td>2.911941e-115</td>\n",
       "    </tr>\n",
       "    <tr>\n",
       "      <th>0.99</th>\n",
       "      <td>1</td>\n",
       "      <td>1</td>\n",
       "      <td>9.293081e-148</td>\n",
       "    </tr>\n",
       "    <tr>\n",
       "      <th>1.00</th>\n",
       "      <td>1</td>\n",
       "      <td>1</td>\n",
       "      <td>0.000000e+00</td>\n",
       "    </tr>\n",
       "  </tbody>\n",
       "</table>\n",
       "<p>101 rows × 3 columns</p>\n",
       "</div>"
      ],
      "text/plain": [
       "      prior  posterior_1    posterior_2\n",
       "0.00      1            1   0.000000e+00\n",
       "0.01      1            1  1.256330e-207\n",
       "0.02      1            1  5.731921e-166\n",
       "0.03      1            1  8.338711e-142\n",
       "0.04      1            1  8.269265e-125\n",
       "...     ...          ...            ...\n",
       "0.96      1            1   2.107677e-83\n",
       "0.97      1            1   1.624102e-96\n",
       "0.98      1            1  2.911941e-115\n",
       "0.99      1            1  9.293081e-148\n",
       "1.00      1            1   0.000000e+00\n",
       "\n",
       "[101 rows x 3 columns]"
      ]
     },
     "execution_count": 13,
     "metadata": {},
     "output_type": "execute_result"
    }
   ],
   "source": [
    "df"
   ]
  },
  {
   "cell_type": "code",
   "execution_count": 14,
   "id": "7e0d58b0-3755-4126-ad42-dec5a6210913",
   "metadata": {},
   "outputs": [
    {
     "data": {
      "text/plain": [
       "Text(0.5, 0, 'Proportion of heads')"
      ]
     },
     "execution_count": 14,
     "metadata": {},
     "output_type": "execute_result"
    },
    {
     "data": {
      "image/png": "[encoded data removed]",
      "text/plain": [
       "<Figure size 640x480 with 1 Axes>"
      ]
     },
     "metadata": {},
     "output_type": "display_data"
    }
   ],
   "source": [
    "plt.plot(df['posterior_2'])\n",
    "plt.ylabel('Probability')\n",
    "plt.xlabel('Proportion of heads')"
   ]
  },
  {
   "cell_type": "code",
   "execution_count": 15,
   "id": "d3690592-3656-4168-8993-36dc5db7de95",
   "metadata": {},
   "outputs": [
    {
     "data": {
      "text/plain": [
       "prior          0.00\n",
       "posterior_1    0.00\n",
       "posterior_2    0.56\n",
       "dtype: float64"
      ]
     },
     "execution_count": 15,
     "metadata": {},
     "output_type": "execute_result"
    }
   ],
   "source": [
    "df.idxmax()"
   ]
  },
  {
   "cell_type": "markdown",
   "id": "20fa8a19-6282-4681-a87f-7b9e53fab039",
   "metadata": {},
   "source": [
    "The figure shows the posterior distribution of x, which is the proportion of heads for the coin we observed.<br/>\n",
    "The posterior distribution represents our beliefs about x after seeing the data. It indicates that values less than 0.4 and greater than 0.7 are unlikely; values between 0.5 and 0.6 are the most likely.<br/>\n",
    "According to max probability, the most likely value for x is 0.56, which is the proportion of heads in the dataset, 140/250."
   ]
  },
  {
   "cell_type": "markdown",
   "id": "4c962531-e4b9-4747-96a0-703b5d9cbc29",
   "metadata": {},
   "source": [
    "## The Binomial Likelihood Function"
   ]
  },
  {
   "cell_type": "markdown",
   "id": "9673c677-c155-425d-aaa6-7b7b7f8b769f",
   "metadata": {},
   "source": [
    "The example above, we have been computing the updates one spin at a time, so for the Euro Problem we have to do 250 update.<br/>\n",
    "A more efficient alternative is to compute the likelihood of the entire dataset at once."
   ]
  },
  {
   "cell_type": "code",
   "execution_count": 16,
   "id": "74c8b88b-9119-488f-a6c5-d0c6fb2f7c4d",
   "metadata": {},
   "outputs": [
    {
     "data": {
      "text/plain": [
       "array([0.        , 0.11111111, 0.22222222, 0.33333333, 0.44444444,\n",
       "       0.55555556, 0.66666667, 0.77777778, 0.88888889, 1.        ])"
      ]
     },
     "execution_count": 16,
     "metadata": {},
     "output_type": "execute_result"
    }
   ],
   "source": [
    "ed.Pmf(1,np.linspace(0,1,10)).qs"
   ]
  },
  {
   "cell_type": "code",
   "execution_count": 17,
   "id": "0914f4e1-6adc-4337-a3f9-176fb55fce39",
   "metadata": {},
   "outputs": [
    {
     "data": {
      "text/plain": [
       "array([0.  , 0.01, 0.02, 0.03, 0.04, 0.05, 0.06, 0.07, 0.08, 0.09, 0.1 ,\n",
       "       0.11, 0.12, 0.13, 0.14, 0.15, 0.16, 0.17, 0.18, 0.19, 0.2 , 0.21,\n",
       "       0.22, 0.23, 0.24, 0.25, 0.26, 0.27, 0.28, 0.29, 0.3 , 0.31, 0.32,\n",
       "       0.33, 0.34, 0.35, 0.36, 0.37, 0.38, 0.39, 0.4 , 0.41, 0.42, 0.43,\n",
       "       0.44, 0.45, 0.46, 0.47, 0.48, 0.49, 0.5 , 0.51, 0.52, 0.53, 0.54,\n",
       "       0.55, 0.56, 0.57, 0.58, 0.59, 0.6 , 0.61, 0.62, 0.63, 0.64, 0.65,\n",
       "       0.66, 0.67, 0.68, 0.69, 0.7 , 0.71, 0.72, 0.73, 0.74, 0.75, 0.76,\n",
       "       0.77, 0.78, 0.79, 0.8 , 0.81, 0.82, 0.83, 0.84, 0.85, 0.86, 0.87,\n",
       "       0.88, 0.89, 0.9 , 0.91, 0.92, 0.93, 0.94, 0.95, 0.96, 0.97, 0.98,\n",
       "       0.99, 1.  ])"
      ]
     },
     "execution_count": 17,
     "metadata": {},
     "output_type": "execute_result"
    }
   ],
   "source": [
    "df.index.to_numpy()"
   ]
  },
  {
   "cell_type": "code",
   "execution_count": 18,
   "id": "a7ee5e05-c461-4ae5-9e32-eeeeedcf4fb6",
   "metadata": {},
   "outputs": [],
   "source": [
    "def update_binomial(pmf, data):\n",
    "    k, n, = data\n",
    "    xs = df.index.to_numpy()\n",
    "    likelihood = stats.binom.pmf(k=k, n=n, p=xs)\n",
    "    pmf = pmf*likelihood\n",
    "    pmf = pmf/pmf.sum()\n",
    "    df['posterior_3']=pmf"
   ]
  },
  {
   "cell_type": "code",
   "execution_count": 19,
   "id": "78932ab3-2935-4a27-823c-1cc9dc76cb3b",
   "metadata": {},
   "outputs": [],
   "source": [
    "# let say for 140 heads out of 250 coin toss\n",
    "data = 140, 250"
   ]
  },
  {
   "cell_type": "code",
   "execution_count": 20,
   "id": "57208597-9c19-45ec-9f2a-1113192c5f37",
   "metadata": {},
   "outputs": [
    {
     "data": {
      "text/html": [
       "<div>\n",
       "<style scoped>\n",
       "    .dataframe tbody tr th:only-of-type {\n",
       "        vertical-align: middle;\n",
       "    }\n",
       "\n",
       "    .dataframe tbody tr th {\n",
       "        vertical-align: top;\n",
       "    }\n",
       "\n",
       "    .dataframe thead th {\n",
       "        text-align: right;\n",
       "    }\n",
       "</style>\n",
       "<table border=\"1\" class=\"dataframe\">\n",
       "  <thead>\n",
       "    <tr style=\"text-align: right;\">\n",
       "      <th></th>\n",
       "      <th>prior</th>\n",
       "      <th>posterior_1</th>\n",
       "      <th>posterior_2</th>\n",
       "    </tr>\n",
       "  </thead>\n",
       "  <tbody>\n",
       "    <tr>\n",
       "      <th>0.00</th>\n",
       "      <td>1</td>\n",
       "      <td>1</td>\n",
       "      <td>0.000000e+00</td>\n",
       "    </tr>\n",
       "    <tr>\n",
       "      <th>0.01</th>\n",
       "      <td>1</td>\n",
       "      <td>1</td>\n",
       "      <td>1.256330e-207</td>\n",
       "    </tr>\n",
       "    <tr>\n",
       "      <th>0.02</th>\n",
       "      <td>1</td>\n",
       "      <td>1</td>\n",
       "      <td>5.731921e-166</td>\n",
       "    </tr>\n",
       "    <tr>\n",
       "      <th>0.03</th>\n",
       "      <td>1</td>\n",
       "      <td>1</td>\n",
       "      <td>8.338711e-142</td>\n",
       "    </tr>\n",
       "    <tr>\n",
       "      <th>0.04</th>\n",
       "      <td>1</td>\n",
       "      <td>1</td>\n",
       "      <td>8.269265e-125</td>\n",
       "    </tr>\n",
       "  </tbody>\n",
       "</table>\n",
       "</div>"
      ],
      "text/plain": [
       "      prior  posterior_1    posterior_2\n",
       "0.00      1            1   0.000000e+00\n",
       "0.01      1            1  1.256330e-207\n",
       "0.02      1            1  5.731921e-166\n",
       "0.03      1            1  8.338711e-142\n",
       "0.04      1            1  8.269265e-125"
      ]
     },
     "execution_count": 20,
     "metadata": {},
     "output_type": "execute_result"
    }
   ],
   "source": [
    "df.head()"
   ]
  },
  {
   "cell_type": "code",
   "execution_count": 21,
   "id": "08ab4eb5-1b42-484a-95fd-6ce84cc9fc73",
   "metadata": {},
   "outputs": [],
   "source": [
    "update_binomial(stats.uniform.pdf([1]*101), data)"
   ]
  },
  {
   "cell_type": "code",
   "execution_count": 22,
   "id": "a20e56ca-94b1-46f4-b74a-ca6ef8edab5f",
   "metadata": {},
   "outputs": [
    {
     "data": {
      "text/html": [
       "<div>\n",
       "<style scoped>\n",
       "    .dataframe tbody tr th:only-of-type {\n",
       "        vertical-align: middle;\n",
       "    }\n",
       "\n",
       "    .dataframe tbody tr th {\n",
       "        vertical-align: top;\n",
       "    }\n",
       "\n",
       "    .dataframe thead th {\n",
       "        text-align: right;\n",
       "    }\n",
       "</style>\n",
       "<table border=\"1\" class=\"dataframe\">\n",
       "  <thead>\n",
       "    <tr style=\"text-align: right;\">\n",
       "      <th></th>\n",
       "      <th>prior</th>\n",
       "      <th>posterior_1</th>\n",
       "      <th>posterior_2</th>\n",
       "      <th>posterior_3</th>\n",
       "    </tr>\n",
       "  </thead>\n",
       "  <tbody>\n",
       "    <tr>\n",
       "      <th>0.00</th>\n",
       "      <td>1</td>\n",
       "      <td>1</td>\n",
       "      <td>0.000000e+00</td>\n",
       "      <td>0.000000e+00</td>\n",
       "    </tr>\n",
       "    <tr>\n",
       "      <th>0.01</th>\n",
       "      <td>1</td>\n",
       "      <td>1</td>\n",
       "      <td>1.256330e-207</td>\n",
       "      <td>1.256330e-207</td>\n",
       "    </tr>\n",
       "    <tr>\n",
       "      <th>0.02</th>\n",
       "      <td>1</td>\n",
       "      <td>1</td>\n",
       "      <td>5.731921e-166</td>\n",
       "      <td>5.731921e-166</td>\n",
       "    </tr>\n",
       "    <tr>\n",
       "      <th>0.03</th>\n",
       "      <td>1</td>\n",
       "      <td>1</td>\n",
       "      <td>8.338711e-142</td>\n",
       "      <td>8.338711e-142</td>\n",
       "    </tr>\n",
       "    <tr>\n",
       "      <th>0.04</th>\n",
       "      <td>1</td>\n",
       "      <td>1</td>\n",
       "      <td>8.269265e-125</td>\n",
       "      <td>8.269265e-125</td>\n",
       "    </tr>\n",
       "    <tr>\n",
       "      <th>0.05</th>\n",
       "      <td>1</td>\n",
       "      <td>1</td>\n",
       "      <td>9.652275e-112</td>\n",
       "      <td>9.652275e-112</td>\n",
       "    </tr>\n",
       "    <tr>\n",
       "      <th>0.06</th>\n",
       "      <td>1</td>\n",
       "      <td>1</td>\n",
       "      <td>3.668356e-101</td>\n",
       "      <td>3.668356e-101</td>\n",
       "    </tr>\n",
       "    <tr>\n",
       "      <th>0.07</th>\n",
       "      <td>1</td>\n",
       "      <td>1</td>\n",
       "      <td>2.667365e-92</td>\n",
       "      <td>2.667365e-92</td>\n",
       "    </tr>\n",
       "    <tr>\n",
       "      <th>0.08</th>\n",
       "      <td>1</td>\n",
       "      <td>1</td>\n",
       "      <td>1.067804e-84</td>\n",
       "      <td>1.067804e-84</td>\n",
       "    </tr>\n",
       "    <tr>\n",
       "      <th>0.09</th>\n",
       "      <td>1</td>\n",
       "      <td>1</td>\n",
       "      <td>4.653042e-78</td>\n",
       "      <td>4.653042e-78</td>\n",
       "    </tr>\n",
       "  </tbody>\n",
       "</table>\n",
       "</div>"
      ],
      "text/plain": [
       "      prior  posterior_1    posterior_2    posterior_3\n",
       "0.00      1            1   0.000000e+00   0.000000e+00\n",
       "0.01      1            1  1.256330e-207  1.256330e-207\n",
       "0.02      1            1  5.731921e-166  5.731921e-166\n",
       "0.03      1            1  8.338711e-142  8.338711e-142\n",
       "0.04      1            1  8.269265e-125  8.269265e-125\n",
       "0.05      1            1  9.652275e-112  9.652275e-112\n",
       "0.06      1            1  3.668356e-101  3.668356e-101\n",
       "0.07      1            1   2.667365e-92   2.667365e-92\n",
       "0.08      1            1   1.067804e-84   1.067804e-84\n",
       "0.09      1            1   4.653042e-78   4.653042e-78"
      ]
     },
     "execution_count": 22,
     "metadata": {},
     "output_type": "execute_result"
    }
   ],
   "source": [
    "df.head(10)"
   ]
  },
  {
   "cell_type": "code",
   "execution_count": 23,
   "id": "f24d024e-26dc-4ad3-8a61-0567ee665ee8",
   "metadata": {},
   "outputs": [
    {
     "data": {
      "text/plain": [
       "[<matplotlib.lines.Line2D at 0x702b9cc7eed0>]"
      ]
     },
     "execution_count": 23,
     "metadata": {},
     "output_type": "execute_result"
    },
    {
     "data": {
      "image/png": "[encoded data removed]",
      "text/plain": [
       "<Figure size 640x480 with 1 Axes>"
      ]
     },
     "metadata": {},
     "output_type": "display_data"
    }
   ],
   "source": [
    "plt.plot(df['posterior_3'])"
   ]
  },
  {
   "cell_type": "code",
   "execution_count": 24,
   "id": "c440dc8a-9c59-4328-b734-be64e6fccace",
   "metadata": {},
   "outputs": [
    {
     "data": {
      "text/plain": [
       "prior          0.00\n",
       "posterior_1    0.00\n",
       "posterior_2    0.56\n",
       "posterior_3    0.56\n",
       "dtype: float64"
      ]
     },
     "execution_count": 24,
     "metadata": {},
     "output_type": "execute_result"
    }
   ],
   "source": [
    "df.idxmax()"
   ]
  },
  {
   "cell_type": "markdown",
   "id": "af262ed9-0b4c-4870-87fa-9729d15fb537",
   "metadata": {},
   "source": [
    "#### The Odd (Chance)"
   ]
  },
  {
   "cell_type": "markdown",
   "id": "841c88b2-4068-4c32-91da-f89e86f161de",
   "metadata": {},
   "source": [
    "p / (1-p)"
   ]
  },
  {
   "cell_type": "code",
   "execution_count": 25,
   "id": "b6ec366e-852a-42dd-919b-8197915b726c",
   "metadata": {},
   "outputs": [
    {
     "data": {
      "text/plain": [
       "1.272727272727273"
      ]
     },
     "execution_count": 25,
     "metadata": {},
     "output_type": "execute_result"
    }
   ],
   "source": [
    "0.56/(1-0.56)"
   ]
  },
  {
   "cell_type": "markdown",
   "id": "82e0dc5f-c785-45e3-bce5-dd3cd8039eb6",
   "metadata": {},
   "source": [
    "Out of 250 coin toss, the chance of getting heads is 1.27 times of getting tails"
   ]
  },
  {
   "cell_type": "markdown",
   "id": "bbbe42a2-c2ff-4f65-851f-05af72e4e3ab",
   "metadata": {},
   "source": [
    "## Estimating Counts"
   ]
  },
  {
   "cell_type": "markdown",
   "id": "65f6d70f-351a-4631-9fa1-456135159963",
   "metadata": {},
   "source": [
    "#### The Train Problem\n",
    "\n",
    "A railroad numbers its locomotives in order 1 ... N. One day you see a locomotive with the number 60. Estimate how many locomotives the railroad has.<br/><br/>\n",
    "Based on the observation, we know the railroad has 60 or more locomotives. But how many more? To apply Bayessian reasoning, we can break this problem into two steps:\n",
    "- What did we know about N before we saw the data? (prior)\n",
    "- For any given value of N, what is the likelihood of seeing the data (a locomotive with number 60)? (likelihood)\n",
    "\n",
    "We don't have much basis to choose a prior, so we'll start with something simple and then consider alternatives. Let's assume that N is equally likely to be any value from 1 to 1000."
   ]
  },
  {
   "cell_type": "code",
   "execution_count": 26,
   "id": "6b9fa04d-0f7f-44f0-8935-f24fbcb14cc7",
   "metadata": {},
   "outputs": [
    {
     "data": {
      "text/html": [
       "<div>\n",
       "<style scoped>\n",
       "    .dataframe tbody tr th:only-of-type {\n",
       "        vertical-align: middle;\n",
       "    }\n",
       "\n",
       "    .dataframe tbody tr th {\n",
       "        vertical-align: top;\n",
       "    }\n",
       "\n",
       "    .dataframe thead th {\n",
       "        text-align: right;\n",
       "    }\n",
       "</style>\n",
       "<table border=\"1\" class=\"dataframe\">\n",
       "  <thead>\n",
       "    <tr style=\"text-align: right;\">\n",
       "      <th></th>\n",
       "      <th>prior</th>\n",
       "    </tr>\n",
       "  </thead>\n",
       "  <tbody>\n",
       "    <tr>\n",
       "      <th>1</th>\n",
       "      <td>1</td>\n",
       "    </tr>\n",
       "    <tr>\n",
       "      <th>2</th>\n",
       "      <td>1</td>\n",
       "    </tr>\n",
       "    <tr>\n",
       "      <th>3</th>\n",
       "      <td>1</td>\n",
       "    </tr>\n",
       "    <tr>\n",
       "      <th>4</th>\n",
       "      <td>1</td>\n",
       "    </tr>\n",
       "    <tr>\n",
       "      <th>5</th>\n",
       "      <td>1</td>\n",
       "    </tr>\n",
       "  </tbody>\n",
       "</table>\n",
       "</div>"
      ],
      "text/plain": [
       "   prior\n",
       "1      1\n",
       "2      1\n",
       "3      1\n",
       "4      1\n",
       "5      1"
      ]
     },
     "execution_count": 26,
     "metadata": {},
     "output_type": "execute_result"
    }
   ],
   "source": [
    "hypos = np.arange(1,1001)\n",
    "df = pd.DataFrame([1]*1000, columns=['prior'], index=hypos)\n",
    "df.head()"
   ]
  },
  {
   "cell_type": "code",
   "execution_count": 27,
   "id": "8898e323-7d77-4572-87e4-88a482e6d304",
   "metadata": {},
   "outputs": [],
   "source": [
    "def update_train(pmf, data):\n",
    "    # update pmf (prior) based on new data\n",
    "    hypos = pmf.index.to_numpy()\n",
    "    likelihood = 1 / hypos\n",
    "    impossible = (data > hypos) # since the observed value is 60, so there is no chance that the train is less than 60\n",
    "    likelihood[impossible] = 0 # change the likelihood for N < 60\n",
    "    pmf = pmf * likelihood\n",
    "    pmf = pmf / pmf.sum()\n",
    "    df['posterior_1'] = pmf\n",
    "    return df"
   ]
  },
  {
   "cell_type": "code",
   "execution_count": 28,
   "id": "91e4453f-41c8-4fcb-ad0e-9493fe4720b5",
   "metadata": {},
   "outputs": [],
   "source": [
    "data  = 60"
   ]
  },
  {
   "cell_type": "code",
   "execution_count": 29,
   "id": "733e5e13-e7ed-422e-9436-79d4082ca8f1",
   "metadata": {},
   "outputs": [
    {
     "data": {
      "text/html": [
       "<div>\n",
       "<style scoped>\n",
       "    .dataframe tbody tr th:only-of-type {\n",
       "        vertical-align: middle;\n",
       "    }\n",
       "\n",
       "    .dataframe tbody tr th {\n",
       "        vertical-align: top;\n",
       "    }\n",
       "\n",
       "    .dataframe thead th {\n",
       "        text-align: right;\n",
       "    }\n",
       "</style>\n",
       "<table border=\"1\" class=\"dataframe\">\n",
       "  <thead>\n",
       "    <tr style=\"text-align: right;\">\n",
       "      <th></th>\n",
       "      <th>prior</th>\n",
       "      <th>posterior_1</th>\n",
       "    </tr>\n",
       "  </thead>\n",
       "  <tbody>\n",
       "    <tr>\n",
       "      <th>1</th>\n",
       "      <td>1</td>\n",
       "      <td>0.000000</td>\n",
       "    </tr>\n",
       "    <tr>\n",
       "      <th>2</th>\n",
       "      <td>1</td>\n",
       "      <td>0.000000</td>\n",
       "    </tr>\n",
       "    <tr>\n",
       "      <th>3</th>\n",
       "      <td>1</td>\n",
       "      <td>0.000000</td>\n",
       "    </tr>\n",
       "    <tr>\n",
       "      <th>4</th>\n",
       "      <td>1</td>\n",
       "      <td>0.000000</td>\n",
       "    </tr>\n",
       "    <tr>\n",
       "      <th>5</th>\n",
       "      <td>1</td>\n",
       "      <td>0.000000</td>\n",
       "    </tr>\n",
       "    <tr>\n",
       "      <th>...</th>\n",
       "      <td>...</td>\n",
       "      <td>...</td>\n",
       "    </tr>\n",
       "    <tr>\n",
       "      <th>996</th>\n",
       "      <td>1</td>\n",
       "      <td>0.000356</td>\n",
       "    </tr>\n",
       "    <tr>\n",
       "      <th>997</th>\n",
       "      <td>1</td>\n",
       "      <td>0.000355</td>\n",
       "    </tr>\n",
       "    <tr>\n",
       "      <th>998</th>\n",
       "      <td>1</td>\n",
       "      <td>0.000355</td>\n",
       "    </tr>\n",
       "    <tr>\n",
       "      <th>999</th>\n",
       "      <td>1</td>\n",
       "      <td>0.000355</td>\n",
       "    </tr>\n",
       "    <tr>\n",
       "      <th>1000</th>\n",
       "      <td>1</td>\n",
       "      <td>0.000354</td>\n",
       "    </tr>\n",
       "  </tbody>\n",
       "</table>\n",
       "<p>1000 rows × 2 columns</p>\n",
       "</div>"
      ],
      "text/plain": [
       "      prior  posterior_1\n",
       "1         1     0.000000\n",
       "2         1     0.000000\n",
       "3         1     0.000000\n",
       "4         1     0.000000\n",
       "5         1     0.000000\n",
       "...     ...          ...\n",
       "996       1     0.000356\n",
       "997       1     0.000355\n",
       "998       1     0.000355\n",
       "999       1     0.000355\n",
       "1000      1     0.000354\n",
       "\n",
       "[1000 rows x 2 columns]"
      ]
     },
     "execution_count": 29,
     "metadata": {},
     "output_type": "execute_result"
    }
   ],
   "source": [
    "update_train(df['prior'], data)"
   ]
  },
  {
   "cell_type": "code",
   "execution_count": 30,
   "id": "dc9eb798-de44-4746-9dcc-d1d4e2c8f408",
   "metadata": {},
   "outputs": [
    {
     "data": {
      "text/plain": [
       "array([1.        , 0.5       , 0.33333333, 0.25      , 0.2       ,\n",
       "       0.16666667, 0.14285714, 0.125     , 0.11111111, 0.1       ,\n",
       "       0.09090909, 0.08333333, 0.07692308, 0.07142857, 0.06666667,\n",
       "       0.0625    , 0.05882353, 0.05555556, 0.05263158, 0.05      ,\n",
       "       0.04761905, 0.04545455, 0.04347826, 0.04166667, 0.04      ,\n",
       "       0.03846154, 0.03703704, 0.03571429, 0.03448276, 0.03333333,\n",
       "       0.03225806, 0.03125   , 0.03030303, 0.02941176, 0.02857143,\n",
       "       0.02777778, 0.02702703, 0.02631579, 0.02564103, 0.025     ,\n",
       "       0.02439024, 0.02380952, 0.02325581, 0.02272727, 0.02222222,\n",
       "       0.02173913, 0.0212766 , 0.02083333, 0.02040816, 0.02      ,\n",
       "       0.01960784, 0.01923077, 0.01886792, 0.01851852, 0.01818182,\n",
       "       0.01785714, 0.01754386, 0.01724138, 0.01694915])"
      ]
     },
     "execution_count": 30,
     "metadata": {},
     "output_type": "execute_result"
    }
   ],
   "source": [
    "1/hypos[(data>hypos)]"
   ]
  },
  {
   "cell_type": "code",
   "execution_count": 31,
   "id": "5d138201-88dd-4435-9eaa-87a48523fa99",
   "metadata": {},
   "outputs": [
    {
     "data": {
      "text/plain": [
       "59"
      ]
     },
     "execution_count": 31,
     "metadata": {},
     "output_type": "execute_result"
    }
   ],
   "source": [
    "len(1/hypos[(data>hypos)])"
   ]
  },
  {
   "cell_type": "code",
   "execution_count": 32,
   "id": "69a42d3e-36d3-4cb6-ab3f-37ee505de631",
   "metadata": {},
   "outputs": [
    {
     "data": {
      "text/html": [
       "<div>\n",
       "<style scoped>\n",
       "    .dataframe tbody tr th:only-of-type {\n",
       "        vertical-align: middle;\n",
       "    }\n",
       "\n",
       "    .dataframe tbody tr th {\n",
       "        vertical-align: top;\n",
       "    }\n",
       "\n",
       "    .dataframe thead th {\n",
       "        text-align: right;\n",
       "    }\n",
       "</style>\n",
       "<table border=\"1\" class=\"dataframe\">\n",
       "  <thead>\n",
       "    <tr style=\"text-align: right;\">\n",
       "      <th></th>\n",
       "      <th>prior</th>\n",
       "      <th>posterior_1</th>\n",
       "    </tr>\n",
       "  </thead>\n",
       "  <tbody>\n",
       "    <tr>\n",
       "      <th>60</th>\n",
       "      <td>1</td>\n",
       "      <td>0.005905</td>\n",
       "    </tr>\n",
       "    <tr>\n",
       "      <th>61</th>\n",
       "      <td>1</td>\n",
       "      <td>0.005809</td>\n",
       "    </tr>\n",
       "    <tr>\n",
       "      <th>62</th>\n",
       "      <td>1</td>\n",
       "      <td>0.005715</td>\n",
       "    </tr>\n",
       "    <tr>\n",
       "      <th>63</th>\n",
       "      <td>1</td>\n",
       "      <td>0.005624</td>\n",
       "    </tr>\n",
       "    <tr>\n",
       "      <th>64</th>\n",
       "      <td>1</td>\n",
       "      <td>0.005536</td>\n",
       "    </tr>\n",
       "    <tr>\n",
       "      <th>...</th>\n",
       "      <td>...</td>\n",
       "      <td>...</td>\n",
       "    </tr>\n",
       "    <tr>\n",
       "      <th>996</th>\n",
       "      <td>1</td>\n",
       "      <td>0.000356</td>\n",
       "    </tr>\n",
       "    <tr>\n",
       "      <th>997</th>\n",
       "      <td>1</td>\n",
       "      <td>0.000355</td>\n",
       "    </tr>\n",
       "    <tr>\n",
       "      <th>998</th>\n",
       "      <td>1</td>\n",
       "      <td>0.000355</td>\n",
       "    </tr>\n",
       "    <tr>\n",
       "      <th>999</th>\n",
       "      <td>1</td>\n",
       "      <td>0.000355</td>\n",
       "    </tr>\n",
       "    <tr>\n",
       "      <th>1000</th>\n",
       "      <td>1</td>\n",
       "      <td>0.000354</td>\n",
       "    </tr>\n",
       "  </tbody>\n",
       "</table>\n",
       "<p>941 rows × 2 columns</p>\n",
       "</div>"
      ],
      "text/plain": [
       "      prior  posterior_1\n",
       "60        1     0.005905\n",
       "61        1     0.005809\n",
       "62        1     0.005715\n",
       "63        1     0.005624\n",
       "64        1     0.005536\n",
       "...     ...          ...\n",
       "996       1     0.000356\n",
       "997       1     0.000355\n",
       "998       1     0.000355\n",
       "999       1     0.000355\n",
       "1000      1     0.000354\n",
       "\n",
       "[941 rows x 2 columns]"
      ]
     },
     "execution_count": 32,
     "metadata": {},
     "output_type": "execute_result"
    }
   ],
   "source": [
    "df[df['posterior_1']>0]"
   ]
  },
  {
   "cell_type": "code",
   "execution_count": 33,
   "id": "26864331-4322-4de8-888d-c2f6a8c83d4f",
   "metadata": {},
   "outputs": [
    {
     "data": {
      "text/plain": [
       "Text(0, 0.5, 'Probability')"
      ]
     },
     "execution_count": 33,
     "metadata": {},
     "output_type": "execute_result"
    },
    {
     "data": {
      "image/png": "[encoded data removed]",
      "text/plain": [
       "<Figure size 640x480 with 1 Axes>"
      ]
     },
     "metadata": {},
     "output_type": "display_data"
    }
   ],
   "source": [
    "plt.plot(df['posterior_1'])\n",
    "plt.xlabel('Number of Train')\n",
    "plt.ylabel('Probability')"
   ]
  },
  {
   "cell_type": "code",
   "execution_count": 34,
   "id": "b9c5fe4d-deff-4b4b-90d6-612541ba4237",
   "metadata": {},
   "outputs": [
    {
     "data": {
      "text/plain": [
       "prior           1\n",
       "posterior_1    60\n",
       "dtype: int64"
      ]
     },
     "execution_count": 34,
     "metadata": {},
     "output_type": "execute_result"
    }
   ],
   "source": [
    "df.idxmax()"
   ]
  },
  {
   "cell_type": "markdown",
   "id": "a494cf5c-c63b-462d-8c8a-d40133e105f0",
   "metadata": {},
   "source": [
    "The most likely value, if you had to guess, is 60"
   ]
  },
  {
   "cell_type": "markdown",
   "id": "45fef7e9-399e-456f-801d-0e215a2dd24b",
   "metadata": {},
   "source": [
    "An alternative is to compute the mean of the posterior distribution.<br/>\n",
    "mean = Total of pi*qi\n",
    "<br/>\n",
    "Where:\n",
    "- pi is the number of N\n",
    "- qi is the posterior probability"
   ]
  },
  {
   "cell_type": "code",
   "execution_count": 35,
   "id": "69cdf813-06bf-4874-8311-73002c66559c",
   "metadata": {},
   "outputs": [
    {
     "data": {
      "text/plain": [
       "np.float64(333.41989326370776)"
      ]
     },
     "execution_count": 35,
     "metadata": {},
     "output_type": "execute_result"
    }
   ],
   "source": [
    "np.sum(df.index.to_numpy()*df['posterior_1'])"
   ]
  },
  {
   "cell_type": "code",
   "execution_count": 36,
   "id": "d38d6ea2-6692-4ddc-bad7-c1808e1b5457",
   "metadata": {},
   "outputs": [
    {
     "data": {
      "text/plain": [
       "Text(0, 0.5, 'Probability')"
      ]
     },
     "execution_count": 36,
     "metadata": {},
     "output_type": "execute_result"
    },
    {
     "data": {
      "image/png": "[encoded data removed]",
      "text/plain": [
       "<Figure size 640x480 with 1 Axes>"
      ]
     },
     "metadata": {},
     "output_type": "display_data"
    }
   ],
   "source": [
    "plt.plot(df['posterior_1'])\n",
    "plt.axvline(333, linestyle='--', color='red')\n",
    "plt.xlabel('Number of Train')\n",
    "plt.ylabel('Probability')"
   ]
  },
  {
   "cell_type": "markdown",
   "id": "609e146e-4cc5-41b4-8671-36b435478f9f",
   "metadata": {},
   "source": [
    "The mean of the posterior is 333, so that might be a good guess if you want to minimize error. If you played this guessing game over and over, using the mean of the posterior as your estimate would minimize the mean squared error over the long run"
   ]
  },
  {
   "cell_type": "markdown",
   "id": "882a74ca-1fd7-4bdf-a9c0-0ded1451a4de",
   "metadata": {},
   "source": [
    "### Sensitivity to the Prior"
   ]
  },
  {
   "cell_type": "markdown",
   "id": "b3a92dcd-82ed-48ec-9ea2-5a03a1ef4bef",
   "metadata": {},
   "source": [
    "The prior we used in the previous example is uniform from 1 to 1000, what if we vary the upper bound? Will the posterior mean be the same or small difference?"
   ]
  },
  {
   "cell_type": "code",
   "execution_count": 37,
   "id": "064c5ede-bfba-4884-888e-d51f6b4f8904",
   "metadata": {},
   "outputs": [],
   "source": [
    "def update_posterior(prior, data):\n",
    "    hypos = df.index.to_numpy()\n",
    "    likelihood = 1/hypos\n",
    "    impossible = (data > hypos)\n",
    "    likelihood[impossible] = 0\n",
    "    posterior = prior * likelihood\n",
    "    posterior = posterior/posterior.sum()\n",
    "    df['posterior']=posterior"
   ]
  },
  {
   "cell_type": "code",
   "execution_count": 38,
   "id": "52d9ff52-4dbc-4d5c-97bc-180846d8e2e1",
   "metadata": {},
   "outputs": [
    {
     "data": {
      "text/html": [
       "<div>\n",
       "<style scoped>\n",
       "    .dataframe tbody tr th:only-of-type {\n",
       "        vertical-align: middle;\n",
       "    }\n",
       "\n",
       "    .dataframe tbody tr th {\n",
       "        vertical-align: top;\n",
       "    }\n",
       "\n",
       "    .dataframe thead th {\n",
       "        text-align: right;\n",
       "    }\n",
       "</style>\n",
       "<table border=\"1\" class=\"dataframe\">\n",
       "  <thead>\n",
       "    <tr style=\"text-align: right;\">\n",
       "      <th></th>\n",
       "      <th>prior</th>\n",
       "    </tr>\n",
       "  </thead>\n",
       "  <tbody>\n",
       "    <tr>\n",
       "      <th>0</th>\n",
       "      <td>1</td>\n",
       "    </tr>\n",
       "    <tr>\n",
       "      <th>1</th>\n",
       "      <td>1</td>\n",
       "    </tr>\n",
       "    <tr>\n",
       "      <th>2</th>\n",
       "      <td>1</td>\n",
       "    </tr>\n",
       "    <tr>\n",
       "      <th>3</th>\n",
       "      <td>1</td>\n",
       "    </tr>\n",
       "    <tr>\n",
       "      <th>4</th>\n",
       "      <td>1</td>\n",
       "    </tr>\n",
       "  </tbody>\n",
       "</table>\n",
       "</div>"
      ],
      "text/plain": [
       "   prior\n",
       "0      1\n",
       "1      1\n",
       "2      1\n",
       "3      1\n",
       "4      1"
      ]
     },
     "execution_count": 38,
     "metadata": {},
     "output_type": "execute_result"
    }
   ],
   "source": [
    "# upper bound 500\n",
    "hypos = np.arange(0,501)\n",
    "df = pd.DataFrame([1]*501, index=hypos, columns=['prior'])\n",
    "df.head()"
   ]
  },
  {
   "cell_type": "code",
   "execution_count": 39,
   "id": "b1bb0c8f-47bd-45f9-8937-0c9b3a7427dc",
   "metadata": {},
   "outputs": [
    {
     "name": "stderr",
     "output_type": "stream",
     "text": [
      "/tmp/ipykernel_1039/2749579168.py:3: RuntimeWarning: divide by zero encountered in divide\n",
      "  likelihood = 1/hypos\n"
     ]
    },
    {
     "data": {
      "text/plain": [
       "np.float64(207.07922798341045)"
      ]
     },
     "execution_count": 39,
     "metadata": {},
     "output_type": "execute_result"
    }
   ],
   "source": [
    "update_posterior(df['prior'], data)\n",
    "np.sum(df.index*df['posterior'])"
   ]
  },
  {
   "cell_type": "code",
   "execution_count": 40,
   "id": "4adf1a6d-4b54-48c0-b9a4-fffda0385051",
   "metadata": {},
   "outputs": [
    {
     "name": "stderr",
     "output_type": "stream",
     "text": [
      "/tmp/ipykernel_1039/2749579168.py:3: RuntimeWarning: divide by zero encountered in divide\n",
      "  likelihood = 1/hypos\n"
     ]
    },
    {
     "data": {
      "text/plain": [
       "np.float64(552.1790171646376)"
      ]
     },
     "execution_count": 40,
     "metadata": {},
     "output_type": "execute_result"
    }
   ],
   "source": [
    "hypos = np.arange(0, 2001)\n",
    "df = pd.DataFrame([1]*2001, index=hypos, columns=['prior'])\n",
    "update_posterior(df['prior'], data)\n",
    "np.sum(df.index.to_numpy()*df['posterior'])"
   ]
  },
  {
   "cell_type": "markdown",
   "id": "c9356966-af13-4a4b-9482-17e56da6cb66",
   "metadata": {},
   "source": [
    "As we vary the upper bound, the posterior mean changes substantially, so that's bad.<br/>\n",
    "When the posterior is sensitive to the prior, there are two ways to proceed:\n",
    "- Get more data\n",
    "- Get more background information and choose a better prior\n",
    "\n",
    "With more data, posterior distributions based on diferent priors tend to converge.<br/>\n",
    "For example, **suppose that in addition to train 60 we also see trains 30 and 90.**"
   ]
  },
  {
   "cell_type": "code",
   "execution_count": 41,
   "id": "76f97227-5cd9-478c-a038-ed31bcb76113",
   "metadata": {},
   "outputs": [],
   "source": [
    "def update_posterior(prior, data):\n",
    "    hypos = df.index.to_numpy()\n",
    "    likelihood = 1/hypos\n",
    "    posterior = None\n",
    "    for i in data:\n",
    "        impossible = (i > hypos)\n",
    "        likelihood[impossible] = 0\n",
    "        if posterior is None:\n",
    "            # initial posterior\n",
    "            posterior = prior * likelihood\n",
    "        else:\n",
    "            # update posterior\n",
    "            posterior = posterior * likelihood\n",
    "    # normalize posterior\n",
    "    posterior = posterior/posterior.sum()\n",
    "    df['posterior']=posterior"
   ]
  },
  {
   "cell_type": "code",
   "execution_count": 42,
   "id": "d5a8f0d0-b5b5-4d00-84c1-8d4ea3218cc2",
   "metadata": {},
   "outputs": [
    {
     "data": {
      "text/plain": [
       "np.float64(151.84958795903836)"
      ]
     },
     "execution_count": 42,
     "metadata": {},
     "output_type": "execute_result"
    }
   ],
   "source": [
    "data = [30,60,90]\n",
    "hypos = np.arange(1, 501)\n",
    "df = pd.DataFrame([1]*500, index=hypos, columns=['prior'])\n",
    "update_posterior(df['prior'], data)\n",
    "np.sum(df.index.to_numpy()*df['posterior'])"
   ]
  },
  {
   "cell_type": "code",
   "execution_count": 43,
   "id": "9038bfc9-04a1-4dc3-bd8a-87cac43f31a0",
   "metadata": {},
   "outputs": [
    {
     "data": {
      "text/plain": [
       "np.float64(164.30558642273346)"
      ]
     },
     "execution_count": 43,
     "metadata": {},
     "output_type": "execute_result"
    }
   ],
   "source": [
    "data = [30,60,90]\n",
    "hypos = np.arange(1, 1001)\n",
    "df = pd.DataFrame([1]*1000, index=hypos, columns=['prior'])\n",
    "update_posterior(df['prior'], data)\n",
    "np.sum(df.index.to_numpy()*df['posterior'])"
   ]
  },
  {
   "cell_type": "code",
   "execution_count": 44,
   "id": "f982ff55-7359-487b-ae28-0c9fbb148375",
   "metadata": {},
   "outputs": [
    {
     "data": {
      "text/plain": [
       "np.float64(171.3381810915096)"
      ]
     },
     "execution_count": 44,
     "metadata": {},
     "output_type": "execute_result"
    }
   ],
   "source": [
    "data = [30,60,90] # the data we seen, in this case the number of trains\n",
    "hypos = np.arange(1, 2001)\n",
    "df = pd.DataFrame([1]*2000, index=hypos, columns=['prior'])\n",
    "update_posterior(df['prior'], data)\n",
    "np.sum(df.index.to_numpy()*df['posterior'])"
   ]
  },
  {
   "cell_type": "markdown",
   "id": "a457746c-3bbe-400e-8f1c-f41bd3e0fcfc",
   "metadata": {},
   "source": [
    "After we observed three trains, the difference are smaller, but apparently three trains are not enough for the posteriors to converge."
   ]
  },
  {
   "cell_type": "markdown",
   "id": "5cdc9042-d144-4172-96d9-f842459012c1",
   "metadata": {},
   "source": [
    "## Power Law Prior\n",
    "\n",
    "If more data are not available, another option is to improve the priors by gathering more background information.<br/>\n",
    "Mathematically, a power law means that the number of variable with a given size, N, is proportional to (1/n)**alpha <br/>\n",
    "Where alpha is a parameter that is often near 1."
   ]
  },
  {
   "cell_type": "code",
   "execution_count": 45,
   "id": "8a47582a-8501-4003-a2fc-9222d328dfad",
   "metadata": {},
   "outputs": [
    {
     "data": {
      "text/plain": [
       "(0.1, 0.1)"
      ]
     },
     "execution_count": 45,
     "metadata": {},
     "output_type": "execute_result"
    }
   ],
   "source": [
    "a= 1\n",
    "(1/10)**a, 10**-a"
   ]
  },
  {
   "cell_type": "code",
   "execution_count": 46,
   "id": "4a410a26-0d3b-4b35-8e36-a67630eca22a",
   "metadata": {},
   "outputs": [],
   "source": [
    "def update_posterior(input_df, data):\n",
    "    hypos = input_df.index.to_numpy()\n",
    "    likelihood = 1/hypos\n",
    "    posterior = None\n",
    "    for datum in data:\n",
    "        unlikely = (datum > hypos)\n",
    "        likelihood[unlikely] = 0\n",
    "        if posterior is None:\n",
    "            posterior = input_df['prior'] * likelihood\n",
    "        else:\n",
    "            posterior = posterior * likelihood\n",
    "    posterior = posterior / posterior.sum()\n",
    "    input_df['posterior'] = posterior    "
   ]
  },
  {
   "cell_type": "markdown",
   "id": "fe74bdc7-4f03-48b7-baca-ad6e888f8c11",
   "metadata": {},
   "source": [
    "#### Uniform Prior"
   ]
  },
  {
   "cell_type": "code",
   "execution_count": 47,
   "id": "3df2e05f-6628-4c4e-86e0-c157a3a32b9a",
   "metadata": {},
   "outputs": [
    {
     "data": {
      "text/plain": [
       "np.float64(151.84958795903836)"
      ]
     },
     "execution_count": 47,
     "metadata": {},
     "output_type": "execute_result"
    }
   ],
   "source": [
    "hypos = np.arange(1, 501)\n",
    "data = [30,60,90] # assume this is the train we have seen during observation\n",
    "\n",
    "dfu = pd.DataFrame(data=[1]*len(hypos), index=hypos, columns=['prior'])\n",
    "update_posterior(dfu, data)\n",
    "np.sum(dfu.index*dfu['posterior'])"
   ]
  },
  {
   "cell_type": "code",
   "execution_count": 48,
   "id": "bd5cdf65-4967-45c5-8e81-e87e575873ee",
   "metadata": {},
   "outputs": [
    {
     "data": {
      "text/plain": [
       "np.float64(164.30558642273346)"
      ]
     },
     "execution_count": 48,
     "metadata": {},
     "output_type": "execute_result"
    }
   ],
   "source": [
    "hypos = np.arange(1, 1001)\n",
    "data = [30,60,90]  # assume this is the train we have seen during observation\n",
    "\n",
    "dfu = pd.DataFrame(data=[1]*len(hypos), index=hypos, columns=['prior'])\n",
    "update_posterior(dfu, data)\n",
    "np.sum(dfu.index*dfu['posterior'])"
   ]
  },
  {
   "cell_type": "code",
   "execution_count": 49,
   "id": "108cc37b-cc4b-4c2a-a085-cbb7d91d5aad",
   "metadata": {},
   "outputs": [
    {
     "data": {
      "text/plain": [
       "np.float64(171.3381810915096)"
      ]
     },
     "execution_count": 49,
     "metadata": {},
     "output_type": "execute_result"
    }
   ],
   "source": [
    "hypos = np.arange(1, 2001)\n",
    "data = [30,60,90]  # assume this is the train we have seen during observation\n",
    "\n",
    "dfu = pd.DataFrame(data=[1]*len(hypos), index=hypos, columns=['prior'])\n",
    "update_posterior(dfu, data)\n",
    "np.sum(dfu.index*dfu['posterior'])"
   ]
  },
  {
   "cell_type": "markdown",
   "id": "d5c3ee84-4f46-4faf-ba17-742277dab4f8",
   "metadata": {},
   "source": [
    "#### Power Law Prior"
   ]
  },
  {
   "cell_type": "code",
   "execution_count": 50,
   "id": "c9fefaef-225f-46a9-add2-b0f27537db33",
   "metadata": {},
   "outputs": [
    {
     "data": {
      "text/plain": [
       "np.float64(130.7084698625599)"
      ]
     },
     "execution_count": 50,
     "metadata": {},
     "output_type": "execute_result"
    }
   ],
   "source": [
    "alpha = 1\n",
    "hypos = np.arange(1, 501, dtype=float)\n",
    "data = [30,60,90] # assume this is the train we have seen during observation\n",
    "power = hypos**(-alpha)\n",
    "# normalize power law\n",
    "power = power/power.sum()\n",
    "\n",
    "dfp = pd.DataFrame(data=power, index=hypos, columns=['prior'])\n",
    "update_posterior(dfp, data)\n",
    "np.sum(dfp.index*dfp['posterior'])"
   ]
  },
  {
   "cell_type": "code",
   "execution_count": 51,
   "id": "6c6e998d-775a-4657-97b6-77d0595e9576",
   "metadata": {},
   "outputs": [
    {
     "data": {
      "text/plain": [
       "np.float64(133.2752313750311)"
      ]
     },
     "execution_count": 51,
     "metadata": {},
     "output_type": "execute_result"
    }
   ],
   "source": [
    "alpha = 1\n",
    "hypos = np.arange(1, 1001, dtype=float)\n",
    "data = [30,60,90] # assume this is the train we have seen during observation\n",
    "power = hypos**(-alpha)\n",
    "# normalize power law\n",
    "power = power/power.sum()\n",
    "\n",
    "dfp = pd.DataFrame(data=power, index=hypos, columns=['prior'])\n",
    "update_posterior(dfp, data)\n",
    "np.sum(dfp.index*dfp['posterior'])"
   ]
  },
  {
   "cell_type": "code",
   "execution_count": 52,
   "id": "b70f8509-8147-4d9f-a353-b3c3cb5c70e1",
   "metadata": {},
   "outputs": [
    {
     "data": {
      "text/plain": [
       "np.float64(133.99746308073125)"
      ]
     },
     "execution_count": 52,
     "metadata": {},
     "output_type": "execute_result"
    }
   ],
   "source": [
    "alpha = 1\n",
    "hypos = np.arange(1, 2001, dtype=float)\n",
    "data = [30,60,90] # assume this is the train we have seen during observation\n",
    "power = hypos**(-alpha)\n",
    "# normalize power law\n",
    "power = power/power.sum()\n",
    "\n",
    "dfp = pd.DataFrame(data=power, index=hypos, columns=['prior'])\n",
    "update_posterior(dfp, data)\n",
    "np.sum(dfp.index*dfp['posterior'])"
   ]
  },
  {
   "cell_type": "markdown",
   "id": "ad277602-4d8f-4599-8e47-f9deadb68532",
   "metadata": {},
   "source": [
    "### Compare the Uniform Prior vs Power Law"
   ]
  },
  {
   "cell_type": "code",
   "execution_count": 53,
   "id": "c82e8952-9a53-4c85-a850-dfcb0e1b18aa",
   "metadata": {},
   "outputs": [
    {
     "name": "stderr",
     "output_type": "stream",
     "text": [
      "/home/lucky/anaconda3/envs/python311/lib/python3.11/site-packages/plotly/graph_objs/_deprecations.py:378: DeprecationWarning:\n",
      "\n",
      "plotly.graph_objs.Line is deprecated.\n",
      "Please replace it with one of the following more specific types\n",
      "  - plotly.graph_objs.scatter.Line\n",
      "  - plotly.graph_objs.layout.shape.Line\n",
      "  - etc.\n",
      "\n",
      "\n"
     ]
    },
    {
     "data": {
      "application/vnd.plotly.v1+json": {
       "config": {
        "plotlyServerURL": "https://plot.ly"
       },
       "data": [
        {
         "name": "Uniform Prior",
         "type": "scatter",
         "x": {
          "bdata": "AQACAAMABAAFAAYABwAIAAkACgALAAwADQAOAA8AEAARABIAEwAUABUAFgAXABgAGQAaABsAHAAdAB4AHwAgACEAIgAjACQAJQAmACcAKAApACoAKwAsAC0ALgAvADAAMQAyADMANAA1ADYANwA4ADkAOgA7ADwAPQA+AD8AQABBAEIAQwBEAEUARgBHAEgASQBKAEsATABNAE4ATwBQAFEAUgBTAFQAVQBWAFcAWABZAFoAWwBcAF0AXgBfAGAAYQBiAGMAZABlAGYAZwBoAGkAagBrAGwAbQBuAG8AcABxAHIAcwB0AHUAdgB3AHgAeQB6AHsAfAB9AH4AfwCAAIEAggCDAIQAhQCGAIcAiACJAIoAiwCMAI0AjgCPAJAAkQCSAJMAlACVAJYAlwCYAJkAmgCbAJwAnQCeAJ8AoAChAKIAowCkAKUApgCnAKgAqQCqAKsArACtAK4ArwCwALEAsgCzALQAtQC2ALcAuAC5ALoAuwC8AL0AvgC/AMAAwQDCAMMAxADFAMYAxwDIAMkAygDLAMwAzQDOAM8A0ADRANIA0wDUANUA1gDXANgA2QDaANsA3ADdAN4A3wDgAOEA4gDjAOQA5QDmAOcA6ADpAOoA6wDsAO0A7gDvAPAA8QDyAPMA9AD1APYA9wD4APkA+gD7APwA/QD+AP8AAAEBAQIBAwEEAQUBBgEHAQgBCQEKAQsBDAENAQ4BDwEQAREBEgETARQBFQEWARcBGAEZARoBGwEcAR0BHgEfASABIQEiASMBJAElASYBJwEoASkBKgErASwBLQEuAS8BMAExATIBMwE0ATUBNgE3ATgBOQE6ATsBPAE9AT4BPwFAAUEBQgFDAUQBRQFGAUcBSAFJAUoBSwFMAU0BTgFPAVABUQFSAVMBVAFVAVYBVwFYAVkBWgFbAVwBXQFeAV8BYAFhAWIBYwFkAWUBZgFnAWgBaQFqAWsBbAFtAW4BbwFwAXEBcgFzAXQBdQF2AXcBeAF5AXoBewF8AX0BfgF/AYABgQGCAYMBhAGFAYYBhwGIAYkBigGLAYwBjQGOAY8BkAGRAZIBkwGUAZUBlgGXAZgBmQGaAZsBnAGdAZ4BnwGgAaEBogGjAaQBpQGmAacBqAGpAaoBqwGsAa0BrgGvAbABsQGyAbMBtAG1AbYBtwG4AbkBugG7AbwBvQG+Ab8BwAHBAcIBwwHEAcUBxgHHAcgByQHKAcsBzAHNAc4BzwHQAdEB0gHTAdQB1QHWAdcB2AHZAdoB2wHcAd0B3gHfAeAB4QHiAeMB5AHlAeYB5wHoAekB6gHrAewB7QHuAe8B8AHxAfIB8wH0AfUB9gH3AfgB+QH6AfsB/AH9Af4B/wEAAgECAgIDAgQCBQIGAgcCCAIJAgoCCwIMAg0CDgIPAhACEQISAhMCFAIVAhYCFwIYAhkCGgIbAhwCHQIeAh8CIAIhAiICIwIkAiUCJgInAigCKQIqAisCLAItAi4CLwIwAjECMgIzAjQCNQI2AjcCOAI5AjoCOwI8Aj0CPgI/AkACQQJCAkMCRAJFAkYCRwJIAkkCSgJLAkwCTQJOAk8CUAJRAlICUwJUAlUCVgJXAlgCWQJaAlsCXAJdAl4CXwJgAmECYgJjAmQCZQJmAmcCaAJpAmoCawJsAm0CbgJvAnACcQJyAnMCdAJ1AnYCdwJ4AnkCegJ7AnwCfQJ+An8CgAKBAoICgwKEAoUChgKHAogCiQKKAosCjAKNAo4CjwKQApECkgKTApQClQKWApcCmAKZApoCmwKcAp0CngKfAqACoQKiAqMCpAKlAqYCpwKoAqkCqgKrAqwCrQKuAq8CsAKxArICswK0ArUCtgK3ArgCuQK6ArsCvAK9Ar4CvwLAAsECwgLDAsQCxQLGAscCyALJAsoCywLMAs0CzgLPAtAC0QLSAtMC1ALVAtYC1wLYAtkC2gLbAtwC3QLeAt8C4ALhAuIC4wLkAuUC5gLnAugC6QLqAusC7ALtAu4C7wLwAvEC8gLzAvQC9QL2AvcC+AL5AvoC+wL8Av0C/gL/AgADAQMCAwMDBAMFAwYDBwMIAwkDCgMLAwwDDQMOAw8DEAMRAxIDEwMUAxUDFgMXAxgDGQMaAxsDHAMdAx4DHwMgAyEDIgMjAyQDJQMmAycDKAMpAyoDKwMsAy0DLgMvAzADMQMyAzMDNAM1AzYDNwM4AzkDOgM7AzwDPQM+Az8DQANBA0IDQwNEA0UDRgNHA0gDSQNKA0sDTANNA04DTwNQA1EDUgNTA1QDVQNWA1cDWANZA1oDWwNcA10DXgNfA2ADYQNiA2MDZANlA2YDZwNoA2kDagNrA2wDbQNuA28DcANxA3IDcwN0A3UDdgN3A3gDeQN6A3sDfAN9A34DfwOAA4EDggODA4QDhQOGA4cDiAOJA4oDiwOMA40DjgOPA5ADkQOSA5MDlAOVA5YDlwOYA5kDmgObA5wDnQOeA58DoAOhA6IDowOkA6UDpgOnA6gDqQOqA6sDrAOtA64DrwOwA7EDsgOzA7QDtQO2A7cDuAO5A7oDuwO8A70DvgO/A8ADwQPCA8MDxAPFA8YDxwPIA8kDygPLA8wDzQPOA88D0APRA9ID0wPUA9UD1gPXA9gD2QPaA9sD3APdA94D3wPgA+ED4gPjA+QD5QPmA+cD6APpA+oD6wPsA+0D7gPvA/AD8QPyA/MD9AP1A/YD9wP4A/kD+gP7A/wD/QP+A/8DAAQBBAIEAwQEBAUEBgQHBAgECQQKBAsEDAQNBA4EDwQQBBEEEgQTBBQEFQQWBBcEGAQZBBoEGwQcBB0EHgQfBCAEIQQiBCMEJAQlBCYEJwQoBCkEKgQrBCwELQQuBC8EMAQxBDIEMwQ0BDUENgQ3BDgEOQQ6BDsEPAQ9BD4EPwRABEEEQgRDBEQERQRGBEcESARJBEoESwRMBE0ETgRPBFAEUQRSBFMEVARVBFYEVwRYBFkEWgRbBFwEXQReBF8EYARhBGIEYwRkBGUEZgRnBGgEaQRqBGsEbARtBG4EbwRwBHEEcgRzBHQEdQR2BHcEeAR5BHoEewR8BH0EfgR/BIAEgQSCBIMEhASFBIYEhwSIBIkEigSLBIwEjQSOBI8EkASRBJIEkwSUBJUElgSXBJgEmQSaBJsEnASdBJ4EnwSgBKEEogSjBKQEpQSmBKcEqASpBKoEqwSsBK0ErgSvBLAEsQSyBLMEtAS1BLYEtwS4BLkEugS7BLwEvQS+BL8EwATBBMIEwwTEBMUExgTHBMgEyQTKBMsEzATNBM4EzwTQBNEE0gTTBNQE1QTWBNcE2ATZBNoE2wTcBN0E3gTfBOAE4QTiBOME5ATlBOYE5wToBOkE6gTrBOwE7QTuBO8E8ATxBPIE8wT0BPUE9gT3BPgE+QT6BPsE/AT9BP4E/wQABQEFAgUDBQQFBQUGBQcFCAUJBQoFCwUMBQ0FDgUPBRAFEQUSBRMFFAUVBRYFFwUYBRkFGgUbBRwFHQUeBR8FIAUhBSIFIwUkBSUFJgUnBSgFKQUqBSsFLAUtBS4FLwUwBTEFMgUzBTQFNQU2BTcFOAU5BToFOwU8BT0FPgU/BUAFQQVCBUMFRAVFBUYFRwVIBUkFSgVLBUwFTQVOBU8FUAVRBVIFUwVUBVUFVgVXBVgFWQVaBVsFXAVdBV4FXwVgBWEFYgVjBWQFZQVmBWcFaAVpBWoFawVsBW0FbgVvBXAFcQVyBXMFdAV1BXYFdwV4BXkFegV7BXwFfQV+BX8FgAWBBYIFgwWEBYUFhgWHBYgFiQWKBYsFjAWNBY4FjwWQBZEFkgWTBZQFlQWWBZcFmAWZBZoFmwWcBZ0FngWfBaAFoQWiBaMFpAWlBaYFpwWoBakFqgWrBawFrQWuBa8FsAWxBbIFswW0BbUFtgW3BbgFuQW6BbsFvAW9Bb4FvwXABcEFwgXDBcQFxQXGBccFyAXJBcoFywXMBc0FzgXPBdAF0QXSBdMF1AXVBdYF1wXYBdkF2gXbBdwF3QXeBd8F4AXhBeIF4wXkBeUF5gXnBegF6QXqBesF7AXtBe4F7wXwBfEF8gXzBfQF9QX2BfcF+AX5BfoF+wX8Bf0F/gX/BQAGAQYCBgMGBAYFBgYGBwYIBgkGCgYLBgwGDQYOBg8GEAYRBhIGEwYUBhUGFgYXBhgGGQYaBhsGHAYdBh4GHwYgBiEGIgYjBiQGJQYmBicGKAYpBioGKwYsBi0GLgYvBjAGMQYyBjMGNAY1BjYGNwY4BjkGOgY7BjwGPQY+Bj8GQAZBBkIGQwZEBkUGRgZHBkgGSQZKBksGTAZNBk4GTwZQBlEGUgZTBlQGVQZWBlcGWAZZBloGWwZcBl0GXgZfBmAGYQZiBmMGZAZlBmYGZwZoBmkGagZrBmwGbQZuBm8GcAZxBnIGcwZ0BnUGdgZ3BngGeQZ6BnsGfAZ9Bn4GfwaABoEGggaDBoQGhQaGBocGiAaJBooGiwaMBo0GjgaPBpAGkQaSBpMGlAaVBpYGlwaYBpkGmgabBpwGnQaeBp8GoAahBqIGowakBqUGpganBqgGqQaqBqsGrAatBq4GrwawBrEGsgazBrQGtQa2BrcGuAa5BroGuwa8Br0Gvga/BsAGwQbCBsMGxAbFBsYGxwbIBskGygbLBswGzQbOBs8G0AbRBtIG0wbUBtUG1gbXBtgG2QbaBtsG3AbdBt4G3wbgBuEG4gbjBuQG5QbmBucG6AbpBuoG6wbsBu0G7gbvBvAG8QbyBvMG9Ab1BvYG9wb4BvkG+gb7BvwG/Qb+Bv8GAAcBBwIHAwcEBwUHBgcHBwgHCQcKBwsHDAcNBw4HDwcQBxEHEgcTBxQHFQcWBxcHGAcZBxoHGwccBx0HHgcfByAHIQciByMHJAclByYHJwcoBykHKgcrBywHLQcuBy8HMAcxBzIHMwc0BzUHNgc3BzgHOQc6BzsHPAc9Bz4HPwdAB0EHQgdDB0QHRQdGB0cHSAdJB0oHSwdMB00HTgdPB1AHUQdSB1MHVAdVB1YHVwdYB1kHWgdbB1wHXQdeB18HYAdhB2IHYwdkB2UHZgdnB2gHaQdqB2sHbAdtB24HbwdwB3EHcgdzB3QHdQd2B3cHeAd5B3oHewd8B30Hfgd/B4AHgQeCB4MHhAeFB4YHhweIB4kHigeLB4wHjQeOB48HkAeRB5IHkweUB5UHlgeXB5gHmQeaB5sHnAedB54HnwegB6EHogejB6QHpQemB6cHqAepB6oHqwesB60HrgevB7AHsQeyB7MHtAe1B7YHtwe4B7kHuge7B7wHvQe+B78HwAfBB8IHwwfEB8UHxgfHB8gHyQfKB8sHzAfNB84HzwfQBw==",
          "dtype": "i2"
         },
         "y": {
          "bdata": "/Knx0k1iQD/8qfHSTWJAP/yp8dJNYkA//Knx0k1iQD/8qfHSTWJAP/yp8dJNYkA//Knx0k1iQD/8qfHSTWJAP/yp8dJNYkA//Knx0k1iQD/8qfHSTWJAP/yp8dJNYkA//Knx0k1iQD/8qfHSTWJAP/yp8dJNYkA//Knx0k1iQD/8qfHSTWJAP/yp8dJNYkA//Knx0k1iQD/8qfHSTWJAP/yp8dJNYkA//Knx0k1iQD/8qfHSTWJAP/yp8dJNYkA//Knx0k1iQD/8qfHSTWJAP/yp8dJNYkA//Knx0k1iQD/8qfHSTWJAP/yp8dJNYkA//Knx0k1iQD/8qfHSTWJAP/yp8dJNYkA//Knx0k1iQD/8qfHSTWJAP/yp8dJNYkA//Knx0k1iQD/8qfHSTWJAP/yp8dJNYkA//Knx0k1iQD/8qfHSTWJAP/yp8dJNYkA//Knx0k1iQD/8qfHSTWJAP/yp8dJNYkA//Knx0k1iQD/8qfHSTWJAP/yp8dJNYkA//Knx0k1iQD/8qfHSTWJAP/yp8dJNYkA//Knx0k1iQD/8qfHSTWJAP/yp8dJNYkA//Knx0k1iQD/8qfHSTWJAP/yp8dJNYkA//Knx0k1iQD/8qfHSTWJAP/yp8dJNYkA//Knx0k1iQD/8qfHSTWJAP/yp8dJNYkA//Knx0k1iQD/8qfHSTWJAP/yp8dJNYkA//Knx0k1iQD/8qfHSTWJAP/yp8dJNYkA//Knx0k1iQD/8qfHSTWJAP/yp8dJNYkA//Knx0k1iQD/8qfHSTWJAP/yp8dJNYkA//Knx0k1iQD/8qfHSTWJAP/yp8dJNYkA//Knx0k1iQD/8qfHSTWJAP/yp8dJNYkA//Knx0k1iQD/8qfHSTWJAP/yp8dJNYkA//Knx0k1iQD/8qfHSTWJAP/yp8dJNYkA//Knx0k1iQD/8qfHSTWJAP/yp8dJNYkA//Knx0k1iQD/8qfHSTWJAP/yp8dJNYkA//Knx0k1iQD/8qfHSTWJAP/yp8dJNYkA//Knx0k1iQD/8qfHSTWJAP/yp8dJNYkA//Knx0k1iQD/8qfHSTWJAP/yp8dJNYkA//Knx0k1iQD/8qfHSTWJAP/yp8dJNYkA//Knx0k1iQD/8qfHSTWJAP/yp8dJNYkA//Knx0k1iQD/8qfHSTWJAP/yp8dJNYkA//Knx0k1iQD/8qfHSTWJAP/yp8dJNYkA//Knx0k1iQD/8qfHSTWJAP/yp8dJNYkA//Knx0k1iQD/8qfHSTWJAP/yp8dJNYkA//Knx0k1iQD/8qfHSTWJAP/yp8dJNYkA//Knx0k1iQD/8qfHSTWJAP/yp8dJNYkA//Knx0k1iQD/8qfHSTWJAP/yp8dJNYkA//Knx0k1iQD/8qfHSTWJAP/yp8dJNYkA//Knx0k1iQD/8qfHSTWJAP/yp8dJNYkA//Knx0k1iQD/8qfHSTWJAP/yp8dJNYkA//Knx0k1iQD/8qfHSTWJAP/yp8dJNYkA//Knx0k1iQD/8qfHSTWJAP/yp8dJNYkA//Knx0k1iQD/8qfHSTWJAP/yp8dJNYkA//Knx0k1iQD/8qfHSTWJAP/yp8dJNYkA//Knx0k1iQD/8qfHSTWJAP/yp8dJNYkA//Knx0k1iQD/8qfHSTWJAP/yp8dJNYkA//Knx0k1iQD/8qfHSTWJAP/yp8dJNYkA//Knx0k1iQD/8qfHSTWJAP/yp8dJNYkA//Knx0k1iQD/8qfHSTWJAP/yp8dJNYkA//Knx0k1iQD/8qfHSTWJAP/yp8dJNYkA//Knx0k1iQD/8qfHSTWJAP/yp8dJNYkA//Knx0k1iQD/8qfHSTWJAP/yp8dJNYkA//Knx0k1iQD/8qfHSTWJAP/yp8dJNYkA//Knx0k1iQD/8qfHSTWJAP/yp8dJNYkA//Knx0k1iQD/8qfHSTWJAP/yp8dJNYkA//Knx0k1iQD/8qfHSTWJAP/yp8dJNYkA//Knx0k1iQD/8qfHSTWJAP/yp8dJNYkA//Knx0k1iQD/8qfHSTWJAP/yp8dJNYkA//Knx0k1iQD/8qfHSTWJAP/yp8dJNYkA//Knx0k1iQD/8qfHSTWJAP/yp8dJNYkA//Knx0k1iQD/8qfHSTWJAP/yp8dJNYkA//Knx0k1iQD/8qfHSTWJAP/yp8dJNYkA//Knx0k1iQD/8qfHSTWJAP/yp8dJNYkA//Knx0k1iQD/8qfHSTWJAP/yp8dJNYkA//Knx0k1iQD/8qfHSTWJAP/yp8dJNYkA//Knx0k1iQD/8qfHSTWJAP/yp8dJNYkA//Knx0k1iQD/8qfHSTWJAP/yp8dJNYkA//Knx0k1iQD/8qfHSTWJAP/yp8dJNYkA//Knx0k1iQD/8qfHSTWJAP/yp8dJNYkA//Knx0k1iQD/8qfHSTWJAP/yp8dJNYkA//Knx0k1iQD/8qfHSTWJAP/yp8dJNYkA//Knx0k1iQD/8qfHSTWJAP/yp8dJNYkA//Knx0k1iQD/8qfHSTWJAP/yp8dJNYkA//Knx0k1iQD/8qfHSTWJAP/yp8dJNYkA//Knx0k1iQD/8qfHSTWJAP/yp8dJNYkA//Knx0k1iQD/8qfHSTWJAP/yp8dJNYkA//Knx0k1iQD/8qfHSTWJAP/yp8dJNYkA//Knx0k1iQD/8qfHSTWJAP/yp8dJNYkA//Knx0k1iQD/8qfHSTWJAP/yp8dJNYkA//Knx0k1iQD/8qfHSTWJAP/yp8dJNYkA//Knx0k1iQD/8qfHSTWJAP/yp8dJNYkA//Knx0k1iQD/8qfHSTWJAP/yp8dJNYkA//Knx0k1iQD/8qfHSTWJAP/yp8dJNYkA//Knx0k1iQD/8qfHSTWJAP/yp8dJNYkA//Knx0k1iQD/8qfHSTWJAP/yp8dJNYkA//Knx0k1iQD/8qfHSTWJAP/yp8dJNYkA//Knx0k1iQD/8qfHSTWJAP/yp8dJNYkA//Knx0k1iQD/8qfHSTWJAP/yp8dJNYkA//Knx0k1iQD/8qfHSTWJAP/yp8dJNYkA//Knx0k1iQD/8qfHSTWJAP/yp8dJNYkA//Knx0k1iQD/8qfHSTWJAP/yp8dJNYkA//Knx0k1iQD/8qfHSTWJAP/yp8dJNYkA//Knx0k1iQD/8qfHSTWJAP/yp8dJNYkA//Knx0k1iQD/8qfHSTWJAP/yp8dJNYkA//Knx0k1iQD/8qfHSTWJAP/yp8dJNYkA//Knx0k1iQD/8qfHSTWJAP/yp8dJNYkA//Knx0k1iQD/8qfHSTWJAP/yp8dJNYkA//Knx0k1iQD/8qfHSTWJAP/yp8dJNYkA//Knx0k1iQD/8qfHSTWJAP/yp8dJNYkA//Knx0k1iQD/8qfHSTWJAP/yp8dJNYkA//Knx0k1iQD/8qfHSTWJAP/yp8dJNYkA//Knx0k1iQD/8qfHSTWJAP/yp8dJNYkA//Knx0k1iQD/8qfHSTWJAP/yp8dJNYkA//Knx0k1iQD/8qfHSTWJAP/yp8dJNYkA//Knx0k1iQD/8qfHSTWJAP/yp8dJNYkA//Knx0k1iQD/8qfHSTWJAP/yp8dJNYkA//Knx0k1iQD/8qfHSTWJAP/yp8dJNYkA//Knx0k1iQD/8qfHSTWJAP/yp8dJNYkA//Knx0k1iQD/8qfHSTWJAP/yp8dJNYkA//Knx0k1iQD/8qfHSTWJAP/yp8dJNYkA//Knx0k1iQD/8qfHSTWJAP/yp8dJNYkA//Knx0k1iQD/8qfHSTWJAP/yp8dJNYkA//Knx0k1iQD/8qfHSTWJAP/yp8dJNYkA//Knx0k1iQD/8qfHSTWJAP/yp8dJNYkA//Knx0k1iQD/8qfHSTWJAP/yp8dJNYkA//Knx0k1iQD/8qfHSTWJAP/yp8dJNYkA//Knx0k1iQD/8qfHSTWJAP/yp8dJNYkA//Knx0k1iQD/8qfHSTWJAP/yp8dJNYkA//Knx0k1iQD/8qfHSTWJAP/yp8dJNYkA//Knx0k1iQD/8qfHSTWJAP/yp8dJNYkA//Knx0k1iQD/8qfHSTWJAP/yp8dJNYkA//Knx0k1iQD/8qfHSTWJAP/yp8dJNYkA//Knx0k1iQD/8qfHSTWJAP/yp8dJNYkA//Knx0k1iQD/8qfHSTWJAP/yp8dJNYkA//Knx0k1iQD/8qfHSTWJAP/yp8dJNYkA//Knx0k1iQD/8qfHSTWJAP/yp8dJNYkA//Knx0k1iQD/8qfHSTWJAP/yp8dJNYkA//Knx0k1iQD/8qfHSTWJAP/yp8dJNYkA//Knx0k1iQD/8qfHSTWJAP/yp8dJNYkA//Knx0k1iQD/8qfHSTWJAP/yp8dJNYkA//Knx0k1iQD/8qfHSTWJAP/yp8dJNYkA//Knx0k1iQD/8qfHSTWJAP/yp8dJNYkA//Knx0k1iQD/8qfHSTWJAP/yp8dJNYkA//Knx0k1iQD/8qfHSTWJAP/yp8dJNYkA//Knx0k1iQD/8qfHSTWJAP/yp8dJNYkA//Knx0k1iQD/8qfHSTWJAP/yp8dJNYkA//Knx0k1iQD/8qfHSTWJAP/yp8dJNYkA//Knx0k1iQD/8qfHSTWJAP/yp8dJNYkA//Knx0k1iQD/8qfHSTWJAP/yp8dJNYkA//Knx0k1iQD/8qfHSTWJAP/yp8dJNYkA//Knx0k1iQD/8qfHSTWJAP/yp8dJNYkA//Knx0k1iQD/8qfHSTWJAP/yp8dJNYkA//Knx0k1iQD/8qfHSTWJAP/yp8dJNYkA//Knx0k1iQD/8qfHSTWJAP/yp8dJNYkA//Knx0k1iQD/8qfHSTWJAP/yp8dJNYkA//Knx0k1iQD/8qfHSTWJAP/yp8dJNYkA//Knx0k1iQD/8qfHSTWJAP/yp8dJNYkA//Knx0k1iQD/8qfHSTWJAP/yp8dJNYkA//Knx0k1iQD/8qfHSTWJAP/yp8dJNYkA//Knx0k1iQD/8qfHSTWJAP/yp8dJNYkA//Knx0k1iQD/8qfHSTWJAP/yp8dJNYkA//Knx0k1iQD/8qfHSTWJAP/yp8dJNYkA//Knx0k1iQD/8qfHSTWJAP/yp8dJNYkA//Knx0k1iQD/8qfHSTWJAP/yp8dJNYkA//Knx0k1iQD/8qfHSTWJAP/yp8dJNYkA//Knx0k1iQD/8qfHSTWJAP/yp8dJNYkA//Knx0k1iQD/8qfHSTWJAP/yp8dJNYkA//Knx0k1iQD/8qfHSTWJAP/yp8dJNYkA//Knx0k1iQD/8qfHSTWJAP/yp8dJNYkA//Knx0k1iQD/8qfHSTWJAP/yp8dJNYkA//Knx0k1iQD/8qfHSTWJAP/yp8dJNYkA//Knx0k1iQD/8qfHSTWJAP/yp8dJNYkA//Knx0k1iQD/8qfHSTWJAP/yp8dJNYkA//Knx0k1iQD/8qfHSTWJAP/yp8dJNYkA//Knx0k1iQD/8qfHSTWJAP/yp8dJNYkA//Knx0k1iQD/8qfHSTWJAP/yp8dJNYkA//Knx0k1iQD/8qfHSTWJAP/yp8dJNYkA//Knx0k1iQD/8qfHSTWJAP/yp8dJNYkA//Knx0k1iQD/8qfHSTWJAP/yp8dJNYkA//Knx0k1iQD/8qfHSTWJAP/yp8dJNYkA//Knx0k1iQD/8qfHSTWJAP/yp8dJNYkA//Knx0k1iQD/8qfHSTWJAP/yp8dJNYkA//Knx0k1iQD/8qfHSTWJAP/yp8dJNYkA//Knx0k1iQD/8qfHSTWJAP/yp8dJNYkA//Knx0k1iQD/8qfHSTWJAP/yp8dJNYkA//Knx0k1iQD/8qfHSTWJAP/yp8dJNYkA//Knx0k1iQD/8qfHSTWJAP/yp8dJNYkA//Knx0k1iQD/8qfHSTWJAP/yp8dJNYkA//Knx0k1iQD/8qfHSTWJAP/yp8dJNYkA//Knx0k1iQD/8qfHSTWJAP/yp8dJNYkA//Knx0k1iQD/8qfHSTWJAP/yp8dJNYkA//Knx0k1iQD/8qfHSTWJAP/yp8dJNYkA//Knx0k1iQD/8qfHSTWJAP/yp8dJNYkA//Knx0k1iQD/8qfHSTWJAP/yp8dJNYkA//Knx0k1iQD/8qfHSTWJAP/yp8dJNYkA//Knx0k1iQD/8qfHSTWJAP/yp8dJNYkA//Knx0k1iQD/8qfHSTWJAP/yp8dJNYkA//Knx0k1iQD/8qfHSTWJAP/yp8dJNYkA//Knx0k1iQD/8qfHSTWJAP/yp8dJNYkA//Knx0k1iQD/8qfHSTWJAP/yp8dJNYkA//Knx0k1iQD/8qfHSTWJAP/yp8dJNYkA//Knx0k1iQD/8qfHSTWJAP/yp8dJNYkA//Knx0k1iQD/8qfHSTWJAP/yp8dJNYkA//Knx0k1iQD/8qfHSTWJAP/yp8dJNYkA//Knx0k1iQD/8qfHSTWJAP/yp8dJNYkA//Knx0k1iQD/8qfHSTWJAP/yp8dJNYkA//Knx0k1iQD/8qfHSTWJAP/yp8dJNYkA//Knx0k1iQD/8qfHSTWJAP/yp8dJNYkA//Knx0k1iQD/8qfHSTWJAP/yp8dJNYkA//Knx0k1iQD/8qfHSTWJAP/yp8dJNYkA//Knx0k1iQD/8qfHSTWJAP/yp8dJNYkA//Knx0k1iQD/8qfHSTWJAP/yp8dJNYkA//Knx0k1iQD/8qfHSTWJAP/yp8dJNYkA//Knx0k1iQD/8qfHSTWJAP/yp8dJNYkA//Knx0k1iQD/8qfHSTWJAP/yp8dJNYkA//Knx0k1iQD/8qfHSTWJAP/yp8dJNYkA//Knx0k1iQD/8qfHSTWJAP/yp8dJNYkA//Knx0k1iQD/8qfHSTWJAP/yp8dJNYkA//Knx0k1iQD/8qfHSTWJAP/yp8dJNYkA//Knx0k1iQD/8qfHSTWJAP/yp8dJNYkA//Knx0k1iQD/8qfHSTWJAP/yp8dJNYkA//Knx0k1iQD/8qfHSTWJAP/yp8dJNYkA//Knx0k1iQD/8qfHSTWJAP/yp8dJNYkA//Knx0k1iQD/8qfHSTWJAP/yp8dJNYkA//Knx0k1iQD/8qfHSTWJAP/yp8dJNYkA//Knx0k1iQD/8qfHSTWJAP/yp8dJNYkA//Knx0k1iQD/8qfHSTWJAP/yp8dJNYkA//Knx0k1iQD/8qfHSTWJAP/yp8dJNYkA//Knx0k1iQD/8qfHSTWJAP/yp8dJNYkA//Knx0k1iQD/8qfHSTWJAP/yp8dJNYkA//Knx0k1iQD/8qfHSTWJAP/yp8dJNYkA//Knx0k1iQD/8qfHSTWJAP/yp8dJNYkA//Knx0k1iQD/8qfHSTWJAP/yp8dJNYkA//Knx0k1iQD/8qfHSTWJAP/yp8dJNYkA//Knx0k1iQD/8qfHSTWJAP/yp8dJNYkA//Knx0k1iQD/8qfHSTWJAP/yp8dJNYkA//Knx0k1iQD/8qfHSTWJAP/yp8dJNYkA//Knx0k1iQD/8qfHSTWJAP/yp8dJNYkA//Knx0k1iQD/8qfHSTWJAP/yp8dJNYkA//Knx0k1iQD/8qfHSTWJAP/yp8dJNYkA//Knx0k1iQD/8qfHSTWJAP/yp8dJNYkA//Knx0k1iQD/8qfHSTWJAP/yp8dJNYkA//Knx0k1iQD/8qfHSTWJAP/yp8dJNYkA//Knx0k1iQD/8qfHSTWJAP/yp8dJNYkA//Knx0k1iQD/8qfHSTWJAP/yp8dJNYkA//Knx0k1iQD/8qfHSTWJAP/yp8dJNYkA//Knx0k1iQD/8qfHSTWJAP/yp8dJNYkA//Knx0k1iQD/8qfHSTWJAP/yp8dJNYkA//Knx0k1iQD/8qfHSTWJAP/yp8dJNYkA//Knx0k1iQD/8qfHSTWJAP/yp8dJNYkA//Knx0k1iQD/8qfHSTWJAP/yp8dJNYkA//Knx0k1iQD/8qfHSTWJAP/yp8dJNYkA//Knx0k1iQD/8qfHSTWJAP/yp8dJNYkA//Knx0k1iQD/8qfHSTWJAP/yp8dJNYkA//Knx0k1iQD/8qfHSTWJAP/yp8dJNYkA//Knx0k1iQD/8qfHSTWJAP/yp8dJNYkA//Knx0k1iQD/8qfHSTWJAP/yp8dJNYkA//Knx0k1iQD/8qfHSTWJAP/yp8dJNYkA//Knx0k1iQD/8qfHSTWJAP/yp8dJNYkA//Knx0k1iQD/8qfHSTWJAP/yp8dJNYkA//Knx0k1iQD/8qfHSTWJAP/yp8dJNYkA//Knx0k1iQD/8qfHSTWJAP/yp8dJNYkA//Knx0k1iQD/8qfHSTWJAP/yp8dJNYkA//Knx0k1iQD/8qfHSTWJAP/yp8dJNYkA//Knx0k1iQD/8qfHSTWJAP/yp8dJNYkA//Knx0k1iQD/8qfHSTWJAP/yp8dJNYkA//Knx0k1iQD/8qfHSTWJAP/yp8dJNYkA//Knx0k1iQD/8qfHSTWJAP/yp8dJNYkA//Knx0k1iQD/8qfHSTWJAP/yp8dJNYkA//Knx0k1iQD/8qfHSTWJAP/yp8dJNYkA//Knx0k1iQD/8qfHSTWJAP/yp8dJNYkA//Knx0k1iQD/8qfHSTWJAP/yp8dJNYkA//Knx0k1iQD/8qfHSTWJAP/yp8dJNYkA//Knx0k1iQD/8qfHSTWJAP/yp8dJNYkA//Knx0k1iQD/8qfHSTWJAP/yp8dJNYkA//Knx0k1iQD/8qfHSTWJAP/yp8dJNYkA//Knx0k1iQD/8qfHSTWJAP/yp8dJNYkA//Knx0k1iQD/8qfHSTWJAP/yp8dJNYkA//Knx0k1iQD/8qfHSTWJAP/yp8dJNYkA//Knx0k1iQD/8qfHSTWJAP/yp8dJNYkA//Knx0k1iQD/8qfHSTWJAP/yp8dJNYkA//Knx0k1iQD/8qfHSTWJAP/yp8dJNYkA//Knx0k1iQD/8qfHSTWJAP/yp8dJNYkA//Knx0k1iQD/8qfHSTWJAP/yp8dJNYkA//Knx0k1iQD/8qfHSTWJAP/yp8dJNYkA//Knx0k1iQD/8qfHSTWJAP/yp8dJNYkA//Knx0k1iQD/8qfHSTWJAP/yp8dJNYkA//Knx0k1iQD/8qfHSTWJAP/yp8dJNYkA//Knx0k1iQD/8qfHSTWJAP/yp8dJNYkA//Knx0k1iQD/8qfHSTWJAP/yp8dJNYkA//Knx0k1iQD/8qfHSTWJAP/yp8dJNYkA//Knx0k1iQD/8qfHSTWJAP/yp8dJNYkA//Knx0k1iQD/8qfHSTWJAP/yp8dJNYkA//Knx0k1iQD/8qfHSTWJAP/yp8dJNYkA//Knx0k1iQD/8qfHSTWJAP/yp8dJNYkA//Knx0k1iQD/8qfHSTWJAP/yp8dJNYkA//Knx0k1iQD/8qfHSTWJAP/yp8dJNYkA//Knx0k1iQD/8qfHSTWJAP/yp8dJNYkA//Knx0k1iQD/8qfHSTWJAP/yp8dJNYkA//Knx0k1iQD/8qfHSTWJAP/yp8dJNYkA//Knx0k1iQD/8qfHSTWJAP/yp8dJNYkA//Knx0k1iQD/8qfHSTWJAP/yp8dJNYkA//Knx0k1iQD/8qfHSTWJAP/yp8dJNYkA//Knx0k1iQD/8qfHSTWJAP/yp8dJNYkA//Knx0k1iQD/8qfHSTWJAP/yp8dJNYkA//Knx0k1iQD/8qfHSTWJAP/yp8dJNYkA//Knx0k1iQD/8qfHSTWJAP/yp8dJNYkA//Knx0k1iQD/8qfHSTWJAP/yp8dJNYkA//Knx0k1iQD/8qfHSTWJAP/yp8dJNYkA//Knx0k1iQD/8qfHSTWJAP/yp8dJNYkA//Knx0k1iQD/8qfHSTWJAP/yp8dJNYkA//Knx0k1iQD/8qfHSTWJAP/yp8dJNYkA//Knx0k1iQD/8qfHSTWJAP/yp8dJNYkA//Knx0k1iQD/8qfHSTWJAP/yp8dJNYkA//Knx0k1iQD/8qfHSTWJAP/yp8dJNYkA//Knx0k1iQD/8qfHSTWJAP/yp8dJNYkA//Knx0k1iQD/8qfHSTWJAP/yp8dJNYkA//Knx0k1iQD/8qfHSTWJAP/yp8dJNYkA//Knx0k1iQD/8qfHSTWJAP/yp8dJNYkA//Knx0k1iQD/8qfHSTWJAP/yp8dJNYkA//Knx0k1iQD/8qfHSTWJAP/yp8dJNYkA//Knx0k1iQD/8qfHSTWJAP/yp8dJNYkA//Knx0k1iQD/8qfHSTWJAP/yp8dJNYkA//Knx0k1iQD/8qfHSTWJAP/yp8dJNYkA//Knx0k1iQD/8qfHSTWJAP/yp8dJNYkA//Knx0k1iQD/8qfHSTWJAP/yp8dJNYkA//Knx0k1iQD/8qfHSTWJAP/yp8dJNYkA//Knx0k1iQD/8qfHSTWJAP/yp8dJNYkA//Knx0k1iQD/8qfHSTWJAP/yp8dJNYkA//Knx0k1iQD/8qfHSTWJAP/yp8dJNYkA//Knx0k1iQD/8qfHSTWJAP/yp8dJNYkA//Knx0k1iQD/8qfHSTWJAP/yp8dJNYkA//Knx0k1iQD/8qfHSTWJAP/yp8dJNYkA//Knx0k1iQD/8qfHSTWJAP/yp8dJNYkA//Knx0k1iQD/8qfHSTWJAP/yp8dJNYkA//Knx0k1iQD/8qfHSTWJAP/yp8dJNYkA//Knx0k1iQD/8qfHSTWJAP/yp8dJNYkA//Knx0k1iQD/8qfHSTWJAP/yp8dJNYkA//Knx0k1iQD/8qfHSTWJAP/yp8dJNYkA//Knx0k1iQD/8qfHSTWJAP/yp8dJNYkA//Knx0k1iQD/8qfHSTWJAP/yp8dJNYkA//Knx0k1iQD/8qfHSTWJAP/yp8dJNYkA//Knx0k1iQD/8qfHSTWJAP/yp8dJNYkA//Knx0k1iQD/8qfHSTWJAP/yp8dJNYkA//Knx0k1iQD/8qfHSTWJAP/yp8dJNYkA//Knx0k1iQD/8qfHSTWJAP/yp8dJNYkA//Knx0k1iQD/8qfHSTWJAP/yp8dJNYkA//Knx0k1iQD/8qfHSTWJAP/yp8dJNYkA//Knx0k1iQD/8qfHSTWJAP/yp8dJNYkA//Knx0k1iQD/8qfHSTWJAP/yp8dJNYkA//Knx0k1iQD/8qfHSTWJAP/yp8dJNYkA//Knx0k1iQD/8qfHSTWJAP/yp8dJNYkA//Knx0k1iQD/8qfHSTWJAP/yp8dJNYkA//Knx0k1iQD/8qfHSTWJAP/yp8dJNYkA//Knx0k1iQD/8qfHSTWJAP/yp8dJNYkA//Knx0k1iQD/8qfHSTWJAP/yp8dJNYkA//Knx0k1iQD/8qfHSTWJAP/yp8dJNYkA//Knx0k1iQD/8qfHSTWJAP/yp8dJNYkA//Knx0k1iQD/8qfHSTWJAP/yp8dJNYkA//Knx0k1iQD/8qfHSTWJAP/yp8dJNYkA//Knx0k1iQD/8qfHSTWJAP/yp8dJNYkA//Knx0k1iQD/8qfHSTWJAP/yp8dJNYkA//Knx0k1iQD/8qfHSTWJAP/yp8dJNYkA//Knx0k1iQD/8qfHSTWJAP/yp8dJNYkA//Knx0k1iQD/8qfHSTWJAP/yp8dJNYkA//Knx0k1iQD/8qfHSTWJAP/yp8dJNYkA//Knx0k1iQD/8qfHSTWJAP/yp8dJNYkA//Knx0k1iQD/8qfHSTWJAP/yp8dJNYkA//Knx0k1iQD/8qfHSTWJAP/yp8dJNYkA//Knx0k1iQD/8qfHSTWJAP/yp8dJNYkA//Knx0k1iQD/8qfHSTWJAP/yp8dJNYkA//Knx0k1iQD/8qfHSTWJAP/yp8dJNYkA//Knx0k1iQD/8qfHSTWJAP/yp8dJNYkA//Knx0k1iQD/8qfHSTWJAP/yp8dJNYkA//Knx0k1iQD/8qfHSTWJAP/yp8dJNYkA//Knx0k1iQD/8qfHSTWJAP/yp8dJNYkA//Knx0k1iQD/8qfHSTWJAP/yp8dJNYkA//Knx0k1iQD/8qfHSTWJAP/yp8dJNYkA//Knx0k1iQD/8qfHSTWJAP/yp8dJNYkA//Knx0k1iQD/8qfHSTWJAP/yp8dJNYkA//Knx0k1iQD/8qfHSTWJAP/yp8dJNYkA//Knx0k1iQD/8qfHSTWJAP/yp8dJNYkA//Knx0k1iQD/8qfHSTWJAP/yp8dJNYkA//Knx0k1iQD/8qfHSTWJAP/yp8dJNYkA//Knx0k1iQD/8qfHSTWJAP/yp8dJNYkA//Knx0k1iQD/8qfHSTWJAP/yp8dJNYkA//Knx0k1iQD/8qfHSTWJAP/yp8dJNYkA//Knx0k1iQD/8qfHSTWJAP/yp8dJNYkA//Knx0k1iQD/8qfHSTWJAP/yp8dJNYkA//Knx0k1iQD/8qfHSTWJAP/yp8dJNYkA//Knx0k1iQD/8qfHSTWJAP/yp8dJNYkA//Knx0k1iQD/8qfHSTWJAP/yp8dJNYkA//Knx0k1iQD/8qfHSTWJAP/yp8dJNYkA//Knx0k1iQD/8qfHSTWJAP/yp8dJNYkA//Knx0k1iQD/8qfHSTWJAP/yp8dJNYkA//Knx0k1iQD/8qfHSTWJAP/yp8dJNYkA//Knx0k1iQD/8qfHSTWJAP/yp8dJNYkA//Knx0k1iQD/8qfHSTWJAP/yp8dJNYkA//Knx0k1iQD/8qfHSTWJAP/yp8dJNYkA//Knx0k1iQD/8qfHSTWJAP/yp8dJNYkA//Knx0k1iQD/8qfHSTWJAP/yp8dJNYkA//Knx0k1iQD/8qfHSTWJAP/yp8dJNYkA//Knx0k1iQD/8qfHSTWJAP/yp8dJNYkA//Knx0k1iQD/8qfHSTWJAP/yp8dJNYkA//Knx0k1iQD/8qfHSTWJAP/yp8dJNYkA//Knx0k1iQD/8qfHSTWJAP/yp8dJNYkA//Knx0k1iQD/8qfHSTWJAP/yp8dJNYkA//Knx0k1iQD/8qfHSTWJAP/yp8dJNYkA//Knx0k1iQD/8qfHSTWJAP/yp8dJNYkA//Knx0k1iQD/8qfHSTWJAP/yp8dJNYkA//Knx0k1iQD/8qfHSTWJAP/yp8dJNYkA//Knx0k1iQD/8qfHSTWJAP/yp8dJNYkA//Knx0k1iQD/8qfHSTWJAP/yp8dJNYkA//Knx0k1iQD/8qfHSTWJAP/yp8dJNYkA//Knx0k1iQD/8qfHSTWJAP/yp8dJNYkA//Knx0k1iQD/8qfHSTWJAP/yp8dJNYkA//Knx0k1iQD/8qfHSTWJAP/yp8dJNYkA//Knx0k1iQD/8qfHSTWJAP/yp8dJNYkA//Knx0k1iQD/8qfHSTWJAP/yp8dJNYkA//Knx0k1iQD/8qfHSTWJAP/yp8dJNYkA//Knx0k1iQD/8qfHSTWJAP/yp8dJNYkA//Knx0k1iQD/8qfHSTWJAP/yp8dJNYkA//Knx0k1iQD/8qfHSTWJAP/yp8dJNYkA//Knx0k1iQD/8qfHSTWJAP/yp8dJNYkA//Knx0k1iQD/8qfHSTWJAP/yp8dJNYkA//Knx0k1iQD/8qfHSTWJAP/yp8dJNYkA//Knx0k1iQD/8qfHSTWJAP/yp8dJNYkA//Knx0k1iQD/8qfHSTWJAP/yp8dJNYkA//Knx0k1iQD/8qfHSTWJAP/yp8dJNYkA//Knx0k1iQD/8qfHSTWJAP/yp8dJNYkA//Knx0k1iQD/8qfHSTWJAP/yp8dJNYkA//Knx0k1iQD/8qfHSTWJAP/yp8dJNYkA//Knx0k1iQD/8qfHSTWJAP/yp8dJNYkA//Knx0k1iQD/8qfHSTWJAP/yp8dJNYkA//Knx0k1iQD/8qfHSTWJAP/yp8dJNYkA//Knx0k1iQD/8qfHSTWJAP/yp8dJNYkA//Knx0k1iQD/8qfHSTWJAP/yp8dJNYkA//Knx0k1iQD/8qfHSTWJAP/yp8dJNYkA//Knx0k1iQD/8qfHSTWJAP/yp8dJNYkA//Knx0k1iQD/8qfHSTWJAP/yp8dJNYkA//Knx0k1iQD/8qfHSTWJAP/yp8dJNYkA//Knx0k1iQD/8qfHSTWJAP/yp8dJNYkA//Knx0k1iQD/8qfHSTWJAP/yp8dJNYkA//Knx0k1iQD/8qfHSTWJAP/yp8dJNYkA//Knx0k1iQD/8qfHSTWJAP/yp8dJNYkA//Knx0k1iQD/8qfHSTWJAP/yp8dJNYkA//Knx0k1iQD/8qfHSTWJAP/yp8dJNYkA//Knx0k1iQD/8qfHSTWJAP/yp8dJNYkA//Knx0k1iQD/8qfHSTWJAP/yp8dJNYkA//Knx0k1iQD/8qfHSTWJAP/yp8dJNYkA//Knx0k1iQD/8qfHSTWJAP/yp8dJNYkA//Knx0k1iQD/8qfHSTWJAP/yp8dJNYkA//Knx0k1iQD/8qfHSTWJAP/yp8dJNYkA//Knx0k1iQD/8qfHSTWJAP/yp8dJNYkA//Knx0k1iQD/8qfHSTWJAP/yp8dJNYkA//Knx0k1iQD/8qfHSTWJAP/yp8dJNYkA//Knx0k1iQD/8qfHSTWJAP/yp8dJNYkA//Knx0k1iQD/8qfHSTWJAP/yp8dJNYkA//Knx0k1iQD/8qfHSTWJAP/yp8dJNYkA//Knx0k1iQD/8qfHSTWJAP/yp8dJNYkA//Knx0k1iQD/8qfHSTWJAP/yp8dJNYkA//Knx0k1iQD/8qfHSTWJAP/yp8dJNYkA//Knx0k1iQD/8qfHSTWJAP/yp8dJNYkA//Knx0k1iQD/8qfHSTWJAP/yp8dJNYkA//Knx0k1iQD/8qfHSTWJAP/yp8dJNYkA//Knx0k1iQD/8qfHSTWJAP/yp8dJNYkA//Knx0k1iQD/8qfHSTWJAP/yp8dJNYkA//Knx0k1iQD/8qfHSTWJAP/yp8dJNYkA//Knx0k1iQD/8qfHSTWJAP/yp8dJNYkA//Knx0k1iQD/8qfHSTWJAP/yp8dJNYkA//Knx0k1iQD/8qfHSTWJAP/yp8dJNYkA//Knx0k1iQD/8qfHSTWJAP/yp8dJNYkA//Knx0k1iQD/8qfHSTWJAP/yp8dJNYkA//Knx0k1iQD/8qfHSTWJAP/yp8dJNYkA//Knx0k1iQD/8qfHSTWJAP/yp8dJNYkA//Knx0k1iQD/8qfHSTWJAP/yp8dJNYkA//Knx0k1iQD/8qfHSTWJAP/yp8dJNYkA//Knx0k1iQD/8qfHSTWJAP/yp8dJNYkA//Knx0k1iQD/8qfHSTWJAP/yp8dJNYkA//Knx0k1iQD/8qfHSTWJAP/yp8dJNYkA//Knx0k1iQD/8qfHSTWJAP/yp8dJNYkA//Knx0k1iQD/8qfHSTWJAP/yp8dJNYkA//Knx0k1iQD/8qfHSTWJAP/yp8dJNYkA//Knx0k1iQD/8qfHSTWJAP/yp8dJNYkA//Knx0k1iQD/8qfHSTWJAP/yp8dJNYkA//Knx0k1iQD/8qfHSTWJAP/yp8dJNYkA//Knx0k1iQD/8qfHSTWJAP/yp8dJNYkA//Knx0k1iQD/8qfHSTWJAP/yp8dJNYkA//Knx0k1iQD/8qfHSTWJAP/yp8dJNYkA//Knx0k1iQD/8qfHSTWJAP/yp8dJNYkA//Knx0k1iQD/8qfHSTWJAP/yp8dJNYkA//Knx0k1iQD/8qfHSTWJAP/yp8dJNYkA//Knx0k1iQD/8qfHSTWJAP/yp8dJNYkA//Knx0k1iQD/8qfHSTWJAP/yp8dJNYkA//Knx0k1iQD/8qfHSTWJAP/yp8dJNYkA//Knx0k1iQD/8qfHSTWJAP/yp8dJNYkA//Knx0k1iQD/8qfHSTWJAP/yp8dJNYkA//Knx0k1iQD/8qfHSTWJAP/yp8dJNYkA//Knx0k1iQD/8qfHSTWJAP/yp8dJNYkA//Knx0k1iQD/8qfHSTWJAP/yp8dJNYkA//Knx0k1iQD/8qfHSTWJAP/yp8dJNYkA//Knx0k1iQD/8qfHSTWJAP/yp8dJNYkA//Knx0k1iQD/8qfHSTWJAP/yp8dJNYkA//Knx0k1iQD/8qfHSTWJAP/yp8dJNYkA//Knx0k1iQD/8qfHSTWJAP/yp8dJNYkA//Knx0k1iQD/8qfHSTWJAP/yp8dJNYkA//Knx0k1iQD/8qfHSTWJAP/yp8dJNYkA//Knx0k1iQD/8qfHSTWJAP/yp8dJNYkA//Knx0k1iQD/8qfHSTWJAP/yp8dJNYkA//Knx0k1iQD/8qfHSTWJAP/yp8dJNYkA//Knx0k1iQD/8qfHSTWJAP/yp8dJNYkA//Knx0k1iQD/8qfHSTWJAP/yp8dJNYkA//Knx0k1iQD/8qfHSTWJAP/yp8dJNYkA//Knx0k1iQD/8qfHSTWJAP/yp8dJNYkA//Knx0k1iQD/8qfHSTWJAP/yp8dJNYkA//Knx0k1iQD/8qfHSTWJAP/yp8dJNYkA//Knx0k1iQD/8qfHSTWJAP/yp8dJNYkA//Knx0k1iQD/8qfHSTWJAP/yp8dJNYkA//Knx0k1iQD/8qfHSTWJAP/yp8dJNYkA//Knx0k1iQD/8qfHSTWJAP/yp8dJNYkA//Knx0k1iQD/8qfHSTWJAP/yp8dJNYkA//Knx0k1iQD/8qfHSTWJAP/yp8dJNYkA//Knx0k1iQD/8qfHSTWJAP/yp8dJNYkA//Knx0k1iQD/8qfHSTWJAP/yp8dJNYkA//Knx0k1iQD/8qfHSTWJAP/yp8dJNYkA//Knx0k1iQD/8qfHSTWJAP/yp8dJNYkA//Knx0k1iQD/8qfHSTWJAP/yp8dJNYkA//Knx0k1iQD/8qfHSTWJAP/yp8dJNYkA//Knx0k1iQD/8qfHSTWJAP/yp8dJNYkA//Knx0k1iQD/8qfHSTWJAP/yp8dJNYkA//Knx0k1iQD/8qfHSTWJAP/yp8dJNYkA//Knx0k1iQD/8qfHSTWJAP/yp8dJNYkA//Knx0k1iQD/8qfHSTWJAP/yp8dJNYkA//Knx0k1iQD/8qfHSTWJAP/yp8dJNYkA//Knx0k1iQD/8qfHSTWJAP/yp8dJNYkA//Knx0k1iQD/8qfHSTWJAP/yp8dJNYkA//Knx0k1iQD/8qfHSTWJAP/yp8dJNYkA//Knx0k1iQD/8qfHSTWJAP/yp8dJNYkA//Knx0k1iQD/8qfHSTWJAP/yp8dJNYkA//Knx0k1iQD/8qfHSTWJAP/yp8dJNYkA//Knx0k1iQD/8qfHSTWJAP/yp8dJNYkA//Knx0k1iQD/8qfHSTWJAP/yp8dJNYkA//Knx0k1iQD/8qfHSTWJAP/yp8dJNYkA//Knx0k1iQD/8qfHSTWJAP/yp8dJNYkA//Knx0k1iQD/8qfHSTWJAP/yp8dJNYkA//Knx0k1iQD/8qfHSTWJAP/yp8dJNYkA//Knx0k1iQD/8qfHSTWJAP/yp8dJNYkA//Knx0k1iQD/8qfHSTWJAP/yp8dJNYkA//Knx0k1iQD/8qfHSTWJAP/yp8dJNYkA//Knx0k1iQD/8qfHSTWJAP/yp8dJNYkA//Knx0k1iQD/8qfHSTWJAP/yp8dJNYkA//Knx0k1iQD/8qfHSTWJAP/yp8dJNYkA//Knx0k1iQD/8qfHSTWJAP/yp8dJNYkA//Knx0k1iQD/8qfHSTWJAP/yp8dJNYkA//Knx0k1iQD/8qfHSTWJAP/yp8dJNYkA//Knx0k1iQD/8qfHSTWJAP/yp8dJNYkA//Knx0k1iQD/8qfHSTWJAP/yp8dJNYkA//Knx0k1iQD/8qfHSTWJAP/yp8dJNYkA//Knx0k1iQD/8qfHSTWJAP/yp8dJNYkA//Knx0k1iQD/8qfHSTWJAP/yp8dJNYkA//Knx0k1iQD/8qfHSTWJAP/yp8dJNYkA//Knx0k1iQD/8qfHSTWJAP/yp8dJNYkA//Knx0k1iQD/8qfHSTWJAP/yp8dJNYkA//Knx0k1iQD/8qfHSTWJAP/yp8dJNYkA//Knx0k1iQD/8qfHSTWJAP/yp8dJNYkA//Knx0k1iQD/8qfHSTWJAP/yp8dJNYkA//Knx0k1iQD/8qfHSTWJAP/yp8dJNYkA//Knx0k1iQD/8qfHSTWJAP/yp8dJNYkA//Knx0k1iQD/8qfHSTWJAP/yp8dJNYkA//Knx0k1iQD/8qfHSTWJAP/yp8dJNYkA//Knx0k1iQD/8qfHSTWJAP/yp8dJNYkA//Knx0k1iQD/8qfHSTWJAP/yp8dJNYkA//Knx0k1iQD/8qfHSTWJAP/yp8dJNYkA//Knx0k1iQD/8qfHSTWJAP/yp8dJNYkA//Knx0k1iQD/8qfHSTWJAP/yp8dJNYkA//Knx0k1iQD/8qfHSTWJAP/yp8dJNYkA//Knx0k1iQD/8qfHSTWJAP/yp8dJNYkA//Knx0k1iQD/8qfHSTWJAP/yp8dJNYkA//Knx0k1iQD/8qfHSTWJAP/yp8dJNYkA//Knx0k1iQD/8qfHSTWJAP/yp8dJNYkA//Knx0k1iQD/8qfHSTWJAP/yp8dJNYkA//Knx0k1iQD/8qfHSTWJAP/yp8dJNYkA//Knx0k1iQD/8qfHSTWJAP/yp8dJNYkA//Knx0k1iQD/8qfHSTWJAP/yp8dJNYkA//Knx0k1iQD/8qfHSTWJAP/yp8dJNYkA//Knx0k1iQD/8qfHSTWJAP/yp8dJNYkA//Knx0k1iQD/8qfHSTWJAP/yp8dJNYkA//Knx0k1iQD/8qfHSTWJAP/yp8dJNYkA//Knx0k1iQD/8qfHSTWJAP/yp8dJNYkA//Knx0k1iQD/8qfHSTWJAP/yp8dJNYkA//Knx0k1iQD/8qfHSTWJAP/yp8dJNYkA//Knx0k1iQD/8qfHSTWJAP/yp8dJNYkA//Knx0k1iQD/8qfHSTWJAP/yp8dJNYkA//Knx0k1iQD/8qfHSTWJAP/yp8dJNYkA//Knx0k1iQD/8qfHSTWJAP/yp8dJNYkA//Knx0k1iQD/8qfHSTWJAP/yp8dJNYkA//Knx0k1iQD/8qfHSTWJAP/yp8dJNYkA//Knx0k1iQD/8qfHSTWJAP/yp8dJNYkA//Knx0k1iQD/8qfHSTWJAP/yp8dJNYkA//Knx0k1iQD/8qfHSTWJAP/yp8dJNYkA//Knx0k1iQD/8qfHSTWJAP/yp8dJNYkA//Knx0k1iQD/8qfHSTWJAP/yp8dJNYkA//Knx0k1iQD/8qfHSTWJAP/yp8dJNYkA//Knx0k1iQD/8qfHSTWJAP/yp8dJNYkA//Knx0k1iQD/8qfHSTWJAP/yp8dJNYkA//Knx0k1iQD/8qfHSTWJAP/yp8dJNYkA//Knx0k1iQD/8qfHSTWJAP/yp8dJNYkA//Knx0k1iQD/8qfHSTWJAP/yp8dJNYkA//Knx0k1iQD/8qfHSTWJAP/yp8dJNYkA//Knx0k1iQD/8qfHSTWJAP/yp8dJNYkA//Knx0k1iQD/8qfHSTWJAP/yp8dJNYkA//Knx0k1iQD/8qfHSTWJAP/yp8dJNYkA//Knx0k1iQD/8qfHSTWJAP/yp8dJNYkA//Knx0k1iQD/8qfHSTWJAP/yp8dJNYkA//Knx0k1iQD/8qfHSTWJAP/yp8dJNYkA//Knx0k1iQD/8qfHSTWJAP/yp8dJNYkA//Knx0k1iQD/8qfHSTWJAP/yp8dJNYkA//Knx0k1iQD/8qfHSTWJAP/yp8dJNYkA//Knx0k1iQD/8qfHSTWJAP/yp8dJNYkA//Knx0k1iQD/8qfHSTWJAP/yp8dJNYkA//Knx0k1iQD/8qfHSTWJAP/yp8dJNYkA//Knx0k1iQD/8qfHSTWJAP/yp8dJNYkA//Knx0k1iQD/8qfHSTWJAP/yp8dJNYkA//Knx0k1iQD/8qfHSTWJAP/yp8dJNYkA//Knx0k1iQD/8qfHSTWJAP/yp8dJNYkA//Knx0k1iQD/8qfHSTWJAP/yp8dJNYkA//Knx0k1iQD/8qfHSTWJAP/yp8dJNYkA//Knx0k1iQD/8qfHSTWJAP/yp8dJNYkA//Knx0k1iQD/8qfHSTWJAP/yp8dJNYkA//Knx0k1iQD/8qfHSTWJAP/yp8dJNYkA//Knx0k1iQD/8qfHSTWJAP/yp8dJNYkA//Knx0k1iQD/8qfHSTWJAP/yp8dJNYkA//Knx0k1iQD/8qfHSTWJAP/yp8dJNYkA//Knx0k1iQD/8qfHSTWJAP/yp8dJNYkA//Knx0k1iQD/8qfHSTWJAP/yp8dJNYkA//Knx0k1iQD/8qfHSTWJAP/yp8dJNYkA//Knx0k1iQD/8qfHSTWJAP/yp8dJNYkA//Knx0k1iQD/8qfHSTWJAP/yp8dJNYkA//Knx0k1iQD/8qfHSTWJAP/yp8dJNYkA//Knx0k1iQD/8qfHSTWJAP/yp8dJNYkA//Knx0k1iQD/8qfHSTWJAP/yp8dJNYkA//Knx0k1iQD/8qfHSTWJAP/yp8dJNYkA//Knx0k1iQD/8qfHSTWJAP/yp8dJNYkA//Knx0k1iQD/8qfHSTWJAP/yp8dJNYkA//Knx0k1iQD/8qfHSTWJAP/yp8dJNYkA//Knx0k1iQD/8qfHSTWJAP/yp8dJNYkA//Knx0k1iQD/8qfHSTWJAP/yp8dJNYkA//Knx0k1iQD/8qfHSTWJAP/yp8dJNYkA//Knx0k1iQD/8qfHSTWJAP/yp8dJNYkA//Knx0k1iQD/8qfHSTWJAP/yp8dJNYkA//Knx0k1iQD/8qfHSTWJAP/yp8dJNYkA//Knx0k1iQD/8qfHSTWJAP/yp8dJNYkA//Knx0k1iQD/8qfHSTWJAP/yp8dJNYkA//Knx0k1iQD/8qfHSTWJAP/yp8dJNYkA//Knx0k1iQD/8qfHSTWJAP/yp8dJNYkA//Knx0k1iQD/8qfHSTWJAP/yp8dJNYkA//Knx0k1iQD/8qfHSTWJAP/yp8dJNYkA//Knx0k1iQD/8qfHSTWJAP/yp8dJNYkA//Knx0k1iQD/8qfHSTWJAP/yp8dJNYkA//Knx0k1iQD/8qfHSTWJAP/yp8dJNYkA//Knx0k1iQD/8qfHSTWJAP/yp8dJNYkA//Knx0k1iQD/8qfHSTWJAP/yp8dJNYkA//Knx0k1iQD/8qfHSTWJAP/yp8dJNYkA//Knx0k1iQD/8qfHSTWJAP/yp8dJNYkA//Knx0k1iQD/8qfHSTWJAP/yp8dJNYkA//Knx0k1iQD/8qfHSTWJAP/yp8dJNYkA//Knx0k1iQD/8qfHSTWJAP/yp8dJNYkA//Knx0k1iQD/8qfHSTWJAP/yp8dJNYkA//Knx0k1iQD/8qfHSTWJAP/yp8dJNYkA//Knx0k1iQD/8qfHSTWJAP/yp8dJNYkA//Knx0k1iQD/8qfHSTWJAPw==",
          "dtype": "f8"
         }
        },
        {
         "name": "Power Law Prior",
         "type": "scatter",
         "x": {
          "bdata": "AAAAAAAA8D8AAAAAAAAAQAAAAAAAAAhAAAAAAAAAEEAAAAAAAAAUQAAAAAAAABhAAAAAAAAAHEAAAAAAAAAgQAAAAAAAACJAAAAAAAAAJEAAAAAAAAAmQAAAAAAAAChAAAAAAAAAKkAAAAAAAAAsQAAAAAAAAC5AAAAAAAAAMEAAAAAAAAAxQAAAAAAAADJAAAAAAAAAM0AAAAAAAAA0QAAAAAAAADVAAAAAAAAANkAAAAAAAAA3QAAAAAAAADhAAAAAAAAAOUAAAAAAAAA6QAAAAAAAADtAAAAAAAAAPEAAAAAAAAA9QAAAAAAAAD5AAAAAAAAAP0AAAAAAAABAQAAAAAAAgEBAAAAAAAAAQUAAAAAAAIBBQAAAAAAAAEJAAAAAAACAQkAAAAAAAABDQAAAAAAAgENAAAAAAAAAREAAAAAAAIBEQAAAAAAAAEVAAAAAAACARUAAAAAAAABGQAAAAAAAgEZAAAAAAAAAR0AAAAAAAIBHQAAAAAAAAEhAAAAAAACASEAAAAAAAABJQAAAAAAAgElAAAAAAAAASkAAAAAAAIBKQAAAAAAAAEtAAAAAAACAS0AAAAAAAABMQAAAAAAAgExAAAAAAAAATUAAAAAAAIBNQAAAAAAAAE5AAAAAAACATkAAAAAAAABPQAAAAAAAgE9AAAAAAAAAUEAAAAAAAEBQQAAAAAAAgFBAAAAAAADAUEAAAAAAAABRQAAAAAAAQFFAAAAAAACAUUAAAAAAAMBRQAAAAAAAAFJAAAAAAABAUkAAAAAAAIBSQAAAAAAAwFJAAAAAAAAAU0AAAAAAAEBTQAAAAAAAgFNAAAAAAADAU0AAAAAAAABUQAAAAAAAQFRAAAAAAACAVEAAAAAAAMBUQAAAAAAAAFVAAAAAAABAVUAAAAAAAIBVQAAAAAAAwFVAAAAAAAAAVkAAAAAAAEBWQAAAAAAAgFZAAAAAAADAVkAAAAAAAABXQAAAAAAAQFdAAAAAAACAV0AAAAAAAMBXQAAAAAAAAFhAAAAAAABAWEAAAAAAAIBYQAAAAAAAwFhAAAAAAAAAWUAAAAAAAEBZQAAAAAAAgFlAAAAAAADAWUAAAAAAAABaQAAAAAAAQFpAAAAAAACAWkAAAAAAAMBaQAAAAAAAAFtAAAAAAABAW0AAAAAAAIBbQAAAAAAAwFtAAAAAAAAAXEAAAAAAAEBcQAAAAAAAgFxAAAAAAADAXEAAAAAAAABdQAAAAAAAQF1AAAAAAACAXUAAAAAAAMBdQAAAAAAAAF5AAAAAAABAXkAAAAAAAIBeQAAAAAAAwF5AAAAAAAAAX0AAAAAAAEBfQAAAAAAAgF9AAAAAAADAX0AAAAAAAABgQAAAAAAAIGBAAAAAAABAYEAAAAAAAGBgQAAAAAAAgGBAAAAAAACgYEAAAAAAAMBgQAAAAAAA4GBAAAAAAAAAYUAAAAAAACBhQAAAAAAAQGFAAAAAAABgYUAAAAAAAIBhQAAAAAAAoGFAAAAAAADAYUAAAAAAAOBhQAAAAAAAAGJAAAAAAAAgYkAAAAAAAEBiQAAAAAAAYGJAAAAAAACAYkAAAAAAAKBiQAAAAAAAwGJAAAAAAADgYkAAAAAAAABjQAAAAAAAIGNAAAAAAABAY0AAAAAAAGBjQAAAAAAAgGNAAAAAAACgY0AAAAAAAMBjQAAAAAAA4GNAAAAAAAAAZEAAAAAAACBkQAAAAAAAQGRAAAAAAABgZEAAAAAAAIBkQAAAAAAAoGRAAAAAAADAZEAAAAAAAOBkQAAAAAAAAGVAAAAAAAAgZUAAAAAAAEBlQAAAAAAAYGVAAAAAAACAZUAAAAAAAKBlQAAAAAAAwGVAAAAAAADgZUAAAAAAAABmQAAAAAAAIGZAAAAAAABAZkAAAAAAAGBmQAAAAAAAgGZAAAAAAACgZkAAAAAAAMBmQAAAAAAA4GZAAAAAAAAAZ0AAAAAAACBnQAAAAAAAQGdAAAAAAABgZ0AAAAAAAIBnQAAAAAAAoGdAAAAAAADAZ0AAAAAAAOBnQAAAAAAAAGhAAAAAAAAgaEAAAAAAAEBoQAAAAAAAYGhAAAAAAACAaEAAAAAAAKBoQAAAAAAAwGhAAAAAAADgaEAAAAAAAABpQAAAAAAAIGlAAAAAAABAaUAAAAAAAGBpQAAAAAAAgGlAAAAAAACgaUAAAAAAAMBpQAAAAAAA4GlAAAAAAAAAakAAAAAAACBqQAAAAAAAQGpAAAAAAABgakAAAAAAAIBqQAAAAAAAoGpAAAAAAADAakAAAAAAAOBqQAAAAAAAAGtAAAAAAAAga0AAAAAAAEBrQAAAAAAAYGtAAAAAAACAa0AAAAAAAKBrQAAAAAAAwGtAAAAAAADga0AAAAAAAABsQAAAAAAAIGxAAAAAAABAbEAAAAAAAGBsQAAAAAAAgGxAAAAAAACgbEAAAAAAAMBsQAAAAAAA4GxAAAAAAAAAbUAAAAAAACBtQAAAAAAAQG1AAAAAAABgbUAAAAAAAIBtQAAAAAAAoG1AAAAAAADAbUAAAAAAAOBtQAAAAAAAAG5AAAAAAAAgbkAAAAAAAEBuQAAAAAAAYG5AAAAAAACAbkAAAAAAAKBuQAAAAAAAwG5AAAAAAADgbkAAAAAAAABvQAAAAAAAIG9AAAAAAABAb0AAAAAAAGBvQAAAAAAAgG9AAAAAAACgb0AAAAAAAMBvQAAAAAAA4G9AAAAAAAAAcEAAAAAAABBwQAAAAAAAIHBAAAAAAAAwcEAAAAAAAEBwQAAAAAAAUHBAAAAAAABgcEAAAAAAAHBwQAAAAAAAgHBAAAAAAACQcEAAAAAAAKBwQAAAAAAAsHBAAAAAAADAcEAAAAAAANBwQAAAAAAA4HBAAAAAAADwcEAAAAAAAABxQAAAAAAAEHFAAAAAAAAgcUAAAAAAADBxQAAAAAAAQHFAAAAAAABQcUAAAAAAAGBxQAAAAAAAcHFAAAAAAACAcUAAAAAAAJBxQAAAAAAAoHFAAAAAAACwcUAAAAAAAMBxQAAAAAAA0HFAAAAAAADgcUAAAAAAAPBxQAAAAAAAAHJAAAAAAAAQckAAAAAAACByQAAAAAAAMHJAAAAAAABAckAAAAAAAFByQAAAAAAAYHJAAAAAAABwckAAAAAAAIByQAAAAAAAkHJAAAAAAACgckAAAAAAALByQAAAAAAAwHJAAAAAAADQckAAAAAAAOByQAAAAAAA8HJAAAAAAAAAc0AAAAAAABBzQAAAAAAAIHNAAAAAAAAwc0AAAAAAAEBzQAAAAAAAUHNAAAAAAABgc0AAAAAAAHBzQAAAAAAAgHNAAAAAAACQc0AAAAAAAKBzQAAAAAAAsHNAAAAAAADAc0AAAAAAANBzQAAAAAAA4HNAAAAAAADwc0AAAAAAAAB0QAAAAAAAEHRAAAAAAAAgdEAAAAAAADB0QAAAAAAAQHRAAAAAAABQdEAAAAAAAGB0QAAAAAAAcHRAAAAAAACAdEAAAAAAAJB0QAAAAAAAoHRAAAAAAACwdEAAAAAAAMB0QAAAAAAA0HRAAAAAAADgdEAAAAAAAPB0QAAAAAAAAHVAAAAAAAAQdUAAAAAAACB1QAAAAAAAMHVAAAAAAABAdUAAAAAAAFB1QAAAAAAAYHVAAAAAAABwdUAAAAAAAIB1QAAAAAAAkHVAAAAAAACgdUAAAAAAALB1QAAAAAAAwHVAAAAAAADQdUAAAAAAAOB1QAAAAAAA8HVAAAAAAAAAdkAAAAAAABB2QAAAAAAAIHZAAAAAAAAwdkAAAAAAAEB2QAAAAAAAUHZAAAAAAABgdkAAAAAAAHB2QAAAAAAAgHZAAAAAAACQdkAAAAAAAKB2QAAAAAAAsHZAAAAAAADAdkAAAAAAANB2QAAAAAAA4HZAAAAAAADwdkAAAAAAAAB3QAAAAAAAEHdAAAAAAAAgd0AAAAAAADB3QAAAAAAAQHdAAAAAAABQd0AAAAAAAGB3QAAAAAAAcHdAAAAAAACAd0AAAAAAAJB3QAAAAAAAoHdAAAAAAACwd0AAAAAAAMB3QAAAAAAA0HdAAAAAAADgd0AAAAAAAPB3QAAAAAAAAHhAAAAAAAAQeEAAAAAAACB4QAAAAAAAMHhAAAAAAABAeEAAAAAAAFB4QAAAAAAAYHhAAAAAAABweEAAAAAAAIB4QAAAAAAAkHhAAAAAAACgeEAAAAAAALB4QAAAAAAAwHhAAAAAAADQeEAAAAAAAOB4QAAAAAAA8HhAAAAAAAAAeUAAAAAAABB5QAAAAAAAIHlAAAAAAAAweUAAAAAAAEB5QAAAAAAAUHlAAAAAAABgeUAAAAAAAHB5QAAAAAAAgHlAAAAAAACQeUAAAAAAAKB5QAAAAAAAsHlAAAAAAADAeUAAAAAAANB5QAAAAAAA4HlAAAAAAADweUAAAAAAAAB6QAAAAAAAEHpAAAAAAAAgekAAAAAAADB6QAAAAAAAQHpAAAAAAABQekAAAAAAAGB6QAAAAAAAcHpAAAAAAACAekAAAAAAAJB6QAAAAAAAoHpAAAAAAACwekAAAAAAAMB6QAAAAAAA0HpAAAAAAADgekAAAAAAAPB6QAAAAAAAAHtAAAAAAAAQe0AAAAAAACB7QAAAAAAAMHtAAAAAAABAe0AAAAAAAFB7QAAAAAAAYHtAAAAAAABwe0AAAAAAAIB7QAAAAAAAkHtAAAAAAACge0AAAAAAALB7QAAAAAAAwHtAAAAAAADQe0AAAAAAAOB7QAAAAAAA8HtAAAAAAAAAfEAAAAAAABB8QAAAAAAAIHxAAAAAAAAwfEAAAAAAAEB8QAAAAAAAUHxAAAAAAABgfEAAAAAAAHB8QAAAAAAAgHxAAAAAAACQfEAAAAAAAKB8QAAAAAAAsHxAAAAAAADAfEAAAAAAANB8QAAAAAAA4HxAAAAAAADwfEAAAAAAAAB9QAAAAAAAEH1AAAAAAAAgfUAAAAAAADB9QAAAAAAAQH1AAAAAAABQfUAAAAAAAGB9QAAAAAAAcH1AAAAAAACAfUAAAAAAAJB9QAAAAAAAoH1AAAAAAACwfUAAAAAAAMB9QAAAAAAA0H1AAAAAAADgfUAAAAAAAPB9QAAAAAAAAH5AAAAAAAAQfkAAAAAAACB+QAAAAAAAMH5AAAAAAABAfkAAAAAAAFB+QAAAAAAAYH5AAAAAAABwfkAAAAAAAIB+QAAAAAAAkH5AAAAAAACgfkAAAAAAALB+QAAAAAAAwH5AAAAAAADQfkAAAAAAAOB+QAAAAAAA8H5AAAAAAAAAf0AAAAAAABB/QAAAAAAAIH9AAAAAAAAwf0AAAAAAAEB/QAAAAAAAUH9AAAAAAABgf0AAAAAAAHB/QAAAAAAAgH9AAAAAAACQf0AAAAAAAKB/QAAAAAAAsH9AAAAAAADAf0AAAAAAANB/QAAAAAAA4H9AAAAAAADwf0AAAAAAAACAQAAAAAAACIBAAAAAAAAQgEAAAAAAABiAQAAAAAAAIIBAAAAAAAAogEAAAAAAADCAQAAAAAAAOIBAAAAAAABAgEAAAAAAAEiAQAAAAAAAUIBAAAAAAABYgEAAAAAAAGCAQAAAAAAAaIBAAAAAAABwgEAAAAAAAHiAQAAAAAAAgIBAAAAAAACIgEAAAAAAAJCAQAAAAAAAmIBAAAAAAACggEAAAAAAAKiAQAAAAAAAsIBAAAAAAAC4gEAAAAAAAMCAQAAAAAAAyIBAAAAAAADQgEAAAAAAANiAQAAAAAAA4IBAAAAAAADogEAAAAAAAPCAQAAAAAAA+IBAAAAAAAAAgUAAAAAAAAiBQAAAAAAAEIFAAAAAAAAYgUAAAAAAACCBQAAAAAAAKIFAAAAAAAAwgUAAAAAAADiBQAAAAAAAQIFAAAAAAABIgUAAAAAAAFCBQAAAAAAAWIFAAAAAAABggUAAAAAAAGiBQAAAAAAAcIFAAAAAAAB4gUAAAAAAAICBQAAAAAAAiIFAAAAAAACQgUAAAAAAAJiBQAAAAAAAoIFAAAAAAACogUAAAAAAALCBQAAAAAAAuIFAAAAAAADAgUAAAAAAAMiBQAAAAAAA0IFAAAAAAADYgUAAAAAAAOCBQAAAAAAA6IFAAAAAAADwgUAAAAAAAPiBQAAAAAAAAIJAAAAAAAAIgkAAAAAAABCCQAAAAAAAGIJAAAAAAAAggkAAAAAAACiCQAAAAAAAMIJAAAAAAAA4gkAAAAAAAECCQAAAAAAASIJAAAAAAABQgkAAAAAAAFiCQAAAAAAAYIJAAAAAAABogkAAAAAAAHCCQAAAAAAAeIJAAAAAAACAgkAAAAAAAIiCQAAAAAAAkIJAAAAAAACYgkAAAAAAAKCCQAAAAAAAqIJAAAAAAACwgkAAAAAAALiCQAAAAAAAwIJAAAAAAADIgkAAAAAAANCCQAAAAAAA2IJAAAAAAADggkAAAAAAAOiCQAAAAAAA8IJAAAAAAAD4gkAAAAAAAACDQAAAAAAACINAAAAAAAAQg0AAAAAAABiDQAAAAAAAIINAAAAAAAAog0AAAAAAADCDQAAAAAAAOINAAAAAAABAg0AAAAAAAEiDQAAAAAAAUINAAAAAAABYg0AAAAAAAGCDQAAAAAAAaINAAAAAAABwg0AAAAAAAHiDQAAAAAAAgINAAAAAAACIg0AAAAAAAJCDQAAAAAAAmINAAAAAAACgg0AAAAAAAKiDQAAAAAAAsINAAAAAAAC4g0AAAAAAAMCDQAAAAAAAyINAAAAAAADQg0AAAAAAANiDQAAAAAAA4INAAAAAAADog0AAAAAAAPCDQAAAAAAA+INAAAAAAAAAhEAAAAAAAAiEQAAAAAAAEIRAAAAAAAAYhEAAAAAAACCEQAAAAAAAKIRAAAAAAAAwhEAAAAAAADiEQAAAAAAAQIRAAAAAAABIhEAAAAAAAFCEQAAAAAAAWIRAAAAAAABghEAAAAAAAGiEQAAAAAAAcIRAAAAAAAB4hEAAAAAAAICEQAAAAAAAiIRAAAAAAACQhEAAAAAAAJiEQAAAAAAAoIRAAAAAAACohEAAAAAAALCEQAAAAAAAuIRAAAAAAADAhEAAAAAAAMiEQAAAAAAA0IRAAAAAAADYhEAAAAAAAOCEQAAAAAAA6IRAAAAAAADwhEAAAAAAAPiEQAAAAAAAAIVAAAAAAAAIhUAAAAAAABCFQAAAAAAAGIVAAAAAAAAghUAAAAAAACiFQAAAAAAAMIVAAAAAAAA4hUAAAAAAAECFQAAAAAAASIVAAAAAAABQhUAAAAAAAFiFQAAAAAAAYIVAAAAAAABohUAAAAAAAHCFQAAAAAAAeIVAAAAAAACAhUAAAAAAAIiFQAAAAAAAkIVAAAAAAACYhUAAAAAAAKCFQAAAAAAAqIVAAAAAAACwhUAAAAAAALiFQAAAAAAAwIVAAAAAAADIhUAAAAAAANCFQAAAAAAA2IVAAAAAAADghUAAAAAAAOiFQAAAAAAA8IVAAAAAAAD4hUAAAAAAAACGQAAAAAAACIZAAAAAAAAQhkAAAAAAABiGQAAAAAAAIIZAAAAAAAAohkAAAAAAADCGQAAAAAAAOIZAAAAAAABAhkAAAAAAAEiGQAAAAAAAUIZAAAAAAABYhkAAAAAAAGCGQAAAAAAAaIZAAAAAAABwhkAAAAAAAHiGQAAAAAAAgIZAAAAAAACIhkAAAAAAAJCGQAAAAAAAmIZAAAAAAACghkAAAAAAAKiGQAAAAAAAsIZAAAAAAAC4hkAAAAAAAMCGQAAAAAAAyIZAAAAAAADQhkAAAAAAANiGQAAAAAAA4IZAAAAAAADohkAAAAAAAPCGQAAAAAAA+IZAAAAAAAAAh0AAAAAAAAiHQAAAAAAAEIdAAAAAAAAYh0AAAAAAACCHQAAAAAAAKIdAAAAAAAAwh0AAAAAAADiHQAAAAAAAQIdAAAAAAABIh0AAAAAAAFCHQAAAAAAAWIdAAAAAAABgh0AAAAAAAGiHQAAAAAAAcIdAAAAAAAB4h0AAAAAAAICHQAAAAAAAiIdAAAAAAACQh0AAAAAAAJiHQAAAAAAAoIdAAAAAAACoh0AAAAAAALCHQAAAAAAAuIdAAAAAAADAh0AAAAAAAMiHQAAAAAAA0IdAAAAAAADYh0AAAAAAAOCHQAAAAAAA6IdAAAAAAADwh0AAAAAAAPiHQAAAAAAAAIhAAAAAAAAIiEAAAAAAABCIQAAAAAAAGIhAAAAAAAAgiEAAAAAAACiIQAAAAAAAMIhAAAAAAAA4iEAAAAAAAECIQAAAAAAASIhAAAAAAABQiEAAAAAAAFiIQAAAAAAAYIhAAAAAAABoiEAAAAAAAHCIQAAAAAAAeIhAAAAAAACAiEAAAAAAAIiIQAAAAAAAkIhAAAAAAACYiEAAAAAAAKCIQAAAAAAAqIhAAAAAAACwiEAAAAAAALiIQAAAAAAAwIhAAAAAAADIiEAAAAAAANCIQAAAAAAA2IhAAAAAAADgiEAAAAAAAOiIQAAAAAAA8IhAAAAAAAD4iEAAAAAAAACJQAAAAAAACIlAAAAAAAAQiUAAAAAAABiJQAAAAAAAIIlAAAAAAAAoiUAAAAAAADCJQAAAAAAAOIlAAAAAAABAiUAAAAAAAEiJQAAAAAAAUIlAAAAAAABYiUAAAAAAAGCJQAAAAAAAaIlAAAAAAABwiUAAAAAAAHiJQAAAAAAAgIlAAAAAAACIiUAAAAAAAJCJQAAAAAAAmIlAAAAAAACgiUAAAAAAAKiJQAAAAAAAsIlAAAAAAAC4iUAAAAAAAMCJQAAAAAAAyIlAAAAAAADQiUAAAAAAANiJQAAAAAAA4IlAAAAAAADoiUAAAAAAAPCJQAAAAAAA+IlAAAAAAAAAikAAAAAAAAiKQAAAAAAAEIpAAAAAAAAYikAAAAAAACCKQAAAAAAAKIpAAAAAAAAwikAAAAAAADiKQAAAAAAAQIpAAAAAAABIikAAAAAAAFCKQAAAAAAAWIpAAAAAAABgikAAAAAAAGiKQAAAAAAAcIpAAAAAAAB4ikAAAAAAAICKQAAAAAAAiIpAAAAAAACQikAAAAAAAJiKQAAAAAAAoIpAAAAAAACoikAAAAAAALCKQAAAAAAAuIpAAAAAAADAikAAAAAAAMiKQAAAAAAA0IpAAAAAAADYikAAAAAAAOCKQAAAAAAA6IpAAAAAAADwikAAAAAAAPiKQAAAAAAAAItAAAAAAAAIi0AAAAAAABCLQAAAAAAAGItAAAAAAAAgi0AAAAAAACiLQAAAAAAAMItAAAAAAAA4i0AAAAAAAECLQAAAAAAASItAAAAAAABQi0AAAAAAAFiLQAAAAAAAYItAAAAAAABoi0AAAAAAAHCLQAAAAAAAeItAAAAAAACAi0AAAAAAAIiLQAAAAAAAkItAAAAAAACYi0AAAAAAAKCLQAAAAAAAqItAAAAAAACwi0AAAAAAALiLQAAAAAAAwItAAAAAAADIi0AAAAAAANCLQAAAAAAA2ItAAAAAAADgi0AAAAAAAOiLQAAAAAAA8ItAAAAAAAD4i0AAAAAAAACMQAAAAAAACIxAAAAAAAAQjEAAAAAAABiMQAAAAAAAIIxAAAAAAAAojEAAAAAAADCMQAAAAAAAOIxAAAAAAABAjEAAAAAAAEiMQAAAAAAAUIxAAAAAAABYjEAAAAAAAGCMQAAAAAAAaIxAAAAAAABwjEAAAAAAAHiMQAAAAAAAgIxAAAAAAACIjEAAAAAAAJCMQAAAAAAAmIxAAAAAAACgjEAAAAAAAKiMQAAAAAAAsIxAAAAAAAC4jEAAAAAAAMCMQAAAAAAAyIxAAAAAAADQjEAAAAAAANiMQAAAAAAA4IxAAAAAAADojEAAAAAAAPCMQAAAAAAA+IxAAAAAAAAAjUAAAAAAAAiNQAAAAAAAEI1AAAAAAAAYjUAAAAAAACCNQAAAAAAAKI1AAAAAAAAwjUAAAAAAADiNQAAAAAAAQI1AAAAAAABIjUAAAAAAAFCNQAAAAAAAWI1AAAAAAABgjUAAAAAAAGiNQAAAAAAAcI1AAAAAAAB4jUAAAAAAAICNQAAAAAAAiI1AAAAAAACQjUAAAAAAAJiNQAAAAAAAoI1AAAAAAACojUAAAAAAALCNQAAAAAAAuI1AAAAAAADAjUAAAAAAAMiNQAAAAAAA0I1AAAAAAADYjUAAAAAAAOCNQAAAAAAA6I1AAAAAAADwjUAAAAAAAPiNQAAAAAAAAI5AAAAAAAAIjkAAAAAAABCOQAAAAAAAGI5AAAAAAAAgjkAAAAAAACiOQAAAAAAAMI5AAAAAAAA4jkAAAAAAAECOQAAAAAAASI5AAAAAAABQjkAAAAAAAFiOQAAAAAAAYI5AAAAAAABojkAAAAAAAHCOQAAAAAAAeI5AAAAAAACAjkAAAAAAAIiOQAAAAAAAkI5AAAAAAACYjkAAAAAAAKCOQAAAAAAAqI5AAAAAAACwjkAAAAAAALiOQAAAAAAAwI5AAAAAAADIjkAAAAAAANCOQAAAAAAA2I5AAAAAAADgjkAAAAAAAOiOQAAAAAAA8I5AAAAAAAD4jkAAAAAAAACPQAAAAAAACI9AAAAAAAAQj0AAAAAAABiPQAAAAAAAII9AAAAAAAAoj0AAAAAAADCPQAAAAAAAOI9AAAAAAABAj0AAAAAAAEiPQAAAAAAAUI9AAAAAAABYj0AAAAAAAGCPQAAAAAAAaI9AAAAAAABwj0AAAAAAAHiPQAAAAAAAgI9AAAAAAACIj0AAAAAAAJCPQAAAAAAAmI9AAAAAAACgj0AAAAAAAKiPQAAAAAAAsI9AAAAAAAC4j0AAAAAAAMCPQAAAAAAAyI9AAAAAAADQj0AAAAAAANiPQAAAAAAA4I9AAAAAAADoj0AAAAAAAPCPQAAAAAAA+I9AAAAAAAAAkEAAAAAAAASQQAAAAAAACJBAAAAAAAAMkEAAAAAAABCQQAAAAAAAFJBAAAAAAAAYkEAAAAAAAByQQAAAAAAAIJBAAAAAAAAkkEAAAAAAACiQQAAAAAAALJBAAAAAAAAwkEAAAAAAADSQQAAAAAAAOJBAAAAAAAA8kEAAAAAAAECQQAAAAAAARJBAAAAAAABIkEAAAAAAAEyQQAAAAAAAUJBAAAAAAABUkEAAAAAAAFiQQAAAAAAAXJBAAAAAAABgkEAAAAAAAGSQQAAAAAAAaJBAAAAAAABskEAAAAAAAHCQQAAAAAAAdJBAAAAAAAB4kEAAAAAAAHyQQAAAAAAAgJBAAAAAAACEkEAAAAAAAIiQQAAAAAAAjJBAAAAAAACQkEAAAAAAAJSQQAAAAAAAmJBAAAAAAACckEAAAAAAAKCQQAAAAAAApJBAAAAAAACokEAAAAAAAKyQQAAAAAAAsJBAAAAAAAC0kEAAAAAAALiQQAAAAAAAvJBAAAAAAADAkEAAAAAAAMSQQAAAAAAAyJBAAAAAAADMkEAAAAAAANCQQAAAAAAA1JBAAAAAAADYkEAAAAAAANyQQAAAAAAA4JBAAAAAAADkkEAAAAAAAOiQQAAAAAAA7JBAAAAAAADwkEAAAAAAAPSQQAAAAAAA+JBAAAAAAAD8kEAAAAAAAACRQAAAAAAABJFAAAAAAAAIkUAAAAAAAAyRQAAAAAAAEJFAAAAAAAAUkUAAAAAAABiRQAAAAAAAHJFAAAAAAAAgkUAAAAAAACSRQAAAAAAAKJFAAAAAAAAskUAAAAAAADCRQAAAAAAANJFAAAAAAAA4kUAAAAAAADyRQAAAAAAAQJFAAAAAAABEkUAAAAAAAEiRQAAAAAAATJFAAAAAAABQkUAAAAAAAFSRQAAAAAAAWJFAAAAAAABckUAAAAAAAGCRQAAAAAAAZJFAAAAAAABokUAAAAAAAGyRQAAAAAAAcJFAAAAAAAB0kUAAAAAAAHiRQAAAAAAAfJFAAAAAAACAkUAAAAAAAISRQAAAAAAAiJFAAAAAAACMkUAAAAAAAJCRQAAAAAAAlJFAAAAAAACYkUAAAAAAAJyRQAAAAAAAoJFAAAAAAACkkUAAAAAAAKiRQAAAAAAArJFAAAAAAACwkUAAAAAAALSRQAAAAAAAuJFAAAAAAAC8kUAAAAAAAMCRQAAAAAAAxJFAAAAAAADIkUAAAAAAAMyRQAAAAAAA0JFAAAAAAADUkUAAAAAAANiRQAAAAAAA3JFAAAAAAADgkUAAAAAAAOSRQAAAAAAA6JFAAAAAAADskUAAAAAAAPCRQAAAAAAA9JFAAAAAAAD4kUAAAAAAAPyRQAAAAAAAAJJAAAAAAAAEkkAAAAAAAAiSQAAAAAAADJJAAAAAAAAQkkAAAAAAABSSQAAAAAAAGJJAAAAAAAAckkAAAAAAACCSQAAAAAAAJJJAAAAAAAAokkAAAAAAACySQAAAAAAAMJJAAAAAAAA0kkAAAAAAADiSQAAAAAAAPJJAAAAAAABAkkAAAAAAAESSQAAAAAAASJJAAAAAAABMkkAAAAAAAFCSQAAAAAAAVJJAAAAAAABYkkAAAAAAAFySQAAAAAAAYJJAAAAAAABkkkAAAAAAAGiSQAAAAAAAbJJAAAAAAABwkkAAAAAAAHSSQAAAAAAAeJJAAAAAAAB8kkAAAAAAAICSQAAAAAAAhJJAAAAAAACIkkAAAAAAAIySQAAAAAAAkJJAAAAAAACUkkAAAAAAAJiSQAAAAAAAnJJAAAAAAACgkkAAAAAAAKSSQAAAAAAAqJJAAAAAAACskkAAAAAAALCSQAAAAAAAtJJAAAAAAAC4kkAAAAAAALySQAAAAAAAwJJAAAAAAADEkkAAAAAAAMiSQAAAAAAAzJJAAAAAAADQkkAAAAAAANSSQAAAAAAA2JJAAAAAAADckkAAAAAAAOCSQAAAAAAA5JJAAAAAAADokkAAAAAAAOySQAAAAAAA8JJAAAAAAAD0kkAAAAAAAPiSQAAAAAAA/JJAAAAAAAAAk0AAAAAAAASTQAAAAAAACJNAAAAAAAAMk0AAAAAAABCTQAAAAAAAFJNAAAAAAAAYk0AAAAAAAByTQAAAAAAAIJNAAAAAAAAkk0AAAAAAACiTQAAAAAAALJNAAAAAAAAwk0AAAAAAADSTQAAAAAAAOJNAAAAAAAA8k0AAAAAAAECTQAAAAAAARJNAAAAAAABIk0AAAAAAAEyTQAAAAAAAUJNAAAAAAABUk0AAAAAAAFiTQAAAAAAAXJNAAAAAAABgk0AAAAAAAGSTQAAAAAAAaJNAAAAAAABsk0AAAAAAAHCTQAAAAAAAdJNAAAAAAAB4k0AAAAAAAHyTQAAAAAAAgJNAAAAAAACEk0AAAAAAAIiTQAAAAAAAjJNAAAAAAACQk0AAAAAAAJSTQAAAAAAAmJNAAAAAAACck0AAAAAAAKCTQAAAAAAApJNAAAAAAACok0AAAAAAAKyTQAAAAAAAsJNAAAAAAAC0k0AAAAAAALiTQAAAAAAAvJNAAAAAAADAk0AAAAAAAMSTQAAAAAAAyJNAAAAAAADMk0AAAAAAANCTQAAAAAAA1JNAAAAAAADYk0AAAAAAANyTQAAAAAAA4JNAAAAAAADkk0AAAAAAAOiTQAAAAAAA7JNAAAAAAADwk0AAAAAAAPSTQAAAAAAA+JNAAAAAAAD8k0AAAAAAAACUQAAAAAAABJRAAAAAAAAIlEAAAAAAAAyUQAAAAAAAEJRAAAAAAAAUlEAAAAAAABiUQAAAAAAAHJRAAAAAAAAglEAAAAAAACSUQAAAAAAAKJRAAAAAAAAslEAAAAAAADCUQAAAAAAANJRAAAAAAAA4lEAAAAAAADyUQAAAAAAAQJRAAAAAAABElEAAAAAAAEiUQAAAAAAATJRAAAAAAABQlEAAAAAAAFSUQAAAAAAAWJRAAAAAAABclEAAAAAAAGCUQAAAAAAAZJRAAAAAAABolEAAAAAAAGyUQAAAAAAAcJRAAAAAAAB0lEAAAAAAAHiUQAAAAAAAfJRAAAAAAACAlEAAAAAAAISUQAAAAAAAiJRAAAAAAACMlEAAAAAAAJCUQAAAAAAAlJRAAAAAAACYlEAAAAAAAJyUQAAAAAAAoJRAAAAAAACklEAAAAAAAKiUQAAAAAAArJRAAAAAAACwlEAAAAAAALSUQAAAAAAAuJRAAAAAAAC8lEAAAAAAAMCUQAAAAAAAxJRAAAAAAADIlEAAAAAAAMyUQAAAAAAA0JRAAAAAAADUlEAAAAAAANiUQAAAAAAA3JRAAAAAAADglEAAAAAAAOSUQAAAAAAA6JRAAAAAAADslEAAAAAAAPCUQAAAAAAA9JRAAAAAAAD4lEAAAAAAAPyUQAAAAAAAAJVAAAAAAAAElUAAAAAAAAiVQAAAAAAADJVAAAAAAAAQlUAAAAAAABSVQAAAAAAAGJVAAAAAAAAclUAAAAAAACCVQAAAAAAAJJVAAAAAAAAolUAAAAAAACyVQAAAAAAAMJVAAAAAAAA0lUAAAAAAADiVQAAAAAAAPJVAAAAAAABAlUAAAAAAAESVQAAAAAAASJVAAAAAAABMlUAAAAAAAFCVQAAAAAAAVJVAAAAAAABYlUAAAAAAAFyVQAAAAAAAYJVAAAAAAABklUAAAAAAAGiVQAAAAAAAbJVAAAAAAABwlUAAAAAAAHSVQAAAAAAAeJVAAAAAAAB8lUAAAAAAAICVQAAAAAAAhJVAAAAAAACIlUAAAAAAAIyVQAAAAAAAkJVAAAAAAACUlUAAAAAAAJiVQAAAAAAAnJVAAAAAAACglUAAAAAAAKSVQAAAAAAAqJVAAAAAAACslUAAAAAAALCVQAAAAAAAtJVAAAAAAAC4lUAAAAAAALyVQAAAAAAAwJVAAAAAAADElUAAAAAAAMiVQAAAAAAAzJVAAAAAAADQlUAAAAAAANSVQAAAAAAA2JVAAAAAAADclUAAAAAAAOCVQAAAAAAA5JVAAAAAAADolUAAAAAAAOyVQAAAAAAA8JVAAAAAAAD0lUAAAAAAAPiVQAAAAAAA/JVAAAAAAAAAlkAAAAAAAASWQAAAAAAACJZAAAAAAAAMlkAAAAAAABCWQAAAAAAAFJZAAAAAAAAYlkAAAAAAAByWQAAAAAAAIJZAAAAAAAAklkAAAAAAACiWQAAAAAAALJZAAAAAAAAwlkAAAAAAADSWQAAAAAAAOJZAAAAAAAA8lkAAAAAAAECWQAAAAAAARJZAAAAAAABIlkAAAAAAAEyWQAAAAAAAUJZAAAAAAABUlkAAAAAAAFiWQAAAAAAAXJZAAAAAAABglkAAAAAAAGSWQAAAAAAAaJZAAAAAAABslkAAAAAAAHCWQAAAAAAAdJZAAAAAAAB4lkAAAAAAAHyWQAAAAAAAgJZAAAAAAACElkAAAAAAAIiWQAAAAAAAjJZAAAAAAACQlkAAAAAAAJSWQAAAAAAAmJZAAAAAAACclkAAAAAAAKCWQAAAAAAApJZAAAAAAAColkAAAAAAAKyWQAAAAAAAsJZAAAAAAAC0lkAAAAAAALiWQAAAAAAAvJZAAAAAAADAlkAAAAAAAMSWQAAAAAAAyJZAAAAAAADMlkAAAAAAANCWQAAAAAAA1JZAAAAAAADYlkAAAAAAANyWQAAAAAAA4JZAAAAAAADklkAAAAAAAOiWQAAAAAAA7JZAAAAAAADwlkAAAAAAAPSWQAAAAAAA+JZAAAAAAAD8lkAAAAAAAACXQAAAAAAABJdAAAAAAAAIl0AAAAAAAAyXQAAAAAAAEJdAAAAAAAAUl0AAAAAAABiXQAAAAAAAHJdAAAAAAAAgl0AAAAAAACSXQAAAAAAAKJdAAAAAAAAsl0AAAAAAADCXQAAAAAAANJdAAAAAAAA4l0AAAAAAADyXQAAAAAAAQJdAAAAAAABEl0AAAAAAAEiXQAAAAAAATJdAAAAAAABQl0AAAAAAAFSXQAAAAAAAWJdAAAAAAABcl0AAAAAAAGCXQAAAAAAAZJdAAAAAAABol0AAAAAAAGyXQAAAAAAAcJdAAAAAAAB0l0AAAAAAAHiXQAAAAAAAfJdAAAAAAACAl0AAAAAAAISXQAAAAAAAiJdAAAAAAACMl0AAAAAAAJCXQAAAAAAAlJdAAAAAAACYl0AAAAAAAJyXQAAAAAAAoJdAAAAAAACkl0AAAAAAAKiXQAAAAAAArJdAAAAAAACwl0AAAAAAALSXQAAAAAAAuJdAAAAAAAC8l0AAAAAAAMCXQAAAAAAAxJdAAAAAAADIl0AAAAAAAMyXQAAAAAAA0JdAAAAAAADUl0AAAAAAANiXQAAAAAAA3JdAAAAAAADgl0AAAAAAAOSXQAAAAAAA6JdAAAAAAADsl0AAAAAAAPCXQAAAAAAA9JdAAAAAAAD4l0AAAAAAAPyXQAAAAAAAAJhAAAAAAAAEmEAAAAAAAAiYQAAAAAAADJhAAAAAAAAQmEAAAAAAABSYQAAAAAAAGJhAAAAAAAAcmEAAAAAAACCYQAAAAAAAJJhAAAAAAAAomEAAAAAAACyYQAAAAAAAMJhAAAAAAAA0mEAAAAAAADiYQAAAAAAAPJhAAAAAAABAmEAAAAAAAESYQAAAAAAASJhAAAAAAABMmEAAAAAAAFCYQAAAAAAAVJhAAAAAAABYmEAAAAAAAFyYQAAAAAAAYJhAAAAAAABkmEAAAAAAAGiYQAAAAAAAbJhAAAAAAABwmEAAAAAAAHSYQAAAAAAAeJhAAAAAAAB8mEAAAAAAAICYQAAAAAAAhJhAAAAAAACImEAAAAAAAIyYQAAAAAAAkJhAAAAAAACUmEAAAAAAAJiYQAAAAAAAnJhAAAAAAACgmEAAAAAAAKSYQAAAAAAAqJhAAAAAAACsmEAAAAAAALCYQAAAAAAAtJhAAAAAAAC4mEAAAAAAALyYQAAAAAAAwJhAAAAAAADEmEAAAAAAAMiYQAAAAAAAzJhAAAAAAADQmEAAAAAAANSYQAAAAAAA2JhAAAAAAADcmEAAAAAAAOCYQAAAAAAA5JhAAAAAAADomEAAAAAAAOyYQAAAAAAA8JhAAAAAAAD0mEAAAAAAAPiYQAAAAAAA/JhAAAAAAAAAmUAAAAAAAASZQAAAAAAACJlAAAAAAAAMmUAAAAAAABCZQAAAAAAAFJlAAAAAAAAYmUAAAAAAAByZQAAAAAAAIJlAAAAAAAAkmUAAAAAAACiZQAAAAAAALJlAAAAAAAAwmUAAAAAAADSZQAAAAAAAOJlAAAAAAAA8mUAAAAAAAECZQAAAAAAARJlAAAAAAABImUAAAAAAAEyZQAAAAAAAUJlAAAAAAABUmUAAAAAAAFiZQAAAAAAAXJlAAAAAAABgmUAAAAAAAGSZQAAAAAAAaJlAAAAAAABsmUAAAAAAAHCZQAAAAAAAdJlAAAAAAAB4mUAAAAAAAHyZQAAAAAAAgJlAAAAAAACEmUAAAAAAAIiZQAAAAAAAjJlAAAAAAACQmUAAAAAAAJSZQAAAAAAAmJlAAAAAAACcmUAAAAAAAKCZQAAAAAAApJlAAAAAAAComUAAAAAAAKyZQAAAAAAAsJlAAAAAAAC0mUAAAAAAALiZQAAAAAAAvJlAAAAAAADAmUAAAAAAAMSZQAAAAAAAyJlAAAAAAADMmUAAAAAAANCZQAAAAAAA1JlAAAAAAADYmUAAAAAAANyZQAAAAAAA4JlAAAAAAADkmUAAAAAAAOiZQAAAAAAA7JlAAAAAAADwmUAAAAAAAPSZQAAAAAAA+JlAAAAAAAD8mUAAAAAAAACaQAAAAAAABJpAAAAAAAAImkAAAAAAAAyaQAAAAAAAEJpAAAAAAAAUmkAAAAAAABiaQAAAAAAAHJpAAAAAAAAgmkAAAAAAACSaQAAAAAAAKJpAAAAAAAAsmkAAAAAAADCaQAAAAAAANJpAAAAAAAA4mkAAAAAAADyaQAAAAAAAQJpAAAAAAABEmkAAAAAAAEiaQAAAAAAATJpAAAAAAABQmkAAAAAAAFSaQAAAAAAAWJpAAAAAAABcmkAAAAAAAGCaQAAAAAAAZJpAAAAAAABomkAAAAAAAGyaQAAAAAAAcJpAAAAAAAB0mkAAAAAAAHiaQAAAAAAAfJpAAAAAAACAmkAAAAAAAISaQAAAAAAAiJpAAAAAAACMmkAAAAAAAJCaQAAAAAAAlJpAAAAAAACYmkAAAAAAAJyaQAAAAAAAoJpAAAAAAACkmkAAAAAAAKiaQAAAAAAArJpAAAAAAACwmkAAAAAAALSaQAAAAAAAuJpAAAAAAAC8mkAAAAAAAMCaQAAAAAAAxJpAAAAAAADImkAAAAAAAMyaQAAAAAAA0JpAAAAAAADUmkAAAAAAANiaQAAAAAAA3JpAAAAAAADgmkAAAAAAAOSaQAAAAAAA6JpAAAAAAADsmkAAAAAAAPCaQAAAAAAA9JpAAAAAAAD4mkAAAAAAAPyaQAAAAAAAAJtAAAAAAAAEm0AAAAAAAAibQAAAAAAADJtAAAAAAAAQm0AAAAAAABSbQAAAAAAAGJtAAAAAAAAcm0AAAAAAACCbQAAAAAAAJJtAAAAAAAAom0AAAAAAACybQAAAAAAAMJtAAAAAAAA0m0AAAAAAADibQAAAAAAAPJtAAAAAAABAm0AAAAAAAESbQAAAAAAASJtAAAAAAABMm0AAAAAAAFCbQAAAAAAAVJtAAAAAAABYm0AAAAAAAFybQAAAAAAAYJtAAAAAAABkm0AAAAAAAGibQAAAAAAAbJtAAAAAAABwm0AAAAAAAHSbQAAAAAAAeJtAAAAAAAB8m0AAAAAAAICbQAAAAAAAhJtAAAAAAACIm0AAAAAAAIybQAAAAAAAkJtAAAAAAACUm0AAAAAAAJibQAAAAAAAnJtAAAAAAACgm0AAAAAAAKSbQAAAAAAAqJtAAAAAAACsm0AAAAAAALCbQAAAAAAAtJtAAAAAAAC4m0AAAAAAALybQAAAAAAAwJtAAAAAAADEm0AAAAAAAMibQAAAAAAAzJtAAAAAAADQm0AAAAAAANSbQAAAAAAA2JtAAAAAAADcm0AAAAAAAOCbQAAAAAAA5JtAAAAAAADom0AAAAAAAOybQAAAAAAA8JtAAAAAAAD0m0AAAAAAAPibQAAAAAAA/JtAAAAAAAAAnEAAAAAAAAScQAAAAAAACJxAAAAAAAAMnEAAAAAAABCcQAAAAAAAFJxAAAAAAAAYnEAAAAAAABycQAAAAAAAIJxAAAAAAAAknEAAAAAAACicQAAAAAAALJxAAAAAAAAwnEAAAAAAADScQAAAAAAAOJxAAAAAAAA8nEAAAAAAAECcQAAAAAAARJxAAAAAAABInEAAAAAAAEycQAAAAAAAUJxAAAAAAABUnEAAAAAAAFicQAAAAAAAXJxAAAAAAABgnEAAAAAAAGScQAAAAAAAaJxAAAAAAABsnEAAAAAAAHCcQAAAAAAAdJxAAAAAAAB4nEAAAAAAAHycQAAAAAAAgJxAAAAAAACEnEAAAAAAAIicQAAAAAAAjJxAAAAAAACQnEAAAAAAAJScQAAAAAAAmJxAAAAAAACcnEAAAAAAAKCcQAAAAAAApJxAAAAAAAConEAAAAAAAKycQAAAAAAAsJxAAAAAAAC0nEAAAAAAALicQAAAAAAAvJxAAAAAAADAnEAAAAAAAMScQAAAAAAAyJxAAAAAAADMnEAAAAAAANCcQAAAAAAA1JxAAAAAAADYnEAAAAAAANycQAAAAAAA4JxAAAAAAADknEAAAAAAAOicQAAAAAAA7JxAAAAAAADwnEAAAAAAAPScQAAAAAAA+JxAAAAAAAD8nEAAAAAAAACdQAAAAAAABJ1AAAAAAAAInUAAAAAAAAydQAAAAAAAEJ1AAAAAAAAUnUAAAAAAABidQAAAAAAAHJ1AAAAAAAAgnUAAAAAAACSdQAAAAAAAKJ1AAAAAAAAsnUAAAAAAADCdQAAAAAAANJ1AAAAAAAA4nUAAAAAAADydQAAAAAAAQJ1AAAAAAABEnUAAAAAAAEidQAAAAAAATJ1AAAAAAABQnUAAAAAAAFSdQAAAAAAAWJ1AAAAAAABcnUAAAAAAAGCdQAAAAAAAZJ1AAAAAAABonUAAAAAAAGydQAAAAAAAcJ1AAAAAAAB0nUAAAAAAAHidQAAAAAAAfJ1AAAAAAACAnUAAAAAAAISdQAAAAAAAiJ1AAAAAAACMnUAAAAAAAJCdQAAAAAAAlJ1AAAAAAACYnUAAAAAAAJydQAAAAAAAoJ1AAAAAAACknUAAAAAAAKidQAAAAAAArJ1AAAAAAACwnUAAAAAAALSdQAAAAAAAuJ1AAAAAAAC8nUAAAAAAAMCdQAAAAAAAxJ1AAAAAAADInUAAAAAAAMydQAAAAAAA0J1AAAAAAADUnUAAAAAAANidQAAAAAAA3J1AAAAAAADgnUAAAAAAAOSdQAAAAAAA6J1AAAAAAADsnUAAAAAAAPCdQAAAAAAA9J1AAAAAAAD4nUAAAAAAAPydQAAAAAAAAJ5AAAAAAAAEnkAAAAAAAAieQAAAAAAADJ5AAAAAAAAQnkAAAAAAABSeQAAAAAAAGJ5AAAAAAAAcnkAAAAAAACCeQAAAAAAAJJ5AAAAAAAAonkAAAAAAACyeQAAAAAAAMJ5AAAAAAAA0nkAAAAAAADieQAAAAAAAPJ5AAAAAAABAnkAAAAAAAESeQAAAAAAASJ5AAAAAAABMnkAAAAAAAFCeQAAAAAAAVJ5AAAAAAABYnkAAAAAAAFyeQAAAAAAAYJ5AAAAAAABknkAAAAAAAGieQAAAAAAAbJ5AAAAAAABwnkAAAAAAAHSeQAAAAAAAeJ5AAAAAAAB8nkAAAAAAAICeQAAAAAAAhJ5AAAAAAACInkAAAAAAAIyeQAAAAAAAkJ5AAAAAAACUnkAAAAAAAJieQAAAAAAAnJ5AAAAAAACgnkAAAAAAAKSeQAAAAAAAqJ5AAAAAAACsnkAAAAAAALCeQAAAAAAAtJ5AAAAAAAC4nkAAAAAAALyeQAAAAAAAwJ5AAAAAAADEnkAAAAAAAMieQAAAAAAAzJ5AAAAAAADQnkAAAAAAANSeQAAAAAAA2J5AAAAAAADcnkAAAAAAAOCeQAAAAAAA5J5AAAAAAADonkAAAAAAAOyeQAAAAAAA8J5AAAAAAAD0nkAAAAAAAPieQAAAAAAA/J5AAAAAAAAAn0AAAAAAAASfQAAAAAAACJ9AAAAAAAAMn0AAAAAAABCfQAAAAAAAFJ9AAAAAAAAYn0AAAAAAAByfQAAAAAAAIJ9AAAAAAAAkn0AAAAAAACifQAAAAAAALJ9AAAAAAAAwn0AAAAAAADSfQAAAAAAAOJ9AAAAAAAA8n0AAAAAAAECfQA==",
          "dtype": "f8"
         },
         "y": {
          "bdata": "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",
          "dtype": "f8"
         }
        }
       ],
       "layout": {
        "paper_bgcolor": "rgba(0,0,0,0)",
        "plot_bgcolor": "rgba(0,0,0,0)",
        "template": {
         "data": {
          "bar": [
           {
            "error_x": {
             "color": "#2a3f5f"
            },
            "error_y": {
             "color": "#2a3f5f"
            },
            "marker": {
             "line": {
              "color": "#E5ECF6",
              "width": 0.5
             },
             "pattern": {
              "fillmode": "overlay",
              "size": 10,
              "solidity": 0.2
             }
            },
            "type": "bar"
           }
          ],
          "barpolar": [
           {
            "marker": {
             "line": {
              "color": "#E5ECF6",
              "width": 0.5
             },
             "pattern": {
              "fillmode": "overlay",
              "size": 10,
              "solidity": 0.2
             }
            },
            "type": "barpolar"
           }
          ],
          "carpet": [
           {
            "aaxis": {
             "endlinecolor": "#2a3f5f",
             "gridcolor": "white",
             "linecolor": "white",
             "minorgridcolor": "white",
             "startlinecolor": "#2a3f5f"
            },
            "baxis": {
             "endlinecolor": "#2a3f5f",
             "gridcolor": "white",
             "linecolor": "white",
             "minorgridcolor": "white",
             "startlinecolor": "#2a3f5f"
            },
            "type": "carpet"
           }
          ],
          "choropleth": [
           {
            "colorbar": {
             "outlinewidth": 0,
             "ticks": ""
            },
            "type": "choropleth"
           }
          ],
          "contour": [
           {
            "colorbar": {
             "outlinewidth": 0,
             "ticks": ""
            },
            "colorscale": [
             [
              0,
              "#0d0887"
             ],
             [
              0.1111111111111111,
              "#46039f"
             ],
             [
              0.2222222222222222,
              "#7201a8"
             ],
             [
              0.3333333333333333,
              "#9c179e"
             ],
             [
              0.4444444444444444,
              "#bd3786"
             ],
             [
              0.5555555555555556,
              "#d8576b"
             ],
             [
              0.6666666666666666,
              "#ed7953"
             ],
             [
              0.7777777777777778,
              "#fb9f3a"
             ],
             [
              0.8888888888888888,
              "#fdca26"
             ],
             [
              1,
              "#f0f921"
             ]
            ],
            "type": "contour"
           }
          ],
          "contourcarpet": [
           {
            "colorbar": {
             "outlinewidth": 0,
             "ticks": ""
            },
            "type": "contourcarpet"
           }
          ],
          "heatmap": [
           {
            "colorbar": {
             "outlinewidth": 0,
             "ticks": ""
            },
            "colorscale": [
             [
              0,
              "#0d0887"
             ],
             [
              0.1111111111111111,
              "#46039f"
             ],
             [
              0.2222222222222222,
              "#7201a8"
             ],
             [
              0.3333333333333333,
              "#9c179e"
             ],
             [
              0.4444444444444444,
              "#bd3786"
             ],
             [
              0.5555555555555556,
              "#d8576b"
             ],
             [
              0.6666666666666666,
              "#ed7953"
             ],
             [
              0.7777777777777778,
              "#fb9f3a"
             ],
             [
              0.8888888888888888,
              "#fdca26"
             ],
             [
              1,
              "#f0f921"
             ]
            ],
            "type": "heatmap"
           }
          ],
          "histogram": [
           {
            "marker": {
             "pattern": {
              "fillmode": "overlay",
              "size": 10,
              "solidity": 0.2
             }
            },
            "type": "histogram"
           }
          ],
          "histogram2d": [
           {
            "colorbar": {
             "outlinewidth": 0,
             "ticks": ""
            },
            "colorscale": [
             [
              0,
              "#0d0887"
             ],
             [
              0.1111111111111111,
              "#46039f"
             ],
             [
              0.2222222222222222,
              "#7201a8"
             ],
             [
              0.3333333333333333,
              "#9c179e"
             ],
             [
              0.4444444444444444,
              "#bd3786"
             ],
             [
              0.5555555555555556,
              "#d8576b"
             ],
             [
              0.6666666666666666,
              "#ed7953"
             ],
             [
              0.7777777777777778,
              "#fb9f3a"
             ],
             [
              0.8888888888888888,
              "#fdca26"
             ],
             [
              1,
              "#f0f921"
             ]
            ],
            "type": "histogram2d"
           }
          ],
          "histogram2dcontour": [
           {
            "colorbar": {
             "outlinewidth": 0,
             "ticks": ""
            },
            "colorscale": [
             [
              0,
              "#0d0887"
             ],
             [
              0.1111111111111111,
              "#46039f"
             ],
             [
              0.2222222222222222,
              "#7201a8"
             ],
             [
              0.3333333333333333,
              "#9c179e"
             ],
             [
              0.4444444444444444,
              "#bd3786"
             ],
             [
              0.5555555555555556,
              "#d8576b"
             ],
             [
              0.6666666666666666,
              "#ed7953"
             ],
             [
              0.7777777777777778,
              "#fb9f3a"
             ],
             [
              0.8888888888888888,
              "#fdca26"
             ],
             [
              1,
              "#f0f921"
             ]
            ],
            "type": "histogram2dcontour"
           }
          ],
          "mesh3d": [
           {
            "colorbar": {
             "outlinewidth": 0,
             "ticks": ""
            },
            "type": "mesh3d"
           }
          ],
          "parcoords": [
           {
            "line": {
             "colorbar": {
              "outlinewidth": 0,
              "ticks": ""
             }
            },
            "type": "parcoords"
           }
          ],
          "pie": [
           {
            "automargin": true,
            "type": "pie"
           }
          ],
          "scatter": [
           {
            "fillpattern": {
             "fillmode": "overlay",
             "size": 10,
             "solidity": 0.2
            },
            "type": "scatter"
           }
          ],
          "scatter3d": [
           {
            "line": {
             "colorbar": {
              "outlinewidth": 0,
              "ticks": ""
             }
            },
            "marker": {
             "colorbar": {
              "outlinewidth": 0,
              "ticks": ""
             }
            },
            "type": "scatter3d"
           }
          ],
          "scattercarpet": [
           {
            "marker": {
             "colorbar": {
              "outlinewidth": 0,
              "ticks": ""
             }
            },
            "type": "scattercarpet"
           }
          ],
          "scattergeo": [
           {
            "marker": {
             "colorbar": {
              "outlinewidth": 0,
              "ticks": ""
             }
            },
            "type": "scattergeo"
           }
          ],
          "scattergl": [
           {
            "marker": {
             "colorbar": {
              "outlinewidth": 0,
              "ticks": ""
             }
            },
            "type": "scattergl"
           }
          ],
          "scattermap": [
           {
            "marker": {
             "colorbar": {
              "outlinewidth": 0,
              "ticks": ""
             }
            },
            "type": "scattermap"
           }
          ],
          "scattermapbox": [
           {
            "marker": {
             "colorbar": {
              "outlinewidth": 0,
              "ticks": ""
             }
            },
            "type": "scattermapbox"
           }
          ],
          "scatterpolar": [
           {
            "marker": {
             "colorbar": {
              "outlinewidth": 0,
              "ticks": ""
             }
            },
            "type": "scatterpolar"
           }
          ],
          "scatterpolargl": [
           {
            "marker": {
             "colorbar": {
              "outlinewidth": 0,
              "ticks": ""
             }
            },
            "type": "scatterpolargl"
           }
          ],
          "scatterternary": [
           {
            "marker": {
             "colorbar": {
              "outlinewidth": 0,
              "ticks": ""
             }
            },
            "type": "scatterternary"
           }
          ],
          "surface": [
           {
            "colorbar": {
             "outlinewidth": 0,
             "ticks": ""
            },
            "colorscale": [
             [
              0,
              "#0d0887"
             ],
             [
              0.1111111111111111,
              "#46039f"
             ],
             [
              0.2222222222222222,
              "#7201a8"
             ],
             [
              0.3333333333333333,
              "#9c179e"
             ],
             [
              0.4444444444444444,
              "#bd3786"
             ],
             [
              0.5555555555555556,
              "#d8576b"
             ],
             [
              0.6666666666666666,
              "#ed7953"
             ],
             [
              0.7777777777777778,
              "#fb9f3a"
             ],
             [
              0.8888888888888888,
              "#fdca26"
             ],
             [
              1,
              "#f0f921"
             ]
            ],
            "type": "surface"
           }
          ],
          "table": [
           {
            "cells": {
             "fill": {
              "color": "#EBF0F8"
             },
             "line": {
              "color": "white"
             }
            },
            "header": {
             "fill": {
              "color": "#C8D4E3"
             },
             "line": {
              "color": "white"
             }
            },
            "type": "table"
           }
          ]
         },
         "layout": {
          "annotationdefaults": {
           "arrowcolor": "#2a3f5f",
           "arrowhead": 0,
           "arrowwidth": 1
          },
          "autotypenumbers": "strict",
          "coloraxis": {
           "colorbar": {
            "outlinewidth": 0,
            "ticks": ""
           }
          },
          "colorscale": {
           "diverging": [
            [
             0,
             "#8e0152"
            ],
            [
             0.1,
             "#c51b7d"
            ],
            [
             0.2,
             "#de77ae"
            ],
            [
             0.3,
             "#f1b6da"
            ],
            [
             0.4,
             "#fde0ef"
            ],
            [
             0.5,
             "#f7f7f7"
            ],
            [
             0.6,
             "#e6f5d0"
            ],
            [
             0.7,
             "#b8e186"
            ],
            [
             0.8,
             "#7fbc41"
            ],
            [
             0.9,
             "#4d9221"
            ],
            [
             1,
             "#276419"
            ]
           ],
           "sequential": [
            [
             0,
             "#0d0887"
            ],
            [
             0.1111111111111111,
             "#46039f"
            ],
            [
             0.2222222222222222,
             "#7201a8"
            ],
            [
             0.3333333333333333,
             "#9c179e"
            ],
            [
             0.4444444444444444,
             "#bd3786"
            ],
            [
             0.5555555555555556,
             "#d8576b"
            ],
            [
             0.6666666666666666,
             "#ed7953"
            ],
            [
             0.7777777777777778,
             "#fb9f3a"
            ],
            [
             0.8888888888888888,
             "#fdca26"
            ],
            [
             1,
             "#f0f921"
            ]
           ],
           "sequentialminus": [
            [
             0,
             "#0d0887"
            ],
            [
             0.1111111111111111,
             "#46039f"
            ],
            [
             0.2222222222222222,
             "#7201a8"
            ],
            [
             0.3333333333333333,
             "#9c179e"
            ],
            [
             0.4444444444444444,
             "#bd3786"
            ],
            [
             0.5555555555555556,
             "#d8576b"
            ],
            [
             0.6666666666666666,
             "#ed7953"
            ],
            [
             0.7777777777777778,
             "#fb9f3a"
            ],
            [
             0.8888888888888888,
             "#fdca26"
            ],
            [
             1,
             "#f0f921"
            ]
           ]
          },
          "colorway": [
           "#636efa",
           "#EF553B",
           "#00cc96",
           "#ab63fa",
           "#FFA15A",
           "#19d3f3",
           "#FF6692",
           "#B6E880",
           "#FF97FF",
           "#FECB52"
          ],
          "font": {
           "color": "#2a3f5f"
          },
          "geo": {
           "bgcolor": "white",
           "lakecolor": "white",
           "landcolor": "#E5ECF6",
           "showlakes": true,
           "showland": true,
           "subunitcolor": "white"
          },
          "hoverlabel": {
           "align": "left"
          },
          "hovermode": "closest",
          "mapbox": {
           "style": "light"
          },
          "paper_bgcolor": "white",
          "plot_bgcolor": "#E5ECF6",
          "polar": {
           "angularaxis": {
            "gridcolor": "white",
            "linecolor": "white",
            "ticks": ""
           },
           "bgcolor": "#E5ECF6",
           "radialaxis": {
            "gridcolor": "white",
            "linecolor": "white",
            "ticks": ""
           }
          },
          "scene": {
           "xaxis": {
            "backgroundcolor": "#E5ECF6",
            "gridcolor": "white",
            "gridwidth": 2,
            "linecolor": "white",
            "showbackground": true,
            "ticks": "",
            "zerolinecolor": "white"
           },
           "yaxis": {
            "backgroundcolor": "#E5ECF6",
            "gridcolor": "white",
            "gridwidth": 2,
            "linecolor": "white",
            "showbackground": true,
            "ticks": "",
            "zerolinecolor": "white"
           },
           "zaxis": {
            "backgroundcolor": "#E5ECF6",
            "gridcolor": "white",
            "gridwidth": 2,
            "linecolor": "white",
            "showbackground": true,
            "ticks": "",
            "zerolinecolor": "white"
           }
          },
          "shapedefaults": {
           "line": {
            "color": "#2a3f5f"
           }
          },
          "ternary": {
           "aaxis": {
            "gridcolor": "white",
            "linecolor": "white",
            "ticks": ""
           },
           "baxis": {
            "gridcolor": "white",
            "linecolor": "white",
            "ticks": ""
           },
           "bgcolor": "#E5ECF6",
           "caxis": {
            "gridcolor": "white",
            "linecolor": "white",
            "ticks": ""
           }
          },
          "title": {
           "x": 0.05
          },
          "xaxis": {
           "automargin": true,
           "gridcolor": "white",
           "linecolor": "white",
           "ticks": "",
           "title": {
            "standoff": 15
           },
           "zerolinecolor": "white",
           "zerolinewidth": 2
          },
          "yaxis": {
           "automargin": true,
           "gridcolor": "white",
           "linecolor": "white",
           "ticks": "",
           "title": {
            "standoff": 15
           },
           "zerolinecolor": "white",
           "zerolinewidth": 2
          }
         }
        },
        "title": {
         "text": "Prior Distribution"
        }
       }
      },
      "image/png": "[encoded data removed]"
     },
     "metadata": {},
     "output_type": "display_data"
    }
   ],
   "source": [
    "dfu['prior_normalize'] = dfu['prior']/dfu['prior'].sum()\n",
    "\n",
    "fig = go.Figure()\n",
    "\n",
    "\n",
    "fig.add_trace(\n",
    "    go.Line(\n",
    "        x=dfu.index.to_numpy(),\n",
    "        y=dfu['prior_normalize'],\n",
    "        name='Uniform Prior'\n",
    "    )\n",
    ")\n",
    "\n",
    "fig.add_trace(\n",
    "    go.Line(\n",
    "        x=dfp.index.to_numpy(),\n",
    "        y=dfp['prior'],\n",
    "        name='Power Law Prior'\n",
    "    )\n",
    ")\n",
    "\n",
    "fig.update_layout(\n",
    "    title='Prior Distribution',\n",
    "    paper_bgcolor='rgba(0,0,0,0)',\n",
    "    plot_bgcolor='rgba(0,0,0,0)'\n",
    ")\n",
    "\n",
    "fig.show()"
   ]
  },
  {
   "cell_type": "code",
   "execution_count": 54,
   "id": "0c85d1bd-7474-46b3-b316-49b82e5c0155",
   "metadata": {},
   "outputs": [
    {
     "name": "stderr",
     "output_type": "stream",
     "text": [
      "/home/lucky/anaconda3/envs/python311/lib/python3.11/site-packages/plotly/graph_objs/_deprecations.py:378: DeprecationWarning:\n",
      "\n",
      "plotly.graph_objs.Line is deprecated.\n",
      "Please replace it with one of the following more specific types\n",
      "  - plotly.graph_objs.scatter.Line\n",
      "  - plotly.graph_objs.layout.shape.Line\n",
      "  - etc.\n",
      "\n",
      "\n"
     ]
    },
    {
     "data": {
      "application/vnd.plotly.v1+json": {
       "config": {
        "plotlyServerURL": "https://plot.ly"
       },
       "data": [
        {
         "mode": "lines",
         "name": "Uniform Prior",
         "type": "scatter",
         "x": {
          "bdata": "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",
          "dtype": "i2"
         },
         "y": {
          "bdata": "AAAAAAAAAAAAAAAAAAAAAAAAAAAAAAAAAAAAAAAAAAAAAAAAAAAAAAAAAAAAAAAAAAAAAAAAAAAAAAAAAAAAAAAAAAAAAAAAAAAAAAAAAAAAAAAAAAAAAAAAAAAAAAAAAAAAAAAAAAAAAAAAAAAAAAAAAAAAAAAAAAAAAAAAAAAAAAAAAAAAAAAAAAAAAAAAAAAAAAAAAAAAAAAAAAAAAAAAAAAAAAAAAAAAAAAAAAAAAAAAAAAAAAAAAAAAAAAAAAAAAAAAAAAAAAAAAAAAAAAAAAAAAAAAAAAAAAAAAAAAAAAAAAAAAAAAAAAAAAAAAAAAAAAAAAAAAAAAAAAAAAAAAAAAAAAAAAAAAAAAAAAAAAAAAAAAAAAAAAAAAAAAAAAAAAAAAAAAAAAAAAAAAAAAAAAAAAAAAAAAAAAAAAAAAAAAAAAAAAAAAAAAAAAAAAAAAAAAAAAAAAAAAAAAAAAAAAAAAAAAAAAAAAAAAAAAAAAAAAAAAAAAAAAAAAAAAAAAAAAAAAAAAAAAAAAAAAAAAAAAAAAAAAAAAAAAAAAAAAAAAAAAAAAAAAAAAAAAAAAAAAAAAAAAAAAAAAAAAAAAAAAAAAAAAAAAAAAAAAAAAAAAAAAAAAAAAAAAAAAAAAAAAAAAAAAAAAAAAAAAAAAAAAAAAAAAAAAAAAAAAAAAAAAAAAAAAAAAAAAAAAAAAAAAAAAAAAAAAAAAAAAAAAAAAAAAAAAAAAAAAAAAAAAAAAAAAAAAAAAAAAAAAAAAAAAAAAAAAAAAAAAAAAAAAAAAAAAAAAAAAAAAAAAAAAAAAAAAAAAAAAAAAAAAAAAAAAAAAAAAAAAAAAAAAAAAAAAAAAAAAAAAAAAAAAAAAAAAAAAAAAAAAAAAAAAAAAAAAAAAAAAAAAAAAAAAAAAAAAAAAAAAAAAAAAAAAAAAAAAAAAAAAAAAAERQbwecjJY/BRapJWPQlT/gIneHQhyVP/FFEfbLb5Q/OuJuMJjKkz/pn2BpRiyTPzNIYNB7lJI/4wIbJOMCkj/rmdNNLHeRP/QI0QQM8ZA/n8kheTtwkD9GlxwK8OiPP4EzSskF+44/LBiz5UEWjj9+jHXXNDqNP+aOqGZ1Zow/51enQaCaiz9wEzGbV9aKP4dat89CGYo/fwFFEQ5jiT9iW3QZarOIPy1L+OALCog/O4NGXKxmhz9lSvs8CMmGP2EhmLffMIY/qMtGTfadhT/polGZEhCFPz7QCCL+hoQ/CBvSLIUChD9xhCaVdoKDP7nrRaajBoM/GYpt99+Ogj/wPWJKARuCPwpoI2zfqoE/AZOeF1Q+gT8+RT/aOtWAP7k/Ofpwb4A/Dw9uXtUMgD/WeaLvkFp/P8JKYVhYoX4/K/KQhMftfT/hnhiepz99Pxu/IEjElnw/cAv/fevyez8oVRh07VN7P+DjlnqcuXo/dJvW4cwjej+9XWrgVJJ5P1cpoHoMBXk/Y1tra817eD+POJ4Oc/Z3P+V9XUzadHc/Ija6heH2dj+9b1+CaHx2P2K0Ql9QBXY/wU5HfnuRdT97gcV2zSB1P9/S5wYrs3Q/cH/RBXpIdD+kAYJWoeBzPzhqatuIe3M/owGqahkZcz8pXOjCPLlyP76sw4DdW3I/hbvKFOcAcj+scfq5RahxP7Jvt2zmUXE/eZ084rb9cD8tFXiApatwPxg0UFahW3A/5f5KFJoNcD9XxiQLAINvP0lroBKI7m4/5Di6GK9dbj+Ov3sGWdBtP6XB1chqRm0/xm+7Rcq/bD+3b8JRXjxsP4ibQKYOvGs/Q9Hg18M+az/MjqhNZ8RqP2hzaDjjTGo/FBeSiiLYaT/9+W3wEGZpPyebrMia9mg/3AxOHa2JaD8/oducNR9oP1WI75Mit2c/e3QG52JRZz+ekZcM5u1mP0RQbwecjGY/VbZJYXUtZj8FFqklY9BlP3E25txWdWU/4CJ3h0IcZT9T+2mZGMVkP/FFEfbLb2Q/oWLf608cZD864m4wmMpjP9ygtdyYemM/6Z9gaUYsYz9ktlarld9iPzNIYNB7lGI/qUzyW+5KYj/jAhsk4wJiP2XIjk5QvGE/65nTTSx3YT/Q2YnebTNhP/QI0QQM8WA/XjDHCf6vYD+fySF5O3BgPw8D3x68MWA/RpccCvDoXz+QPl7jznBfP4EzSskF+14/KMSAK4aHXj8sGLPlQRZeP/0wADwrp10/fox11zQ6XT9n47HCUc9cP+aOqGZ1Zlw/bzKEh5P/Wz/nV6dBoJpbP2u7yQaQN1s/cBMxm1fWWj81MAQT7HZaP4dat89CGVo/YueQfVG9WT9/AUURDmNZP+e1p8VuClk/Ylt0GWqzWD8rdynN9l1YPy1L+OALClg/vkPHkqC3Vz87g0ZcrGZXPzfTFfEmF1c/ZUr7PAjJVj+e/iliSHxWP2EhmLffMFY/l+xjx8bmVT+oy0ZN9p1VP5QzFjVnVlU/6aJRmRIQVT/MR73B8cpUPz7QCCL+hlQ/zO2BWDFEVD8IG9IshQJUP4k1x47zwVM/cYQmlXaCUz8Cx4l8CERTP7nrRaajBlM/oxNbl0LKUj8Zim33345SPwdcx492VFI/8D1iSgEbUj+ecvkwe+JRPwpoI2zfqlE/v8JyQil0UT8Bk54XVD5RP6NxsWtbCVE/PkU/2jrVUD/dcqEZ7qFQP7k/Ofpwb1A/wSu4Zb89UD8PD25e1QxQP8yMOf1duU8/1nmi75BaTz9VRoMkPP1OP8JKYVhYoU4/gumqct5GTj8r8pCEx+1NP7wD6ccMlk0/4Z4Ynqc/TT9qnAiPkepMPxu/IEjElkw/hxpLmzlETD9wC/996/JLP5KAUwjUoks/KFUYdO1TSz8CgfYbMgZLP+DjlnqcuUo/M3TPKSduSj90m9bhzCNKP92LfHiI2kk/vV1q4FSSST/6w2YoLUtJP1cpoHoMBUk/mAn8G+6/SD9jW2trzXtIPxvhQ+GlOEg/jzieDnP2Rz+tgricMLVHP+V9XUzadEc/Eu9P9Ws1Rz8iNrqF4fZGP+/soQE3uUY/vW9fgmh8Rj8vMBk2ckBGP2K0Ql9QBUY/HSUfVP/KRT/BTkd+e5FFP/D5MlrBWEU/e4HFds0gRT9UjN10nOlEP9/S5wYrs0Q/F9h08HV9RD9wf9EFekhEP2xpois0FEQ/pAGCVqHgQz9BKaGKvq1DPzhqatuIe0M/x58na/1JQz+jAapqGRlDP5J/9Bja6EI/KVzowjy5Qj+y9fPCPopCP76sw4DdW0I/z9j0cBYuQj+Fu8oU5wBCP6pj5flM1EE/rHH6uUWoQT+ur4/6znxBP7Jvt2zmUUE/6KLOzIknQT95nTzitv1AP5p6NH9r1EA/LRV4gKWrQD9YiRzNYoNAPxg0UFahW0A/AyYiF180QD/l/koUmg1AP+9P7regzj8/V8YkCwCDPz+uSyljTjg/P0lroBKI7j4/Hv6BfamlPj/kOLoYr10+P0ELzWmVFj4/jr97BlnQPT9Yy2yU9oo9P6XB1chqRj0/8VcnaLICPT/Gb7tFyr88P7sWhUOvfTw/t2/CUV48PD/4d7Bu1Ps7P4ibQKYOvDs/ggzQEQp9Oz9D0eDXwz47Pxh+1Cs5ATs/zI6oTWfEOj9pVbSJS4g6P2hzaDjjTDo/G9MPvisSOj8UF5KKItg5Pxt2NxnFnjk//flt8BBmOT8pGJChAy45PyebrMia9jg/PNRPDNS/OD/cDE4drYk4P68vj7YjVDg/P6HbnDUfOD+ZQKqe4Oo3P1WI75Mitzc/2MjtXfmDNz97dAbnYlE3Pwx3jCJdHzc/npGXDObtNj9stNip+7w2P0RQbwecjDY/fJm/OsVcNj9VtklhdS02PxTTgaCq/jU/BRapJWPQNT8QbqclnaI1P3E25txWdTU/PKorj45INT/gIneHQhw1P3sc3hdx8DQ/U/tpmRjFND+9jfZrN5o0P/FFEfbLbzQ/RCfZpNRFND+hYt/rTxw0P+qdCEU88zM/OuJuMJjKMz8gLUQ0YqIzP9ygtdyYejM/3k/PuzpTMz/pn2BpRiwzP0JB4YK6BTM/ZLZWq5XfMj/gaDqL1rkyPzNIYNB7lDI/H+/dLYRvMj+pTPJb7koyP37N7Re5JjI/4wIbJOMCMj8/xKdHa98xP2XIjk5QvDE/77OBCZGZMT/rmdNNLHcxP2HsY/UgVTE/0NmJ3m0zMT+wFQDsERIxP/QI0QQM8TA/tGhDFFvQMD9eMMcJ/q8wP0z94tjzjzA/n8kheTtwMD8YBAHm01AwPw8D3x68MTA/PNDpJvMSMD9GlxwK8OgvP/VGz4eTrC8/kD5e485wLz+teFhAoDUvP4EzSskF+y4/dWSer/3ALj8oxIArhocuPxlvwHudTi4/LBiz5UEWLj+RyRi1cd4tP/0wADwrpy0/gnSr0mxwLT9+jHXXNDotP3IguK6BBC0/Z+OxwlHPLD9ObW2Do5osP+aOqGZ1Ziw/PB2858UyLD9vMoSHk/8rPxDhSMzczCs/51enQaCaKz+Ac3t43GgrP2u7yQaQNys/rMiph7kGKz9wEzGbV9YqP54lXuZopio/NTAEE+x2Kj+aAbfP30cqP4dat89CGSo/35/fyhPrKT9i55B9Ub0pP1ddoKj6jyk/fwFFEQ5jKT9SuQWBijYpP+e1p8VuCik/3SsdsbneKD9iW3QZarMoP/fmxth+iCg/K3cpzfZdKD/PqZvY0DMoPy1L+OALCig/idflz6bgJz++Q8eSoLcnP20LrRr4jic/O4NGXKxmJz/6bdNPvD4nPzfTFfEmFyc/+BVEP+vvJj9lSvs8CMkmPw7JMfB8oiY/nv4pYkh8Jj/LdmWfaVYmP2EhmLffMCY/JNCbvakLJj+X7GPHxuYlP3Fk8e01wiU/qMtGTfadJT9Es1wEB3olP5QzFjVnViU/Fak1BBYzJT/polGZEhAlP/wByh5c7SQ/zEe9wfHKJD8TFP6x0qgkPz7QCCL+hiQ/84f5RnNlJD/M7YFYMUQkPzmL35A3IyQ/CBvSLIUCJD+GDZJrGeIjP4k1x47zwSM/mp1/2hKiIz9xhCaVdoIjPxyAewceYyM/AseJfAhEIz8inp9BNSUjP7nrRaajBiM/wu03/FLoIj+jE1uXQsoiP0n6ts1xrCI/GYpt99+OIj8oNrNujHEiPwdcx492VCI/hsPsuJ03Ij/wPWJKARsiPxZkW6ag/iE/nnL5MHviIT8ORERQkMYhPwpoI2zfqiE/GVdX7mePIT+/wnJCKXQhP/kA1NUiWSE/AZOeF1Q+IT+hxrR4vCMhP6NxsWtbCSE/AsfhZDDvID8+RT/aOtUgP3S9aUN6uyA/3XKhGe6hID8JUsHXlYggP7k/OfpwbyA/m34I/35WID/BK7hlvz0gP1jRVa8xJSA/Dw9uXtUMID9OsA7uU+kfP8yMOf1duR8/swMy+MeJHz/WeaLvkFofP8eIAPe3Kx8/VUaDJDz9Hj9bshmRHM8eP8JKYVhYoR4/iMScmO5zHj+C6apy3kYePxCa/QknGh4/K/KQhMftHT8qkeIKv8EdP7wD6ccMlh0/YE8L6a9qHT/hnhiepz8dPz4PQBnzFB0/apwIj5HqHD9mLUk2gsAcPxu/IEjElhw/gq3u/1ZtHD+HGkubOUQcPyxy/1lrGxw/cAv/fevyGz975V9LucobP5KAUwjUohs/YdIf/Tp7Gz8oVRh07VMbP1Ixl7nqLBs/AoH2GzIGGz8vrYnrwt8aP+DjlnqcuRo/HqdQHb6TGj8zdM8pJ24aP8WCC/jWSBo/dJvW4cwjGj+jBdZCCP8ZP92LfHiI2hk/wZYE4ky2GT+9XWrgVJIZP44tZtafbhk/+sNmKC1LGT9wwIs8/CcZP1cpoHoMBRk/fAUVTF3iGD+YCfwb7r8YP0VZAle+nRg/Y1tra817GD9boQvJGloYPxvhQ+GlOBg/eAH8Jm4XGD+POJ4Oc/YXPwE8Eg601Rc/rYK4nDC1Fz+dl2Uz6JQXP+V9XUzadBc/RCVPYwZVFz8S70/1azUXP2ND14AKFhc/Ija6heH2Fj+pOyeF8NcWP+/soQE3uRY/tdr+frSaFj+9b1+CaHwWP6ThLZJSXhY/LzAZNnJAFj/ZMhH3xiIWP2K0Ql9QBRY/KpwT+g3oFT8dJR9U/8oVP/YhMvsjrhU/wU5HfnuRFT85r4NtBXUVP/D5MlrBWBU/FRDE1q48FT97gcV2zSAVP+oc4s4cBRU/VIzddJzpFD/v/JD/S84UP9/S5wYrsxQ/XWjcIzmYFD8X2HTwdX0UP7/SvwfhYhQ/cH/RBXpIFD/pZsCHQC4UP2xpois0FBQ/7L6JkFT6Ez+kAYJWoeATP85CjR4axxM/QSmhir6tEz/2GaQ9jpQTPzhqatuIexM/VZuzCK5iEz/Hnydr/UkTP40pVKl2MRM/owGqahkZEz+KaHpX5QATP5J/9Bja6BI/47oiWffQEj8pXOjCPLkSP6r1/gGqoRI/svXzwj6KEj8+Oiaz+nISP76sw4DdWxI/z+XG2uZEEj/P2PRwFi4SPzOH2vNrFxI/hbvKFOcAEj/Ty9uFh+oRP6pj5flM1BE/M1V+JDe+ET+scfq5RagRP+NoaG94khE/rq+P+s58ET9Tbe4RSWcRP7Jvt2zmURE/IibQwqY8ET/oos7MiScRPzSj90OPEhE/eZ084rb9ED8o1jliAOkQP5p6NH9r1BA/I8IY9fe/ED8tFXiApasQP1M6h95zlxA/WIkczWKDED/nI64Kcm8QPxg0UFahWxA/hjCzb/BHED8DJiIXXzQQP8QGgQ3tIBA/5f5KFJoNED+qnCHby/QPP+9P7regzg8/7itqRbKoDz9XxiQLAIMPPzYTzJGJXQ8/rkspY044Dz+w3h0KThMPP0lroBKI7g4/bcS5CfzJDj8e/oF9qaUOPwOEHf2PgQ4/5Di6GK9dDj9Zn4xhBjoOP0ELzWmVFg4/Cdy0xFvzDT+Ov3sGWdANP4P9VMSMrQ0/WMtslPaKDT9FqOUNlmgNP6XB1chqRg0/UF9EXnQkDT/xVydosgINPzyNYIEk4Qw/xm+7Rcq/DD+yiupRo54MP7sWhUOvfQw/w5QEue1cDD+3b8JRXjwMP6Gl9a0AHAw/+HewbtT7Cz/nIt412dsLP4ibQKYOvAs/CVVuY3ScCz+CDNARCn0LP4ObnlbPXQs/Q9Hg18M+Cz83Umk85x8LPxh+1Cs5AQs/YFyGTrniCj/MjqhNZ8QKPzRKKNNCpgo/aVW0iUuICj8ODrscgWoKP2hzaDjjTAo/BjekiXEvCj8b0w++KxIKP6OmBIQR9Qk/FBeSiiLYCT+rt3uBXrsJPxt2NxnFngk/u8zrAlaCCT/9+W3wEGYJPyA9QJT1SQk/KRiQoQMuCT/tljTMOhIJPyebrMia9gg/pC0dTCPbCD881E8M1L8IP8vssL+spAg/3AxOHa2JCD8oZtTc1G4IP68vj7YjVAg/jRNmY5k5CD8/oducNR8IP4LECx34BAg/mUCqnuDqBz/5LwHd7tAHP1WI75Mitwc/4KLnf3udBz/YyO1d+YMHPzLEluubagc/e3QG52JRBz+nZ+4OTjgHPwx3jCJdHwc/L2ip4Y8GBz+ekZcM5u0GP5KDMWRf1QY/bLTYqfu8Bj/tMHSfuqQGP0RQbwecjAY/nGu4pJ90Bj98mb86xVwGP51sdY0MRQY/VbZJYXUtBj+MTCp7/xUGPxTTgaCq/gU/bYg2l3bnBT8FFqklY9AFP5VjsxJwuQU/EG6nJZ2iBT+EIU4m6osFP3E25txWdQU/IhIjEuNeBT88qiuPjkgFP2NrmR1ZMgU/4CJ3h0IcBT9Y6z+XSgYFP3sc3hdx8AQ/oj2q1LXaBD9T+2mZGMUEP7IfTzKZrwQ/vY32azeaBD9LP2cT84QEP/FFEfbLbwQ/es7M4cFaBD9EJ9mk1EUEPw3J2w0EMQQ/oWLf608cBD/05lIOuAcEP+qdCEU88wM/oTc1YNzeAz864m4wmMoDPzVirIZvtgM/IC1ENGKiAz/MhusKcI4DP9ygtdyYegM/u7wSfNxmAz/eT8+7OlMDP2IqE2+zPwM/6Z9gaUYsAz/CspN+8xgDP0JB4YK6BQM/XTXWSpvyAj9ktlarld8CP+tcnXmpzAI/4Gg6i9a5Aj+e+RK2HKcCPzNIYNB7lAI/neOusPOBAj8f790thG8CP5BiHh8tXQI/qUzyW+5KAj8+Fyy8xzgCP37N7Re5JgI/BGSoR8IUAj/jAhsk4wICP3xRUoYb8QE/P8SnR2vfAT817MBB0s0BP2XIjk5QvAE/6RhNSOWqAT/vs4EJkZkBP0vc+2xTiAE/65nTTSx3AT/vE2mHG2YBP2HsY/UgVQE/sZ2yczxEAT/Q2YnebTMBP+nqYxK1IgE/sBUA7BESAT9R/WFIhAEBP/QI0QQM8QA/zcrX/qjgAD+0aEMUW9AAPzwGIyMiwAA/XjDHCf6vAD+KSsGm7p8AP0z94tjzjwA/QaY9fw2AAD+fySF5O3AAPxSFHqZ9YAA/GAQB5tNQAD+a9dMYPkEAPw8D3x68MQA/40im2E0iAD880Okm8xIAPxUKpeqrAwA/RpccCvDo/z4fmCyvrsr/PvVGz4eTrP8+ZZbMV56O/z6QPl7jznD/PpzCLu8kU/8+rXhYQKA1/z5flGScQBj/PoEzSskF+/4+Z21tje/d/j51ZJ6v/cD+PulZGPcvpP4+KMSAK4aH/j4hZ+YUAGv+PhlvwHudTv4+fo3tKF4y/j4sGLPlQRb+PqUqvHtI+v0+kckYtXHe/T5fCD1cvcL9Pv0wADwrp/0+mO2bH7uL/T6CdKvSbHD9Pgu2KiFAVf0+fox11zQ6/T7/7UbCSh/9PnIguK6BBP0+Ue8/atnp/D5n47HCUc/8PpJ8PYbqtPw+Tm1tg6Oa/D4a2CaJfID8PuaOqGZ1Zvw+/lOK641M/D48HbznxTL8PoVYhSsdGfw+bzKEh5P/+z573qzMKOb7PhDhSMzczPs+MFv2V6+z+z7nV6dBoJr7PlQboVuvgfs+gHN7eNxo+z6uCiBrJ1D7Pmu7yQaQN/s+MuYDHxYf+z6syKmHuQb7PnLW5RR67vo+cBMxm1fW+j7eb1LvUb76Pp4lXuZopvo+Lxe1VZyO+j41MAQT7Hb6PlTHQ/RXX/o+mgG3z99H+j5fN+t7gzD6Podat89CGfo+NF47oh0C+j7fn9/KE+v5PulRVCEl1Pk+YueQfVG9+T5UgdO3mKb5PlddoKj6j/k+e0XBKHd5+T5/AUURDmP5PmnJfju/TPk+UrkFgYo2+T6GRrS7byD5Pue1p8VuCvk+nZM/eYf0+D7dKx2xud74Ph8FI0gFyfg+Ylt0GWqz+D61nHQA6J34Pvfmxth+iPg+r4ZNfi5z+D4rdynN9l34PqvjuaHXSPg+z6mb2NAz+D4E3ahO4h74Pi1L+OALCvg+VwLdbE319z6J1+XPpuD3Prvu3OcXzPc+vkPHkqC39z5gNOSuQKP3Pm0LrRr4jvc+6ozUtMZ69z47g0ZcrGb3PldNJ/CoUvc++m3TT7w+9z7yG99a5ir3PjfTFfEmF/c+Oud58n0D9z74FUQ/6+/2Pi8c47du3PY+ZUr7PAjJ9j75Gmavt7X2Pg7JMfB8ovY+f+ig4FeP9j6e/iliSHz2Pu4bd1ZOafY+y3Zln2lW9j7WBgUfmkP2PmEhmLffMPY+tRaTSzoe9j4k0Ju9qQv2PgtvifAt+fU+l+xjx8bm9T6CumMldNT1PnFk8e01wvU+XDKlBAyw9T6oy0ZN9p31PgnbzKv0i/U+RLNcBAd69T6z9Ek7LWj1PpQzFjVnVvU+Dp9w1rRE9T4VqTUEFjP1PgCvbqOKIfU+6aJRmRIQ9T6ztUDLrf70PvwByh5c7fQ+kDeneR3c9D7MR73B8cr0PpUSHN3YufQ+ExT+sdKo9D4UE8gm35f0Pj7QCCL+hvQ+wrV4ii929D7zh/lGc2X0PmwWlj7JVPQ+zO2BWDFE9D5kChl8qzP0PjmL35A3I/Q+52WBftUS9D4IG9IshQL0PmFrzING8vM+hg2Saxni8z5BZGvM/dHzPok1x47zwfM+F2I6m/qx8z6anX/aEqLzPoQndzU8kvM+cYQmlXaC8z4lOLjiwXLzPhyAewceY/M+vA7k7IpT8z4Cx4l8CETzPup4KKCWNPM+Ip6fQTUl8z6xF/JK5BXzPrnrRaajBvM+LATkPXP38j7C7Tf8UujyPqmXz8tC2fI+oxNbl0LK8j6vVqxJUrvyPkn6ts1xrPI+Ef6PDqGd8j4Zim33347yPpSxpnMugPI+KDazboxx8j6USyvU+WLyPgdcx492VPI+ysxfjQJG8j6Gw+y4nTfyPu3rhf5HKfI+8D1iSgEb8j5gxNeIyQzyPhZkW6ag/vE+eaOAj4bw8T6ecvkwe+LxPrfzlXd+1PE+DkREUJDG8T5zRRCosLjxPgpoI2zfqvE+jXTEiRyd8T4ZV1fuZ4/xPknqXIfBgfE+v8JyQil08T49+1INn2bxPvkA1NUiWfE+hWDoibRL8T4Bk54XVD7xPtLLIG0BMfE+oca0eLwj8T7ilbsohRbxPqNxsWtbCfE+3IYtMD/88D4Cx+FkMO/wPiO4mvgu4vA+PkU/2jrV8D4bj9D4U8jwPnS9aUN6u/A+gNA/qa2u8D7dcqEZ7qHwPtTL9oM7lfA+CVLB15WI8D50npsE/XvwPrk/Ofpwb/A+7o1mqPFi8D6bfgj/flbwPi95HO4YSvA+wSu4Zb898D4kYAlWcjHwPljRVa8xJfA+TgH7Yf0Y8D4PD25e1QzwPhmNO5W5APA+TrAO7lPp7z6i3BjpTNHvPsyMOf1due8+UU9CDIeh7z6zAzL4x4nvPieLNKMgcu8+1nmi75Ba7z7cyADAGEPvPseIAPe3K+8+x5R+d24U7z5VRoMkPP3uPpopQuEg5u4+W7IZkRzP7j5r8ZIXL7juPsJKYVhYoe4+MixiN5iK7j6IxJyY7nPuPmK7QWBbXe4+gumqct5G7j6pEVu0dzDuPhCa/QknGu4+XkZmWOwD7j4r8pCEx+3tPgtMoXO41+0+KpHiCr/B7T5aSccv26vtPrwD6ccMlu0+3xMIuVOA7T5gTwvpr2rtPiHM/z0hVe0+4Z4Ynqc/7T5smq7vQirtPj4PQBnzFO0+qYtwAbj/7D5qnAiPkersPtuN9ah/1ew+Zi1JNoLA7D60izkemavsPhu/IEjEluw+pKZ8mwOC7D6Cre7/Vm3sPu2OO12+WOw+hxpLmzlE7D4r+SeiyC/sPixy/1lrG+w+AjEhqyEH7D5wC/996/LrPhrILLvI3us+e+VfS7nK6z5XYW8XvbbrPpKAUwjUous+dZclB/6O6z5h0h/9OnvrPuD+nNOKZ+s+KFUYdO1T6z4QQi3IYkDrPlIxl7nqLOs+SVgxMoUZ6z4CgfYbMgbrPtXVAGHx8uo+L62J68Lf6j7mVemlpszqPuDjlnqcueo+HP0nVKSm6j4ep1AdvpPqPrgU48DpgOo+M3TPKSdu6j7VvSNDdlvqPsWCC/jWSOo+TLzPM0k26j50m9bhzCPqPvlYo+1hEeo+owXWQgj/6T7gWivNv+zpPt2LfHiI2uk+1ha/MGLI6T7BlgTiTLbpPmiVenhIpOk+vV1q4FSS6T6NzjgGcoDpPo4tZtafbuk+vPqNPd5c6T76w2YoLUvpPiv5wYOMOek+cMCLPPwn6T7cyso/fBbpPlcpoHoMBek+9SFH2qzz6D58BRVMXeLoPlAFeb0d0eg+mAn8G+6/6D6+h0BVzq7oPkVZAle+neg+xJIWD76M6D5jW2trzXvoPm/EB1rsaug+W6ELyRpa6D7+X6+mWEnoPhvhQ+GlOOg+K1EyZwIo6D54AfwmbhfoPn9BOg/pBug+jzieDnP25z68v/ATDObnPgE8Eg601ec+z3j662rF5z6tgricMLXnPkaCcg8Fpec+nZdlM+iU5z6hteX32YTnPuV9XUzadOc+sxxOIOlk5z5EJU9jBlXnPl9uDgUyRec+Eu9P9Ws15z69m+0jtCXnPmND14AKFuc+LG0S/G4G5z4iNrqF4fbmPkAv/w1i5+Y+qTsnhfDX5j4sb43bjMjmPu/soQE3ueY+csbp5+6p5j612v5+tJrmPqS1j7eHi+Y+vW9fgmh85j7tjUXQVm3mPqThLZJSXuY+LWkYuVtP5j4vMBk2ckDmPnEwWPqVMeY+2TIR98Yi5j6JsJMdBRTmPmK0Ql9QBeY+gbyUraj25T4qnBP6DejlPsVdXDaA2eU+HSUfVP/K5T7PER9Fi7zlPvYhMvsjruU+AxVBaMmf5T7BTkd+e5HlPqe6Ui86g+U+Oa+DbQV15T620Qwr3WblPvD5MlrBWOU+URZN7bFK5T4VEMTWrjzlPrSvEgm4LuU+e4HFds0g5T5eunoS7xLlPuoc4s4cBeU+bN68nlb35D5UjN10nOnkPrLxJ0Tu2+Q+7/yQ/0vO5D6vpR6atcDkPt/S5wYrs+Q++EAUOayl5D5daNwjOZjkPgBkibrRiuQ+F9h08HV95D4W2Qi5JXDkPr/SvwfhYuQ+Zm8k0KdV5D5wf9EFekjkPtDgcZxXO+Q+6WbAh0Au5D5rwoe7NCHkPmxpois0FOQ+pn/6yz4H5D7svomQVPrjPqZfWW117eM+pAGCVqHg4z7slCtA2NPjPs5CjR4ax+M+DVft5Wa64z5BKaGKvq3jPkcGDQEhoeM+9hmkPY6U4z7cWOg0BojjPjhqatuIe+M+CZLJJRZv4z5Vm7MIrmLjPnzC5HhQVuM+x58na/1J4z4PElXUtD3jPo0pVKl2MeM+wxIa30Il4z6jAapqGRnjPrkcFUH6DOM+imh6V+UA4z4eswaj2vTiPpJ/9Bja6OI+5vGLruPc4j7juiJZ99DiPh8EHA4VxeI+KVzowjy54j7XogVtbq3iPqr1/gGqoeI+Zpxsd++V4j6y9fPCPoriPvdjR9qXfuI+Pjoms/py4j5KqVxDZ2fiPr6sw4DdW+I+cPhAYV1Q4j7P5cba5kTiPnRhVON5OeI+z9j0cBYu4j7gJ8B5vCLiPjOH2vNrF+I+1nl01SQM4j6Fu8oU5wDiPuAuJqiy9eE+08vbhYfq4T4TjkykZd/hPqpj5flM1OE+sxsffT3J4T4zVX4kN77hPvVtk+Y5s+E+rHH6uUWo4T4ACVuVWp3hPuNoaG94kuE+5EHhPp+H4T6ur4/6znzhPpgoSZkHcuE+U23uEUln4T68eGtbk1zhPrJvt2zmUeE+JJHUPEJH4T4iJtDCpjzhPgxywvUTMuE+6KLOzIkn4T7FwSI/CB3hPjSj90OPEuE+7deQ0h4I4T55nTzitv3gPv/OU2pX8+A+KNY5YgDp4D4cnFzBsd7gPpp6NH9r1OA+Gy1Eky3K4D4jwhj197/gPpWMSZzKteA+LRV4gKWr4D4KDFCZiKHgPlM6h95zl+A+73PdR2eN4D5YiRzNYoPgPoY5GGZmeeA+5yOuCnJv4D6DusWyhWXgPhg0UFahW+A+Zn5I7cRR4D6GMLNv8EfgPlZ9ntUjPuA+AyYiF1804D6cbF8soirgPsQGgQ3tIOA+dxC7sj8X4D7l/koUmg3gPl2Tdyr8A+A+qpwh28v03z7+xN+rruHfPu9P7regzt8+ER8k8KG73z7uK2pFsqjfPvRuu6jRld8+V8YkCwCD3z5M3cRdPXDfPjYTzJGJXd8+N2N8mORK3z6uSyljTjjfPg62N+PGJd8+sN4dCk4T3z7vPGPJ4wDfPklroBKI7t4+xw9/1zrc3j5txLkJ/MnePtj/G5vLt94+Hv6Bfaml3j6YqdiilZPePgOEHf2Pgd4+sI9efphv3j7kOLoYr13ePjo/X77TS94+WZ+MYQY63j6qfJH0RijePkELzWmVFt4+2nmus/EE3j4J3LTEW/PdPogUb4/T4d0+jr97BlnQ3T6BHYkc7L7dPoP9VMSMrd0+W6is8Dqc3T5Yy2yU9ordPmdjgaK/ed0+RajlDZZo3T7b96PJeVfdPqXB1chqRt0+SXKj/mg13T5QX0RedCTdPuuy/tqME90+8VcnaLIC3T7p5SH55PHcPjyNYIEk4dw+dANk9HDQ3D7Gb7tFyr/cPnpXBGkwr9w+sorqUaOe3D4UESj0Io7cPrsWhUOvfdw+QdnXM0ht3D7DlAS57VzcPjlx/cafTNw+t2/CUV483D7mV2FNKSzcPqGl9a0AHNw+j3aoZ+QL3D74d7Bu1PvbPqbUUbfQ69s+5yLeNdnb2z6fUrTe7cvbPoibQKYOvNs+h2v8gDus2z4JVW5jdJzbPpv9KUK5jNs+ggzQEQp92z52GQ7HZm3bPoObnlbPXds+7tdItUNO2z5D0eDXwz7bPns2R7NPL9s+N1JpPOcf2z4P+kBoihDbPhh+1Cs5Ads+Vpg2fPPx2j5gXIZOueLaPiwn75eK09o+zI6oTWfE2j5nUvZkT7XaPjRKKNNCpto+n1eajUGX2j5pVbSJS4jaPg0I6rxgedo+Dg67HIFq2j530LKerFvaPmhzaDjjTNo+z8Z+3yQ+2j4GN6SJcS/aPs69kizJINo+G9MPvisS2j4wXuwzmQPaPqOmBIQR9dk+m0VApJTm2T4UF5KKItjZPi4r+Cy7ydk+q7d7gV672T5vCTF+DK3ZPht2NxnFntk+xU25SIiQ2T67zOsCVoLZPlkNDz4udNk+/flt8BBm2T4QP14Q/lfZPiA9QJT1Sdk+BPt+cvc72T4pGJChAy7ZPui+8xcaINk+7ZY0zDoS2T61t+e0ZQTZPiebrMia9tg+OhAt/tno2D6kLR1MI9vYPrlEO6l2zdg+PNRPDNS/2D5iey1sO7LYPsvssL+spNg+qOHA/SeX2D7cDE4drYnYPk8OUxU8fNg+KGbU3NRu2D5HaOBqd2HYPq8vj7YjVNg+HJICt9lG2D6NE2ZjmTnYPgXa7rJiLNg+P6HbnDUf2D6BrnQYEhLYPoLECx34BNg+XBf8oef31z6ZQKqe4OrXPjszhArj3dc++S8B3e7Q1z5puaENBMTXPlWI75Mit9c+D4B9Z0qq1z7goud/e53XPo4G09S1kNc+2MjtXfmD1z4mBO8SRnfXPjLEluubatc+wfqt3/pd1z57dAbnYlHXPsHNevnTRNc+p2fuDk441z7sXE0f0SvXPgx3jCJdH9c+ViOpEPIS1z4vaKnhjwbXPjPam402+tY+npGXDObt1j6RH7xWnuHWPpKDMWRf1dY+9SAoLSnJ1j5stNip+7zWPqZJhNLWsNY+7TB0n7qk1j7l9PkIp5jWPkRQbwecjNY+riM2k5mA1j6ca7ikn3TWPjs2aDSuaNY+fJm/OsVc1j4TqUCw5FDWPp1sdY0MRdY+utXvyjw51j5VtklhdS3WPtq2JEm2IdY+jEwqe/8V1j7qrwvwUArWPhTTgaCq/tU+RlhNhQzz1T5tiDaXdufVPqxJDc/o29U+BRapJWPQ1T4G8uiT5cTVPpVjsxJwudU+pWj2mgKu1T4QbqclnaLVPotGw6s/l9U+hCFOJuqL1T4sglOOnIDVPnE25txWddU+KU4gCxlq1T4iEiMS417VPlv7Fuu0U9U+PKorj45I1T7g3Zf3bz3VPmNrmR1ZMtU+SDV1+kkn1T7gIneHQhzVPsQX8r1CEdU+WOs/l0oG1T5cYMEMWvvUPnsc3hdx8NQ+CqAEso/l1D6iParUtdrUPuYRS3njz9Q+U/tpmRjF1D4KkpAuVbrUPrIfTzKZr9Q+bZc8nuSk1D69jfZrN5rUPpAwIZWRj9Q+Sz9nE/OE1D7hAnrgW3rUPvFFEfbLb9Q+9UzrTUNl1D56zszhwVrUPmnrgKtHUNQ+RCfZpNRF1D6HYK3HaDvUPg3J2w0EMdQ+d95IcaYm1D6hYt/rTxzUPitUkHcAEtQ+9OZSDrgH1D7HfCSqdv3TPuqdCEU889M+xfEI2Qjp0z6hNzVg3N7TPlw/o9S21NM+OuJuMJjK0z6u+7ltgMDTPjVirIZvttM+QeBzdWWs0z4gLUQ0YqLTPvrlVr1lmNM+zIbrCnCO0z56Y0cXgYTTPtygtdyYetM+4y2HVbdw0z67vBJ83GbTPvm7tEoIXdM+3k/PuzpT0z6MS8rJc0nTPmIqE2+zP9M+PQkdpvk10z7pn2BpRizTPns6XLOZItM+wrKTfvMY0z7FaZDFUw/TPkJB4YK6BdM+MZUasSf80j5dNdZKm/LSPgBfs0oV6dI+ZLZWq5Xf0j6KQGpnHNbSPutcnXmpzNI+K7+k3DzD0j7gaDqL1rnSPmGjHYB2sNI+nvkSthyn0j77MeQnyZ3SPjNIYNB7lNI+UmdbqjSL0j6d466w84HSPpw0Od64eNI+H+/dLYRv0j5Bv4WaVWbSPpBiHh8tXdI+HaKatgpU0j6pTPJb7krSPs4wIgrYQdI+PhcsvMc40j7yvBZtvS/SPn7N7Re5JtI+S93Bt7od0j4EZKhHwhTSPtW2u8LPC9I+4wIbJOMC0j6sR+pm/PnRPnxRUoYb8dE+5rOAfUDo0T4/xKdHa9/RPi6U/t+b1tE+NezAQdLN0T5HRi9oDsXRPmXIjk5QvNE+QD8p8Jez0T7pGE1I5arRPoFfTVI4otE+77OBCZGZ0T6dSEZp75DRPkvc+2xTiNE+zrQHEL1/0T7rmdNNLHfRPjjQzSGhbtE+7xNphxtm0T7fkxx6m13RPmHsY/UgVdE+OiK/9KtM0T6xnbJzPETRPnslx23SO9E+0NmJ3m0z0T58L4zBDivRPunqYxK1ItE+ShurzGAa0T6wFQDsERLRPj1wBWzICdE+Uf1hSIQB0T62xsB8RfnQPvQI0QQM8dA+cC5G3Nfo0D7Nytf+qODQPjqWQWh/2NA+tGhDFFvQ0D50NaH+O8jQPjwGIyMiwNA+1PaUfQ240D5eMMcJ/q/QPtjkjcPzp9A+ikrBpu6f0D6Slz2v7pfQPkz94tjzj9A++qOVH/6H0D5Bpj1/DYDQPrsMx/MheNA+n8kheTtw0D5QtEELWmjQPhSFHqZ9YNA+rdCzRaZY0D4YBAHm01DQPjpgCYMGSdA+mvXTGD5B0D4toGujejnQPg8D3x68MdA+VYRAhwIq0D7jSKbYTSLQPjEwKg+eGtA+PNDpJvMS0D5VcQYcTQvQPhUKpeqrA9A+dXbcHR/4zz5GlxwK8OjPPoRIapLK2c8+H5gsr67Kzz45yNFYnLvPPvVGz4eTrM8+xqahNJSdzz5llsxXno7PPgnZ2umxf88+kD5e485wzz7Hm+889WHPPpzCLu8kU88+fXrC8l1Ezz6teFhAoDXPPptYpdDrJs8+X5RknEAYzz4TfVicngnPPoEzSskF+84+caAJHHbszj5nbW2N793OPjD9UhZyz84+dWSer/3Azj6DYjpSkrLOPulZGPcvpM4+Tkkwl9aVzj4oxIArhofOPpDrDq0+ec4+IWfmFABrzj7hXRlcylzOPhlvwHudTs4+Xqv6bHlAzj5+je0oXjLOPqLzxKhLJM4+LBiz5UEWzj4Li/DYQAjOPqUqvHtI+s0+IR1bx1jszT6RyRi1cd7NPiHRRj6T0M0+Xwg9XL3CzT6VcFkI8LTNPv0wADwrp80+OJCb8G6ZzT6Y7Zsfu4vNPqa6d8IPfs0+gnSr0mxwzT5bnblJ0mLNPgu2KiFAVc0+hTeNUrZHzT5+jHXXNDrNPvwKfqm7LM0+/+1GwkofzT4pT3Yb4hHNPnIguK6BBM0+5CW+dSn3zD5R7z9q2enMPjLS+oWR3Mw+Z+OxwlHPzD4V8S0aGsLMPpJ8PYbqtMw+MbS0AMOnzD5ObW2Do5rMPi8eRwiMjcw+GtgmiXyAzD5GQff/dHPMPuaOqGZ1Zsw+TH8wt31ZzD7+U4rrjUzMPt7Ltv2lP8w+PB2858UyzD4g8KWj7SXMPoVYhSsdGcw+b9BweVQMzD5vMoSHk//LPq6z4E/a8ss+e96szCjmyz54jBT4ftnLPhDhSMzczMs+5kOAQ0LAyz4wW/ZXr7PLPj4G7AMkp8s+51enQaCayz4XkXMLJI7LPlQboVuvgcs+UoOFLEJ1yz6Ac3t43GjLPq+u4jl+XMs+rgogaydQyz75ap0G2EPLPmu7yQaQN8s+6uoYZk8ryz4y5gMfFh/LPpGSCCzkEss+rMiph7kGyz5aT28slvrKPnLW5RR67so+pvGeO2Xiyj5wEzGbV9bKPvKHNy5Ryso+3m9S71G+yj6AuybZWbLKPp4lXuZopso+jy6nEX+ayj4vF7VVnI7KPgPcP63Agso+NTAEE+x2yj6zeMOBHmvKPlTHQ/RXX8o+8dVPZZhTyj6aAbfP30fKPr1FTS4uPMo+Xzfre4Mwyj5UAG6z3yTKPodat89CGco+L4uty6wNyj40XjuiHQLKPmEhUE6V9sk+35/fyhPryT5xHeISmd/JPulRVCEl1Mk+hmQ38bfIyT5i55B9Ub3JPu7SasHxsck+VIHTt5imyT4Pqt1bRpvJPlddoKj6j8k+sv82mbWEyT57RcEod3nJPnkuY1I/bsk+fwFFEQ5jyT7rR5Ng41fJPmnJfju/TMk+f4c8naFByT5SuQWBijbJPjbHF+J5K8k+hka0u28gyT5C9SAJbBXJPue1p8VuCsk+IIuW7Hf/yD6dkz95h/TIPtEF+Wad6cg+3SsdsbneyD5VXwpT3NPIPh8FI0gFycg+ZInNizS+yD5iW3QZarPIPmfpheylqMg+tZx0AOidyD6I1bZQMJPIPvfmxth+iMg+BxMjlNN9yD6vhk1+LnPIPsVVzJKPaMg+K3cpzfZdyD7FwPIoZFPIPqvjuaHXSMg+IWgUM1E+yD7PqZvY0DPIPtvT7I1WKcg+BN2oTuIeyD7vg3QWdBTIPi1L+OALCsg+knXgqan/xz5XAt1sTfXHPmKpoSX36sc+idflz6bgxz7QqmRnXNbHPrvu3OcXzMc+kRgRTdnBxz6+Q8eSoLfHPh4uybRtrcc+YDTkrkCjxz5YTul8GZnHPm0LrRr4jsc+CY8HhNyExz7qjNS0xnrHPrNF86i2cMc+O4NGXKxmxz4rlbTKp1zHPldNJ/CoUsc+VvyLyK9Ixz76bdNPvD7HPuHl8YHONMc+8hvfWuYqxz73OJbWAyHHPjfTFfEmF8c+/epfpk8Nxz4653nyfQPHPi2SbNGx+cY++BVEP+vvxj5V+Q84KubGPi8c47du3MY+YrTTurjSxj5lSvs8CMnGPvq1djpdv8Y++Rpmr7e1xj705eyXF6zGPg7JMfB8osY+u7hetOeYxj5/6KDgV4/GPr/HKHHNhcY+nv4pYkh8xj6uatuvyHLGPu4bd1ZOacY+jlE6Utlfxj7LdmWfaVbGPt4fPDr/TMY+1gYFH5pDxj6DCApKOjrGPmEhmLffMMY+jmr/Y4onxj61FpNLOh7GPgRvqWrvFMY+JNCbvakLxj5Fp8ZAaQLGPgtvifAt+cU+lqxGyffvxT6X7GPHxubFPkfASeea3cU+grpjJXTUxT7KbCB+UsvFPnFk8e01wsU+mCdLcR65xT5cMqUEDLDFPunzeaT+psU+qMtGTfadxT5GBoz78pTFPgnbzKv0i8U+yGiPWvuCxT5Es1wEB3rFPj2gwKUXccU+s/RJOy1oxT4cUorBR1/FPpQzFjVnVsU+KOuEkotNxT4On3DWtETFPulGdv3iO8U+Fak1BBYzxT7nV1HnTSrFPgCvbqOKIcU+otA1NcwYxT7polGZEhDFPkbNb8xdB8U+s7VAy63+xD4ufneSAvbEPvwByh5c7cQ+F9PwbLrkxD6QN6d5HdzEPvkmq0GF08Q+zEe9wfHKxD7S7KD2YsLEPpUSHN3YucQ+21z3cVOxxD4TFP6x0qjEPsEi/plWoMQ+FBPIJt+XxD5JDC9VbI/EPj7QCCL+hsQ+27gtipR+xD7CtXiKL3bEPqVJxx/PbcQ+84f5RnNlxD5gEvL8G13EPmwWlj7JVMQ+7UrNCHtMxD7M7YFYMUTEPm7BoCrsO8Q+ZAoZfKszxD4QjdxJbyvEPjmL35A3I8Q+qcEYTgQbxD7nZYF+1RLEPr4jFR+rCsQ+CBvSLIUCxD5L3bikY/rDPmFrzING8sM+OzMSxy3qwz6GDZJrGeLDPms7Vm4J2sM+QWRrzP3Rwz5Rk+CC9snDPok1x47zwcM+Shcz7fS5wz4XYjqb+rHDPnSa9ZUEqsM+mp1/2hKiwz5Fn/VlJZrDPoQndzU8ksM+iBAmRleKwz5xhCaVdoLDPiX7nh+aesM+JTi44sFywz5hSJ3b7WrDPhyAewceY8M+v3iCY1Jbwz68DuTsilPDPnBf1KDHS8M+AseJfAhEwz5Z3jx9TTzDPup4KKCWNMM+r6KJ4uMswz4inp9BNSXDPhfiq7qKHcM+sRfySuQVwz5YGLjvQQ7DPrnrRaajBsM+qMXlawn/wj4sBOQ9c/fCPm8tjxnh78I+wu03/FLowj6hFTHjyODCPqmXz8tC2cI+qoZqs8DRwj6jE1uXQsrCPs+L/HTIwsI+r1asSVK7wj4b9MkS4LPCPkn6ts1xrMI+3xPXdwelwj4R/o8OoZ3CPqOGSY8+lsI+GYpt99+Owj6w8WdEhYfCPpSxpnMugMI++caZgtt4wj4oNrNujHHCPrUIZzVBasI+lEsr1Pliwj5LDXhItlvCPgdcx492VMI+1kOVpzpNwj7KzF+NAkbCPiT5pj7OPsI+hsPsuJ03wj4hHbX5cDDCPu3rhf5HKcI+0wjnxCIiwj7wPWJKARvCPr9Eg4zjE8I+YMTXiMkMwj7MT+88swXCPhZkW6ag/sE+pGavwpH3wT55o4CPhvDBPndLZgp/6cE+nnL5MHviwT5VDtUAe9vBPrfzlXd+1ME+1dXakoXNwT4ORERQkMbBPlGodK2ev8E+c0UQqLC4wT6ANb09xrHBPgpoI2zfqsE+f6DsMPyjwT6NdMSJHJ3BPmFKWHRAlsE+GVdX7mePwT4SnXL1kojBPknqXIfBgcE+uNbKofN6wT6/wnJCKXTBPn/VDGdibcE+PftSDZ9mwT7O4wAz31/BPvkA1NUiWcE+54SL82lSwT6FYOiJtEvBPvdBrZYCRcE+AZOeF1Q+wT6Bd4IKqTfBPtLLIG0BMcE+RyNDPV0qwT6hxrR4vCPBPn+yQh0fHcE+4pW7KIUWwT6R0O+Y7g/BPqNxsWtbCcE+BDbUnssCwT7chi0wP/zAPh14lB229cA+AsfhZDDvwD6S2O8DrujAPiO4mvgu4sA+2RXAQLPbwD4+RT/aOtXAPg==",
          "dtype": "f8"
         }
        },
        {
         "mode": "lines",
         "name": "Power Law",
         "type": "scatter",
         "x": {
          "bdata": "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",
          "dtype": "f8"
         },
         "y": {
          "bdata": "AAAAAAAAAAAAAAAAAAAAAAAAAAAAAAAAAAAAAAAAAAAAAAAAAAAAAAAAAAAAAAAAAAAAAAAAAAAAAAAAAAAAAAAAAAAAAAAAAAAAAAAAAAAAAAAAAAAAAAAAAAAAAAAAAAAAAAAAAAAAAAAAAAAAAAAAAAAAAAAAAAAAAAAAAAAAAAAAAAAAAAAAAAAAAAAAAAAAAAAAAAAAAAAAAAAAAAAAAAAAAAAAAAAAAAAAAAAAAAAAAAAAAAAAAAAAAAAAAAAAAAAAAAAAAAAAAAAAAAAAAAAAAAAAAAAAAAAAAAAAAAAAAAAAAAAAAAAAAAAAAAAAAAAAAAAAAAAAAAAAAAAAAAAAAAAAAAAAAAAAAAAAAAAAAAAAAAAAAAAAAAAAAAAAAAAAAAAAAAAAAAAAAAAAAAAAAAAAAAAAAAAAAAAAAAAAAAAAAAAAAAAAAAAAAAAAAAAAAAAAAAAAAAAAAAAAAAAAAAAAAAAAAAAAAAAAAAAAAAAAAAAAAAAAAAAAAAAAAAAAAAAAAAAAAAAAAAAAAAAAAAAAAAAAAAAAAAAAAAAAAAAAAAAAAAAAAAAAAAAAAAAAAAAAAAAAAAAAAAAAAAAAAAAAAAAAAAAAAAAAAAAAAAAAAAAAAAAAAAAAAAAAAAAAAAAAAAAAAAAAAAAAAAAAAAAAAAAAAAAAAAAAAAAAAAAAAAAAAAAAAAAAAAAAAAAAAAAAAAAAAAAAAAAAAAAAAAAAAAAAAAAAAAAAAAAAAAAAAAAAAAAAAAAAAAAAAAAAAAAAAAAAAAAAAAAAAAAAAAAAAAAAAAAAAAAAAAAAAAAAAAAAAAAAAAAAAAAAAAAAAAAAAAAAAAAAAAAAAAAAAAAAAAAAAAAAAAAAAAAAAAAAAAAAAAAAAAAAAAAAAAAAAAAAAAAAAAAAAAAAAAAAAAAAAAAAAAAAAAAAAAAAAAAAAKgzpkJOyaA/DXztBoEPoD98K67hRb+eP2DJCiElcp0/VpddlXQ2nD++8jW7HgubPxhKlPoh75k/98XYCI/hmD8ceCNwh+GXP4qObDg87pY/TFUCr+wGlj+jCXZJ5SqVP4MkUaF+WZQ/aiU0hhySkz8OKz8kLdSSP+jK3DwoH5I/vHk5cI5ykT/aMt6V6M2QP66MDCPHMJA/Az87O4M1jz+VH4k07BaOP3tAY4oRBY0/L5VX6Eb/iz9ysJqC6gSLP3kuSFtkFYo/N7QPliUwiT9BURTZp1SIP7g64blsgoc/7BBxNf24hj+NgFwy6feFP19ZWgzHPoU/+mhOKDONhD83vjWQz+KDP8CkTpZDP4M/a9Pofjuigj+vG1cwaAuCPxGGh+h+eoE/OVHR9zjvgD/k1pGAU2mAP6MRdHYe0X8/hTTsfGDZfj+DLkCW++p9P2VkaTeEBX0/NwQPbpQofD/dr/KLy1N7PzOE8NfNhno/NrIqRETBeT8qHQEp3AJ5P0f5fARHS3g/dkrfPTqadz/McAftbu92P8m2bKWhSnY/GSBrRJKrdT/0kajCAxJ1Pw3iWwi8fXQ/Nm9DxIPucz+TqBxFJmRzP75bcVVx3nI/z86SGTVdcj+Pl53vQ+BxP57RY1FyZ3E/qs8duJbycD9orcOBiYFwP8dC9NckFHA/Q9afMIlUbz/tvV58jIduP00OQZsRwW0/j3Ipf9kAbT+7b1rep0ZsP/ZBKBBDkms/H1mi63Pjaj8leBWoBTpqP0yPSb/FlWk/jlhg0YP2aD+BiDuKEVxoP3oPU4hCxmc/RHLlROw0Zz+tsG395admP62FS54IH2Y/tAmMri6aZT/I5sE8NBllP8Rg3cz2m2Q/KnP1RlUiZD/2M/TmL6xjP+SIGS1oOWM/fApIz+DJYj+HsRCrfV1iP8Gecrgj9GE/Z/RE/biNYT/gVUGBJCphP6gzpkJOyWA/dpJoKx9rYD8NfO0GgQ9gP8B+h/C8bF8/fCuu4UW/Xj/iVCxPdRZeP2DJCiElcl0/p11xqTDSXD9Wl12VdDZcP9U1Et7Onls/vvI1ux4LWz9hX5iVRHtaPxhKlPoh71k/SJIHkJlmWT/3xdgIj+FYP5RSAxrnX1g/HHgjcIfhVz9dj3ulVmZXP4qObDg87lY/rwxcgiB5Vj9MVQKv7AZWPzBoG7SKl1U/owl2SeUqVT8nSVzh58BUP4MkUaF+WVQ/JCgfW5b0Uz9qJTSGHJJTP9tMRjn/MVM/Dis/JC3UUj/aNmmKlXhSP+jK3DwoH1I/ko4pldXHUT+8eTlwjnJRPwbEailEH1E/2jLelejNUD95W/f/bX5QP66MDCPHMFA/hmSITs7JTz8DPzs7gzVPP0qSRviUpE4/lR+JNOwWTj8Zp6pacoxNP3tAY4oRBU0/I60HkrSATD8vlVfoRv9LP4DGiqa0gEs/crCaguoESz/kecXJ1YtKP3kuSFtkFUo/9Z9No4ShST83tA+WJTBJPyP1KKs2wUg/QVEU2adUSD/SFNmQaepHP7g64blsgkc/1Er4raIcRz/sEHE1/bhGP9iKcINuV0Y/jYBcMun3RT8QSmxAYJpFP19ZWgzHPkU/HC41UhHlRD/6aE4oM41EP2fDRvwgN0Q/N741kM/iQz+F5+v3M5BDP8CkTpZDP0M/+3nMGvTvQj9r0+h+O6JCP5lg3gMQVkI/rxtXMGgLQj85ITnOOsJBPxGGh+h+ekE/XGJWySs0QT85UdH3OO9AP9ysUzaeq0A/5NaRgFNpQD/r49IJUShAP6MRdHYe0T8/tV0+ZA1UPz+FNOx8YNk+P34qh8IJYT4/gy5AlvvqPT+sy461KHc9P2VkaTeEBT0/xHaViQGWPD83BA9ulCg8P9k/hvgwvTs/3a/yi8tTOz8o9zrYWOw6PzOE8NfNhjo/U2oezh8jOj82sipERME5PwN1yQcxYTk/Kh0BKdwCOT/yLT/4O6Y4P0f5fARHSzg/iLFzGfTxNz92St89Opo3P0Siz7EQRDc/zHAH7W7vNj8tgGidTJw2P8m2bKWhSjY/VH+rGmb6NT8ZIGtEkqs1P7eWPZoeXjU/9JGowgMSNT/QJtiROsc0Pw3iWwi8fTQ/9NrtUYE1ND82b0PEg+4zP7dT5928qDM/k6gcRSZkMz8rwsrGuSAzP75bcVVx3jI/C+skCEedMj/PzpIZNV0yP/UUDec1HjI/j5ed70PgMT/nMSDTWaMxP57RY1FyZzE/uilSSYgsMT+qzx24lvIwP1yMdriYuTA/aK3DgYmBMD83JGRnZEowP8dC9NckFDA//c4xuYy9Lz9D1p8wiVQvP/RKi4427S4/7b1efIyHLj/BDVXTgiMuP00OQZsRwS0/pyBeCTFgLT+Pcil/2QAtP3SfQ4kDoyw/u29a3qdGLD+fdBpev+srP/ZBKBBDkis/8QghIyw6Kz8fWaLrc+MqP8rOWOMTjio/JXgVqAU6Kj8PvOn6QucpP0yPSb/FlSk/E8cz+odFKT+OWGDRg/YoP7VXdIqzqCg/gYg7ihFcKD9mV+dTmBAoP3oPU4hCxic/qCVN5Qp9Jz9EcuVE7DQnP/IywJzh7SY/rbBt/eWnJj9JZsaR9GImP62FS54IHyY/ZrqLgB3cJT+0CYyuLpolP1ixNLY3WSU/yObBPDQZJT8kWjj+H9okP8Rg3cz2myQ/L6yykLReJD8qc/VGVSIkP4fzoAHV5iM/9jP05i+sIz/67fowYnIjP+SIGS1oOSM/dw+cOz4BIz98CkjP4MkiPzsr8WxMkyI/h7EQq31dIj+ieV8xcSgiP8Gecrgj9CE/059aCZLAIT9n9ET9uI0hP3AAIH2VWyE/4FVBgSQqIT/eMw4RY/kgP6gzpkJOySA/vhOQOuOZID92kmgrH2sgP3dJk1X/PCA/DXztBoEPID+ilQU1Q8UfP8B+h/C8bB8/iEZ8KWoVHz98K67hRb8eP6yoDTNLah4/4lQsT3UWHj9G+bp+v8MdP2DJCiElch0/CqeRq6EhHT+nXXGpMNIcP0jAAbvNgxw/VpddlXQ2HD+ySvIBIeobP9U1Et7Onhs/7ZOJGnpUGz++8jW7HgsbPzgboNa4who/YV+YlUR7Gj+lPdUyvjQaPxhKlPoh7xk/cU49SmyqGT9IkgeQmWYZP1k9oUqmIxk/98XYCI/hGD8lXkhpUKAYP5RSAxrnXxg/dE5F2E8gGD8ceCNwh+EXP35aP7yKoxc/XY97pVZmFz+8H7Ii6CkXP4qObDg87hY/soOd+E+zFj+vDFyCIHkWP3dooAGrPxY/TFUCr+wGFj9T1njP4s4VPzBoG7SKlxU/DZvkueFgFT+jCXZJ5SoVP4Ck3daS9RQ/J0lc4efAFD8PnS3z4YwUP4MkUaF+WRQ/oo1Ui7smFD8kKB9blvQTP4KCvsQMwxM/aiU0hhySEz+4ZkRnw2ETP9tMRjn/MRM/vXz01s0CEz8OKz8kLdQSP2oLHw4bphI/2jZpipV4Ej/xA6SXmksSP+jK3DwoHxI/949+iTzzET+SjimV1ccRPzqgi3/xnBE/vHk5cI5yET/GuYiWqkgRPwbEailEHxE/+2NIZ1n2ED/aMt6V6M0QPwS8GQLwpRA/eVv3/21+ED9T0mDqYFcQP66MDCPHMBA/OpVdEp8KED+GZIhOzskPP+tQPq47fw8/Az87O4M1Dz+vSUP5oewOP0qSRviUpA4/gKkoVFldDj+VH4k07BYOP1Q1jcxK0Q0/GaeqWnKMDT+bi3MoYEgNP3tAY4oRBQ0/Dl6s34PCDD8jrQeStIAMP5gYhBWhPww/L5VX6Eb/Cz9d+rCSo78LP4DGiqa0gAs/d8l+v3dCCz9ysJqC6gQLPxRuNZ4KyAo/5HnFydWLCj+V4rfFSVAKP3kuSFtkFQo/YwVZXCPbCT/1n02jhKEJP8L34xKGaAk/N7QPliUwCT9k0NUfYfgIPyP1KKs2wQg/ZYTGOqSKCD9BURTZp1QIP4UB/5c/Hwg/0hTZkGnqBz/qjTrkI7YHP7g64blsggc/mZeRQEJPBz/USvitohwHP5U0jD6M6gY/7BBxNf24Bj8mqFrc84cGP9iKcINuVwY/oFYygWsnBj+NgFwy6fcFP72izfnlyAU/EEpsQGCaBT+xQQ11VmwFP19ZWgzHPgU/WKS5gLARBT8cLjVSEeUEP+UiYwbouAQ/+mhOKDONBD8jqV9I8WEEP2fDRvwgNwQ/UK7k3sAMBD83vjWQz+IDP59SPLVLuQM/hefr9zOQAz+qiBQHh2cDP8CkTpZDPwM/dT7nXWgXAz/7ecwa9O8CP1SEeo7lyAI/a9PofjuiAj+0vHe29HsCP5lg3gMQVgI/cOkYOowwAj+vG1cwaAsCP0E268Gi5gE/OSE5zjrCAT8u6aU4L54BPxGGh+h+egE/pOsUyShXAT9cYlbJKzQBP0cnFtyGEQE/OVHR9zjvAD9x+qgWQc0AP9ysUzaeqwA/9A8PWE+KAD/k1pGAU2kAP6Xt/bepSAA/6+PSCVEoAD+flOCESAgAP6MRdHYe0f8+xSlRhEiS/z61XT5kDVT/PqD5W01rFv8+hTTsfGDZ/j7AJjs265z+Pn4qh8IJYf4+yaPpcLol/j6DLkCW++r9PiwwFo3LsP0+rMuOtSh3/T4yNU91ET79PmVkaTeEBf0+FiNHbH/N/D7EdpWJAZb8PihjMAoJX/w+NwQPbpQo/D7Y/S86ovL7Ptk/hvgwvfs+chzmNz+I+z7dr/KLy1P7PoCXC43UH/s+KPc62Fjs+j7nyiMPV7n6PjOE8NfNhvo+0vBB3btU+j5Tah7OHyP6PpdM4V348fk+NrIqRETB+T6Sdc88ApH5PgN1yQcxYfk+Yhkoac8x+T4qHQEp3AL5PpGTYRNW1Pg+8i0/+Dum+D7cvmmrjHj4Pkf5fARHS/g+B2vS3mke+D6IsXMZ9PH3PmrnDJfkxfc+dkrfPTqa9z53GLT38273PkSiz7EQRPc+3ZPkXI8Z9z7McAftbu/2Pq5DolmuxfY+LYBonUyc9j5jFku2SHP2Psm2bKWhSvY+AUYWb1Yi9j5Uf6saZvr1PmbFn7LP0vU+GSBrRJKr9T7WZn/grIT1PreWPZoeXvU+U1Prh+Y39T70kajCAxL1PiBuZWZ17PQ+0CbYkTrH9D7EQ3NmUqL0Pg3iWwi8ffQ+UydgnnZZ9D702u1RgTX0Po8kCU/bEfQ+Nm9DxIPu8z6acLLiecvzPrdT5928qPM+UQbm60uG8z6TqBxFJmTzPnseWyRLQvM+K8LKxrkg8z7eNuZrcf/yPr5bcVVx3vI+Nl5xx7i98j4L6yQIR53yPut9/F8bffI+z86SGTVd8j6kXKWBkz3yPvUUDec1HvI+zxe3mhv/8T6Pl53vQ+DxPkrUwDquwfE+5zEg01mj8T77aLMRRoXxPp7RY1FyZ/E+6scF791J8T66KVJJiCzxPi/t38BwD/E+qs8duJby8D6mHEyT+dXwPlyMdriYufA+Zjluj3Od8D5orcOBiYHwPhEEwfrZZfA+NyRkZ2RK8D6/Dlk2KC/wPsdC9NckFPA++W1afLPy7z79zjG5jL3vPmnwyFDUiO8+Q9afMIlU7z6w1FFJqiDvPvRKi4427e4+LoT/9iy67j7tvV58jIfuPohTTBtUVe4+wQ1V04Ij7j5HluWmF/LtPk0OQZsRwe0+ycd3uG+Q7T6nIF4JMWDtPsZ/g5tUMO0+j3Ipf9kA7T5S6zrHvtHsPnSfQ4kDo+w+G4Vn3aZ07D67b1rep0bsPijLV6kFGew+n3QaXr/r6z5PsdQe1L7rPvZBKBBDkus+ApMeWQtm6z7xCCEjLDrrPlZo8ZmkDus+H1mi63Pj6j6/BJBImbjqPsrOWOMTjuo+hifW8OJj6j4leBWoBTrqPkEoUUJ7EOo+D7zp+kLn6T4lC18PXL7pPkyPSb/Flek++cpTTH9t6T4TxzP6h0XpPuunpA7fHek+jlhg0YP26D6QTBmMdc/oPrVXdIqzqOg+QJsCGj2C6D6BiDuKEVzoPlX4diwwNug+ZlfnU5gQ6D6S5pNVSevnPnoPU4hCxuc+wMzERIOh5z6oJU3lCn3nPum8DsbYWOc+RHLlROw05z62FmHBRBHnPvIywJzh7eY+2d/qOcLK5j6tsG395afmPrqudE1MheY+SWbGkfRi5j51BL8z3kDmPq2FS54IH+Y+1vTkPXP95T5muouAHdzlPqb7wtUGu+U+tAmMri6a5T7b32F9lHnlPlixNLY3WeU+NIZlzhc55T7I5sE8NBnlPgaWf3mM+eQ+JFo4/h/a5D5a0+VF7rrkPsRg3cz2m+Q++RLMEDl95D4vrLKQtF7kPs6t4cxoQOQ+KnP1RlUi5D5RWdKBeQTkPofzoAHV5uM+fkzKS2fJ4z72M/TmL6zjPpqY/Vouj+M++u36MGJy4z57njLzylXjPuSIGS1oOeM+q4lPazkd4z53D5w7PgHjPh676ix25eI+fApIz+DJ4j5jDt6zfa7iPjsr8WxMk+I+UOTcjUx44j6HsRCrfV3iPnjfDFrfQuI+onlfMXEo4j61PqHIMg7iPsGecrgj9OE+FMN4mkPa4T7Tn1oJksDhPuUOvqAOp+E+Z/RE/biN4T4tbIq8kHThPnAAIH2VW+E+b+mK3sZC4T7gVUGBJCrhPhq8pwauEeE+3jMOEWP54D6F2K1DQ+HgPqgzpkJOyeA+3a/6soOx4D6+E5A645ngPtUEKoBsguA+dpJoKx9r4D53yMXk+lPgPndJk1X/POA+0vD3Jywm4D4NfO0GgQ/gPiR3fDz78d8+opUFNUPF3z7Cnj9S2ZjfPsB+h/C8bN8+cF3Jbe1A3z6IRnwpahXfPp/fnYQy6t4+fCuu4UW/3j6SWquko5TePqyoDTNLat4+UEfD8ztA3j7iVCxPdRbePlvgFq/27N0+Rvm6fr/D3T7ay7Yqz5rdPmDJCiElct0+DdwV0cBJ3T4Kp5GroSHdPorRjiLH+dw+p11xqTDS3D5QCu203arcPkjAAbvNg9w+Ngr4MgBd3D5Wl12VdDbcPgnJAVwqENw+skryASHq2z4TtHcDWMTbPtU1Et7Onts+SFB2EIV52z7tk4kaelTbPgpsX32tL9s+vvI1ux4L2z7nznJXzebaPjgboNa4wto+51ZpvuCe2j5hX5iVRHvaPiJzEuTjV9o+pT3VMr402j7w6/ML0xHaPhhKlPoh79k+UenriqrM2T5xTj1KbKrZPvMo1cZmiNk+SJIHkJlm2T4tVS02BEXZPlk9oUqmI9k+8W69X38C2T73xdgIj+HYPmU9RNrUwNg+JV5IaVCg2D5mtSJMAYDYPpRSAxrnX9g+lUwKawFA2D50TkXYTyDYPhIrrfvRANg+HHgjcIfh1z71L3DRb8LXPn5aP7yKo9c+u7wezteE1z5dj3ulVmbXPsg7oOEGSNc+vB+yIugp1z6CV68J+gvXPoqObDg87tY+WNaSUa7Q1j6yg534T7PWPvsR2NEgltY+rwxcgiB51j7R/g6wTlzWPndooAGrP9Y+BLqHHjUj1j5MVQKv7AbWPmuUEVzR6tU+U9Z4z+LO1T7RkLuzILPVPjBoG7SKl9U+UUyWfCB81T4Nm+S54WDVPghIdxnORdU+owl2SeUq1T4+i734JhDVPoCk3daS9dQ+sJUXlCjb1D4nSVzh58DUPoyZSnDQptQ+D50t8+GM1D5n9focHHPUPoMkUaF+WdQ+F+Z1NAlA1D6ijVSLuybUPhlpfFuVDdQ+JCgfW5b00z7IRw9BvtvTPoKCvsQMw9M+r0Q8noGq0z5qJTSGHJLTPoNj7DXdedM+uGZEZ8Nh0z4pRbPUzknTPttMRjn/MdM+OpGfUFQa0z69fPTWzQLTPlhmDIlr69I+Dis/JC3U0j4oy3NmEr3SPmoLHw4bptI+8RlC2kaP0j7aNmmKlXjSPphgqt4GYtI+8QOkl5pL0j5/r3t2UDXSPujK3DwoH9I+YlH3rCEJ0j73j36JPPPRPtzmp5V43dE+ko4pldXH0T4DYDlMU7LRPjqgi3/xnNE+Jc9R9K+H0T68eTlwjnLRPkUPa7mMXdE+xrmIlqpI0T6WOa3O5zPRPgbEailEH9E+CuXJbr8K0T77Y0hnWfbQPjsr2NsR4tA+2jLelejN0D4mbjFf3bnQPgS8GQLwpdA+N9pOSSCS0D55W/f/bX7QPj6gp/HYatA+U9Jg6mBX0D4j44+2BUTQPq6MDCPHMNA+LFUY/aQd0D46lV0SnwrQPoIB3WFq788+hmSITs7Jzz6pcXuIaaTPPutQPq47f88+C1ohX0Razz4DPzs7gzXPPp07Z+P3EM8+r0lD+aHszj4XWi4fgcjOPkqSRviUpM4+u45nKN2Azj6AqShUWV3OPslF2yAJOs4+lR+JNOwWzj7kn/I1AvTNPlQ1jcxK0c0+4bCBoMWuzT4Zp6pacozNPmjVkqRQas0+m4tzKGBIzT5/GTORoCbNPntAY4oRBc0+ZKk/wLLjzD4OXqzfg8LMPg9HNJaEocw+I60HkrSAzD6jvvqBE2DMPpgYhBWhP8w+v1O7/FwfzD4vlVfoRv/LPpwirole38s+XfqwkqO/yz4Jb+21FaDLPoDGiqa0gMs+pdxIGIBhyz53yX6/d0LLPp6KGVGbI8s+crCaguoEyz5KDhcKZebKPhRuNZ4KyMo+eEct9tqpyj7kecXJ1YvKPgsKU9H6bco+leK3xUlQyj7Il2FgwjLKPnkuSFtkFco+CubscC/4yT5jBVlcI9vJPgSrHNk/vsk+9Z9No4ShyT7eLYZ38YTJPsL34xKGaMk+2tUGM0JMyT43tA+WJTDJPiR0n/ovFMk+ZNDVH2H4yD46RFDFuNzIPiP1KKs2wcg+PJ/1kdqlyD5lhMY6pIrIPvldJWeTb8g+QVEU2adUyD5I5gxT4TnIPoUB/5c/H8g+xN9Pa8IEyD7SFNmQaerHPnKM58w00Mc+6o065CO2xz7gwQKcNpzHPrg64blsgsc+Nn/mA8Zoxz6Zl5FAQk/HPvkczzbhNcc+1Er4raIcxz4qE9JthgPHPpU0jD6M6sY+vFLA6LPRxj7sEHE1/bjGPvsuCe5noMY+Jqha3POHxj481J3KoG/GPtiKcINuV8Y+nUjV0Vw/xj6gVjKBayfGPtnzUF2aD8Y+jYBcMun3xT7Gq+HMV+DFPr2izfnlyMU+Q0JthpOxxT4QSmxAYJrFPiOS1PVLg8U+sUENdVZsxT52CNqMf1XFPl9ZWgzHPsU+dqcIwywoxT5YpLmAsBHFPp+AmxVS+8Q+HC41UhHlxD6no2UH7s7EPuUiYwbouMQ+on+6IP+ixD76aE4oM43EPi+0Vu+Dd8Q+I6lfSPFhxD50UEkGe0zEPmfDRvwgN8Q+Pn3d/eIhxD5QruTewAzEPqeQhHO698M+N741kM/iwz6liMAJAM7DPp9SPLVLucM+p+oOaLKkwz6F5+v3M5DDPhkG1DrQe8M+qogUB4dnwz7al0YzWFPDPsCkTpZDP8M+tMxbB0krwz51PuddaBfDPrigs3GhA8M++3nMGvTvwj79mYUxYNzCPlSEeo7lyMI+h9yNCoS1wj5r0+h+O6LCPtqV+sQLj8I+tLx3tvR7wj41vlkt9mjCPplg3gMQVsI++i2HFEJDwj5w6Rg6jDDCPn4Fm0/uHcI+rxtXMGgLwj53Zdi3+fjBPkE268Gi5sE+uHacKmPUwT45ITnOOsLBPm6/TYkpsME+LumlOC+ewT5gxEu5S4zBPhGGh+h+esE+wPTeo8howT6k6xTJKFfBPh/fKDafRcE+XGJWySs0wT7hrRRhziLBPkcnFtyGEcE+/+lHGVUAwT45UdH3OO/APqaCE1cy3sA+cfqoFkHNwD40GGUWZbzAPtysUzaeq8A+oYm4VuyawD70Dw9YT4rAPnvCCRvHecA+5NaRgFNpwD7RyMZp9FjAPqXt/bepSMA+TAnCTHM4wD7r49IJUSjAPorgJNFCGMA+n5TghEgIwD4HwcQOxPC/PqMRdHYe0b8+XaFUBqCxvz7FKVGESJK/PtjPuLYXc78+tV0+ZA1Uvz4cfvdTKTW/PqD5W01rFr8+lfVEGNP3vj6FNOx8YNm+PndY60MTu74+wCY7Nuucvj51zTId6H6+Pn4qh8IJYb4+QBRK8E9Dvj7Jo+lwuiW+PryALw9JCL4+gy5AlvvqvT5AW5rR0c29PiwwFo3LsL0+eaPklOiTvT6sy461KHe9PoQ09buLWr0+MjVPdRE+vT4ySCqvuSG9PmVkaTeEBb0+tFdE3HDpvD4WI0dsf828PulXUbavsbw+xHaViQGWvD6XT5i1dHq8PihjMAoJX7w+8UWFV75DvD43BA9ulCi8Pp2HlR6LDbw+2P0vOqLyuz7LQESS2de7Ptk/hvgwvbs+jmr3Pqiiuz5yHOY3P4i7Pi4K7bX1bbs+3a/yi8tTuz6owCiNwDm7PoCXC43UH7s+IalhXwcGuz4o9zrYWOy6PomE8MvI0ro+58ojD1e5uj5dMb52A6C6PjOE8NfNhro+0m0yCLZtuj7S8EHdu1S6PiXjIi3fO7o+U2oezh8juj7aeMKWfQq6PpdM4V348bk+TO6Q+o/ZuT42sipERMG5Pp65ShIVqbk+knXPPAKRuT58KtmbC3m5PgN1yQcxYbk+n89CWXJJuT5iGShpzzG5PrsdnBBIGrk+Kh0BKdwCuT7mVviLi+u4PpGTYRNW1Lg+0rBamTu9uD7yLT/4O6a4Pk+5pwpXj7g+3L5pq4x4uD5795a13GG4Pkf5fARHS7g+yMikc8s0uD4Ha9LeaR64PqF4BCIiCLg+iLFzGfTxtz7SkZKh39u3PmrnDJfkxbc+YWjH1gKwtz52St89Opq3PhTbqamKhLc+dxi09/Nutz57S8IFdlm3PkSiz7EQRLc+ussN2sMutz7dk+Rcjxm3PtKA8RhzBLc+zHAH7W7vtj64OC64gtq2Pq5DolmuxbY+NDPUsPGwtj4tgGidTJy2Pq0cN/++h7Y+YxZLtkhztj7sOeKi6V62Psm2bKWhSrY+GMSMnnA2tj4BRhZvViK2PulzDvhSDrY+VH+rGmb6tT5xO1S4j+a1PmbFn7LP0rU+YC1V6yW/tT4ZIGtEkqu1PlaRB6AUmLU+1mZ/4KyEtT4dJFboWnG1PreWPZoeXrU+ToMV2fdKtT5TU+uH5je1PlXD+YnqJLU+9JGowgMStT58L4wVMv+0PiBuZWZ17LQ+1DIhmc3ZtD7QJtiROse0PplpzjS8tLQ+xENzZlKitD4y2mAL/Y+0Pg3iWwi8fbQ+MlVTQo9rtD5TJ2Cedlm0Ppv7xAFyR7Q+9NrtUYE1tD7P6m90pCO0Po8kCU/bEbQ+ew2gxyUAtD42b0PEg+6zPt4QKiv13LM+mnCy4nnLsz7LfWLREbqzPrdT5928qLM+yvQU73qXsz5RBubrS4azPsOMe7svdbM+k6gcRSZksz6FUzZwL1OzPnseWyRLQrM+zu9CSXkxsz4rwsrGuSCzPuhj9IQMELM+3jbma3H/sj608Opj6O6yPr5bcVVx3rI+QBgMKQzOsj42XnHHuL2yPpe/ehl3rbI+C+skCEedsj4fb498KI2yPut9/F8bfbI+KbHQmx9tsj7PzpIZNV2yPgOO68JbTbI+pFylgZM9sj4oJaw/3C2yPvUUDec1HrI+JmP2YaAOsj7PF7eaG/+xPoPTvnun77E+j5ed70PgsT5YjgPh8NCxPkrUwDquwbE+LkHF53uysT7nMSDTWaOxPotSAOhHlLE++2izEUaFsT7JH6Y7VHaxPp7RY1FyZ7E+4FSWPqBYsT7qxwXv3UmxPn9dmE4rO7E+uilSSYgssT5M71TL9B2xPi/t38BwD7E+paxPFvwAsT6qzx24lvKwPqTf4JJA5LA+phxMk/nVsD7YTC+mwcewPlyMdriYubA+hB0qt36rsD5mOW6Pc52wPsrggi53j7A+aK3DgYmBsD6Oo6d2qnOwPhEEwfrZZbA+lh69+xdYsD43JGRnZEqwPof6mCu/PLA+vw5ZNigvsD6FKbx1nyGwPsdC9NckFLA+CFZNS7gGsD75bVp8s/KvPtnMJj4S2K8+/c4xuYy9rz5ZKuDKIqOvPmnwyFDUiK8+ZTq1KKFurz5D1p8wiVSvPin0tEaMOq8+sNRRSaogrz6QdwQX4wavPvRKi4427a4+WdvUjqTTrj4uhP/2LLquPrwgWabPoK4+7b1efIyHrj5xTLxYY26uPohTTBtUVa4+UKQXpF48rj7BDVXTgiOuPvcQaYnACq4+R5blphfyrT7HookMiNmtPk0OQZsRwa0+DjokNLSorT7Jx3e4b5CtPkJRrAlEeK0+pyBeCTFgrT4V6VSZNkitPsZ/g5tUMK0+4JUH8ooYrT6Pcil/2QCtPr6tWyVA6aw+Uus6x77RrD7Dlo1HVbqsPnSfQ4kDo6w+GzV2b8mLrD4bhWfdpnSsPgd4grabXaw+u29a3qdGrD7sBas4yy+sPijLV6kFGaw+VgZsFFcCrD6fdBpev+urPtkJvWo+1as+T7HUHtS+qz4lDwlfgKirPvZBKBBDkqs+DqUmFxx8qz4Ckx5ZC2arProoULsQUKs+8QghIyw6qz4EIBx2XSSrPlZo8ZmkDqs+Ca91dAH5qj4fWaLrc+OqPg4pleX7zao+vwSQSJm4qj7lu/j6S6OqPsrOWOMTjqo+iDVd6PB4qj6GJ9bw4mOqPpTjtuPpTqo+JXgVqAU6qj4zjColNiWqPkEoUUJ7EKo+/H8G59T7qT4PvOn6QuepPnfEu2XF0qk+JQtfD1y+qT4BV9ffBqqpPkyPSb/Flak+a4f7lZiBqT75ylNMf22pPjpq2cp5Wak+E8cz+odFqT4KYirDqTGpPuunpA7fHak+qL+pxScKqT6OWGDRg/aoPtZ4Dhvz4qg+kEwZjHXPqD7n9AQOC7yoPrVXdIqzqKg+Zu8o626VqD5AmwIaPYKoPvVv/wAeb6g+gYg7ihFcqD5t1/CfF0moPlX4diwwNqg+xgFDGlsjqD5mV+dTmBCoPnZ8E8Tn/ac+kuaTVUnrpz7k0FHzvNinPnoPU4hCxqc+/OK5/9mzpz7AzMREg6GnPgZjzkI+j6c+qCVN5Qp9pz70UtMX6WqnPum8DsbYWKc+p57I29lGpz5EcuVE7DSnPs/GZO0PI6c+thZhwUQRpz5Yng+tiv+mPvIywJzh7aY+2hndfEncpj7Z3+o5wsqmPgcxiMBLuaY+rbBt/eWnpj6d0W3dkJamPrqudE1MhaY+veOHOhh0pj5JZsaR9GKmPkdfaEDhUaY+dQS/M95Apj4xcjRZ6y+mPq2FS54IH6Y+OLef8DUOpj7W9OQ9c/2lPiF953PA7KU+ZrqLgB3cpT7rHc5RisulPqb7wtUGu6U+82WW+pKqpT60CYyuLpqlPqMK/9/ZiaU+299hfZR5pT6ZMD51XmmlPlixNLY3WaU+9AD9LiBJpT40hmXOFzmlPoBNU4MeKaU+yObBPDQZpT6zQ8PpWAmlPgaWf3mM+aQ+MS41287ppD4kWjj+H9qkPmpE89F/yqQ+WtPlRe66pD6YiKVJa6ukPsRg3cz2m6Q+ZrNNv5CMpD75EswQOX2kPlstQ7HvbaQ+L6yykLRepD6/FS+fh0+kPs6t4cxoQKQ+ylYIClgxpD4qc/VGVSKkPujGD3RgE6Q+UVnSgXkEpD7mVsxgoPWjPofzoAHV5qM+ykwHVRfYoz5+TMpLZ8mjPl2LyNbEuqM+9jP05i+soz7O5VJtqJ2jPpqY/Vouj6M+vn8gocGAoz767fowYnKjPjI53/sPZKM+e54y88pVoz5OJm0Ik0ejPuSIGS1oOaM+0RLVUkoroz6riU9rOR2jPgIRS2g1D6M+dw+cOz4Boz71EynXU/OiPh676ix25aI+8JTrLqXXoj58CkjP4MmiPuFDLgApvKI+Yw7es32uoj6pwqjc3qCiPjsr8WxMk6I+D2srV8aFoj5Q5NyNTHiiPksfnAPfaqI+h7EQq31doj77JPN2KFCiPnjfDFrfQqI+PQo4R6I1oj6ieV8xcSiiPgGVfgtMG6I+tT6hyDIOoj5HvONbJQGiPsGecrgj9KE+J6uK0S3noT4Uw3iaQ9qhPo3NmQZlzaE+059aCZLAoT6K5jeWyrOhPuUOvqAOp6E+AzCJHF6aoT5n9ET9uI2hPqaDrDYfgaE+LWyKvJB0oT4cjbiCDWihPnAAIH2VW6E+GwW5nyhPoT5v6YrexkKhPoT1qy1wNqE+4FVBgSQqoT4sBn/N4x2hPhq8pwauEaE+YNIMIYMFoT7eMw4RY/mgPuFGGstN7aA+hditQ0PhoD5LCFRvQ9WgPqgzpkJOyaA+3eFLsmO9oD7dr/qyg7GgPlA8djmupaA+vhOQOuOZoD7VnCerIo6gPtUEKoBsgqA+ByySrsB2oD52kmgrH2ugPqdEw+uHX6A+d8jF5PpToD4pCqELeEigPndJk1X/PKA+1gbot5AxoD7S8PcnLCagPn/RKJvRGqA+DXztBoEPoD6GusVgOgSgPiR3fDz78Z8+1QDhaZXbnz6ilQU1Q8WfPqAWUIkEr58+wp4/UtmYnz67X2x7wYKfPsB+h/C8bJ8+7/FanctWnz5wXclt7UCfPi3xzU0iK58+iEZ8KWoVnz54PgDtxP+ePp/fnYQy6p4+yTSx3LLUnj58K67hRb+ePtZyIIDrqZ4+klqrpKOUnj5Bsgk8bn+ePqyoDTNLap4+jKugdjpVnj5QR8PzO0CePg4HjZdPK54+4lQsT3UWnj41WuYHrQGePlvgFq/27J0+dDEwMlLYnT5G+bp+v8OdPnMmVoI+r50+2su2Ks+anT4hAqhlcYadPmDJCiElcp0+CuvVSupdnT4N3BXRwEmdPh2f7KGoNZ0+CqeRq6EhnT5wuVHcqw2dPorRjiLH+Zw+HAPAbPPlnD6nXXGpMNKcPrfPQ8d+vpw+UArttN2qnD68ZDdhTZecPkjAAbvNg5w+RGw/sV5wnD42CvgyAF2cPjFyRy+ySZw+VpddlXQ2nD6CbH5URyOcPgnJAVwqEJw+6U1Tmx39mz6ySvIBIeqbPhGjcX8015s+E7R3A1jEmz74Ob59i7GbPtU1Et7Onps+pdNTFCKMmz5IUHYQhXmbPtHff8L3Zps+7ZOJGnpUmz5vQr8IDEKbPgpsX32tL5s+GCO7aF4dmz6+8jW7HgubPvfFRWXu+Jo+585yV83mmj5QbleCu9SaPjgboNa4wpo+gEoLRcWwmj7nVmm+4J6aPgFpnDMLjZo+YV+YlUR7mj7ktmLVjGmaPiJzEuTjV5o+FgfQsklGmj6lPdUyvjSaPrEibVVBI5o+8OvzC9MRmj4Y4tZHcwCaPhhKlPoh75k+mU67Fd/dmT5R6euKqsyZPt7M1kuEu5k+cU49SmyqmT61T/F3YpmZPvMo1cZmiJk+JZPbKHl3mT5IkgeQmWaZPs1fbO7HVZk+LVUtNgRFmT591n1ZTjSZPlk9oUqmI5k+sMPq+wsTmT7xbr1ffwKZPhP7i2gA8pg+98XYCI/hmD69ujUzK9GYPmU9RNrUwJg+VRa18IuwmD4lXkhpUKCYPpNpzTYikJg+ZrUiTAGAmD6Z0jWc7W+YPpRSAxrnX5g+dLOWuO1PmD6VTAprAUCYPg87hyQiMJg+dE5F2E8gmD589Yp5ihCYPhIrrfvRAJg+MmMPUibxlz4ceCNwh+GXPomXaUn10Zc+9S9w0W/Clz4a3tP79rKXPn5aP7yKo5c+/WZrBiuUlz67vB7O14SXPtL5LQeRdZc+XY97pVZmlz6Qr/ecKFeXPsg7oOEGSJc+7rKAZ/E4lz68H7Ii6CmXPkUHWwfrGpc+glevCfoLlz71VfAdFf2WPoqObDg87pY+QcJ/TW/flj5Y1pJRrtCWPjvDGzn5wZY+soOd+E+zlj4rBKiEsqSWPvsR2NEglpY+70rX1JqHlj6vDFyCIHmWPnxkKc+xapY+0f4OsE5clj5OF+kZ902WPndooAGrP5Y+2RsqXGoxlj4EuoceNSOWPr4axz0LFZY+TFUCr+wGlj68sF9n2fiVPmuUEVzR6pU+c3hWgtTclT5T1njP4s6VPqQZzzj8wJU+0ZC7syCzlT4NXqw1UKWVPjBoG7SKl5U+zkuOJNCJlT5RTJZ8IHyVPiRF0LF7bpU+DZvkueFglT58LYeKUlOVPghIdxnORZU+65N/XFQ4lT6jCXZJ5SqVPrLiO9aAHZU+Pou9+CYQlT4blPKm1wKVPoCk3daS9ZQ+PmyMfljolD6wlReUKNuUPva3og0DzpQ+J0lc4efAlD6nkH0F17OUPoyZSnDQppQ+CiUSGNSZlD4PnS3z4YyUPscGAfj5f5Q+Z/X6HBxzlD7OfJRYSGaUPoMkUaF+WZQ+eNq+7b5MlD4X5nU0CUCUPkzbGGxdM5Q+oo1Ui7smlD5tA+CIIxqUPhlpfFuVDZQ+dQT1+RABlD4kKB9blvSTPgUn2nUl6JM+yEcPQb7bkz6MuLGzYM+TPoKCvsQMw5M+rX08a8K2kz6vRDyegaqTPr4o2FRKnpM+aiU0hhySkz7T1H0p+IWTPoNj7DXdeZM+xYTAosttkz64ZkRnw2GTPp6my3rEVZM+KUWz1M5Jkz71mmFs4j2TPttMRjn/MZM+lkDaMiUmkz46kZ9QVBqTPvqDIYqMDpM+vXz01s0Ckz7t8rUuGPeSPlhmDIlr65I+/lOn3cffkj4OKz8kLdSSPuVBlVSbyJI+KMtzZhK9kj7Qyq1RkrGSPmoLHw4bppI+UhOsk6yakj7xGULaRo+SPjT91tnpg5I+2jZpipV4kj7+0f/jSW2SPphgqt4GYpI+FfGAcsxWkj7xA6SXmkuSPnmBPEZxQJI+f697dlA1kj4zJ5sgOCqSPujK3DwoH5I+HryKwyAUkj5iUfesIQmSPmUMffEq/pE+949+iTzzkT46lmZtVuiRPtzmp5V43ZE+LE29+qLSkT6SjimV1ceRPrFgd10QvZE+A2A5TFOykT4dBgpanqeRPjqgi3/xnJE+00VotUySkT4lz1H0r4eRPtrLATUbfZE+vHk5cI5ykT5yu8GeCWiRPkUPa7mMXZE+/4UNuRdTkT7GuYiWqkiRPg/Fw0pFPpE+ljmtzuczkT5tFzsbkimRPgbEailEH5E+VwFB8v0UkT4K5cluvwqRPq3PGJiIAJE++2NIZ1n2kD4nfnrVMeyQPjsr2NsR4pA+eqCRc/nXkD7aMt6V6M2QPnpO/Dvfw5A+Jm4xX925kD7+Esr44q+QPgS8GQLwpZA+zd16dASckD432k5JIJKQPjD4/XlDiJA+eVv3/21+kD5+/LDUn3SQPj6gp/HYapA+NdBeUBlhkD5T0mDqYFeQPv6gPrmvTZA+I+OPtgVEkD5G5PLbYjqQPq6MDCPHMJA+ilmIhTInkD4sVRj9pB2QPkQPdYMeFJA+OpVdEp8KkD50apejJgGQPoIB3WFq748+d2FqaJXcjz6GZIhOzsmPPvwp9QcVt48+qXF7iGmkjz4jjfLDy5GPPutQPq47f48+yAVPO7lsjz4LWiFfRFqPPhxTvg3dR48+Az87O4M1jz7TpbnbNiOPPp07Z+P3EI8+49F9Rsb+jj6vSUP5oeyOPj6FCfCK2o4+F1ouH4HIjj4Jgxt7hLaOPkqSRviUpI4+qOMwi7KSjj67jmco3YCOPkBZg8QUb44+gKkoVFldjj7DeAfMqkuOPslF2yAJOo4+gAdrR3Qojj6VH4k07BaOPjdNE91wBY4+5J/yNQL0jT5Yahs0oOKNPlQ1jcxK0Y0+y7JS9AHAjT7hsIGgxa6NPv0MO8aVnY0+GaeqWnKMjT7tVAdTW3uNPmjVkqRQao0+1sOZRFJZjT6bi3MoYEiNPotbgkV6N40+fxkzkaAmjT4iVv0A0xWNPntAY4oRBY0+z5nxIlz0jD5kqT/AsuOMPm0w71cV04w+Dl6s34PCjD5Fwy1N/rGMPg9HNJaEoYw+iRqLsBaRjD4jrQeStICMPtygiTBecIw+o776gRNgjD6Z6k581E+MPpgYhBWhP4w+uUCiQ3kvjD6/U7v8XB+MPt4v6zZMD4w+L5VX6Eb/iz6mGjAHTe+LPpwirole34s+3s8UZnvPiz5d+rCSo7+LPlEk2QXXr4s+CW/ttRWgiz4dkFeZX5CLPoDGiqa0gIs+oM8D1BRxiz6l3EgYgGGLPsSH6Wn2UYs+d8l+v3dCiz757aoPBDOLPp6KGVGbI4s+ZXN/ej0Uiz5ysJqC6gSLPqdzMmCi9Yo+Sg4XCmXmij615iF3MteKPhRuNZ4KyIo+QhY9du24ij54Ry322qmKPltWAxXTmoo+5HnFydWLij4+wYIL43yKPgsKU9H6bYo+TPZWEh1fij6V4rfFSVCKPkncp+KAQYo+yJdhYMIyij6+Zig2DiSKPnkuSFtkFYo+T14Vx8QGij4K5uxwL/iJPlwsNFCk6Yk+YwVZXCPbiT5XqdGMrMyJPgSrHNk/vok+f+7AON2viT71n02jhKGJPkAqWhA2k4k+3i2Gd/GEiT6jd3nQtnaJPsL34xKGaIk+n7h9Nl9aiT7a1QYzQkyJPlNzRwAvPok+N7QPliUwiT4VsjfsJSKJPiR0n/ovFIk+QOYuuUMGiT5k0NUfYfiIPsPNiyaI6og+OkRQxbjciD6eWyr08s6IPiP1KKs2wYg+4aJi4oOziD48n/WR2qWIPn/EB7I6mIg+ZYTGOqSKiD6332YkF32IPvldJWeTb4g+JAVG+xhiiD5BURTZp1SIPmQs4/g/R4g+SOYMU+E5iD5fLPPfiyyIPoUB/5c/H4g+Fbagc/wRiD7E309rwgSIPsxRi3eR94c+0hTZkGnqhz4SX8avSt2HPnKM58w00Ic+xxbY4CfDhz7qjTrkI7aHPgOQuM8oqYc+4MECnDachz4dx9BBTY+HPrg64blsgoc+MKf5/JR1hz42f+YDxmiHPvMVe8f/W4c+mZeRQEJPhz75AQtojUKHPvkczzbhNYc+OnPMpT0phz7USvitohyHPtqdTkgQEIc+KhPSbYYDhz4s94sXBfeGPpU0jD6M6oY+LE3p2xvehj68UsDos9GGPtrfNF5UxYY+7BBxNf24hj4JfaVnrqyGPvsuCe5noIY+QZ7ZwSmUhj4mqFrc84eGPsmI1jbGe4Y+PNSdyqBvhj7DbweRg2OGPtiKcINuV4Y+i5g8m2FLhj6dSNXRXD+GPuiAqiBgM4Y+oFYygWsnhj6gB+nsfhuGPtnzUF2aD4Y+t5byy70Dhj6NgFwy6feFPgxQI4oc7IU+xqvhzFfghT6yOzj0mtSFPr2izfnlyIU+YHhO1zi9hT5DQm2Gk7GFPtVt4gD2pYU+EEpsQGCahT4hAc8+0o6FPiOS1PVLg4U+38pMX813hT6xQQ11VmyFPkVP8TDnYIU+dgjajH9VhT4uOK6CH0qFPl9ZWgzHPoU+45DQI3YzhT52pwjDLCiFPsIDAOTqHIU+WKS5gLARhT7CGT6TfQaFPp+AmxVS+4Q+uHvlAS7whD4cLjVSEeWEPls1qQD82YQ+p6NlB+7OhD4W+pNg58OEPuUiYwbouIQ+oGsH8++thD6if7og/6KEPixiu4kVmIQ++mhOKDONhD52Nr32V4KEPi+0Vu+Dd4Q+Wg1vDLdshD4jqV9I8WGEPkIlh50yV4Q+dFBJBntMhD4JJQ99ykGEPmfDRvwgN4Q+qmxjfn4shD4+fd394iGEPntnMnVOF4Q+UK7k3sAMhD7533s1OgKEPqeQhHO694M+RlWQk0Htgz43vjWQz+KDPhxSEGRk2IM+pYjACQDOgz5fxet7osODPp9SPLVLuYM+P1xhsPuugz6n6g5osqSDPq/d/dZvmoM+hefr9zOQgz60h5vF/oWDPhkG1DrQe4M+421hUqhxgz6qiBQHh2eDPnvZwlNsXYM+2pdGM1hTgz72qn6gSkmDPsCkTpZDP4M+Ar2eD0M1gz60zFsHSSuDPvRId3hVIYM+dT7nXWgXgz6YTKaygQ2DPrigs3GhA4M+c/ESlsf5gj77ecwa9O+CPmP17Pom5oI+/ZmFMWDcgj6qFKy5n9KCPlSEeo7lyII+PnUPqzG/gj6H3I0KhLWCPo8THajcq4I+a9Pofjuigj5+MCGKoJiCPtqV+sQLj4I+2sCtKn2Fgj60vHe29HuCPvDdmWNycoI+Nb5ZLfZogj6fNwEPgF+CPplg3gMQVoI+bodDB6ZMgj76LYcUQkOCPkwFBCfkOYI+cOkYOowwgj4d3ShJOieCPn4Fm0/uHYI+5aXaSKgUgj6vG1cwaAuCPg==",
          "dtype": "f8"
         }
        }
       ],
       "layout": {
        "plot_bgcolor": "rgba(0,0,0,0)",
        "template": {
         "data": {
          "bar": [
           {
            "error_x": {
             "color": "#2a3f5f"
            },
            "error_y": {
             "color": "#2a3f5f"
            },
            "marker": {
             "line": {
              "color": "#E5ECF6",
              "width": 0.5
             },
             "pattern": {
              "fillmode": "overlay",
              "size": 10,
              "solidity": 0.2
             }
            },
            "type": "bar"
           }
          ],
          "barpolar": [
           {
            "marker": {
             "line": {
              "color": "#E5ECF6",
              "width": 0.5
             },
             "pattern": {
              "fillmode": "overlay",
              "size": 10,
              "solidity": 0.2
             }
            },
            "type": "barpolar"
           }
          ],
          "carpet": [
           {
            "aaxis": {
             "endlinecolor": "#2a3f5f",
             "gridcolor": "white",
             "linecolor": "white",
             "minorgridcolor": "white",
             "startlinecolor": "#2a3f5f"
            },
            "baxis": {
             "endlinecolor": "#2a3f5f",
             "gridcolor": "white",
             "linecolor": "white",
             "minorgridcolor": "white",
             "startlinecolor": "#2a3f5f"
            },
            "type": "carpet"
           }
          ],
          "choropleth": [
           {
            "colorbar": {
             "outlinewidth": 0,
             "ticks": ""
            },
            "type": "choropleth"
           }
          ],
          "contour": [
           {
            "colorbar": {
             "outlinewidth": 0,
             "ticks": ""
            },
            "colorscale": [
             [
              0,
              "#0d0887"
             ],
             [
              0.1111111111111111,
              "#46039f"
             ],
             [
              0.2222222222222222,
              "#7201a8"
             ],
             [
              0.3333333333333333,
              "#9c179e"
             ],
             [
              0.4444444444444444,
              "#bd3786"
             ],
             [
              0.5555555555555556,
              "#d8576b"
             ],
             [
              0.6666666666666666,
              "#ed7953"
             ],
             [
              0.7777777777777778,
              "#fb9f3a"
             ],
             [
              0.8888888888888888,
              "#fdca26"
             ],
             [
              1,
              "#f0f921"
             ]
            ],
            "type": "contour"
           }
          ],
          "contourcarpet": [
           {
            "colorbar": {
             "outlinewidth": 0,
             "ticks": ""
            },
            "type": "contourcarpet"
           }
          ],
          "heatmap": [
           {
            "colorbar": {
             "outlinewidth": 0,
             "ticks": ""
            },
            "colorscale": [
             [
              0,
              "#0d0887"
             ],
             [
              0.1111111111111111,
              "#46039f"
             ],
             [
              0.2222222222222222,
              "#7201a8"
             ],
             [
              0.3333333333333333,
              "#9c179e"
             ],
             [
              0.4444444444444444,
              "#bd3786"
             ],
             [
              0.5555555555555556,
              "#d8576b"
             ],
             [
              0.6666666666666666,
              "#ed7953"
             ],
             [
              0.7777777777777778,
              "#fb9f3a"
             ],
             [
              0.8888888888888888,
              "#fdca26"
             ],
             [
              1,
              "#f0f921"
             ]
            ],
            "type": "heatmap"
           }
          ],
          "histogram": [
           {
            "marker": {
             "pattern": {
              "fillmode": "overlay",
              "size": 10,
              "solidity": 0.2
             }
            },
            "type": "histogram"
           }
          ],
          "histogram2d": [
           {
            "colorbar": {
             "outlinewidth": 0,
             "ticks": ""
            },
            "colorscale": [
             [
              0,
              "#0d0887"
             ],
             [
              0.1111111111111111,
              "#46039f"
             ],
             [
              0.2222222222222222,
              "#7201a8"
             ],
             [
              0.3333333333333333,
              "#9c179e"
             ],
             [
              0.4444444444444444,
              "#bd3786"
             ],
             [
              0.5555555555555556,
              "#d8576b"
             ],
             [
              0.6666666666666666,
              "#ed7953"
             ],
             [
              0.7777777777777778,
              "#fb9f3a"
             ],
             [
              0.8888888888888888,
              "#fdca26"
             ],
             [
              1,
              "#f0f921"
             ]
            ],
            "type": "histogram2d"
           }
          ],
          "histogram2dcontour": [
           {
            "colorbar": {
             "outlinewidth": 0,
             "ticks": ""
            },
            "colorscale": [
             [
              0,
              "#0d0887"
             ],
             [
              0.1111111111111111,
              "#46039f"
             ],
             [
              0.2222222222222222,
              "#7201a8"
             ],
             [
              0.3333333333333333,
              "#9c179e"
             ],
             [
              0.4444444444444444,
              "#bd3786"
             ],
             [
              0.5555555555555556,
              "#d8576b"
             ],
             [
              0.6666666666666666,
              "#ed7953"
             ],
             [
              0.7777777777777778,
              "#fb9f3a"
             ],
             [
              0.8888888888888888,
              "#fdca26"
             ],
             [
              1,
              "#f0f921"
             ]
            ],
            "type": "histogram2dcontour"
           }
          ],
          "mesh3d": [
           {
            "colorbar": {
             "outlinewidth": 0,
             "ticks": ""
            },
            "type": "mesh3d"
           }
          ],
          "parcoords": [
           {
            "line": {
             "colorbar": {
              "outlinewidth": 0,
              "ticks": ""
             }
            },
            "type": "parcoords"
           }
          ],
          "pie": [
           {
            "automargin": true,
            "type": "pie"
           }
          ],
          "scatter": [
           {
            "fillpattern": {
             "fillmode": "overlay",
             "size": 10,
             "solidity": 0.2
            },
            "type": "scatter"
           }
          ],
          "scatter3d": [
           {
            "line": {
             "colorbar": {
              "outlinewidth": 0,
              "ticks": ""
             }
            },
            "marker": {
             "colorbar": {
              "outlinewidth": 0,
              "ticks": ""
             }
            },
            "type": "scatter3d"
           }
          ],
          "scattercarpet": [
           {
            "marker": {
             "colorbar": {
              "outlinewidth": 0,
              "ticks": ""
             }
            },
            "type": "scattercarpet"
           }
          ],
          "scattergeo": [
           {
            "marker": {
             "colorbar": {
              "outlinewidth": 0,
              "ticks": ""
             }
            },
            "type": "scattergeo"
           }
          ],
          "scattergl": [
           {
            "marker": {
             "colorbar": {
              "outlinewidth": 0,
              "ticks": ""
             }
            },
            "type": "scattergl"
           }
          ],
          "scattermap": [
           {
            "marker": {
             "colorbar": {
              "outlinewidth": 0,
              "ticks": ""
             }
            },
            "type": "scattermap"
           }
          ],
          "scattermapbox": [
           {
            "marker": {
             "colorbar": {
              "outlinewidth": 0,
              "ticks": ""
             }
            },
            "type": "scattermapbox"
           }
          ],
          "scatterpolar": [
           {
            "marker": {
             "colorbar": {
              "outlinewidth": 0,
              "ticks": ""
             }
            },
            "type": "scatterpolar"
           }
          ],
          "scatterpolargl": [
           {
            "marker": {
             "colorbar": {
              "outlinewidth": 0,
              "ticks": ""
             }
            },
            "type": "scatterpolargl"
           }
          ],
          "scatterternary": [
           {
            "marker": {
             "colorbar": {
              "outlinewidth": 0,
              "ticks": ""
             }
            },
            "type": "scatterternary"
           }
          ],
          "surface": [
           {
            "colorbar": {
             "outlinewidth": 0,
             "ticks": ""
            },
            "colorscale": [
             [
              0,
              "#0d0887"
             ],
             [
              0.1111111111111111,
              "#46039f"
             ],
             [
              0.2222222222222222,
              "#7201a8"
             ],
             [
              0.3333333333333333,
              "#9c179e"
             ],
             [
              0.4444444444444444,
              "#bd3786"
             ],
             [
              0.5555555555555556,
              "#d8576b"
             ],
             [
              0.6666666666666666,
              "#ed7953"
             ],
             [
              0.7777777777777778,
              "#fb9f3a"
             ],
             [
              0.8888888888888888,
              "#fdca26"
             ],
             [
              1,
              "#f0f921"
             ]
            ],
            "type": "surface"
           }
          ],
          "table": [
           {
            "cells": {
             "fill": {
              "color": "#EBF0F8"
             },
             "line": {
              "color": "white"
             }
            },
            "header": {
             "fill": {
              "color": "#C8D4E3"
             },
             "line": {
              "color": "white"
             }
            },
            "type": "table"
           }
          ]
         },
         "layout": {
          "annotationdefaults": {
           "arrowcolor": "#2a3f5f",
           "arrowhead": 0,
           "arrowwidth": 1
          },
          "autotypenumbers": "strict",
          "coloraxis": {
           "colorbar": {
            "outlinewidth": 0,
            "ticks": ""
           }
          },
          "colorscale": {
           "diverging": [
            [
             0,
             "#8e0152"
            ],
            [
             0.1,
             "#c51b7d"
            ],
            [
             0.2,
             "#de77ae"
            ],
            [
             0.3,
             "#f1b6da"
            ],
            [
             0.4,
             "#fde0ef"
            ],
            [
             0.5,
             "#f7f7f7"
            ],
            [
             0.6,
             "#e6f5d0"
            ],
            [
             0.7,
             "#b8e186"
            ],
            [
             0.8,
             "#7fbc41"
            ],
            [
             0.9,
             "#4d9221"
            ],
            [
             1,
             "#276419"
            ]
           ],
           "sequential": [
            [
             0,
             "#0d0887"
            ],
            [
             0.1111111111111111,
             "#46039f"
            ],
            [
             0.2222222222222222,
             "#7201a8"
            ],
            [
             0.3333333333333333,
             "#9c179e"
            ],
            [
             0.4444444444444444,
             "#bd3786"
            ],
            [
             0.5555555555555556,
             "#d8576b"
            ],
            [
             0.6666666666666666,
             "#ed7953"
            ],
            [
             0.7777777777777778,
             "#fb9f3a"
            ],
            [
             0.8888888888888888,
             "#fdca26"
            ],
            [
             1,
             "#f0f921"
            ]
           ],
           "sequentialminus": [
            [
             0,
             "#0d0887"
            ],
            [
             0.1111111111111111,
             "#46039f"
            ],
            [
             0.2222222222222222,
             "#7201a8"
            ],
            [
             0.3333333333333333,
             "#9c179e"
            ],
            [
             0.4444444444444444,
             "#bd3786"
            ],
            [
             0.5555555555555556,
             "#d8576b"
            ],
            [
             0.6666666666666666,
             "#ed7953"
            ],
            [
             0.7777777777777778,
             "#fb9f3a"
            ],
            [
             0.8888888888888888,
             "#fdca26"
            ],
            [
             1,
             "#f0f921"
            ]
           ]
          },
          "colorway": [
           "#636efa",
           "#EF553B",
           "#00cc96",
           "#ab63fa",
           "#FFA15A",
           "#19d3f3",
           "#FF6692",
           "#B6E880",
           "#FF97FF",
           "#FECB52"
          ],
          "font": {
           "color": "#2a3f5f"
          },
          "geo": {
           "bgcolor": "white",
           "lakecolor": "white",
           "landcolor": "#E5ECF6",
           "showlakes": true,
           "showland": true,
           "subunitcolor": "white"
          },
          "hoverlabel": {
           "align": "left"
          },
          "hovermode": "closest",
          "mapbox": {
           "style": "light"
          },
          "paper_bgcolor": "white",
          "plot_bgcolor": "#E5ECF6",
          "polar": {
           "angularaxis": {
            "gridcolor": "white",
            "linecolor": "white",
            "ticks": ""
           },
           "bgcolor": "#E5ECF6",
           "radialaxis": {
            "gridcolor": "white",
            "linecolor": "white",
            "ticks": ""
           }
          },
          "scene": {
           "xaxis": {
            "backgroundcolor": "#E5ECF6",
            "gridcolor": "white",
            "gridwidth": 2,
            "linecolor": "white",
            "showbackground": true,
            "ticks": "",
            "zerolinecolor": "white"
           },
           "yaxis": {
            "backgroundcolor": "#E5ECF6",
            "gridcolor": "white",
            "gridwidth": 2,
            "linecolor": "white",
            "showbackground": true,
            "ticks": "",
            "zerolinecolor": "white"
           },
           "zaxis": {
            "backgroundcolor": "#E5ECF6",
            "gridcolor": "white",
            "gridwidth": 2,
            "linecolor": "white",
            "showbackground": true,
            "ticks": "",
            "zerolinecolor": "white"
           }
          },
          "shapedefaults": {
           "line": {
            "color": "#2a3f5f"
           }
          },
          "ternary": {
           "aaxis": {
            "gridcolor": "white",
            "linecolor": "white",
            "ticks": ""
           },
           "baxis": {
            "gridcolor": "white",
            "linecolor": "white",
            "ticks": ""
           },
           "bgcolor": "#E5ECF6",
           "caxis": {
            "gridcolor": "white",
            "linecolor": "white",
            "ticks": ""
           }
          },
          "title": {
           "x": 0.05
          },
          "xaxis": {
           "automargin": true,
           "gridcolor": "white",
           "linecolor": "white",
           "ticks": "",
           "title": {
            "standoff": 15
           },
           "zerolinecolor": "white",
           "zerolinewidth": 2
          },
          "yaxis": {
           "automargin": true,
           "gridcolor": "white",
           "linecolor": "white",
           "ticks": "",
           "title": {
            "standoff": 15
           },
           "zerolinecolor": "white",
           "zerolinewidth": 2
          }
         }
        },
        "title": {
         "text": "Posterior Distribution"
        }
       }
      },
      "image/png": "[encoded data removed]"
     },
     "metadata": {},
     "output_type": "display_data"
    }
   ],
   "source": [
    "fig = go.Figure()\n",
    "fig.add_trace(\n",
    "    go.Line(x = dfu.index,\n",
    "            y = dfu['posterior'],\n",
    "            mode='lines',\n",
    "            name='Uniform Prior'\n",
    "           )\n",
    "    )\n",
    "\n",
    "fig.add_trace(\n",
    "    go.Line(\n",
    "        x=dfp.index,\n",
    "        y=dfp['posterior'],\n",
    "        mode='lines',\n",
    "        name='Power Law'\n",
    "    )\n",
    ")\n",
    "\n",
    "fig.update_layout(\n",
    "    plot_bgcolor='rgba(0,0,0,0)',\n",
    "    title='Posterior Distribution'\n",
    ")\n",
    "\n",
    "fig.show()"
   ]
  },
  {
   "cell_type": "markdown",
   "id": "05b92627-19e0-427b-80c3-2c8b8e70fe17",
   "metadata": {},
   "source": [
    "The power law gives less prior probability to high values, which yields lower posterior means, and less sensitivity to the upper bound. **With an arbitrarily large upper bound, the mean converges on 134**"
   ]
  },
  {
   "cell_type": "markdown",
   "id": "2204753d-8a71-48f5-bd19-29394d22638f",
   "metadata": {},
   "source": [
    "#### Highest Posterior Probability (the MAP)"
   ]
  },
  {
   "cell_type": "code",
   "execution_count": 55,
   "id": "b4d095be-7266-4f5d-bbc1-325753037ed5",
   "metadata": {},
   "outputs": [
    {
     "data": {
      "text/plain": [
       "prior         1.0\n",
       "posterior    90.0\n",
       "dtype: float64"
      ]
     },
     "execution_count": 55,
     "metadata": {},
     "output_type": "execute_result"
    }
   ],
   "source": [
    "dfp.idxmax()"
   ]
  },
  {
   "cell_type": "code",
   "execution_count": 56,
   "id": "b8840e79-b962-468d-a3fc-74f0dba68710",
   "metadata": {},
   "outputs": [
    {
     "data": {
      "text/plain": [
       "prior               1\n",
       "posterior          90\n",
       "prior_normalize     1\n",
       "dtype: int64"
      ]
     },
     "execution_count": 56,
     "metadata": {},
     "output_type": "execute_result"
    }
   ],
   "source": [
    "dfu.idxmax()"
   ]
  },
  {
   "cell_type": "markdown",
   "id": "c6c13e12-a5c7-48f0-b5c7-e87fe4c6197b",
   "metadata": {},
   "source": [
    "## Credible Intervals\n",
    "\n",
    "So far we have seen two ways to summarize a posterior distribution:\n",
    "- the value with the highest posterior probability (the MAP, Maximum a Posteriori Probability)\n",
    "- the posterior mean\n",
    "\n",
    "These are both **point estimates**, that is, single value that estimate the quantity we are interested in. Another way to summarize a posterior distribution is with **percentiles**."
   ]
  },
  {
   "cell_type": "code",
   "execution_count": 57,
   "id": "31b2fc42-05b0-44b2-9d82-c2067f415a9e",
   "metadata": {},
   "outputs": [
    {
     "data": {
      "text/plain": [
       "np.float64(3.372001841779249e-07)"
      ]
     },
     "execution_count": 57,
     "metadata": {},
     "output_type": "execute_result"
    }
   ],
   "source": [
    "q = dfp['posterior'].quantile(q=0.25)\n",
    "q"
   ]
  },
  {
   "cell_type": "code",
   "execution_count": 58,
   "id": "03eef441-6008-4b4d-8b51-f822eba17d41",
   "metadata": {},
   "outputs": [],
   "source": [
    "def quantile(pmf, prob):\n",
    "    total = 0\n",
    "    # q = quantity, p=probability\n",
    "    for q, p in pmf.items():\n",
    "        total += p\n",
    "        if total >= prob:\n",
    "            return q\n",
    "    return np.nan"
   ]
  },
  {
   "cell_type": "code",
   "execution_count": 59,
   "id": "f4fe11d3-ac7b-4b32-b8a8-ac761d8f0f0d",
   "metadata": {},
   "outputs": [
    {
     "data": {
      "text/plain": [
       "113.0"
      ]
     },
     "execution_count": 59,
     "metadata": {},
     "output_type": "execute_result"
    }
   ],
   "source": [
    "# median = 50th quantile\n",
    "quantile(dfp['posterior'].sort_index(), 0.5)"
   ]
  },
  {
   "cell_type": "code",
   "execution_count": 60,
   "id": "1f39fedb-f894-4f25-9038-390985bc0eec",
   "metadata": {},
   "outputs": [
    {
     "name": "stdout",
     "output_type": "stream",
     "text": [
      "91.0\n",
      "243.0\n"
     ]
    },
    {
     "data": {
      "text/plain": [
       "(None, None)"
      ]
     },
     "execution_count": 60,
     "metadata": {},
     "output_type": "execute_result"
    }
   ],
   "source": [
    "q5 = quantile(dfp['posterior'].sort_index(), 0.05)\n",
    "q95 = quantile(dfp['posterior'].sort_index(), 0.95)\n",
    "\n",
    "print(q5), print(q95)"
   ]
  },
  {
   "cell_type": "markdown",
   "id": "915370a2-9d32-43b1-90af-61e60280ddfa",
   "metadata": {},
   "source": [
    "The result is the interval from 91 to 243 trains, which implies:\n",
    "- The probability is 5% that the number of trains is less than or equal to 91\n",
    "- The probability is 5% that the number of trains is greater than 243\n",
    "\n",
    "Therefore the probability is 90% that the number of trains falls between 91 and 243 (excluding 91 and 243). For this reason, this interval is called a 90% **credible interval**"
   ]
  },
  {
   "cell_type": "code",
   "execution_count": 61,
   "id": "acaf3a2a-1dff-4e72-aafb-784dc5fcebc6",
   "metadata": {},
   "outputs": [
    {
     "data": {
      "text/plain": [
       "prior        6.435293e-05\n",
       "posterior    1.374275e-07\n",
       "Name: 0.05, dtype: float64"
      ]
     },
     "execution_count": 61,
     "metadata": {},
     "output_type": "execute_result"
    }
   ],
   "source": [
    "dfp.quantile(q=0.05)"
   ]
  },
  {
   "cell_type": "code",
   "execution_count": 25,
   "id": "783a138d-dda4-4055-b07a-4783f99a679e",
   "metadata": {},
   "outputs": [
    {
     "data": {
      "text/plain": [
       "array([0.16666667, 0.16666667, 0.16666667, 0.16666667, 0.16666667,\n",
       "       0.16666667])"
      ]
     },
     "execution_count": 25,
     "metadata": {},
     "output_type": "execute_result"
    }
   ],
   "source": [
    "stats.randint(low=1, high=7).pmf([1,2,3,4,5,6])"
   ]
  },
  {
   "cell_type": "code",
   "execution_count": null,
   "id": "23a6565d-fa7d-4ea5-b24b-78d5663e02d4",
   "metadata": {},
   "outputs": [],
   "source": []
  }
 ],
 "metadata": {
  "kernelspec": {
   "display_name": "Python 3 (ipykernel)",
   "language": "python",
   "name": "python3"
  },
  "language_info": {
   "codemirror_mode": {
    "name": "ipython",
    "version": 3
   },
   "file_extension": ".py",
   "mimetype": "text/x-python",
   "name": "python",
   "nbconvert_exporter": "python",
   "pygments_lexer": "ipython3",
   "version": "3.11.0"
  }
 },
 "nbformat": 4,
 "nbformat_minor": 5
}
