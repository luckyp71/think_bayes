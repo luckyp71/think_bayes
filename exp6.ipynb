{
 "cells": [
  {
   "cell_type": "code",
   "execution_count": 1,
   "id": "59d98f51-2571-4bb8-a8aa-c4ec5c71d75f",
   "metadata": {},
   "outputs": [],
   "source": [
    "import pandas as pd\n",
    "import numpy as np\n",
    "import scipy.stats as stats\n",
    "import matplotlib.pyplot as plt\n",
    "import plotly.graph_objects as go\n",
    "from plotly.subplots import make_subplots"
   ]
  },
  {
   "cell_type": "code",
   "execution_count": 2,
   "id": "04c0c8ed-934a-41c8-9dc5-6a704f604d02",
   "metadata": {},
   "outputs": [],
   "source": [
    "def read_data(filename):\n",
    "    df = pd.read_csv(filename, index_col=0, skiprows=1).dropna().transpose()\n",
    "    return df"
   ]
  },
  {
   "cell_type": "code",
   "execution_count": 3,
   "id": "b370a541-aaef-4ef9-9198-93df7c1aaf71",
   "metadata": {},
   "outputs": [],
   "source": [
    "df2011 = read_data('./data/showcases.2011.csv')\n",
    "df2012 = read_data('./data/showcases.2012.csv')"
   ]
  },
  {
   "cell_type": "code",
   "execution_count": 4,
   "id": "5c3308c0-10fc-4c87-9a44-3135eef37931",
   "metadata": {},
   "outputs": [],
   "source": [
    "df = pd.concat([df2011, df2012], ignore_index=True)"
   ]
  },
  {
   "cell_type": "code",
   "execution_count": 5,
   "id": "6e624630-3ac1-44e4-88bf-087d39e1d8ed",
   "metadata": {},
   "outputs": [
    {
     "data": {
      "text/html": [
       "<div>\n",
       "<style scoped>\n",
       "    .dataframe tbody tr th:only-of-type {\n",
       "        vertical-align: middle;\n",
       "    }\n",
       "\n",
       "    .dataframe tbody tr th {\n",
       "        vertical-align: top;\n",
       "    }\n",
       "\n",
       "    .dataframe thead th {\n",
       "        text-align: right;\n",
       "    }\n",
       "</style>\n",
       "<table border=\"1\" class=\"dataframe\">\n",
       "  <thead>\n",
       "    <tr style=\"text-align: right;\">\n",
       "      <th></th>\n",
       "      <th>Showcase 1</th>\n",
       "      <th>Showcase 2</th>\n",
       "      <th>Bid 1</th>\n",
       "      <th>Bid 2</th>\n",
       "      <th>Difference 1</th>\n",
       "      <th>Difference 2</th>\n",
       "    </tr>\n",
       "  </thead>\n",
       "  <tbody>\n",
       "    <tr>\n",
       "      <th>0</th>\n",
       "      <td>50969.0</td>\n",
       "      <td>45429.0</td>\n",
       "      <td>42000.0</td>\n",
       "      <td>34000.0</td>\n",
       "      <td>8969.0</td>\n",
       "      <td>11429.0</td>\n",
       "    </tr>\n",
       "    <tr>\n",
       "      <th>1</th>\n",
       "      <td>21901.0</td>\n",
       "      <td>34061.0</td>\n",
       "      <td>14000.0</td>\n",
       "      <td>59900.0</td>\n",
       "      <td>7901.0</td>\n",
       "      <td>-25839.0</td>\n",
       "    </tr>\n",
       "    <tr>\n",
       "      <th>2</th>\n",
       "      <td>32815.0</td>\n",
       "      <td>53186.0</td>\n",
       "      <td>32000.0</td>\n",
       "      <td>45000.0</td>\n",
       "      <td>815.0</td>\n",
       "      <td>8186.0</td>\n",
       "    </tr>\n",
       "    <tr>\n",
       "      <th>3</th>\n",
       "      <td>44432.0</td>\n",
       "      <td>31428.0</td>\n",
       "      <td>27000.0</td>\n",
       "      <td>38000.0</td>\n",
       "      <td>17432.0</td>\n",
       "      <td>-6572.0</td>\n",
       "    </tr>\n",
       "    <tr>\n",
       "      <th>4</th>\n",
       "      <td>24273.0</td>\n",
       "      <td>22320.0</td>\n",
       "      <td>18750.0</td>\n",
       "      <td>23000.0</td>\n",
       "      <td>5523.0</td>\n",
       "      <td>-680.0</td>\n",
       "    </tr>\n",
       "  </tbody>\n",
       "</table>\n",
       "</div>"
      ],
      "text/plain": [
       "   Showcase 1  Showcase 2    Bid 1    Bid 2  Difference 1  Difference 2\n",
       "0     50969.0     45429.0  42000.0  34000.0        8969.0       11429.0\n",
       "1     21901.0     34061.0  14000.0  59900.0        7901.0      -25839.0\n",
       "2     32815.0     53186.0  32000.0  45000.0         815.0        8186.0\n",
       "3     44432.0     31428.0  27000.0  38000.0       17432.0       -6572.0\n",
       "4     24273.0     22320.0  18750.0  23000.0        5523.0        -680.0"
      ]
     },
     "execution_count": 5,
     "metadata": {},
     "output_type": "execute_result"
    }
   ],
   "source": [
    "df.head()"
   ]
  },
  {
   "cell_type": "code",
   "execution_count": 6,
   "id": "9d1a29ba-99c6-4584-9011-9ab197de0025",
   "metadata": {},
   "outputs": [],
   "source": [
    "df.columns = ['showcase_1', 'showcase_2', 'bid_1', 'bid_2', 'diff1', 'diff2']"
   ]
  },
  {
   "cell_type": "code",
   "execution_count": 7,
   "id": "016800e9-e54f-46c7-9dff-5754d8f65609",
   "metadata": {},
   "outputs": [
    {
     "data": {
      "text/html": [
       "<div>\n",
       "<style scoped>\n",
       "    .dataframe tbody tr th:only-of-type {\n",
       "        vertical-align: middle;\n",
       "    }\n",
       "\n",
       "    .dataframe tbody tr th {\n",
       "        vertical-align: top;\n",
       "    }\n",
       "\n",
       "    .dataframe thead th {\n",
       "        text-align: right;\n",
       "    }\n",
       "</style>\n",
       "<table border=\"1\" class=\"dataframe\">\n",
       "  <thead>\n",
       "    <tr style=\"text-align: right;\">\n",
       "      <th></th>\n",
       "      <th>showcase_1</th>\n",
       "      <th>showcase_2</th>\n",
       "      <th>bid_1</th>\n",
       "      <th>bid_2</th>\n",
       "      <th>diff1</th>\n",
       "      <th>diff2</th>\n",
       "    </tr>\n",
       "  </thead>\n",
       "  <tbody>\n",
       "    <tr>\n",
       "      <th>0</th>\n",
       "      <td>50969.0</td>\n",
       "      <td>45429.0</td>\n",
       "      <td>42000.0</td>\n",
       "      <td>34000.0</td>\n",
       "      <td>8969.0</td>\n",
       "      <td>11429.0</td>\n",
       "    </tr>\n",
       "    <tr>\n",
       "      <th>1</th>\n",
       "      <td>21901.0</td>\n",
       "      <td>34061.0</td>\n",
       "      <td>14000.0</td>\n",
       "      <td>59900.0</td>\n",
       "      <td>7901.0</td>\n",
       "      <td>-25839.0</td>\n",
       "    </tr>\n",
       "    <tr>\n",
       "      <th>2</th>\n",
       "      <td>32815.0</td>\n",
       "      <td>53186.0</td>\n",
       "      <td>32000.0</td>\n",
       "      <td>45000.0</td>\n",
       "      <td>815.0</td>\n",
       "      <td>8186.0</td>\n",
       "    </tr>\n",
       "    <tr>\n",
       "      <th>3</th>\n",
       "      <td>44432.0</td>\n",
       "      <td>31428.0</td>\n",
       "      <td>27000.0</td>\n",
       "      <td>38000.0</td>\n",
       "      <td>17432.0</td>\n",
       "      <td>-6572.0</td>\n",
       "    </tr>\n",
       "    <tr>\n",
       "      <th>4</th>\n",
       "      <td>24273.0</td>\n",
       "      <td>22320.0</td>\n",
       "      <td>18750.0</td>\n",
       "      <td>23000.0</td>\n",
       "      <td>5523.0</td>\n",
       "      <td>-680.0</td>\n",
       "    </tr>\n",
       "  </tbody>\n",
       "</table>\n",
       "</div>"
      ],
      "text/plain": [
       "   showcase_1  showcase_2    bid_1    bid_2    diff1    diff2\n",
       "0     50969.0     45429.0  42000.0  34000.0   8969.0  11429.0\n",
       "1     21901.0     34061.0  14000.0  59900.0   7901.0 -25839.0\n",
       "2     32815.0     53186.0  32000.0  45000.0    815.0   8186.0\n",
       "3     44432.0     31428.0  27000.0  38000.0  17432.0  -6572.0\n",
       "4     24273.0     22320.0  18750.0  23000.0   5523.0   -680.0"
      ]
     },
     "execution_count": 7,
     "metadata": {},
     "output_type": "execute_result"
    }
   ],
   "source": [
    "df.head()"
   ]
  },
  {
   "cell_type": "markdown",
   "id": "87b367fb-4f75-425f-a441-2ce292d6dbfb",
   "metadata": {},
   "source": [
    "### Kernel Density Estimation\n",
    "\n",
    "Estimate prior distribution of showcase price.<br/>\n",
    "The KDE will estimate the smooth distribution of the prior distribution."
   ]
  },
  {
   "cell_type": "code",
   "execution_count": 8,
   "id": "804d3874-b7d1-4106-97b6-c270422c5deb",
   "metadata": {},
   "outputs": [],
   "source": [
    "# qs is the hypothetical values\n",
    "def make_kde(sample, qs):\n",
    "    # create kde with sample\n",
    "    kde = stats.gaussian_kde(sample)\n",
    "    # evaluate the kde with a sequence of quantities\n",
    "    pdf = kde.pdf(qs)\n",
    "    pdf = pdf/pdf.sum()\n",
    "    df = pd.DataFrame(index=qs, data=pdf, columns=['probs'])\n",
    "    return df"
   ]
  },
  {
   "cell_type": "code",
   "execution_count": 9,
   "id": "a4bc2c3f-8d8b-47ba-8d3b-43361663256e",
   "metadata": {},
   "outputs": [
    {
     "data": {
      "text/html": [
       "<div>\n",
       "<style scoped>\n",
       "    .dataframe tbody tr th:only-of-type {\n",
       "        vertical-align: middle;\n",
       "    }\n",
       "\n",
       "    .dataframe tbody tr th {\n",
       "        vertical-align: top;\n",
       "    }\n",
       "\n",
       "    .dataframe thead th {\n",
       "        text-align: right;\n",
       "    }\n",
       "</style>\n",
       "<table border=\"1\" class=\"dataframe\">\n",
       "  <thead>\n",
       "    <tr style=\"text-align: right;\">\n",
       "      <th></th>\n",
       "      <th>showcase_1</th>\n",
       "      <th>showcase_2</th>\n",
       "    </tr>\n",
       "  </thead>\n",
       "  <tbody>\n",
       "    <tr>\n",
       "      <th>count</th>\n",
       "      <td>313.000000</td>\n",
       "      <td>313.000000</td>\n",
       "    </tr>\n",
       "    <tr>\n",
       "      <th>mean</th>\n",
       "      <td>30299.488818</td>\n",
       "      <td>31047.680511</td>\n",
       "    </tr>\n",
       "    <tr>\n",
       "      <th>std</th>\n",
       "      <td>7145.705405</td>\n",
       "      <td>8293.059002</td>\n",
       "    </tr>\n",
       "    <tr>\n",
       "      <th>min</th>\n",
       "      <td>19563.000000</td>\n",
       "      <td>18349.000000</td>\n",
       "    </tr>\n",
       "    <tr>\n",
       "      <th>25%</th>\n",
       "      <td>24866.000000</td>\n",
       "      <td>25264.000000</td>\n",
       "    </tr>\n",
       "    <tr>\n",
       "      <th>50%</th>\n",
       "      <td>28958.000000</td>\n",
       "      <td>29488.000000</td>\n",
       "    </tr>\n",
       "    <tr>\n",
       "      <th>75%</th>\n",
       "      <td>34428.000000</td>\n",
       "      <td>34665.000000</td>\n",
       "    </tr>\n",
       "    <tr>\n",
       "      <th>max</th>\n",
       "      <td>58342.000000</td>\n",
       "      <td>71628.000000</td>\n",
       "    </tr>\n",
       "  </tbody>\n",
       "</table>\n",
       "</div>"
      ],
      "text/plain": [
       "         showcase_1    showcase_2\n",
       "count    313.000000    313.000000\n",
       "mean   30299.488818  31047.680511\n",
       "std     7145.705405   8293.059002\n",
       "min    19563.000000  18349.000000\n",
       "25%    24866.000000  25264.000000\n",
       "50%    28958.000000  29488.000000\n",
       "75%    34428.000000  34665.000000\n",
       "max    58342.000000  71628.000000"
      ]
     },
     "execution_count": 9,
     "metadata": {},
     "output_type": "execute_result"
    }
   ],
   "source": [
    "df[['showcase_1', 'showcase_2']].describe()"
   ]
  },
  {
   "cell_type": "code",
   "execution_count": 10,
   "id": "66119b1a-2ebc-4b15-8d7a-e22e106e1b7f",
   "metadata": {},
   "outputs": [],
   "source": [
    "qs = np.linspace(0,80000, 81)\n",
    "prior1 = make_kde(df['showcase_1'], qs)"
   ]
  },
  {
   "cell_type": "code",
   "execution_count": 94,
   "id": "810cb5a9-ae99-4b64-972a-012580bdba7d",
   "metadata": {},
   "outputs": [
    {
     "name": "stderr",
     "output_type": "stream",
     "text": [
      "/home/lucky/anaconda3/envs/python311/lib/python3.11/site-packages/plotly/graph_objs/_deprecations.py:378: DeprecationWarning:\n",
      "\n",
      "plotly.graph_objs.Line is deprecated.\n",
      "Please replace it with one of the following more specific types\n",
      "  - plotly.graph_objs.scatter.Line\n",
      "  - plotly.graph_objs.layout.shape.Line\n",
      "  - etc.\n",
      "\n",
      "\n"
     ]
    },
    {
     "data": {
      "application/vnd.plotly.v1+json": {
       "config": {
        "plotlyServerURL": "https://plot.ly"
       },
       "data": [
        {
         "type": "scatter",
         "x": {
          "bdata": "AAAAAAAAAAAAAAAAAECPQAAAAAAAQJ9AAAAAAABwp0AAAAAAAECvQAAAAAAAiLNAAAAAAABwt0AAAAAAAFi7QAAAAAAAQL9AAAAAAACUwUAAAAAAAIjDQAAAAAAAfMVAAAAAAABwx0AAAAAAAGTJQAAAAAAAWMtAAAAAAABMzUAAAAAAAEDPQAAAAAAAmtBAAAAAAACU0UAAAAAAAI7SQAAAAAAAiNNAAAAAAACC1EAAAAAAAHzVQAAAAAAAdtZAAAAAAABw10AAAAAAAGrYQAAAAAAAZNlAAAAAAABe2kAAAAAAAFjbQAAAAAAAUtxAAAAAAABM3UAAAAAAAEbeQAAAAAAAQN9AAAAAAAAd4EAAAAAAAJrgQAAAAAAAF+FAAAAAAACU4UAAAAAAABHiQAAAAAAAjuJAAAAAAAAL40AAAAAAAIjjQAAAAAAABeRAAAAAAACC5EAAAAAAAP/kQAAAAAAAfOVAAAAAAAD55UAAAAAAAHbmQAAAAAAA8+ZAAAAAAABw50AAAAAAAO3nQAAAAAAAauhAAAAAAADn6EAAAAAAAGTpQAAAAAAA4elAAAAAAABe6kAAAAAAANvqQAAAAAAAWOtAAAAAAADV60AAAAAAAFLsQAAAAAAAz+xAAAAAAABM7UAAAAAAAMntQAAAAAAARu5AAAAAAADD7kAAAAAAAEDvQAAAAAAAve9AAAAAAAAd8EAAAAAAgFvwQAAAAAAAmvBAAAAAAIDY8EAAAAAAABfxQAAAAACAVfFAAAAAAACU8UAAAAAAgNLxQAAAAAAAEfJAAAAAAIBP8kAAAAAAAI7yQAAAAACAzPJAAAAAAAAL80AAAAAAgEnzQAAAAAAAiPNA",
          "dtype": "f8"
         },
         "y": {
          "bdata": "cBjHHbTo9Dstq7kHf5tLPO2U4VblHp48y27Q3GIt6zxRXOw1Z0w0PSevRROGIHk9E8bQzdjOuT3Zfj0iVgb2PRWrsa6cSC8+JUHuAT2FYj6FQEIDR1CSPpJgu1eLTr4+ygvfn2oH5T5Dmd0dbIcIP/0pNUW/HCg/S1y+rooJRD+uily8aUJcPzu5I6Is/nA/XxU1U7yJgT8ottIhulSPP7TRiwCwfZg/skAX0p3+oD99osLQKFClPw3Cys3cq6g/s3fTPg39qj/8UJ38uYusP/WkZy7/rq0/Xsfhsmh/rj/UakkemMGuP31ApftZG64/4/z1Z1xorD8Sil88quepPzGJXk8KH6c/zLQQdG6QpD9dsL+73HyiPwKCAeP/2qA/25iQ68Dxnj+p6Gb8ukecP0HgUgdkdpk/vhHBsy9dlj9GrauIJ/mSP7MHtjNB6I4/bIbXP0FViD8hN5liEQuDP+yeCSM45H4/Khy/PciWej8JPDSIAet3PwYJ/xsU2XU/w9KHEtkTdD8KTfdw67NyP3qZpkK/m3E/CJuca31QcD/wBoibPMFsPw7vz5Mfnmc/jm0F6FggYj+daITk0MBaP8v1eEJ4+1M/yT/PsQyVTz+NADY46RJKP+duaxt3+0Q/5X2rDxiVPj/cOPiSrjwzP34hcT6WXiQ/eDbiKZHvET+5IytVOh76PrLlhgzjXd8+FMNmCX4Hvz4drbpn+kSZPoweY3y873A+n+NE+J+uQj5ow34V/vQQPrQJV2oTVNk9bgTRPhAhnz3MI4TxrHpfPagV2FtDMRo9xx2HT4ju0TxKtkF6uDOEPLsU5joKujI8mdUN5vOQ3Dv81qQEUu2BOxwEhKB0gyI7",
          "dtype": "f8"
         }
        }
       ],
       "layout": {
        "template": {
         "data": {
          "bar": [
           {
            "error_x": {
             "color": "#2a3f5f"
            },
            "error_y": {
             "color": "#2a3f5f"
            },
            "marker": {
             "line": {
              "color": "#E5ECF6",
              "width": 0.5
             },
             "pattern": {
              "fillmode": "overlay",
              "size": 10,
              "solidity": 0.2
             }
            },
            "type": "bar"
           }
          ],
          "barpolar": [
           {
            "marker": {
             "line": {
              "color": "#E5ECF6",
              "width": 0.5
             },
             "pattern": {
              "fillmode": "overlay",
              "size": 10,
              "solidity": 0.2
             }
            },
            "type": "barpolar"
           }
          ],
          "carpet": [
           {
            "aaxis": {
             "endlinecolor": "#2a3f5f",
             "gridcolor": "white",
             "linecolor": "white",
             "minorgridcolor": "white",
             "startlinecolor": "#2a3f5f"
            },
            "baxis": {
             "endlinecolor": "#2a3f5f",
             "gridcolor": "white",
             "linecolor": "white",
             "minorgridcolor": "white",
             "startlinecolor": "#2a3f5f"
            },
            "type": "carpet"
           }
          ],
          "choropleth": [
           {
            "colorbar": {
             "outlinewidth": 0,
             "ticks": ""
            },
            "type": "choropleth"
           }
          ],
          "contour": [
           {
            "colorbar": {
             "outlinewidth": 0,
             "ticks": ""
            },
            "colorscale": [
             [
              0,
              "#0d0887"
             ],
             [
              0.1111111111111111,
              "#46039f"
             ],
             [
              0.2222222222222222,
              "#7201a8"
             ],
             [
              0.3333333333333333,
              "#9c179e"
             ],
             [
              0.4444444444444444,
              "#bd3786"
             ],
             [
              0.5555555555555556,
              "#d8576b"
             ],
             [
              0.6666666666666666,
              "#ed7953"
             ],
             [
              0.7777777777777778,
              "#fb9f3a"
             ],
             [
              0.8888888888888888,
              "#fdca26"
             ],
             [
              1,
              "#f0f921"
             ]
            ],
            "type": "contour"
           }
          ],
          "contourcarpet": [
           {
            "colorbar": {
             "outlinewidth": 0,
             "ticks": ""
            },
            "type": "contourcarpet"
           }
          ],
          "heatmap": [
           {
            "colorbar": {
             "outlinewidth": 0,
             "ticks": ""
            },
            "colorscale": [
             [
              0,
              "#0d0887"
             ],
             [
              0.1111111111111111,
              "#46039f"
             ],
             [
              0.2222222222222222,
              "#7201a8"
             ],
             [
              0.3333333333333333,
              "#9c179e"
             ],
             [
              0.4444444444444444,
              "#bd3786"
             ],
             [
              0.5555555555555556,
              "#d8576b"
             ],
             [
              0.6666666666666666,
              "#ed7953"
             ],
             [
              0.7777777777777778,
              "#fb9f3a"
             ],
             [
              0.8888888888888888,
              "#fdca26"
             ],
             [
              1,
              "#f0f921"
             ]
            ],
            "type": "heatmap"
           }
          ],
          "histogram": [
           {
            "marker": {
             "pattern": {
              "fillmode": "overlay",
              "size": 10,
              "solidity": 0.2
             }
            },
            "type": "histogram"
           }
          ],
          "histogram2d": [
           {
            "colorbar": {
             "outlinewidth": 0,
             "ticks": ""
            },
            "colorscale": [
             [
              0,
              "#0d0887"
             ],
             [
              0.1111111111111111,
              "#46039f"
             ],
             [
              0.2222222222222222,
              "#7201a8"
             ],
             [
              0.3333333333333333,
              "#9c179e"
             ],
             [
              0.4444444444444444,
              "#bd3786"
             ],
             [
              0.5555555555555556,
              "#d8576b"
             ],
             [
              0.6666666666666666,
              "#ed7953"
             ],
             [
              0.7777777777777778,
              "#fb9f3a"
             ],
             [
              0.8888888888888888,
              "#fdca26"
             ],
             [
              1,
              "#f0f921"
             ]
            ],
            "type": "histogram2d"
           }
          ],
          "histogram2dcontour": [
           {
            "colorbar": {
             "outlinewidth": 0,
             "ticks": ""
            },
            "colorscale": [
             [
              0,
              "#0d0887"
             ],
             [
              0.1111111111111111,
              "#46039f"
             ],
             [
              0.2222222222222222,
              "#7201a8"
             ],
             [
              0.3333333333333333,
              "#9c179e"
             ],
             [
              0.4444444444444444,
              "#bd3786"
             ],
             [
              0.5555555555555556,
              "#d8576b"
             ],
             [
              0.6666666666666666,
              "#ed7953"
             ],
             [
              0.7777777777777778,
              "#fb9f3a"
             ],
             [
              0.8888888888888888,
              "#fdca26"
             ],
             [
              1,
              "#f0f921"
             ]
            ],
            "type": "histogram2dcontour"
           }
          ],
          "mesh3d": [
           {
            "colorbar": {
             "outlinewidth": 0,
             "ticks": ""
            },
            "type": "mesh3d"
           }
          ],
          "parcoords": [
           {
            "line": {
             "colorbar": {
              "outlinewidth": 0,
              "ticks": ""
             }
            },
            "type": "parcoords"
           }
          ],
          "pie": [
           {
            "automargin": true,
            "type": "pie"
           }
          ],
          "scatter": [
           {
            "fillpattern": {
             "fillmode": "overlay",
             "size": 10,
             "solidity": 0.2
            },
            "type": "scatter"
           }
          ],
          "scatter3d": [
           {
            "line": {
             "colorbar": {
              "outlinewidth": 0,
              "ticks": ""
             }
            },
            "marker": {
             "colorbar": {
              "outlinewidth": 0,
              "ticks": ""
             }
            },
            "type": "scatter3d"
           }
          ],
          "scattercarpet": [
           {
            "marker": {
             "colorbar": {
              "outlinewidth": 0,
              "ticks": ""
             }
            },
            "type": "scattercarpet"
           }
          ],
          "scattergeo": [
           {
            "marker": {
             "colorbar": {
              "outlinewidth": 0,
              "ticks": ""
             }
            },
            "type": "scattergeo"
           }
          ],
          "scattergl": [
           {
            "marker": {
             "colorbar": {
              "outlinewidth": 0,
              "ticks": ""
             }
            },
            "type": "scattergl"
           }
          ],
          "scattermap": [
           {
            "marker": {
             "colorbar": {
              "outlinewidth": 0,
              "ticks": ""
             }
            },
            "type": "scattermap"
           }
          ],
          "scattermapbox": [
           {
            "marker": {
             "colorbar": {
              "outlinewidth": 0,
              "ticks": ""
             }
            },
            "type": "scattermapbox"
           }
          ],
          "scatterpolar": [
           {
            "marker": {
             "colorbar": {
              "outlinewidth": 0,
              "ticks": ""
             }
            },
            "type": "scatterpolar"
           }
          ],
          "scatterpolargl": [
           {
            "marker": {
             "colorbar": {
              "outlinewidth": 0,
              "ticks": ""
             }
            },
            "type": "scatterpolargl"
           }
          ],
          "scatterternary": [
           {
            "marker": {
             "colorbar": {
              "outlinewidth": 0,
              "ticks": ""
             }
            },
            "type": "scatterternary"
           }
          ],
          "surface": [
           {
            "colorbar": {
             "outlinewidth": 0,
             "ticks": ""
            },
            "colorscale": [
             [
              0,
              "#0d0887"
             ],
             [
              0.1111111111111111,
              "#46039f"
             ],
             [
              0.2222222222222222,
              "#7201a8"
             ],
             [
              0.3333333333333333,
              "#9c179e"
             ],
             [
              0.4444444444444444,
              "#bd3786"
             ],
             [
              0.5555555555555556,
              "#d8576b"
             ],
             [
              0.6666666666666666,
              "#ed7953"
             ],
             [
              0.7777777777777778,
              "#fb9f3a"
             ],
             [
              0.8888888888888888,
              "#fdca26"
             ],
             [
              1,
              "#f0f921"
             ]
            ],
            "type": "surface"
           }
          ],
          "table": [
           {
            "cells": {
             "fill": {
              "color": "#EBF0F8"
             },
             "line": {
              "color": "white"
             }
            },
            "header": {
             "fill": {
              "color": "#C8D4E3"
             },
             "line": {
              "color": "white"
             }
            },
            "type": "table"
           }
          ]
         },
         "layout": {
          "annotationdefaults": {
           "arrowcolor": "#2a3f5f",
           "arrowhead": 0,
           "arrowwidth": 1
          },
          "autotypenumbers": "strict",
          "coloraxis": {
           "colorbar": {
            "outlinewidth": 0,
            "ticks": ""
           }
          },
          "colorscale": {
           "diverging": [
            [
             0,
             "#8e0152"
            ],
            [
             0.1,
             "#c51b7d"
            ],
            [
             0.2,
             "#de77ae"
            ],
            [
             0.3,
             "#f1b6da"
            ],
            [
             0.4,
             "#fde0ef"
            ],
            [
             0.5,
             "#f7f7f7"
            ],
            [
             0.6,
             "#e6f5d0"
            ],
            [
             0.7,
             "#b8e186"
            ],
            [
             0.8,
             "#7fbc41"
            ],
            [
             0.9,
             "#4d9221"
            ],
            [
             1,
             "#276419"
            ]
           ],
           "sequential": [
            [
             0,
             "#0d0887"
            ],
            [
             0.1111111111111111,
             "#46039f"
            ],
            [
             0.2222222222222222,
             "#7201a8"
            ],
            [
             0.3333333333333333,
             "#9c179e"
            ],
            [
             0.4444444444444444,
             "#bd3786"
            ],
            [
             0.5555555555555556,
             "#d8576b"
            ],
            [
             0.6666666666666666,
             "#ed7953"
            ],
            [
             0.7777777777777778,
             "#fb9f3a"
            ],
            [
             0.8888888888888888,
             "#fdca26"
            ],
            [
             1,
             "#f0f921"
            ]
           ],
           "sequentialminus": [
            [
             0,
             "#0d0887"
            ],
            [
             0.1111111111111111,
             "#46039f"
            ],
            [
             0.2222222222222222,
             "#7201a8"
            ],
            [
             0.3333333333333333,
             "#9c179e"
            ],
            [
             0.4444444444444444,
             "#bd3786"
            ],
            [
             0.5555555555555556,
             "#d8576b"
            ],
            [
             0.6666666666666666,
             "#ed7953"
            ],
            [
             0.7777777777777778,
             "#fb9f3a"
            ],
            [
             0.8888888888888888,
             "#fdca26"
            ],
            [
             1,
             "#f0f921"
            ]
           ]
          },
          "colorway": [
           "#636efa",
           "#EF553B",
           "#00cc96",
           "#ab63fa",
           "#FFA15A",
           "#19d3f3",
           "#FF6692",
           "#B6E880",
           "#FF97FF",
           "#FECB52"
          ],
          "font": {
           "color": "#2a3f5f"
          },
          "geo": {
           "bgcolor": "white",
           "lakecolor": "white",
           "landcolor": "#E5ECF6",
           "showlakes": true,
           "showland": true,
           "subunitcolor": "white"
          },
          "hoverlabel": {
           "align": "left"
          },
          "hovermode": "closest",
          "mapbox": {
           "style": "light"
          },
          "paper_bgcolor": "white",
          "plot_bgcolor": "#E5ECF6",
          "polar": {
           "angularaxis": {
            "gridcolor": "white",
            "linecolor": "white",
            "ticks": ""
           },
           "bgcolor": "#E5ECF6",
           "radialaxis": {
            "gridcolor": "white",
            "linecolor": "white",
            "ticks": ""
           }
          },
          "scene": {
           "xaxis": {
            "backgroundcolor": "#E5ECF6",
            "gridcolor": "white",
            "gridwidth": 2,
            "linecolor": "white",
            "showbackground": true,
            "ticks": "",
            "zerolinecolor": "white"
           },
           "yaxis": {
            "backgroundcolor": "#E5ECF6",
            "gridcolor": "white",
            "gridwidth": 2,
            "linecolor": "white",
            "showbackground": true,
            "ticks": "",
            "zerolinecolor": "white"
           },
           "zaxis": {
            "backgroundcolor": "#E5ECF6",
            "gridcolor": "white",
            "gridwidth": 2,
            "linecolor": "white",
            "showbackground": true,
            "ticks": "",
            "zerolinecolor": "white"
           }
          },
          "shapedefaults": {
           "line": {
            "color": "#2a3f5f"
           }
          },
          "ternary": {
           "aaxis": {
            "gridcolor": "white",
            "linecolor": "white",
            "ticks": ""
           },
           "baxis": {
            "gridcolor": "white",
            "linecolor": "white",
            "ticks": ""
           },
           "bgcolor": "#E5ECF6",
           "caxis": {
            "gridcolor": "white",
            "linecolor": "white",
            "ticks": ""
           }
          },
          "title": {
           "x": 0.05
          },
          "xaxis": {
           "automargin": true,
           "gridcolor": "white",
           "linecolor": "white",
           "ticks": "",
           "title": {
            "standoff": 15
           },
           "zerolinecolor": "white",
           "zerolinewidth": 2
          },
          "yaxis": {
           "automargin": true,
           "gridcolor": "white",
           "linecolor": "white",
           "ticks": "",
           "title": {
            "standoff": 15
           },
           "zerolinecolor": "white",
           "zerolinewidth": 2
          }
         }
        },
        "title": {
         "text": "Showcase 1 Prior Distribution"
        },
        "xaxis": {
         "title": {
          "text": "Showcase value"
         }
        },
        "yaxis": {
         "title": {
          "text": "PDF"
         }
        }
       }
      },
      "image/png": "[encoded data removed]"
     },
     "metadata": {},
     "output_type": "display_data"
    }
   ],
   "source": [
    "fig = go.Figure()\n",
    "\n",
    "fig.add_trace(\n",
    "    go.Line(\n",
    "        x=prior1.index,\n",
    "        y=prior1['probs']\n",
    "    )\n",
    ")\n",
    "\n",
    "fig.update_layout(\n",
    "    xaxis_title='Showcase value',\n",
    "    yaxis_title='PDF',\n",
    "    title='Showcase 1 Prior Distribution'\n",
    ")\n",
    "\n",
    "fig.show()"
   ]
  },
  {
   "cell_type": "code",
   "execution_count": 12,
   "id": "329c8d67-7b22-471c-902d-78e4bb634b6e",
   "metadata": {},
   "outputs": [
    {
     "data": {
      "text/plain": [
       "(np.float64(30299.488817891375), np.float64(30299.488817891375))"
      ]
     },
     "execution_count": 12,
     "metadata": {},
     "output_type": "execute_result"
    }
   ],
   "source": [
    "np.sum(prior1.index*prior1.probs), np.mean(df['showcase_1'])"
   ]
  },
  {
   "cell_type": "code",
   "execution_count": 13,
   "id": "c468411d-4f55-4f57-b5ee-c9b103a5e485",
   "metadata": {},
   "outputs": [],
   "source": [
    "prior2 = make_kde(df['showcase_2'], qs)"
   ]
  },
  {
   "cell_type": "code",
   "execution_count": 14,
   "id": "5d81d6c7-376f-4cd9-befd-2c7f58ad065e",
   "metadata": {},
   "outputs": [
    {
     "name": "stderr",
     "output_type": "stream",
     "text": [
      "/home/lucky/anaconda3/envs/python311/lib/python3.11/site-packages/plotly/graph_objs/_deprecations.py:378: DeprecationWarning:\n",
      "\n",
      "plotly.graph_objs.Line is deprecated.\n",
      "Please replace it with one of the following more specific types\n",
      "  - plotly.graph_objs.scatter.Line\n",
      "  - plotly.graph_objs.layout.shape.Line\n",
      "  - etc.\n",
      "\n",
      "\n"
     ]
    },
    {
     "data": {
      "application/vnd.plotly.v1+json": {
       "config": {
        "plotlyServerURL": "https://plot.ly"
       },
       "data": [
        {
         "type": "scatter",
         "x": {
          "bdata": "AAAAAAAAAAAAAAAAAECPQAAAAAAAQJ9AAAAAAABwp0AAAAAAAECvQAAAAAAAiLNAAAAAAABwt0AAAAAAAFi7QAAAAAAAQL9AAAAAAACUwUAAAAAAAIjDQAAAAAAAfMVAAAAAAABwx0AAAAAAAGTJQAAAAAAAWMtAAAAAAABMzUAAAAAAAEDPQAAAAAAAmtBAAAAAAACU0UAAAAAAAI7SQAAAAAAAiNNAAAAAAACC1EAAAAAAAHzVQAAAAAAAdtZAAAAAAABw10AAAAAAAGrYQAAAAAAAZNlAAAAAAABe2kAAAAAAAFjbQAAAAAAAUtxAAAAAAABM3UAAAAAAAEbeQAAAAAAAQN9AAAAAAAAd4EAAAAAAAJrgQAAAAAAAF+FAAAAAAACU4UAAAAAAABHiQAAAAAAAjuJAAAAAAAAL40AAAAAAAIjjQAAAAAAABeRAAAAAAACC5EAAAAAAAP/kQAAAAAAAfOVAAAAAAAD55UAAAAAAAHbmQAAAAAAA8+ZAAAAAAABw50AAAAAAAO3nQAAAAAAAauhAAAAAAADn6EAAAAAAAGTpQAAAAAAA4elAAAAAAABe6kAAAAAAANvqQAAAAAAAWOtAAAAAAADV60AAAAAAAFLsQAAAAAAAz+xAAAAAAABM7UAAAAAAAMntQAAAAAAARu5AAAAAAADD7kAAAAAAAEDvQAAAAAAAve9AAAAAAAAd8EAAAAAAgFvwQAAAAAAAmvBAAAAAAIDY8EAAAAAAABfxQAAAAACAVfFAAAAAAACU8UAAAAAAgNLxQAAAAAAAEfJAAAAAAIBP8kAAAAAAAI7yQAAAAACAzPJAAAAAAAAL80AAAAAAgEnzQAAAAAAAiPNA",
          "dtype": "f8"
         },
         "y": {
          "bdata": "3ICmjQafET1Yqf6FV25OPRgAPWw+54Y9VRO6qVgVvj05AURDykLxPd3+ZxOYUyE+X5gs/Xl3Tj5DCKAFmX13PjpuxyZxzp8+fpk6gQbuwj5f3/qP6NTjPgRt+voETwI/6VlFz7XUHT/j1mERSHs1P6wVnQ6taEs/g/8A3eQTXz8hwcUOXnJvP+c/BQw0j3w/vEkfHc9zhz9ALE+rvZKRP87eM7iSSJg/ojDo0mJInz/e+AqblvuiP90ex+MH6KU/g7lw+vo7qD86lfmU6OSpPxL/3inI6qo/ZXRV5r9kqz9f0qmNA2irP0Jcg8Xn/qo/OPOIhZ0vqj+FUYG2XgipP21LDBLHoKc/9Tz/8NEOpj+UTFSd0F2kPz1n22G2kaI/WZ3/MvywoD8LLqdtfpOdPylhWmI/35k/vpBarstulj+KXF7w/GWTP3Tq8Z0R2ZA/9Oacj5GGjT8s1xz0ow6KP7YPSupn+oY/rwBY0LUJhD/hl6xRCSKBPzFiEGAOmXw/PJW//iRLdz/WEZfVPJdyP04sXubtT20/j9E+fLITZz+qmR0CnE9iP6Yx0lN3VF0/dBhjVPiWVz+A/X4lEBJTPxgNHmYPlk8/0CWphKmZSz/Yk/GMIsNJP4ws6Hw/Okk/pDFDkE0wST8x4P8SVSxJP3d/ZBd/Dkk/eUAbI5YFST+SER6l9YRJP22u9WITDEs/koJFe3u/TT+kint6+ZFQP671LbdeHVI/HJv/hJ7xUj9LVZHuZ59SP+r425ra+1A/0xGDynNnTD88gibbBIpFP+peCMlGVD0/IHFeFcjGMT+yNjJwSg0jP0A5287G9BE/lqLjG3Sk/T5hKxSmfVzlPmfI4S0H0co+",
          "dtype": "f8"
         }
        }
       ],
       "layout": {
        "template": {
         "data": {
          "bar": [
           {
            "error_x": {
             "color": "#2a3f5f"
            },
            "error_y": {
             "color": "#2a3f5f"
            },
            "marker": {
             "line": {
              "color": "#E5ECF6",
              "width": 0.5
             },
             "pattern": {
              "fillmode": "overlay",
              "size": 10,
              "solidity": 0.2
             }
            },
            "type": "bar"
           }
          ],
          "barpolar": [
           {
            "marker": {
             "line": {
              "color": "#E5ECF6",
              "width": 0.5
             },
             "pattern": {
              "fillmode": "overlay",
              "size": 10,
              "solidity": 0.2
             }
            },
            "type": "barpolar"
           }
          ],
          "carpet": [
           {
            "aaxis": {
             "endlinecolor": "#2a3f5f",
             "gridcolor": "white",
             "linecolor": "white",
             "minorgridcolor": "white",
             "startlinecolor": "#2a3f5f"
            },
            "baxis": {
             "endlinecolor": "#2a3f5f",
             "gridcolor": "white",
             "linecolor": "white",
             "minorgridcolor": "white",
             "startlinecolor": "#2a3f5f"
            },
            "type": "carpet"
           }
          ],
          "choropleth": [
           {
            "colorbar": {
             "outlinewidth": 0,
             "ticks": ""
            },
            "type": "choropleth"
           }
          ],
          "contour": [
           {
            "colorbar": {
             "outlinewidth": 0,
             "ticks": ""
            },
            "colorscale": [
             [
              0,
              "#0d0887"
             ],
             [
              0.1111111111111111,
              "#46039f"
             ],
             [
              0.2222222222222222,
              "#7201a8"
             ],
             [
              0.3333333333333333,
              "#9c179e"
             ],
             [
              0.4444444444444444,
              "#bd3786"
             ],
             [
              0.5555555555555556,
              "#d8576b"
             ],
             [
              0.6666666666666666,
              "#ed7953"
             ],
             [
              0.7777777777777778,
              "#fb9f3a"
             ],
             [
              0.8888888888888888,
              "#fdca26"
             ],
             [
              1,
              "#f0f921"
             ]
            ],
            "type": "contour"
           }
          ],
          "contourcarpet": [
           {
            "colorbar": {
             "outlinewidth": 0,
             "ticks": ""
            },
            "type": "contourcarpet"
           }
          ],
          "heatmap": [
           {
            "colorbar": {
             "outlinewidth": 0,
             "ticks": ""
            },
            "colorscale": [
             [
              0,
              "#0d0887"
             ],
             [
              0.1111111111111111,
              "#46039f"
             ],
             [
              0.2222222222222222,
              "#7201a8"
             ],
             [
              0.3333333333333333,
              "#9c179e"
             ],
             [
              0.4444444444444444,
              "#bd3786"
             ],
             [
              0.5555555555555556,
              "#d8576b"
             ],
             [
              0.6666666666666666,
              "#ed7953"
             ],
             [
              0.7777777777777778,
              "#fb9f3a"
             ],
             [
              0.8888888888888888,
              "#fdca26"
             ],
             [
              1,
              "#f0f921"
             ]
            ],
            "type": "heatmap"
           }
          ],
          "histogram": [
           {
            "marker": {
             "pattern": {
              "fillmode": "overlay",
              "size": 10,
              "solidity": 0.2
             }
            },
            "type": "histogram"
           }
          ],
          "histogram2d": [
           {
            "colorbar": {
             "outlinewidth": 0,
             "ticks": ""
            },
            "colorscale": [
             [
              0,
              "#0d0887"
             ],
             [
              0.1111111111111111,
              "#46039f"
             ],
             [
              0.2222222222222222,
              "#7201a8"
             ],
             [
              0.3333333333333333,
              "#9c179e"
             ],
             [
              0.4444444444444444,
              "#bd3786"
             ],
             [
              0.5555555555555556,
              "#d8576b"
             ],
             [
              0.6666666666666666,
              "#ed7953"
             ],
             [
              0.7777777777777778,
              "#fb9f3a"
             ],
             [
              0.8888888888888888,
              "#fdca26"
             ],
             [
              1,
              "#f0f921"
             ]
            ],
            "type": "histogram2d"
           }
          ],
          "histogram2dcontour": [
           {
            "colorbar": {
             "outlinewidth": 0,
             "ticks": ""
            },
            "colorscale": [
             [
              0,
              "#0d0887"
             ],
             [
              0.1111111111111111,
              "#46039f"
             ],
             [
              0.2222222222222222,
              "#7201a8"
             ],
             [
              0.3333333333333333,
              "#9c179e"
             ],
             [
              0.4444444444444444,
              "#bd3786"
             ],
             [
              0.5555555555555556,
              "#d8576b"
             ],
             [
              0.6666666666666666,
              "#ed7953"
             ],
             [
              0.7777777777777778,
              "#fb9f3a"
             ],
             [
              0.8888888888888888,
              "#fdca26"
             ],
             [
              1,
              "#f0f921"
             ]
            ],
            "type": "histogram2dcontour"
           }
          ],
          "mesh3d": [
           {
            "colorbar": {
             "outlinewidth": 0,
             "ticks": ""
            },
            "type": "mesh3d"
           }
          ],
          "parcoords": [
           {
            "line": {
             "colorbar": {
              "outlinewidth": 0,
              "ticks": ""
             }
            },
            "type": "parcoords"
           }
          ],
          "pie": [
           {
            "automargin": true,
            "type": "pie"
           }
          ],
          "scatter": [
           {
            "fillpattern": {
             "fillmode": "overlay",
             "size": 10,
             "solidity": 0.2
            },
            "type": "scatter"
           }
          ],
          "scatter3d": [
           {
            "line": {
             "colorbar": {
              "outlinewidth": 0,
              "ticks": ""
             }
            },
            "marker": {
             "colorbar": {
              "outlinewidth": 0,
              "ticks": ""
             }
            },
            "type": "scatter3d"
           }
          ],
          "scattercarpet": [
           {
            "marker": {
             "colorbar": {
              "outlinewidth": 0,
              "ticks": ""
             }
            },
            "type": "scattercarpet"
           }
          ],
          "scattergeo": [
           {
            "marker": {
             "colorbar": {
              "outlinewidth": 0,
              "ticks": ""
             }
            },
            "type": "scattergeo"
           }
          ],
          "scattergl": [
           {
            "marker": {
             "colorbar": {
              "outlinewidth": 0,
              "ticks": ""
             }
            },
            "type": "scattergl"
           }
          ],
          "scattermap": [
           {
            "marker": {
             "colorbar": {
              "outlinewidth": 0,
              "ticks": ""
             }
            },
            "type": "scattermap"
           }
          ],
          "scattermapbox": [
           {
            "marker": {
             "colorbar": {
              "outlinewidth": 0,
              "ticks": ""
             }
            },
            "type": "scattermapbox"
           }
          ],
          "scatterpolar": [
           {
            "marker": {
             "colorbar": {
              "outlinewidth": 0,
              "ticks": ""
             }
            },
            "type": "scatterpolar"
           }
          ],
          "scatterpolargl": [
           {
            "marker": {
             "colorbar": {
              "outlinewidth": 0,
              "ticks": ""
             }
            },
            "type": "scatterpolargl"
           }
          ],
          "scatterternary": [
           {
            "marker": {
             "colorbar": {
              "outlinewidth": 0,
              "ticks": ""
             }
            },
            "type": "scatterternary"
           }
          ],
          "surface": [
           {
            "colorbar": {
             "outlinewidth": 0,
             "ticks": ""
            },
            "colorscale": [
             [
              0,
              "#0d0887"
             ],
             [
              0.1111111111111111,
              "#46039f"
             ],
             [
              0.2222222222222222,
              "#7201a8"
             ],
             [
              0.3333333333333333,
              "#9c179e"
             ],
             [
              0.4444444444444444,
              "#bd3786"
             ],
             [
              0.5555555555555556,
              "#d8576b"
             ],
             [
              0.6666666666666666,
              "#ed7953"
             ],
             [
              0.7777777777777778,
              "#fb9f3a"
             ],
             [
              0.8888888888888888,
              "#fdca26"
             ],
             [
              1,
              "#f0f921"
             ]
            ],
            "type": "surface"
           }
          ],
          "table": [
           {
            "cells": {
             "fill": {
              "color": "#EBF0F8"
             },
             "line": {
              "color": "white"
             }
            },
            "header": {
             "fill": {
              "color": "#C8D4E3"
             },
             "line": {
              "color": "white"
             }
            },
            "type": "table"
           }
          ]
         },
         "layout": {
          "annotationdefaults": {
           "arrowcolor": "#2a3f5f",
           "arrowhead": 0,
           "arrowwidth": 1
          },
          "autotypenumbers": "strict",
          "coloraxis": {
           "colorbar": {
            "outlinewidth": 0,
            "ticks": ""
           }
          },
          "colorscale": {
           "diverging": [
            [
             0,
             "#8e0152"
            ],
            [
             0.1,
             "#c51b7d"
            ],
            [
             0.2,
             "#de77ae"
            ],
            [
             0.3,
             "#f1b6da"
            ],
            [
             0.4,
             "#fde0ef"
            ],
            [
             0.5,
             "#f7f7f7"
            ],
            [
             0.6,
             "#e6f5d0"
            ],
            [
             0.7,
             "#b8e186"
            ],
            [
             0.8,
             "#7fbc41"
            ],
            [
             0.9,
             "#4d9221"
            ],
            [
             1,
             "#276419"
            ]
           ],
           "sequential": [
            [
             0,
             "#0d0887"
            ],
            [
             0.1111111111111111,
             "#46039f"
            ],
            [
             0.2222222222222222,
             "#7201a8"
            ],
            [
             0.3333333333333333,
             "#9c179e"
            ],
            [
             0.4444444444444444,
             "#bd3786"
            ],
            [
             0.5555555555555556,
             "#d8576b"
            ],
            [
             0.6666666666666666,
             "#ed7953"
            ],
            [
             0.7777777777777778,
             "#fb9f3a"
            ],
            [
             0.8888888888888888,
             "#fdca26"
            ],
            [
             1,
             "#f0f921"
            ]
           ],
           "sequentialminus": [
            [
             0,
             "#0d0887"
            ],
            [
             0.1111111111111111,
             "#46039f"
            ],
            [
             0.2222222222222222,
             "#7201a8"
            ],
            [
             0.3333333333333333,
             "#9c179e"
            ],
            [
             0.4444444444444444,
             "#bd3786"
            ],
            [
             0.5555555555555556,
             "#d8576b"
            ],
            [
             0.6666666666666666,
             "#ed7953"
            ],
            [
             0.7777777777777778,
             "#fb9f3a"
            ],
            [
             0.8888888888888888,
             "#fdca26"
            ],
            [
             1,
             "#f0f921"
            ]
           ]
          },
          "colorway": [
           "#636efa",
           "#EF553B",
           "#00cc96",
           "#ab63fa",
           "#FFA15A",
           "#19d3f3",
           "#FF6692",
           "#B6E880",
           "#FF97FF",
           "#FECB52"
          ],
          "font": {
           "color": "#2a3f5f"
          },
          "geo": {
           "bgcolor": "white",
           "lakecolor": "white",
           "landcolor": "#E5ECF6",
           "showlakes": true,
           "showland": true,
           "subunitcolor": "white"
          },
          "hoverlabel": {
           "align": "left"
          },
          "hovermode": "closest",
          "mapbox": {
           "style": "light"
          },
          "paper_bgcolor": "white",
          "plot_bgcolor": "#E5ECF6",
          "polar": {
           "angularaxis": {
            "gridcolor": "white",
            "linecolor": "white",
            "ticks": ""
           },
           "bgcolor": "#E5ECF6",
           "radialaxis": {
            "gridcolor": "white",
            "linecolor": "white",
            "ticks": ""
           }
          },
          "scene": {
           "xaxis": {
            "backgroundcolor": "#E5ECF6",
            "gridcolor": "white",
            "gridwidth": 2,
            "linecolor": "white",
            "showbackground": true,
            "ticks": "",
            "zerolinecolor": "white"
           },
           "yaxis": {
            "backgroundcolor": "#E5ECF6",
            "gridcolor": "white",
            "gridwidth": 2,
            "linecolor": "white",
            "showbackground": true,
            "ticks": "",
            "zerolinecolor": "white"
           },
           "zaxis": {
            "backgroundcolor": "#E5ECF6",
            "gridcolor": "white",
            "gridwidth": 2,
            "linecolor": "white",
            "showbackground": true,
            "ticks": "",
            "zerolinecolor": "white"
           }
          },
          "shapedefaults": {
           "line": {
            "color": "#2a3f5f"
           }
          },
          "ternary": {
           "aaxis": {
            "gridcolor": "white",
            "linecolor": "white",
            "ticks": ""
           },
           "baxis": {
            "gridcolor": "white",
            "linecolor": "white",
            "ticks": ""
           },
           "bgcolor": "#E5ECF6",
           "caxis": {
            "gridcolor": "white",
            "linecolor": "white",
            "ticks": ""
           }
          },
          "title": {
           "x": 0.05
          },
          "xaxis": {
           "automargin": true,
           "gridcolor": "white",
           "linecolor": "white",
           "ticks": "",
           "title": {
            "standoff": 15
           },
           "zerolinecolor": "white",
           "zerolinewidth": 2
          },
          "yaxis": {
           "automargin": true,
           "gridcolor": "white",
           "linecolor": "white",
           "ticks": "",
           "title": {
            "standoff": 15
           },
           "zerolinecolor": "white",
           "zerolinewidth": 2
          }
         }
        },
        "title": {
         "text": "Showcase 2 Prior Distribution"
        },
        "xaxis": {
         "title": {
          "text": "Showcase value"
         }
        },
        "yaxis": {
         "title": {
          "text": "PDF"
         }
        }
       }
      },
      "image/png": "[encoded data removed]"
     },
     "metadata": {},
     "output_type": "display_data"
    }
   ],
   "source": [
    "fig = go.Figure()\n",
    "\n",
    "fig.add_trace(\n",
    "    go.Line(\n",
    "        x=prior2.index,\n",
    "        y=prior2['probs']\n",
    "    )\n",
    ")\n",
    "\n",
    "fig.update_layout(\n",
    "    xaxis_title='Showcase value',\n",
    "    yaxis_title='PDF',\n",
    "    title='Showcase 2 Prior Distribution'\n",
    ")\n",
    "\n",
    "fig.show()"
   ]
  },
  {
   "cell_type": "code",
   "execution_count": 15,
   "id": "66529edc-4fb5-496d-a6cb-6e8dae3ac032",
   "metadata": {},
   "outputs": [
    {
     "data": {
      "text/plain": [
       "(np.float64(31047.62371912251), np.float64(31047.68051118211))"
      ]
     },
     "execution_count": 15,
     "metadata": {},
     "output_type": "execute_result"
    }
   ],
   "source": [
    "np.sum(prior2.index*prior2['probs']), np.mean(df['showcase_2'])"
   ]
  },
  {
   "cell_type": "markdown",
   "id": "b248e7f7-8974-4f62-a80d-a4c53e2aa255",
   "metadata": {},
   "source": [
    "### Distribution Error\n",
    "\n",
    "What is the likelihood that the constestan's guess is off by error?<br/>\n",
    "\n",
    "To answer this question, we will use the historical data again. For each showcase in the dataset, let's look at the difference between the contestant's bid and the actual price."
   ]
  },
  {
   "cell_type": "code",
   "execution_count": 16,
   "id": "45abb6dd-dcec-452b-85eb-69b3a14ae527",
   "metadata": {},
   "outputs": [],
   "source": [
    "sample_diff1 = df['bid_1'] - df['showcase_1']\n",
    "sample_diff2 = df['bid_2'] - df['showcase_2']"
   ]
  },
  {
   "cell_type": "markdown",
   "id": "edd0e5c5-e53e-4cca-86e6-9c8c1ee43f72",
   "metadata": {},
   "source": [
    "To visualize the distribution of these differences, we can use KDE again"
   ]
  },
  {
   "cell_type": "code",
   "execution_count": 17,
   "id": "26ab7ddc-c5bb-440a-8804-f752d77327a6",
   "metadata": {},
   "outputs": [
    {
     "data": {
      "text/plain": [
       "(np.float64(-4116.3961661341855), np.float64(6888.878768457381))"
      ]
     },
     "execution_count": 17,
     "metadata": {},
     "output_type": "execute_result"
    }
   ],
   "source": [
    "stats.norm.fit(sample_diff1) # mean and std"
   ]
  },
  {
   "cell_type": "code",
   "execution_count": 18,
   "id": "94fca4f2-f8e7-4858-8c98-abefaac90a23",
   "metadata": {},
   "outputs": [
    {
     "data": {
      "text/plain": [
       "(np.float64(-3675.891373801917), np.float64(6875.251494512836))"
      ]
     },
     "execution_count": 18,
     "metadata": {},
     "output_type": "execute_result"
    }
   ],
   "source": [
    "stats.norm.fit(sample_diff2) # mean and std"
   ]
  },
  {
   "cell_type": "code",
   "execution_count": 19,
   "id": "22125706-b59b-4a64-849d-9363bfb825d3",
   "metadata": {},
   "outputs": [
    {
     "data": {
      "text/plain": [
       "(count      313.000000\n",
       " mean     -4116.396166\n",
       " std       6899.909806\n",
       " min     -31374.000000\n",
       " 25%      -7800.000000\n",
       " 50%      -3902.000000\n",
       " 75%        -26.000000\n",
       " max      14187.000000\n",
       " dtype: float64,\n",
       " count      313.000000\n",
       " mean     -3675.891374\n",
       " std       6886.260711\n",
       " min     -43628.000000\n",
       " 25%      -7829.000000\n",
       " 50%      -3136.000000\n",
       " 75%        587.000000\n",
       " max      25839.000000\n",
       " dtype: float64)"
      ]
     },
     "execution_count": 19,
     "metadata": {},
     "output_type": "execute_result"
    }
   ],
   "source": [
    "sample_diff1.describe(), sample_diff2.describe()"
   ]
  },
  {
   "cell_type": "code",
   "execution_count": 20,
   "id": "02f3572c-8d9e-411a-87c0-b45791e4e8cb",
   "metadata": {},
   "outputs": [],
   "source": [
    "# hypothetical values of the diff\n",
    "qs = np.linspace(-45000, 28000, 100)\n",
    "kde_diff1 = make_kde(sample_diff1, qs)\n",
    "kde_diff2 = make_kde(sample_diff2, qs)"
   ]
  },
  {
   "cell_type": "code",
   "execution_count": 21,
   "id": "13ef616a-9c7f-4848-ba77-b408c7aea89c",
   "metadata": {},
   "outputs": [
    {
     "name": "stderr",
     "output_type": "stream",
     "text": [
      "/home/lucky/anaconda3/envs/python311/lib/python3.11/site-packages/plotly/graph_objs/_deprecations.py:378: DeprecationWarning:\n",
      "\n",
      "plotly.graph_objs.Line is deprecated.\n",
      "Please replace it with one of the following more specific types\n",
      "  - plotly.graph_objs.scatter.Line\n",
      "  - plotly.graph_objs.layout.shape.Line\n",
      "  - etc.\n",
      "\n",
      "\n"
     ]
    },
    {
     "data": {
      "application/vnd.plotly.v1+json": {
       "config": {
        "plotlyServerURL": "https://plot.ly"
       },
       "data": [
        {
         "name": "Diff 1",
         "type": "scatter",
         "x": {
          "bdata": "AAAAAAD55cBQ61cK1JzlwKDWrxSoQOXA8MEHH3zk5MBBrV8pUIjkwJGYtzMkLOTA4YMPPvjP48Axb2dIzHPjwIFav1KgF+PA0UUXXXS74sAiMW9nSF/iwHIcx3EcA+LAwgcffPCm4cAS83aGxErhwGLezpCY7uDAsskmm2yS4MACtX6lQDbgwKZArV8ptN/ARhdddNH73sDm7QyJeUPewIbEvJ0hi93AJptsssnS3MDHcRzHcRrcwGdIzNsZYtvACB988MGp2sCo9SsFavHZwEjM2xkSOdnA6KKLLrqA2MCJeTtDYsjXwClQ61cKENfAySabbLJX1sBq/UqBWp/VwArU+pUC59TAqqqqqqou1MBLgVq/UnbTwOtXCtT6vdLAiy666KIF0sAsBWr9Sk3RwMzbGRLzlNDA2GSTTTa5z8AYEvN2hkjOwFq/UqDW18zAmmyyySZny8DaGRLzdvbJwBzHcRzHhcjAXHTRRRcVx8CcITFvZ6TFwNzOkJi3M8TAIHzwwQfDwsBgKVDrV1LBwECtXylQw7/AwAcffPDhvMBAYt7OkAC6wMC8nSExH7fAQBdddNE9tMDIcRzHcVyxwJCYtzMk9qzAkE022WQzp8CQArV+pXChwCBvZ0jMW5fAQLLJJpush8AA0JCYtzM0wIClQK1faYZAwOiiiy66lkBgv1Kg1h+hQGAK1PqV4qZAYFVVVVWlrEAwUOtXCjSxQKj1KwVqFbRAKJtsssn2tkCoQK1fKdi5QCjm7QyJubxAqIsuuuiav0CUmLczJD7BQFDrVwrUrsJAED744IMfxEDQkJi3M5DFQJDjOI7jAMdAUDbZZJNxyEAQiXk7Q+LJQNDbGRLzUstAjC666KLDzEBMgVq/UjTOQAzU+pUCpc9AZpNNNtmK0EDGvJ0hMUPRQCbm7QyJ+9FAhA8++OCz0kDkOI7jOGzTQERi3s6QJNRApIsuuujc1EAEtX6lQJXVQGTezpCYTdZAxAcffPAF10AkMW9nSL7XQIRav1KgdthA4IMPPvgu2UBArV8pUOfZQKDWrxSon9pAAAAAAABY20A=",
          "dtype": "f8"
         },
         "y": {
          "bdata": "GGst81srgT2whlECvtawPQMbpuC9gd09cepJv6wYBz7Tl6876yYwPn7TuKNCL1Q+rboqTrKJdj5NmtyRkHyWPmgOqUxFDLQ+vi63Y9fxzz7cANfmd77mPmqK+N6F8fw+s+qy9X11ED/rbmLu4LogP6HBwrrXZS4/UAJM2cOuOD/tAmV75OlBP4Gdb6e4PUc/+tzfHczzSj+IcYyQDPFLPw624WcE6Ek/2m1XXZ2ERT+/l7Tdix9AP2MtJ8oBZzY/OexpjyLELz+kDd2X4pcsP7499gu9yjI/eH7t0qZlPj/+CrVPRwFJP14wSTBgglM/IZuonxKAXD9G5Jkcs49jP9rs3ECacmk/Tc002DCwbz9DW0R1jhJzP/26JMWeYnY/5RVMnwrJeT8oJSU6kkh9P3LndVcEc4A/6e28jWhWgj807qMlZ1mEP8zyLzIRjIY/n5S5KT8CiT9J856rE9OLPwm7CuZTGY8/iqgi5O94kT8V7DdMOruTP36xdHahW5Y/nScRuTNcmT85mZGPGLqcP1JorVK1NqA/jrG6B2gxoj/m5iO5oTekP42IcYXHI6Y/8xRZXQfEpz+Lxvvu1ueoP5wizB1QcKk/PRPP1bpYqT+IGroTqbGoP5UNkRpOk6c/rBbwsxcSpj9cBhcefz2kP5Rb1DacJ6I/nvq/JmjZnz8ENJeSimWbP76vBGPyQJc/MdQiPb+jkz9xn1mzb6SQP9pUpGMldYw/KHIe6XqWiD8QRFGFiW2FPyGEWna/xII/ge2mY2t4gD8C156jUOl8P4904pX9WXk/DmunAgApdj8l4+ZtPThzP1CGMYAEbnA/Aq3w9ft8az8xkN0diVlmPyM1BUzziWE/lzUVRGdZWj8Cx/1N0sFSP3LfIyOQB0k/SejrNFv3Pj/1OS5HWZcxP5bsjvN8NiI/8Y6s3RAVET9qmqOYZef8PnUzF6M8/eU+0jdFL1EFzj4ZPDo1J1yyPjBLaBYlGZQ+Cz3BZ+mscz7uubOGajdRPpCVoX2v6yo+T0aSe/rMAj7mKtiT0XPXPW/163O2H6o9pwLI34f7eT0=",
          "dtype": "f8"
         }
        },
        {
         "name": "Diff 2",
         "type": "scatter",
         "x": {
          "bdata": "AAAAAAD55cBQ61cK1JzlwKDWrxSoQOXA8MEHH3zk5MBBrV8pUIjkwJGYtzMkLOTA4YMPPvjP48Axb2dIzHPjwIFav1KgF+PA0UUXXXS74sAiMW9nSF/iwHIcx3EcA+LAwgcffPCm4cAS83aGxErhwGLezpCY7uDAsskmm2yS4MACtX6lQDbgwKZArV8ptN/ARhdddNH73sDm7QyJeUPewIbEvJ0hi93AJptsssnS3MDHcRzHcRrcwGdIzNsZYtvACB988MGp2sCo9SsFavHZwEjM2xkSOdnA6KKLLrqA2MCJeTtDYsjXwClQ61cKENfAySabbLJX1sBq/UqBWp/VwArU+pUC59TAqqqqqqou1MBLgVq/UnbTwOtXCtT6vdLAiy666KIF0sAsBWr9Sk3RwMzbGRLzlNDA2GSTTTa5z8AYEvN2hkjOwFq/UqDW18zAmmyyySZny8DaGRLzdvbJwBzHcRzHhcjAXHTRRRcVx8CcITFvZ6TFwNzOkJi3M8TAIHzwwQfDwsBgKVDrV1LBwECtXylQw7/AwAcffPDhvMBAYt7OkAC6wMC8nSExH7fAQBdddNE9tMDIcRzHcVyxwJCYtzMk9qzAkE022WQzp8CQArV+pXChwCBvZ0jMW5fAQLLJJpush8AA0JCYtzM0wIClQK1faYZAwOiiiy66lkBgv1Kg1h+hQGAK1PqV4qZAYFVVVVWlrEAwUOtXCjSxQKj1KwVqFbRAKJtsssn2tkCoQK1fKdi5QCjm7QyJubxAqIsuuuiav0CUmLczJD7BQFDrVwrUrsJAED744IMfxEDQkJi3M5DFQJDjOI7jAMdAUDbZZJNxyEAQiXk7Q+LJQNDbGRLzUstAjC666KLDzEBMgVq/UjTOQAzU+pUCpc9AZpNNNtmK0EDGvJ0hMUPRQCbm7QyJ+9FAhA8++OCz0kDkOI7jOGzTQERi3s6QJNRApIsuuujc1EAEtX6lQJXVQGTezpCYTdZAxAcffPAF10AkMW9nSL7XQIRav1KgdthA4IMPPvgu2UBArV8pUOfZQKDWrxSon9pAAAAAAABY20A=",
          "dtype": "f8"
         },
         "y": {
          "bdata": "0MnAoVAwNz8AW+aCKxY7Pys3LDW0OTw/FZWvkfo8Oj8emUQPRMI1P8QVvabXGDA/J6g/lzA/JT9KiqgnlAQZPw4hR/eFRwo/LeQ8AzSg+D7SDHUYa5bkPmKzAsOcvc4+pCNCrvbHtD5OqtyY+UmePs01FgNtXZ0+VXw4TkzPsz4n9XRwXGbNPh13RUR+y+M+by+JPu7R9z7kVsHfppkJPwXX9HwFmRg/glg8+f0sJT+4a3+7RGcwP3azGUJODjc/4KVnLR3YPT/qOL/cTTtCP9D0yB2QvEU/TyOeIz8XSj9C7dRpC+dPP0Bb+a/em1M/kwpJlwmuVz9jtSYjFbBbP42wxDJybl8/cPXOFICmYT++tLpqAiNkP/liBt0szWc/IW318R40bT8Y6FDw8FdyP7Xc4v9IKnc/vQIgiW38fD97QkoBBdKBP1i6Iqbid4U/bLVnWf9diT82N2pfVYONP8CLTTJg/JA/2jLDGUVpkz+Q5Aen5QeWP1l4Kf0qxZg/ETrC6EyAmz+G/pMGiRueP2K7cMJTRqA/ryE0zEBwoT/G2yTPYZeiP5SVwNkpw6M/FTfkIA3vpD8EZLSKuQimP+ai1v1j9KY/2bdapbGUpz+ZZYOuT9KnP5nY3n7vn6c/DSQSdUb6pj/SLHgvpualP0ulR6i4cqQ/Ejb6tuG0oj8D6MXmZMqgPym8mi2Yo50/xGslzcfHmT960KiDdh+WP3eMvBwHuJI/+6Wckbcvjz+x+tM9GY2JP/E6QmcwnIQ/RLPC39BsgD9rIS8U4AF6P7CIUTpik3Q/OnxooB5WcD9Xl1gDDQlqP2t/+52XsWQ/llVDDRMzYD8d6g3FlI5YPzksfWYis1E/SYC5SHzfRz+/OtwS0rw9P7woskia8DA/EG+cY1WJIT/qQeDMoXsQP6sxVqvU9Pw+QdNGn50Z7T6k0VZzWwftPkyzPPMTI/s+WD6osUK9Cz/Pfp3F3hMaP9CqSr8e9SU/OFvCgXGAMD/kEtqnxyA2PxHaDvKLeDo/EwnV4bs/PD9pDmCmseQ6P3oCrIAG1zY/qeryLuVNMT8=",
          "dtype": "f8"
         }
        }
       ],
       "layout": {
        "template": {
         "data": {
          "bar": [
           {
            "error_x": {
             "color": "#2a3f5f"
            },
            "error_y": {
             "color": "#2a3f5f"
            },
            "marker": {
             "line": {
              "color": "#E5ECF6",
              "width": 0.5
             },
             "pattern": {
              "fillmode": "overlay",
              "size": 10,
              "solidity": 0.2
             }
            },
            "type": "bar"
           }
          ],
          "barpolar": [
           {
            "marker": {
             "line": {
              "color": "#E5ECF6",
              "width": 0.5
             },
             "pattern": {
              "fillmode": "overlay",
              "size": 10,
              "solidity": 0.2
             }
            },
            "type": "barpolar"
           }
          ],
          "carpet": [
           {
            "aaxis": {
             "endlinecolor": "#2a3f5f",
             "gridcolor": "white",
             "linecolor": "white",
             "minorgridcolor": "white",
             "startlinecolor": "#2a3f5f"
            },
            "baxis": {
             "endlinecolor": "#2a3f5f",
             "gridcolor": "white",
             "linecolor": "white",
             "minorgridcolor": "white",
             "startlinecolor": "#2a3f5f"
            },
            "type": "carpet"
           }
          ],
          "choropleth": [
           {
            "colorbar": {
             "outlinewidth": 0,
             "ticks": ""
            },
            "type": "choropleth"
           }
          ],
          "contour": [
           {
            "colorbar": {
             "outlinewidth": 0,
             "ticks": ""
            },
            "colorscale": [
             [
              0,
              "#0d0887"
             ],
             [
              0.1111111111111111,
              "#46039f"
             ],
             [
              0.2222222222222222,
              "#7201a8"
             ],
             [
              0.3333333333333333,
              "#9c179e"
             ],
             [
              0.4444444444444444,
              "#bd3786"
             ],
             [
              0.5555555555555556,
              "#d8576b"
             ],
             [
              0.6666666666666666,
              "#ed7953"
             ],
             [
              0.7777777777777778,
              "#fb9f3a"
             ],
             [
              0.8888888888888888,
              "#fdca26"
             ],
             [
              1,
              "#f0f921"
             ]
            ],
            "type": "contour"
           }
          ],
          "contourcarpet": [
           {
            "colorbar": {
             "outlinewidth": 0,
             "ticks": ""
            },
            "type": "contourcarpet"
           }
          ],
          "heatmap": [
           {
            "colorbar": {
             "outlinewidth": 0,
             "ticks": ""
            },
            "colorscale": [
             [
              0,
              "#0d0887"
             ],
             [
              0.1111111111111111,
              "#46039f"
             ],
             [
              0.2222222222222222,
              "#7201a8"
             ],
             [
              0.3333333333333333,
              "#9c179e"
             ],
             [
              0.4444444444444444,
              "#bd3786"
             ],
             [
              0.5555555555555556,
              "#d8576b"
             ],
             [
              0.6666666666666666,
              "#ed7953"
             ],
             [
              0.7777777777777778,
              "#fb9f3a"
             ],
             [
              0.8888888888888888,
              "#fdca26"
             ],
             [
              1,
              "#f0f921"
             ]
            ],
            "type": "heatmap"
           }
          ],
          "histogram": [
           {
            "marker": {
             "pattern": {
              "fillmode": "overlay",
              "size": 10,
              "solidity": 0.2
             }
            },
            "type": "histogram"
           }
          ],
          "histogram2d": [
           {
            "colorbar": {
             "outlinewidth": 0,
             "ticks": ""
            },
            "colorscale": [
             [
              0,
              "#0d0887"
             ],
             [
              0.1111111111111111,
              "#46039f"
             ],
             [
              0.2222222222222222,
              "#7201a8"
             ],
             [
              0.3333333333333333,
              "#9c179e"
             ],
             [
              0.4444444444444444,
              "#bd3786"
             ],
             [
              0.5555555555555556,
              "#d8576b"
             ],
             [
              0.6666666666666666,
              "#ed7953"
             ],
             [
              0.7777777777777778,
              "#fb9f3a"
             ],
             [
              0.8888888888888888,
              "#fdca26"
             ],
             [
              1,
              "#f0f921"
             ]
            ],
            "type": "histogram2d"
           }
          ],
          "histogram2dcontour": [
           {
            "colorbar": {
             "outlinewidth": 0,
             "ticks": ""
            },
            "colorscale": [
             [
              0,
              "#0d0887"
             ],
             [
              0.1111111111111111,
              "#46039f"
             ],
             [
              0.2222222222222222,
              "#7201a8"
             ],
             [
              0.3333333333333333,
              "#9c179e"
             ],
             [
              0.4444444444444444,
              "#bd3786"
             ],
             [
              0.5555555555555556,
              "#d8576b"
             ],
             [
              0.6666666666666666,
              "#ed7953"
             ],
             [
              0.7777777777777778,
              "#fb9f3a"
             ],
             [
              0.8888888888888888,
              "#fdca26"
             ],
             [
              1,
              "#f0f921"
             ]
            ],
            "type": "histogram2dcontour"
           }
          ],
          "mesh3d": [
           {
            "colorbar": {
             "outlinewidth": 0,
             "ticks": ""
            },
            "type": "mesh3d"
           }
          ],
          "parcoords": [
           {
            "line": {
             "colorbar": {
              "outlinewidth": 0,
              "ticks": ""
             }
            },
            "type": "parcoords"
           }
          ],
          "pie": [
           {
            "automargin": true,
            "type": "pie"
           }
          ],
          "scatter": [
           {
            "fillpattern": {
             "fillmode": "overlay",
             "size": 10,
             "solidity": 0.2
            },
            "type": "scatter"
           }
          ],
          "scatter3d": [
           {
            "line": {
             "colorbar": {
              "outlinewidth": 0,
              "ticks": ""
             }
            },
            "marker": {
             "colorbar": {
              "outlinewidth": 0,
              "ticks": ""
             }
            },
            "type": "scatter3d"
           }
          ],
          "scattercarpet": [
           {
            "marker": {
             "colorbar": {
              "outlinewidth": 0,
              "ticks": ""
             }
            },
            "type": "scattercarpet"
           }
          ],
          "scattergeo": [
           {
            "marker": {
             "colorbar": {
              "outlinewidth": 0,
              "ticks": ""
             }
            },
            "type": "scattergeo"
           }
          ],
          "scattergl": [
           {
            "marker": {
             "colorbar": {
              "outlinewidth": 0,
              "ticks": ""
             }
            },
            "type": "scattergl"
           }
          ],
          "scattermap": [
           {
            "marker": {
             "colorbar": {
              "outlinewidth": 0,
              "ticks": ""
             }
            },
            "type": "scattermap"
           }
          ],
          "scattermapbox": [
           {
            "marker": {
             "colorbar": {
              "outlinewidth": 0,
              "ticks": ""
             }
            },
            "type": "scattermapbox"
           }
          ],
          "scatterpolar": [
           {
            "marker": {
             "colorbar": {
              "outlinewidth": 0,
              "ticks": ""
             }
            },
            "type": "scatterpolar"
           }
          ],
          "scatterpolargl": [
           {
            "marker": {
             "colorbar": {
              "outlinewidth": 0,
              "ticks": ""
             }
            },
            "type": "scatterpolargl"
           }
          ],
          "scatterternary": [
           {
            "marker": {
             "colorbar": {
              "outlinewidth": 0,
              "ticks": ""
             }
            },
            "type": "scatterternary"
           }
          ],
          "surface": [
           {
            "colorbar": {
             "outlinewidth": 0,
             "ticks": ""
            },
            "colorscale": [
             [
              0,
              "#0d0887"
             ],
             [
              0.1111111111111111,
              "#46039f"
             ],
             [
              0.2222222222222222,
              "#7201a8"
             ],
             [
              0.3333333333333333,
              "#9c179e"
             ],
             [
              0.4444444444444444,
              "#bd3786"
             ],
             [
              0.5555555555555556,
              "#d8576b"
             ],
             [
              0.6666666666666666,
              "#ed7953"
             ],
             [
              0.7777777777777778,
              "#fb9f3a"
             ],
             [
              0.8888888888888888,
              "#fdca26"
             ],
             [
              1,
              "#f0f921"
             ]
            ],
            "type": "surface"
           }
          ],
          "table": [
           {
            "cells": {
             "fill": {
              "color": "#EBF0F8"
             },
             "line": {
              "color": "white"
             }
            },
            "header": {
             "fill": {
              "color": "#C8D4E3"
             },
             "line": {
              "color": "white"
             }
            },
            "type": "table"
           }
          ]
         },
         "layout": {
          "annotationdefaults": {
           "arrowcolor": "#2a3f5f",
           "arrowhead": 0,
           "arrowwidth": 1
          },
          "autotypenumbers": "strict",
          "coloraxis": {
           "colorbar": {
            "outlinewidth": 0,
            "ticks": ""
           }
          },
          "colorscale": {
           "diverging": [
            [
             0,
             "#8e0152"
            ],
            [
             0.1,
             "#c51b7d"
            ],
            [
             0.2,
             "#de77ae"
            ],
            [
             0.3,
             "#f1b6da"
            ],
            [
             0.4,
             "#fde0ef"
            ],
            [
             0.5,
             "#f7f7f7"
            ],
            [
             0.6,
             "#e6f5d0"
            ],
            [
             0.7,
             "#b8e186"
            ],
            [
             0.8,
             "#7fbc41"
            ],
            [
             0.9,
             "#4d9221"
            ],
            [
             1,
             "#276419"
            ]
           ],
           "sequential": [
            [
             0,
             "#0d0887"
            ],
            [
             0.1111111111111111,
             "#46039f"
            ],
            [
             0.2222222222222222,
             "#7201a8"
            ],
            [
             0.3333333333333333,
             "#9c179e"
            ],
            [
             0.4444444444444444,
             "#bd3786"
            ],
            [
             0.5555555555555556,
             "#d8576b"
            ],
            [
             0.6666666666666666,
             "#ed7953"
            ],
            [
             0.7777777777777778,
             "#fb9f3a"
            ],
            [
             0.8888888888888888,
             "#fdca26"
            ],
            [
             1,
             "#f0f921"
            ]
           ],
           "sequentialminus": [
            [
             0,
             "#0d0887"
            ],
            [
             0.1111111111111111,
             "#46039f"
            ],
            [
             0.2222222222222222,
             "#7201a8"
            ],
            [
             0.3333333333333333,
             "#9c179e"
            ],
            [
             0.4444444444444444,
             "#bd3786"
            ],
            [
             0.5555555555555556,
             "#d8576b"
            ],
            [
             0.6666666666666666,
             "#ed7953"
            ],
            [
             0.7777777777777778,
             "#fb9f3a"
            ],
            [
             0.8888888888888888,
             "#fdca26"
            ],
            [
             1,
             "#f0f921"
            ]
           ]
          },
          "colorway": [
           "#636efa",
           "#EF553B",
           "#00cc96",
           "#ab63fa",
           "#FFA15A",
           "#19d3f3",
           "#FF6692",
           "#B6E880",
           "#FF97FF",
           "#FECB52"
          ],
          "font": {
           "color": "#2a3f5f"
          },
          "geo": {
           "bgcolor": "white",
           "lakecolor": "white",
           "landcolor": "#E5ECF6",
           "showlakes": true,
           "showland": true,
           "subunitcolor": "white"
          },
          "hoverlabel": {
           "align": "left"
          },
          "hovermode": "closest",
          "mapbox": {
           "style": "light"
          },
          "paper_bgcolor": "white",
          "plot_bgcolor": "#E5ECF6",
          "polar": {
           "angularaxis": {
            "gridcolor": "white",
            "linecolor": "white",
            "ticks": ""
           },
           "bgcolor": "#E5ECF6",
           "radialaxis": {
            "gridcolor": "white",
            "linecolor": "white",
            "ticks": ""
           }
          },
          "scene": {
           "xaxis": {
            "backgroundcolor": "#E5ECF6",
            "gridcolor": "white",
            "gridwidth": 2,
            "linecolor": "white",
            "showbackground": true,
            "ticks": "",
            "zerolinecolor": "white"
           },
           "yaxis": {
            "backgroundcolor": "#E5ECF6",
            "gridcolor": "white",
            "gridwidth": 2,
            "linecolor": "white",
            "showbackground": true,
            "ticks": "",
            "zerolinecolor": "white"
           },
           "zaxis": {
            "backgroundcolor": "#E5ECF6",
            "gridcolor": "white",
            "gridwidth": 2,
            "linecolor": "white",
            "showbackground": true,
            "ticks": "",
            "zerolinecolor": "white"
           }
          },
          "shapedefaults": {
           "line": {
            "color": "#2a3f5f"
           }
          },
          "ternary": {
           "aaxis": {
            "gridcolor": "white",
            "linecolor": "white",
            "ticks": ""
           },
           "baxis": {
            "gridcolor": "white",
            "linecolor": "white",
            "ticks": ""
           },
           "bgcolor": "#E5ECF6",
           "caxis": {
            "gridcolor": "white",
            "linecolor": "white",
            "ticks": ""
           }
          },
          "title": {
           "x": 0.05
          },
          "xaxis": {
           "automargin": true,
           "gridcolor": "white",
           "linecolor": "white",
           "ticks": "",
           "title": {
            "standoff": 15
           },
           "zerolinecolor": "white",
           "zerolinewidth": 2
          },
          "yaxis": {
           "automargin": true,
           "gridcolor": "white",
           "linecolor": "white",
           "ticks": "",
           "title": {
            "standoff": 15
           },
           "zerolinecolor": "white",
           "zerolinewidth": 2
          }
         }
        },
        "title": {
         "text": "Difference between Bid and Actual Value"
        },
        "xaxis": {
         "title": {
          "text": "Difference (Value)"
         }
        },
        "yaxis": {
         "title": {
          "text": "PDF"
         }
        }
       }
      },
      "image/png": "[encoded data removed]"
     },
     "metadata": {},
     "output_type": "display_data"
    }
   ],
   "source": [
    "fig = go.Figure()\n",
    "\n",
    "fig.add_trace(\n",
    "    go.Line(\n",
    "        x=kde_diff1.index,\n",
    "        y=kde_diff1['probs'],\n",
    "        name='Diff 1'\n",
    "    )\n",
    ")\n",
    "\n",
    "fig.add_trace(\n",
    "    go.Line(\n",
    "        x=kde_diff2.index,\n",
    "        y=kde_diff2['probs'],\n",
    "        name='Diff 2'\n",
    "    )\n",
    ")\n",
    "\n",
    "\n",
    "fig.update_layout(\n",
    "    xaxis_title='Difference (Value)',\n",
    "    yaxis_title='PDF',\n",
    "    title='Difference between Bid and Actual Value'\n",
    ")\n",
    "\n",
    "fig.show()"
   ]
  },
  {
   "cell_type": "markdown",
   "id": "0ef909eb-98e0-45bc-90df-27ad888db4cd",
   "metadata": {},
   "source": [
    "It loos lie the bids are too low more often than too high, which makes sense.<br/>\n",
    "The contestants probably under bid to some degree deliberately.<br/>\n",
    "The distribuitions contains negative and positive values, and it looks like they are well modeled by a normal distribution."
   ]
  },
  {
   "cell_type": "code",
   "execution_count": 22,
   "id": "6fdf3249-265c-4a47-9543-1cf4fd512c99",
   "metadata": {},
   "outputs": [
    {
     "data": {
      "text/plain": [
       "(np.float64(-4116.3961661341855),\n",
       " np.float64(-3675.891373801917),\n",
       " np.float64(6888.878768457381),\n",
       " np.float64(6875.251494512836))"
      ]
     },
     "execution_count": 22,
     "metadata": {},
     "output_type": "execute_result"
    }
   ],
   "source": [
    "mean_diff1 = np.mean(sample_diff1)\n",
    "std_diff1 = np.std(sample_diff1)\n",
    "\n",
    "mean_diff2 = np.mean(sample_diff2)\n",
    "std_diff2 = np.std(sample_diff2)\n",
    "\n",
    "mean_diff1, mean_diff2, std_diff1, std_diff2"
   ]
  },
  {
   "cell_type": "code",
   "execution_count": 23,
   "id": "bb1d58c8-8cc8-4959-b75c-b95e6219145b",
   "metadata": {},
   "outputs": [],
   "source": [
    "error_dist1 = stats.norm(loc=0, scale=std_diff1) # loc is mean and scale is std\n",
    "error_dist2 = stats.norm(loc=0, scale=std_diff2) "
   ]
  },
  {
   "cell_type": "code",
   "execution_count": 24,
   "id": "9d92a8f5-837b-41c2-9461-ae9ecba95613",
   "metadata": {},
   "outputs": [
    {
     "name": "stdout",
     "output_type": "stream",
     "text": [
      "5.790496011607006e-05\n",
      "5.801970791619915e-05\n"
     ]
    }
   ],
   "source": [
    "error = -100\n",
    "\n",
    "# the pdf of having error -100 based on distribution of errors for showcase 1\n",
    "print(error_dist1.pdf(error))\n",
    "\n",
    "# the pdf of having error -100 based on distribution of errors for showcase 2\n",
    "print(error_dist2.pdf(error))"
   ]
  },
  {
   "cell_type": "markdown",
   "id": "39aa1183-395c-4494-9196-7f28914e17be",
   "metadata": {},
   "source": [
    "By itself, the number doesn't mean very much, because probability densities are not probabilities. But they are proportional to probabilities, so we can use them as likelihoods in a Bayesian update."
   ]
  },
  {
   "cell_type": "markdown",
   "id": "a9a1ed3d-6a12-41a6-9bc0-0eb056d5a192",
   "metadata": {},
   "source": [
    "### Update\n",
    "\n",
    "Suppose you are Player 1. You see the prizes in your showcase and your guess for the total price is $23,000.<br/>\n",
    "\n",
    "From your guess, we will subtract away each hypothetical price in the prior distribution; the result is our error under each hypothesis"
   ]
  },
  {
   "cell_type": "code",
   "execution_count": 25,
   "id": "9539f780-f2eb-4474-9fce-7ce6f126df66",
   "metadata": {},
   "outputs": [],
   "source": [
    "guess1 = 23000\n",
    "error1 = guess1 - prior1.index"
   ]
  },
  {
   "cell_type": "markdown",
   "id": "89c764d8-9e44-4af4-9a01-b4d39d58871b",
   "metadata": {},
   "source": [
    "Based on past performance, that our estimation error is well modeled by error_dist. Under that assumption we can compute the likelihood of our error under each hypothesis."
   ]
  },
  {
   "cell_type": "code",
   "execution_count": 26,
   "id": "a4ab8c19-d26c-4cac-8152-d2bd3a1de49a",
   "metadata": {},
   "outputs": [],
   "source": [
    "qs = np.linspace(0,80000, 81)"
   ]
  },
  {
   "cell_type": "code",
   "execution_count": 27,
   "id": "fd882edf-0518-4783-87b5-7d6843a73eff",
   "metadata": {},
   "outputs": [],
   "source": [
    "likelihood1 = error_dist1.pdf(error1)\n",
    "posterior1 = prior1['probs'] * likelihood1\n",
    "posterior1 = posterior1/posterior1.sum()\n",
    "df_posterior1 = pd.DataFrame(index=qs, data=posterior1, columns=['probs'])"
   ]
  },
  {
   "cell_type": "code",
   "execution_count": 28,
   "id": "ea5ffbc6-8c60-487a-8da6-d4e7a2a9f353",
   "metadata": {},
   "outputs": [
    {
     "data": {
      "text/html": [
       "<div>\n",
       "<style scoped>\n",
       "    .dataframe tbody tr th:only-of-type {\n",
       "        vertical-align: middle;\n",
       "    }\n",
       "\n",
       "    .dataframe tbody tr th {\n",
       "        vertical-align: top;\n",
       "    }\n",
       "\n",
       "    .dataframe thead th {\n",
       "        text-align: right;\n",
       "    }\n",
       "</style>\n",
       "<table border=\"1\" class=\"dataframe\">\n",
       "  <thead>\n",
       "    <tr style=\"text-align: right;\">\n",
       "      <th></th>\n",
       "      <th>probs</th>\n",
       "    </tr>\n",
       "  </thead>\n",
       "  <tbody>\n",
       "    <tr>\n",
       "      <th>0.0</th>\n",
       "      <td>4.593710e-22</td>\n",
       "    </tr>\n",
       "    <tr>\n",
       "      <th>1000.0</th>\n",
       "      <td>3.118260e-20</td>\n",
       "    </tr>\n",
       "    <tr>\n",
       "      <th>2000.0</th>\n",
       "      <td>1.712602e-18</td>\n",
       "    </tr>\n",
       "    <tr>\n",
       "      <th>3000.0</th>\n",
       "      <td>7.616427e-17</td>\n",
       "    </tr>\n",
       "    <tr>\n",
       "      <th>4000.0</th>\n",
       "      <td>2.745429e-15</td>\n",
       "    </tr>\n",
       "    <tr>\n",
       "      <th>...</th>\n",
       "      <td>...</td>\n",
       "    </tr>\n",
       "    <tr>\n",
       "      <th>76000.0</th>\n",
       "      <td>8.392800e-30</td>\n",
       "    </tr>\n",
       "    <tr>\n",
       "      <th>77000.0</th>\n",
       "      <td>7.874517e-32</td>\n",
       "    </tr>\n",
       "    <tr>\n",
       "      <th>78000.0</th>\n",
       "      <td>5.952291e-34</td>\n",
       "    </tr>\n",
       "    <tr>\n",
       "      <th>79000.0</th>\n",
       "      <td>3.624828e-36</td>\n",
       "    </tr>\n",
       "    <tr>\n",
       "      <th>80000.0</th>\n",
       "      <td>1.778418e-38</td>\n",
       "    </tr>\n",
       "  </tbody>\n",
       "</table>\n",
       "<p>81 rows × 1 columns</p>\n",
       "</div>"
      ],
      "text/plain": [
       "                probs\n",
       "0.0      4.593710e-22\n",
       "1000.0   3.118260e-20\n",
       "2000.0   1.712602e-18\n",
       "3000.0   7.616427e-17\n",
       "4000.0   2.745429e-15\n",
       "...               ...\n",
       "76000.0  8.392800e-30\n",
       "77000.0  7.874517e-32\n",
       "78000.0  5.952291e-34\n",
       "79000.0  3.624828e-36\n",
       "80000.0  1.778418e-38\n",
       "\n",
       "[81 rows x 1 columns]"
      ]
     },
     "execution_count": 28,
     "metadata": {},
     "output_type": "execute_result"
    }
   ],
   "source": [
    "df_posterior1"
   ]
  },
  {
   "cell_type": "code",
   "execution_count": 29,
   "id": "4ef4799c-ddf5-44ad-a61b-a07c4907c57c",
   "metadata": {},
   "outputs": [
    {
     "name": "stderr",
     "output_type": "stream",
     "text": [
      "/home/lucky/anaconda3/envs/python311/lib/python3.11/site-packages/plotly/graph_objs/_deprecations.py:378: DeprecationWarning:\n",
      "\n",
      "plotly.graph_objs.Line is deprecated.\n",
      "Please replace it with one of the following more specific types\n",
      "  - plotly.graph_objs.scatter.Line\n",
      "  - plotly.graph_objs.layout.shape.Line\n",
      "  - etc.\n",
      "\n",
      "\n"
     ]
    },
    {
     "data": {
      "application/vnd.plotly.v1+json": {
       "config": {
        "plotlyServerURL": "https://plot.ly"
       },
       "data": [
        {
         "name": "Prior 1",
         "type": "scatter",
         "x": {
          "bdata": "AAAAAAAAAAAAAAAAAECPQAAAAAAAQJ9AAAAAAABwp0AAAAAAAECvQAAAAAAAiLNAAAAAAABwt0AAAAAAAFi7QAAAAAAAQL9AAAAAAACUwUAAAAAAAIjDQAAAAAAAfMVAAAAAAABwx0AAAAAAAGTJQAAAAAAAWMtAAAAAAABMzUAAAAAAAEDPQAAAAAAAmtBAAAAAAACU0UAAAAAAAI7SQAAAAAAAiNNAAAAAAACC1EAAAAAAAHzVQAAAAAAAdtZAAAAAAABw10AAAAAAAGrYQAAAAAAAZNlAAAAAAABe2kAAAAAAAFjbQAAAAAAAUtxAAAAAAABM3UAAAAAAAEbeQAAAAAAAQN9AAAAAAAAd4EAAAAAAAJrgQAAAAAAAF+FAAAAAAACU4UAAAAAAABHiQAAAAAAAjuJAAAAAAAAL40AAAAAAAIjjQAAAAAAABeRAAAAAAACC5EAAAAAAAP/kQAAAAAAAfOVAAAAAAAD55UAAAAAAAHbmQAAAAAAA8+ZAAAAAAABw50AAAAAAAO3nQAAAAAAAauhAAAAAAADn6EAAAAAAAGTpQAAAAAAA4elAAAAAAABe6kAAAAAAANvqQAAAAAAAWOtAAAAAAADV60AAAAAAAFLsQAAAAAAAz+xAAAAAAABM7UAAAAAAAMntQAAAAAAARu5AAAAAAADD7kAAAAAAAEDvQAAAAAAAve9AAAAAAAAd8EAAAAAAgFvwQAAAAAAAmvBAAAAAAIDY8EAAAAAAABfxQAAAAACAVfFAAAAAAACU8UAAAAAAgNLxQAAAAAAAEfJAAAAAAIBP8kAAAAAAAI7yQAAAAACAzPJAAAAAAAAL80AAAAAAgEnzQAAAAAAAiPNA",
          "dtype": "f8"
         },
         "y": {
          "bdata": "cBjHHbTo9Dstq7kHf5tLPO2U4VblHp48y27Q3GIt6zxRXOw1Z0w0PSevRROGIHk9E8bQzdjOuT3Zfj0iVgb2PRWrsa6cSC8+JUHuAT2FYj6FQEIDR1CSPpJgu1eLTr4+ygvfn2oH5T5Dmd0dbIcIP/0pNUW/HCg/S1y+rooJRD+uily8aUJcPzu5I6Is/nA/XxU1U7yJgT8ottIhulSPP7TRiwCwfZg/skAX0p3+oD99osLQKFClPw3Cys3cq6g/s3fTPg39qj/8UJ38uYusP/WkZy7/rq0/Xsfhsmh/rj/UakkemMGuP31ApftZG64/4/z1Z1xorD8Sil88quepPzGJXk8KH6c/zLQQdG6QpD9dsL+73HyiPwKCAeP/2qA/25iQ68Dxnj+p6Gb8ukecP0HgUgdkdpk/vhHBsy9dlj9GrauIJ/mSP7MHtjNB6I4/bIbXP0FViD8hN5liEQuDP+yeCSM45H4/Khy/PciWej8JPDSIAet3PwYJ/xsU2XU/w9KHEtkTdD8KTfdw67NyP3qZpkK/m3E/CJuca31QcD/wBoibPMFsPw7vz5Mfnmc/jm0F6FggYj+daITk0MBaP8v1eEJ4+1M/yT/PsQyVTz+NADY46RJKP+duaxt3+0Q/5X2rDxiVPj/cOPiSrjwzP34hcT6WXiQ/eDbiKZHvET+5IytVOh76PrLlhgzjXd8+FMNmCX4Hvz4drbpn+kSZPoweY3y873A+n+NE+J+uQj5ow34V/vQQPrQJV2oTVNk9bgTRPhAhnz3MI4TxrHpfPagV2FtDMRo9xx2HT4ju0TxKtkF6uDOEPLsU5joKujI8mdUN5vOQ3Dv81qQEUu2BOxwEhKB0gyI7",
          "dtype": "f8"
         }
        },
        {
         "name": "Posterior 1",
         "type": "scatter",
         "x": {
          "bdata": "AAAAAAAAAAAAAAAAAECPQAAAAAAAQJ9AAAAAAABwp0AAAAAAAECvQAAAAAAAiLNAAAAAAABwt0AAAAAAAFi7QAAAAAAAQL9AAAAAAACUwUAAAAAAAIjDQAAAAAAAfMVAAAAAAABwx0AAAAAAAGTJQAAAAAAAWMtAAAAAAABMzUAAAAAAAEDPQAAAAAAAmtBAAAAAAACU0UAAAAAAAI7SQAAAAAAAiNNAAAAAAACC1EAAAAAAAHzVQAAAAAAAdtZAAAAAAABw10AAAAAAAGrYQAAAAAAAZNlAAAAAAABe2kAAAAAAAFjbQAAAAAAAUtxAAAAAAABM3UAAAAAAAEbeQAAAAAAAQN9AAAAAAAAd4EAAAAAAAJrgQAAAAAAAF+FAAAAAAACU4UAAAAAAABHiQAAAAAAAjuJAAAAAAAAL40AAAAAAAIjjQAAAAAAABeRAAAAAAACC5EAAAAAAAP/kQAAAAAAAfOVAAAAAAAD55UAAAAAAAHbmQAAAAAAA8+ZAAAAAAABw50AAAAAAAO3nQAAAAAAAauhAAAAAAADn6EAAAAAAAGTpQAAAAAAA4elAAAAAAABe6kAAAAAAANvqQAAAAAAAWOtAAAAAAADV60AAAAAAAFLsQAAAAAAAz+xAAAAAAABM7UAAAAAAAMntQAAAAAAARu5AAAAAAADD7kAAAAAAAEDvQAAAAAAAve9AAAAAAAAd8EAAAAAAgFvwQAAAAAAAmvBAAAAAAIDY8EAAAAAAABfxQAAAAACAVfFAAAAAAACU8UAAAAAAgNLxQAAAAAAAEfJAAAAAAIBP8kAAAAAAAI7yQAAAAACAzPJAAAAAAAAL80AAAAAAgEnzQAAAAAAAiPNA",
          "dtype": "f8"
         },
         "y": {
          "bdata": "RsOQesNagTscthdNLmjiO0vYAeqIlz88Ko1Aae7zlTyXquwQh7roPJ+ePeYkmjY99uuB4pDIgD3UMhkWTUfEPZ1cEovr9gM+hfm3+gkLQD5nlgTGhBV1PslefNn4s6Y+he6v7ZES1D447Un6Izb9PsihfOUliiE/eZ+8cjZvQT8aKE2EYcxcP/mENPjg23M/qc/w1LcDhz+KmEeCGpqWPwtHikgYBaM/ojH/cPrSqz9ApWPO7wGyPyTe/ArTELU/cWjNKH7Ntj+RG8DjOl63PyUoKr9yDbc/fUjYmDcAtj9J8Y7mHS60P5p23eijl7E/zhHFdA3zrD/mGRmtNYqmP5BxqA6Z0aA/KrANR2R9mD8dWJyhmqWRP+eJMrrIQIk/6k2svBPQgT9CjSurU394P7y7osTkP3A/fg7u3UOXZD97mUBGaa1YP19sY8AuzUs/+QuNE82kPT/MX3jl0MMuP2By5I0/MyA/nZuPOlq6ET/LUnsOHtoDP+jj7DKGGvY+LK0vfio+6D67LJQv/2PaPrJFAe0ibsw+n7knHxODvT6eE11VC4isPvW80Uv4K5k+nHCyWqFRhD7dBkfyKOJuPoKXlxqAQlc+/VhhBeklQj7zQz2DA/gsPvMHbuQFERY+zFM6ZkLP/T2cIOZKRwThPfHkgZTRAsA9si1GKkqImD1JNO08GG9uPSGU2pcEfT49mGS4CUKiCD0HLozMJQvQPAiwdqMf15A8DGbxFVF8TDy+4uGqG2kDPAiqwzoGULU7h+WDQmXaYjtR7yseUd8KOy7CGCS62646k+q9d2eMTDrB8i0NPUflOUuw/ZDkjXk54q3Zoo+5CDlSgCdG3EWTOBjWhrThNBg4",
          "dtype": "f8"
         }
        }
       ],
       "layout": {
        "template": {
         "data": {
          "bar": [
           {
            "error_x": {
             "color": "#2a3f5f"
            },
            "error_y": {
             "color": "#2a3f5f"
            },
            "marker": {
             "line": {
              "color": "#E5ECF6",
              "width": 0.5
             },
             "pattern": {
              "fillmode": "overlay",
              "size": 10,
              "solidity": 0.2
             }
            },
            "type": "bar"
           }
          ],
          "barpolar": [
           {
            "marker": {
             "line": {
              "color": "#E5ECF6",
              "width": 0.5
             },
             "pattern": {
              "fillmode": "overlay",
              "size": 10,
              "solidity": 0.2
             }
            },
            "type": "barpolar"
           }
          ],
          "carpet": [
           {
            "aaxis": {
             "endlinecolor": "#2a3f5f",
             "gridcolor": "white",
             "linecolor": "white",
             "minorgridcolor": "white",
             "startlinecolor": "#2a3f5f"
            },
            "baxis": {
             "endlinecolor": "#2a3f5f",
             "gridcolor": "white",
             "linecolor": "white",
             "minorgridcolor": "white",
             "startlinecolor": "#2a3f5f"
            },
            "type": "carpet"
           }
          ],
          "choropleth": [
           {
            "colorbar": {
             "outlinewidth": 0,
             "ticks": ""
            },
            "type": "choropleth"
           }
          ],
          "contour": [
           {
            "colorbar": {
             "outlinewidth": 0,
             "ticks": ""
            },
            "colorscale": [
             [
              0,
              "#0d0887"
             ],
             [
              0.1111111111111111,
              "#46039f"
             ],
             [
              0.2222222222222222,
              "#7201a8"
             ],
             [
              0.3333333333333333,
              "#9c179e"
             ],
             [
              0.4444444444444444,
              "#bd3786"
             ],
             [
              0.5555555555555556,
              "#d8576b"
             ],
             [
              0.6666666666666666,
              "#ed7953"
             ],
             [
              0.7777777777777778,
              "#fb9f3a"
             ],
             [
              0.8888888888888888,
              "#fdca26"
             ],
             [
              1,
              "#f0f921"
             ]
            ],
            "type": "contour"
           }
          ],
          "contourcarpet": [
           {
            "colorbar": {
             "outlinewidth": 0,
             "ticks": ""
            },
            "type": "contourcarpet"
           }
          ],
          "heatmap": [
           {
            "colorbar": {
             "outlinewidth": 0,
             "ticks": ""
            },
            "colorscale": [
             [
              0,
              "#0d0887"
             ],
             [
              0.1111111111111111,
              "#46039f"
             ],
             [
              0.2222222222222222,
              "#7201a8"
             ],
             [
              0.3333333333333333,
              "#9c179e"
             ],
             [
              0.4444444444444444,
              "#bd3786"
             ],
             [
              0.5555555555555556,
              "#d8576b"
             ],
             [
              0.6666666666666666,
              "#ed7953"
             ],
             [
              0.7777777777777778,
              "#fb9f3a"
             ],
             [
              0.8888888888888888,
              "#fdca26"
             ],
             [
              1,
              "#f0f921"
             ]
            ],
            "type": "heatmap"
           }
          ],
          "histogram": [
           {
            "marker": {
             "pattern": {
              "fillmode": "overlay",
              "size": 10,
              "solidity": 0.2
             }
            },
            "type": "histogram"
           }
          ],
          "histogram2d": [
           {
            "colorbar": {
             "outlinewidth": 0,
             "ticks": ""
            },
            "colorscale": [
             [
              0,
              "#0d0887"
             ],
             [
              0.1111111111111111,
              "#46039f"
             ],
             [
              0.2222222222222222,
              "#7201a8"
             ],
             [
              0.3333333333333333,
              "#9c179e"
             ],
             [
              0.4444444444444444,
              "#bd3786"
             ],
             [
              0.5555555555555556,
              "#d8576b"
             ],
             [
              0.6666666666666666,
              "#ed7953"
             ],
             [
              0.7777777777777778,
              "#fb9f3a"
             ],
             [
              0.8888888888888888,
              "#fdca26"
             ],
             [
              1,
              "#f0f921"
             ]
            ],
            "type": "histogram2d"
           }
          ],
          "histogram2dcontour": [
           {
            "colorbar": {
             "outlinewidth": 0,
             "ticks": ""
            },
            "colorscale": [
             [
              0,
              "#0d0887"
             ],
             [
              0.1111111111111111,
              "#46039f"
             ],
             [
              0.2222222222222222,
              "#7201a8"
             ],
             [
              0.3333333333333333,
              "#9c179e"
             ],
             [
              0.4444444444444444,
              "#bd3786"
             ],
             [
              0.5555555555555556,
              "#d8576b"
             ],
             [
              0.6666666666666666,
              "#ed7953"
             ],
             [
              0.7777777777777778,
              "#fb9f3a"
             ],
             [
              0.8888888888888888,
              "#fdca26"
             ],
             [
              1,
              "#f0f921"
             ]
            ],
            "type": "histogram2dcontour"
           }
          ],
          "mesh3d": [
           {
            "colorbar": {
             "outlinewidth": 0,
             "ticks": ""
            },
            "type": "mesh3d"
           }
          ],
          "parcoords": [
           {
            "line": {
             "colorbar": {
              "outlinewidth": 0,
              "ticks": ""
             }
            },
            "type": "parcoords"
           }
          ],
          "pie": [
           {
            "automargin": true,
            "type": "pie"
           }
          ],
          "scatter": [
           {
            "fillpattern": {
             "fillmode": "overlay",
             "size": 10,
             "solidity": 0.2
            },
            "type": "scatter"
           }
          ],
          "scatter3d": [
           {
            "line": {
             "colorbar": {
              "outlinewidth": 0,
              "ticks": ""
             }
            },
            "marker": {
             "colorbar": {
              "outlinewidth": 0,
              "ticks": ""
             }
            },
            "type": "scatter3d"
           }
          ],
          "scattercarpet": [
           {
            "marker": {
             "colorbar": {
              "outlinewidth": 0,
              "ticks": ""
             }
            },
            "type": "scattercarpet"
           }
          ],
          "scattergeo": [
           {
            "marker": {
             "colorbar": {
              "outlinewidth": 0,
              "ticks": ""
             }
            },
            "type": "scattergeo"
           }
          ],
          "scattergl": [
           {
            "marker": {
             "colorbar": {
              "outlinewidth": 0,
              "ticks": ""
             }
            },
            "type": "scattergl"
           }
          ],
          "scattermap": [
           {
            "marker": {
             "colorbar": {
              "outlinewidth": 0,
              "ticks": ""
             }
            },
            "type": "scattermap"
           }
          ],
          "scattermapbox": [
           {
            "marker": {
             "colorbar": {
              "outlinewidth": 0,
              "ticks": ""
             }
            },
            "type": "scattermapbox"
           }
          ],
          "scatterpolar": [
           {
            "marker": {
             "colorbar": {
              "outlinewidth": 0,
              "ticks": ""
             }
            },
            "type": "scatterpolar"
           }
          ],
          "scatterpolargl": [
           {
            "marker": {
             "colorbar": {
              "outlinewidth": 0,
              "ticks": ""
             }
            },
            "type": "scatterpolargl"
           }
          ],
          "scatterternary": [
           {
            "marker": {
             "colorbar": {
              "outlinewidth": 0,
              "ticks": ""
             }
            },
            "type": "scatterternary"
           }
          ],
          "surface": [
           {
            "colorbar": {
             "outlinewidth": 0,
             "ticks": ""
            },
            "colorscale": [
             [
              0,
              "#0d0887"
             ],
             [
              0.1111111111111111,
              "#46039f"
             ],
             [
              0.2222222222222222,
              "#7201a8"
             ],
             [
              0.3333333333333333,
              "#9c179e"
             ],
             [
              0.4444444444444444,
              "#bd3786"
             ],
             [
              0.5555555555555556,
              "#d8576b"
             ],
             [
              0.6666666666666666,
              "#ed7953"
             ],
             [
              0.7777777777777778,
              "#fb9f3a"
             ],
             [
              0.8888888888888888,
              "#fdca26"
             ],
             [
              1,
              "#f0f921"
             ]
            ],
            "type": "surface"
           }
          ],
          "table": [
           {
            "cells": {
             "fill": {
              "color": "#EBF0F8"
             },
             "line": {
              "color": "white"
             }
            },
            "header": {
             "fill": {
              "color": "#C8D4E3"
             },
             "line": {
              "color": "white"
             }
            },
            "type": "table"
           }
          ]
         },
         "layout": {
          "annotationdefaults": {
           "arrowcolor": "#2a3f5f",
           "arrowhead": 0,
           "arrowwidth": 1
          },
          "autotypenumbers": "strict",
          "coloraxis": {
           "colorbar": {
            "outlinewidth": 0,
            "ticks": ""
           }
          },
          "colorscale": {
           "diverging": [
            [
             0,
             "#8e0152"
            ],
            [
             0.1,
             "#c51b7d"
            ],
            [
             0.2,
             "#de77ae"
            ],
            [
             0.3,
             "#f1b6da"
            ],
            [
             0.4,
             "#fde0ef"
            ],
            [
             0.5,
             "#f7f7f7"
            ],
            [
             0.6,
             "#e6f5d0"
            ],
            [
             0.7,
             "#b8e186"
            ],
            [
             0.8,
             "#7fbc41"
            ],
            [
             0.9,
             "#4d9221"
            ],
            [
             1,
             "#276419"
            ]
           ],
           "sequential": [
            [
             0,
             "#0d0887"
            ],
            [
             0.1111111111111111,
             "#46039f"
            ],
            [
             0.2222222222222222,
             "#7201a8"
            ],
            [
             0.3333333333333333,
             "#9c179e"
            ],
            [
             0.4444444444444444,
             "#bd3786"
            ],
            [
             0.5555555555555556,
             "#d8576b"
            ],
            [
             0.6666666666666666,
             "#ed7953"
            ],
            [
             0.7777777777777778,
             "#fb9f3a"
            ],
            [
             0.8888888888888888,
             "#fdca26"
            ],
            [
             1,
             "#f0f921"
            ]
           ],
           "sequentialminus": [
            [
             0,
             "#0d0887"
            ],
            [
             0.1111111111111111,
             "#46039f"
            ],
            [
             0.2222222222222222,
             "#7201a8"
            ],
            [
             0.3333333333333333,
             "#9c179e"
            ],
            [
             0.4444444444444444,
             "#bd3786"
            ],
            [
             0.5555555555555556,
             "#d8576b"
            ],
            [
             0.6666666666666666,
             "#ed7953"
            ],
            [
             0.7777777777777778,
             "#fb9f3a"
            ],
            [
             0.8888888888888888,
             "#fdca26"
            ],
            [
             1,
             "#f0f921"
            ]
           ]
          },
          "colorway": [
           "#636efa",
           "#EF553B",
           "#00cc96",
           "#ab63fa",
           "#FFA15A",
           "#19d3f3",
           "#FF6692",
           "#B6E880",
           "#FF97FF",
           "#FECB52"
          ],
          "font": {
           "color": "#2a3f5f"
          },
          "geo": {
           "bgcolor": "white",
           "lakecolor": "white",
           "landcolor": "#E5ECF6",
           "showlakes": true,
           "showland": true,
           "subunitcolor": "white"
          },
          "hoverlabel": {
           "align": "left"
          },
          "hovermode": "closest",
          "mapbox": {
           "style": "light"
          },
          "paper_bgcolor": "white",
          "plot_bgcolor": "#E5ECF6",
          "polar": {
           "angularaxis": {
            "gridcolor": "white",
            "linecolor": "white",
            "ticks": ""
           },
           "bgcolor": "#E5ECF6",
           "radialaxis": {
            "gridcolor": "white",
            "linecolor": "white",
            "ticks": ""
           }
          },
          "scene": {
           "xaxis": {
            "backgroundcolor": "#E5ECF6",
            "gridcolor": "white",
            "gridwidth": 2,
            "linecolor": "white",
            "showbackground": true,
            "ticks": "",
            "zerolinecolor": "white"
           },
           "yaxis": {
            "backgroundcolor": "#E5ECF6",
            "gridcolor": "white",
            "gridwidth": 2,
            "linecolor": "white",
            "showbackground": true,
            "ticks": "",
            "zerolinecolor": "white"
           },
           "zaxis": {
            "backgroundcolor": "#E5ECF6",
            "gridcolor": "white",
            "gridwidth": 2,
            "linecolor": "white",
            "showbackground": true,
            "ticks": "",
            "zerolinecolor": "white"
           }
          },
          "shapedefaults": {
           "line": {
            "color": "#2a3f5f"
           }
          },
          "ternary": {
           "aaxis": {
            "gridcolor": "white",
            "linecolor": "white",
            "ticks": ""
           },
           "baxis": {
            "gridcolor": "white",
            "linecolor": "white",
            "ticks": ""
           },
           "bgcolor": "#E5ECF6",
           "caxis": {
            "gridcolor": "white",
            "linecolor": "white",
            "ticks": ""
           }
          },
          "title": {
           "x": 0.05
          },
          "xaxis": {
           "automargin": true,
           "gridcolor": "white",
           "linecolor": "white",
           "ticks": "",
           "title": {
            "standoff": 15
           },
           "zerolinecolor": "white",
           "zerolinewidth": 2
          },
          "yaxis": {
           "automargin": true,
           "gridcolor": "white",
           "linecolor": "white",
           "ticks": "",
           "title": {
            "standoff": 15
           },
           "zerolinecolor": "white",
           "zerolinewidth": 2
          }
         }
        },
        "title": {
         "text": "Posterior vs Prior Distribution for Showcase 1"
        },
        "xaxis": {
         "title": {
          "text": "Difference (Value)"
         }
        },
        "yaxis": {
         "title": {
          "text": "PDF"
         }
        }
       }
      },
      "image/png": "[encoded data removed]"
     },
     "metadata": {},
     "output_type": "display_data"
    }
   ],
   "source": [
    "fig = go.Figure()\n",
    "\n",
    "fig.add_trace(\n",
    "    go.Line(\n",
    "        x=prior1.index,\n",
    "        y=prior1['probs'],\n",
    "        name='Prior 1'\n",
    "    )\n",
    ")\n",
    "\n",
    "fig.add_trace(\n",
    "    go.Line(\n",
    "        x=df_posterior1.index,\n",
    "        y=df_posterior1['probs'],\n",
    "        name='Posterior 1'\n",
    "    )\n",
    ")\n",
    "\n",
    "\n",
    "fig.update_layout(\n",
    "    xaxis_title='Difference (Value)',\n",
    "    yaxis_title='PDF',\n",
    "    title='Posterior vs Prior Distribution for Showcase 1'\n",
    ")\n",
    "\n",
    "fig.show()"
   ]
  },
  {
   "cell_type": "code",
   "execution_count": 30,
   "id": "3113d50b-e3c8-44ab-b81a-fe319954522c",
   "metadata": {},
   "outputs": [
    {
     "data": {
      "text/plain": [
       "(np.float64(26186.963378201523), np.float64(30299.488817891375))"
      ]
     },
     "execution_count": 30,
     "metadata": {},
     "output_type": "execute_result"
    }
   ],
   "source": [
    "np.sum(df_posterior1.index*df_posterior1.probs), df['showcase_1'].mean()"
   ]
  },
  {
   "cell_type": "markdown",
   "id": "1ace4f10-a9f8-44b2-87e4-dea9ffe31fe9",
   "metadata": {},
   "source": [
    "Because your initial guess is in the lower end of the range, the posterior distribution has shifted to the left. We can refer to the posterior mean above to see by how much.<br/>\n",
    "\n",
    "Before we saw the prizes, we expected to see a showcase with a value close to 30,000. After making a guess of 23,000 we updated the prior distribution. Based on the combination of the prior and our guess, we now expect the actual price to be about 26,000"
   ]
  },
  {
   "cell_type": "code",
   "execution_count": 31,
   "id": "1bb0ed36-47b3-418b-b6a2-3364adf2ed67",
   "metadata": {},
   "outputs": [],
   "source": [
    "qs = np.linspace(0, 80000, 81)\n",
    "guess = 38000\n",
    "error2 = guess - prior2.index # subtract guess with each hypothetical value\n",
    "likelihood2 = error_dist2.pdf(error2) # compute the likelihood of the error under each hypothesis\n",
    "posterior2 = prior2['probs']*likelihood2\n",
    "posterior2 = posterior2/posterior2.sum()\n",
    "df_posterior2 = pd.DataFrame(index=qs, data=posterior2, columns=['probs'])"
   ]
  },
  {
   "cell_type": "code",
   "execution_count": 32,
   "id": "13139f85-2e68-463d-b18a-7381277a7bef",
   "metadata": {},
   "outputs": [
    {
     "name": "stderr",
     "output_type": "stream",
     "text": [
      "/home/lucky/anaconda3/envs/python311/lib/python3.11/site-packages/plotly/graph_objs/_deprecations.py:378: DeprecationWarning:\n",
      "\n",
      "plotly.graph_objs.Line is deprecated.\n",
      "Please replace it with one of the following more specific types\n",
      "  - plotly.graph_objs.scatter.Line\n",
      "  - plotly.graph_objs.layout.shape.Line\n",
      "  - etc.\n",
      "\n",
      "\n"
     ]
    },
    {
     "data": {
      "application/vnd.plotly.v1+json": {
       "config": {
        "plotlyServerURL": "https://plot.ly"
       },
       "data": [
        {
         "name": "Prior 2",
         "type": "scatter",
         "x": {
          "bdata": "AAAAAAAAAAAAAAAAAECPQAAAAAAAQJ9AAAAAAABwp0AAAAAAAECvQAAAAAAAiLNAAAAAAABwt0AAAAAAAFi7QAAAAAAAQL9AAAAAAACUwUAAAAAAAIjDQAAAAAAAfMVAAAAAAABwx0AAAAAAAGTJQAAAAAAAWMtAAAAAAABMzUAAAAAAAEDPQAAAAAAAmtBAAAAAAACU0UAAAAAAAI7SQAAAAAAAiNNAAAAAAACC1EAAAAAAAHzVQAAAAAAAdtZAAAAAAABw10AAAAAAAGrYQAAAAAAAZNlAAAAAAABe2kAAAAAAAFjbQAAAAAAAUtxAAAAAAABM3UAAAAAAAEbeQAAAAAAAQN9AAAAAAAAd4EAAAAAAAJrgQAAAAAAAF+FAAAAAAACU4UAAAAAAABHiQAAAAAAAjuJAAAAAAAAL40AAAAAAAIjjQAAAAAAABeRAAAAAAACC5EAAAAAAAP/kQAAAAAAAfOVAAAAAAAD55UAAAAAAAHbmQAAAAAAA8+ZAAAAAAABw50AAAAAAAO3nQAAAAAAAauhAAAAAAADn6EAAAAAAAGTpQAAAAAAA4elAAAAAAABe6kAAAAAAANvqQAAAAAAAWOtAAAAAAADV60AAAAAAAFLsQAAAAAAAz+xAAAAAAABM7UAAAAAAAMntQAAAAAAARu5AAAAAAADD7kAAAAAAAEDvQAAAAAAAve9AAAAAAAAd8EAAAAAAgFvwQAAAAAAAmvBAAAAAAIDY8EAAAAAAABfxQAAAAACAVfFAAAAAAACU8UAAAAAAgNLxQAAAAAAAEfJAAAAAAIBP8kAAAAAAAI7yQAAAAACAzPJAAAAAAAAL80AAAAAAgEnzQAAAAAAAiPNA",
          "dtype": "f8"
         },
         "y": {
          "bdata": "3ICmjQafET1Yqf6FV25OPRgAPWw+54Y9VRO6qVgVvj05AURDykLxPd3+ZxOYUyE+X5gs/Xl3Tj5DCKAFmX13PjpuxyZxzp8+fpk6gQbuwj5f3/qP6NTjPgRt+voETwI/6VlFz7XUHT/j1mERSHs1P6wVnQ6taEs/g/8A3eQTXz8hwcUOXnJvP+c/BQw0j3w/vEkfHc9zhz9ALE+rvZKRP87eM7iSSJg/ojDo0mJInz/e+AqblvuiP90ex+MH6KU/g7lw+vo7qD86lfmU6OSpPxL/3inI6qo/ZXRV5r9kqz9f0qmNA2irP0Jcg8Xn/qo/OPOIhZ0vqj+FUYG2XgipP21LDBLHoKc/9Tz/8NEOpj+UTFSd0F2kPz1n22G2kaI/WZ3/MvywoD8LLqdtfpOdPylhWmI/35k/vpBarstulj+KXF7w/GWTP3Tq8Z0R2ZA/9Oacj5GGjT8s1xz0ow6KP7YPSupn+oY/rwBY0LUJhD/hl6xRCSKBPzFiEGAOmXw/PJW//iRLdz/WEZfVPJdyP04sXubtT20/j9E+fLITZz+qmR0CnE9iP6Yx0lN3VF0/dBhjVPiWVz+A/X4lEBJTPxgNHmYPlk8/0CWphKmZSz/Yk/GMIsNJP4ws6Hw/Okk/pDFDkE0wST8x4P8SVSxJP3d/ZBd/Dkk/eUAbI5YFST+SER6l9YRJP22u9WITDEs/koJFe3u/TT+kint6+ZFQP671LbdeHVI/HJv/hJ7xUj9LVZHuZ59SP+r425ra+1A/0xGDynNnTD88gibbBIpFP+peCMlGVD0/IHFeFcjGMT+yNjJwSg0jP0A5287G9BE/lqLjG3Sk/T5hKxSmfVzlPmfI4S0H0co+",
          "dtype": "f8"
         }
        },
        {
         "name": "Posterior 2",
         "type": "scatter",
         "x": {
          "bdata": "AAAAAAAAAAAAAAAAAECPQAAAAAAAQJ9AAAAAAABwp0AAAAAAAECvQAAAAAAAiLNAAAAAAABwt0AAAAAAAFi7QAAAAAAAQL9AAAAAAACUwUAAAAAAAIjDQAAAAAAAfMVAAAAAAABwx0AAAAAAAGTJQAAAAAAAWMtAAAAAAABMzUAAAAAAAEDPQAAAAAAAmtBAAAAAAACU0UAAAAAAAI7SQAAAAAAAiNNAAAAAAACC1EAAAAAAAHzVQAAAAAAAdtZAAAAAAABw10AAAAAAAGrYQAAAAAAAZNlAAAAAAABe2kAAAAAAAFjbQAAAAAAAUtxAAAAAAABM3UAAAAAAAEbeQAAAAAAAQN9AAAAAAAAd4EAAAAAAAJrgQAAAAAAAF+FAAAAAAACU4UAAAAAAABHiQAAAAAAAjuJAAAAAAAAL40AAAAAAAIjjQAAAAAAABeRAAAAAAACC5EAAAAAAAP/kQAAAAAAAfOVAAAAAAAD55UAAAAAAAHbmQAAAAAAA8+ZAAAAAAABw50AAAAAAAO3nQAAAAAAAauhAAAAAAADn6EAAAAAAAGTpQAAAAAAA4elAAAAAAABe6kAAAAAAANvqQAAAAAAAWOtAAAAAAADV60AAAAAAAFLsQAAAAAAAz+xAAAAAAABM7UAAAAAAAMntQAAAAAAARu5AAAAAAADD7kAAAAAAAEDvQAAAAAAAve9AAAAAAAAd8EAAAAAAgFvwQAAAAAAAmvBAAAAAAIDY8EAAAAAAABfxQAAAAACAVfFAAAAAAACU8UAAAAAAgNLxQAAAAAAAEfJAAAAAAIBP8kAAAAAAAI7yQAAAAACAzPJAAAAAAAAL80AAAAAAgEnzQAAAAAAAiPNA",
          "dtype": "f8"
         },
         "y": {
          "bdata": "SoWZUPJ6wjsWaWV9hqMRPEtqi/z8u1w8mRE+ZNz+ozxxEimsxM3nPALdUrnfRCg9od1DI9Y3ZT3mQp0xFdufPT562xzDjtQ9iMP7SlDWBj7wfB9efNw1Pn3JD2soDmI+JBVvrUXEiT5hDoqqwdKvPvBN7iakC9E+gmRp8UDG7z6cSnZhROAJP+FR9CxrhCI/7yPJgD12Nz+u6vkTuI5KP2SuKt2EI1s/M/Whng1QaT/L7jPVz8Z1P/viQrP9cIE/U+pSe8c4ij/PRIH0wKOSP7byUJvCPZk/0Itg/rdhoD9rgvLmSXekP+7J5PySpag/P2psBQyerD+IlZ9WzAewP88SBXGIXLE/E0c8Ris1sj/eus+VmH2yPwH47J2QJ7I/GOmqKHc0sT9IOU8hGnivP7Y770ca0qs/ekWl+Vvepz8SYubJyv6jP82Lt7bCeKA/u3KF0GLOmj9e7cIkSIKVP3xPDzpJ4pA/D511CPCpiT/n72TPR7mCPzQ5+XUJHHo/jjyi4gtlcT9Mxu8pLTxmP6ZEhp67fFs/tLH70ZicUD/x76FRDNBDP4Q8/2wTWjc/9mvTu8UPKz9DVxujudweP0Dl7wtpphE/M9F4EP3aBD/L9Hc9zsX5PtmUR7phW/A+zQSOAwG65D7SOp0SzrzZPu/QL+1LKs8+DSY2NLCIwj6vnwD65Qq2PgskOKxBrKo+lv+WKW5loD42Dt/+k/2TPruirrqbaoc+3DPga5qweT68Qs34YvBpPq13SkL6yVc+d8fmqeCVQz7noqgbBKIsPrcn9vfqZRI+gyww1Yyb9D01ZV5dEfvTPTTHNucDrrA9yacJt93ghz1cafevQzhdPaXLfpgPfi49",
          "dtype": "f8"
         }
        }
       ],
       "layout": {
        "template": {
         "data": {
          "bar": [
           {
            "error_x": {
             "color": "#2a3f5f"
            },
            "error_y": {
             "color": "#2a3f5f"
            },
            "marker": {
             "line": {
              "color": "#E5ECF6",
              "width": 0.5
             },
             "pattern": {
              "fillmode": "overlay",
              "size": 10,
              "solidity": 0.2
             }
            },
            "type": "bar"
           }
          ],
          "barpolar": [
           {
            "marker": {
             "line": {
              "color": "#E5ECF6",
              "width": 0.5
             },
             "pattern": {
              "fillmode": "overlay",
              "size": 10,
              "solidity": 0.2
             }
            },
            "type": "barpolar"
           }
          ],
          "carpet": [
           {
            "aaxis": {
             "endlinecolor": "#2a3f5f",
             "gridcolor": "white",
             "linecolor": "white",
             "minorgridcolor": "white",
             "startlinecolor": "#2a3f5f"
            },
            "baxis": {
             "endlinecolor": "#2a3f5f",
             "gridcolor": "white",
             "linecolor": "white",
             "minorgridcolor": "white",
             "startlinecolor": "#2a3f5f"
            },
            "type": "carpet"
           }
          ],
          "choropleth": [
           {
            "colorbar": {
             "outlinewidth": 0,
             "ticks": ""
            },
            "type": "choropleth"
           }
          ],
          "contour": [
           {
            "colorbar": {
             "outlinewidth": 0,
             "ticks": ""
            },
            "colorscale": [
             [
              0,
              "#0d0887"
             ],
             [
              0.1111111111111111,
              "#46039f"
             ],
             [
              0.2222222222222222,
              "#7201a8"
             ],
             [
              0.3333333333333333,
              "#9c179e"
             ],
             [
              0.4444444444444444,
              "#bd3786"
             ],
             [
              0.5555555555555556,
              "#d8576b"
             ],
             [
              0.6666666666666666,
              "#ed7953"
             ],
             [
              0.7777777777777778,
              "#fb9f3a"
             ],
             [
              0.8888888888888888,
              "#fdca26"
             ],
             [
              1,
              "#f0f921"
             ]
            ],
            "type": "contour"
           }
          ],
          "contourcarpet": [
           {
            "colorbar": {
             "outlinewidth": 0,
             "ticks": ""
            },
            "type": "contourcarpet"
           }
          ],
          "heatmap": [
           {
            "colorbar": {
             "outlinewidth": 0,
             "ticks": ""
            },
            "colorscale": [
             [
              0,
              "#0d0887"
             ],
             [
              0.1111111111111111,
              "#46039f"
             ],
             [
              0.2222222222222222,
              "#7201a8"
             ],
             [
              0.3333333333333333,
              "#9c179e"
             ],
             [
              0.4444444444444444,
              "#bd3786"
             ],
             [
              0.5555555555555556,
              "#d8576b"
             ],
             [
              0.6666666666666666,
              "#ed7953"
             ],
             [
              0.7777777777777778,
              "#fb9f3a"
             ],
             [
              0.8888888888888888,
              "#fdca26"
             ],
             [
              1,
              "#f0f921"
             ]
            ],
            "type": "heatmap"
           }
          ],
          "histogram": [
           {
            "marker": {
             "pattern": {
              "fillmode": "overlay",
              "size": 10,
              "solidity": 0.2
             }
            },
            "type": "histogram"
           }
          ],
          "histogram2d": [
           {
            "colorbar": {
             "outlinewidth": 0,
             "ticks": ""
            },
            "colorscale": [
             [
              0,
              "#0d0887"
             ],
             [
              0.1111111111111111,
              "#46039f"
             ],
             [
              0.2222222222222222,
              "#7201a8"
             ],
             [
              0.3333333333333333,
              "#9c179e"
             ],
             [
              0.4444444444444444,
              "#bd3786"
             ],
             [
              0.5555555555555556,
              "#d8576b"
             ],
             [
              0.6666666666666666,
              "#ed7953"
             ],
             [
              0.7777777777777778,
              "#fb9f3a"
             ],
             [
              0.8888888888888888,
              "#fdca26"
             ],
             [
              1,
              "#f0f921"
             ]
            ],
            "type": "histogram2d"
           }
          ],
          "histogram2dcontour": [
           {
            "colorbar": {
             "outlinewidth": 0,
             "ticks": ""
            },
            "colorscale": [
             [
              0,
              "#0d0887"
             ],
             [
              0.1111111111111111,
              "#46039f"
             ],
             [
              0.2222222222222222,
              "#7201a8"
             ],
             [
              0.3333333333333333,
              "#9c179e"
             ],
             [
              0.4444444444444444,
              "#bd3786"
             ],
             [
              0.5555555555555556,
              "#d8576b"
             ],
             [
              0.6666666666666666,
              "#ed7953"
             ],
             [
              0.7777777777777778,
              "#fb9f3a"
             ],
             [
              0.8888888888888888,
              "#fdca26"
             ],
             [
              1,
              "#f0f921"
             ]
            ],
            "type": "histogram2dcontour"
           }
          ],
          "mesh3d": [
           {
            "colorbar": {
             "outlinewidth": 0,
             "ticks": ""
            },
            "type": "mesh3d"
           }
          ],
          "parcoords": [
           {
            "line": {
             "colorbar": {
              "outlinewidth": 0,
              "ticks": ""
             }
            },
            "type": "parcoords"
           }
          ],
          "pie": [
           {
            "automargin": true,
            "type": "pie"
           }
          ],
          "scatter": [
           {
            "fillpattern": {
             "fillmode": "overlay",
             "size": 10,
             "solidity": 0.2
            },
            "type": "scatter"
           }
          ],
          "scatter3d": [
           {
            "line": {
             "colorbar": {
              "outlinewidth": 0,
              "ticks": ""
             }
            },
            "marker": {
             "colorbar": {
              "outlinewidth": 0,
              "ticks": ""
             }
            },
            "type": "scatter3d"
           }
          ],
          "scattercarpet": [
           {
            "marker": {
             "colorbar": {
              "outlinewidth": 0,
              "ticks": ""
             }
            },
            "type": "scattercarpet"
           }
          ],
          "scattergeo": [
           {
            "marker": {
             "colorbar": {
              "outlinewidth": 0,
              "ticks": ""
             }
            },
            "type": "scattergeo"
           }
          ],
          "scattergl": [
           {
            "marker": {
             "colorbar": {
              "outlinewidth": 0,
              "ticks": ""
             }
            },
            "type": "scattergl"
           }
          ],
          "scattermap": [
           {
            "marker": {
             "colorbar": {
              "outlinewidth": 0,
              "ticks": ""
             }
            },
            "type": "scattermap"
           }
          ],
          "scattermapbox": [
           {
            "marker": {
             "colorbar": {
              "outlinewidth": 0,
              "ticks": ""
             }
            },
            "type": "scattermapbox"
           }
          ],
          "scatterpolar": [
           {
            "marker": {
             "colorbar": {
              "outlinewidth": 0,
              "ticks": ""
             }
            },
            "type": "scatterpolar"
           }
          ],
          "scatterpolargl": [
           {
            "marker": {
             "colorbar": {
              "outlinewidth": 0,
              "ticks": ""
             }
            },
            "type": "scatterpolargl"
           }
          ],
          "scatterternary": [
           {
            "marker": {
             "colorbar": {
              "outlinewidth": 0,
              "ticks": ""
             }
            },
            "type": "scatterternary"
           }
          ],
          "surface": [
           {
            "colorbar": {
             "outlinewidth": 0,
             "ticks": ""
            },
            "colorscale": [
             [
              0,
              "#0d0887"
             ],
             [
              0.1111111111111111,
              "#46039f"
             ],
             [
              0.2222222222222222,
              "#7201a8"
             ],
             [
              0.3333333333333333,
              "#9c179e"
             ],
             [
              0.4444444444444444,
              "#bd3786"
             ],
             [
              0.5555555555555556,
              "#d8576b"
             ],
             [
              0.6666666666666666,
              "#ed7953"
             ],
             [
              0.7777777777777778,
              "#fb9f3a"
             ],
             [
              0.8888888888888888,
              "#fdca26"
             ],
             [
              1,
              "#f0f921"
             ]
            ],
            "type": "surface"
           }
          ],
          "table": [
           {
            "cells": {
             "fill": {
              "color": "#EBF0F8"
             },
             "line": {
              "color": "white"
             }
            },
            "header": {
             "fill": {
              "color": "#C8D4E3"
             },
             "line": {
              "color": "white"
             }
            },
            "type": "table"
           }
          ]
         },
         "layout": {
          "annotationdefaults": {
           "arrowcolor": "#2a3f5f",
           "arrowhead": 0,
           "arrowwidth": 1
          },
          "autotypenumbers": "strict",
          "coloraxis": {
           "colorbar": {
            "outlinewidth": 0,
            "ticks": ""
           }
          },
          "colorscale": {
           "diverging": [
            [
             0,
             "#8e0152"
            ],
            [
             0.1,
             "#c51b7d"
            ],
            [
             0.2,
             "#de77ae"
            ],
            [
             0.3,
             "#f1b6da"
            ],
            [
             0.4,
             "#fde0ef"
            ],
            [
             0.5,
             "#f7f7f7"
            ],
            [
             0.6,
             "#e6f5d0"
            ],
            [
             0.7,
             "#b8e186"
            ],
            [
             0.8,
             "#7fbc41"
            ],
            [
             0.9,
             "#4d9221"
            ],
            [
             1,
             "#276419"
            ]
           ],
           "sequential": [
            [
             0,
             "#0d0887"
            ],
            [
             0.1111111111111111,
             "#46039f"
            ],
            [
             0.2222222222222222,
             "#7201a8"
            ],
            [
             0.3333333333333333,
             "#9c179e"
            ],
            [
             0.4444444444444444,
             "#bd3786"
            ],
            [
             0.5555555555555556,
             "#d8576b"
            ],
            [
             0.6666666666666666,
             "#ed7953"
            ],
            [
             0.7777777777777778,
             "#fb9f3a"
            ],
            [
             0.8888888888888888,
             "#fdca26"
            ],
            [
             1,
             "#f0f921"
            ]
           ],
           "sequentialminus": [
            [
             0,
             "#0d0887"
            ],
            [
             0.1111111111111111,
             "#46039f"
            ],
            [
             0.2222222222222222,
             "#7201a8"
            ],
            [
             0.3333333333333333,
             "#9c179e"
            ],
            [
             0.4444444444444444,
             "#bd3786"
            ],
            [
             0.5555555555555556,
             "#d8576b"
            ],
            [
             0.6666666666666666,
             "#ed7953"
            ],
            [
             0.7777777777777778,
             "#fb9f3a"
            ],
            [
             0.8888888888888888,
             "#fdca26"
            ],
            [
             1,
             "#f0f921"
            ]
           ]
          },
          "colorway": [
           "#636efa",
           "#EF553B",
           "#00cc96",
           "#ab63fa",
           "#FFA15A",
           "#19d3f3",
           "#FF6692",
           "#B6E880",
           "#FF97FF",
           "#FECB52"
          ],
          "font": {
           "color": "#2a3f5f"
          },
          "geo": {
           "bgcolor": "white",
           "lakecolor": "white",
           "landcolor": "#E5ECF6",
           "showlakes": true,
           "showland": true,
           "subunitcolor": "white"
          },
          "hoverlabel": {
           "align": "left"
          },
          "hovermode": "closest",
          "mapbox": {
           "style": "light"
          },
          "paper_bgcolor": "white",
          "plot_bgcolor": "#E5ECF6",
          "polar": {
           "angularaxis": {
            "gridcolor": "white",
            "linecolor": "white",
            "ticks": ""
           },
           "bgcolor": "#E5ECF6",
           "radialaxis": {
            "gridcolor": "white",
            "linecolor": "white",
            "ticks": ""
           }
          },
          "scene": {
           "xaxis": {
            "backgroundcolor": "#E5ECF6",
            "gridcolor": "white",
            "gridwidth": 2,
            "linecolor": "white",
            "showbackground": true,
            "ticks": "",
            "zerolinecolor": "white"
           },
           "yaxis": {
            "backgroundcolor": "#E5ECF6",
            "gridcolor": "white",
            "gridwidth": 2,
            "linecolor": "white",
            "showbackground": true,
            "ticks": "",
            "zerolinecolor": "white"
           },
           "zaxis": {
            "backgroundcolor": "#E5ECF6",
            "gridcolor": "white",
            "gridwidth": 2,
            "linecolor": "white",
            "showbackground": true,
            "ticks": "",
            "zerolinecolor": "white"
           }
          },
          "shapedefaults": {
           "line": {
            "color": "#2a3f5f"
           }
          },
          "ternary": {
           "aaxis": {
            "gridcolor": "white",
            "linecolor": "white",
            "ticks": ""
           },
           "baxis": {
            "gridcolor": "white",
            "linecolor": "white",
            "ticks": ""
           },
           "bgcolor": "#E5ECF6",
           "caxis": {
            "gridcolor": "white",
            "linecolor": "white",
            "ticks": ""
           }
          },
          "title": {
           "x": 0.05
          },
          "xaxis": {
           "automargin": true,
           "gridcolor": "white",
           "linecolor": "white",
           "ticks": "",
           "title": {
            "standoff": 15
           },
           "zerolinecolor": "white",
           "zerolinewidth": 2
          },
          "yaxis": {
           "automargin": true,
           "gridcolor": "white",
           "linecolor": "white",
           "ticks": "",
           "title": {
            "standoff": 15
           },
           "zerolinecolor": "white",
           "zerolinewidth": 2
          }
         }
        },
        "title": {
         "text": "Posterior vs Prior Distribution for Showcase 2"
        },
        "xaxis": {
         "title": {
          "text": "Difference (Value)"
         }
        },
        "yaxis": {
         "title": {
          "text": "PDF"
         }
        }
       }
      },
      "image/png": "[encoded data removed]"
     },
     "metadata": {},
     "output_type": "display_data"
    }
   ],
   "source": [
    "fig = go.Figure()\n",
    "\n",
    "fig.add_trace(\n",
    "    go.Line(\n",
    "        x=prior2.index,\n",
    "        y=prior2['probs'],\n",
    "        name='Prior 2'\n",
    "    )\n",
    ")\n",
    "\n",
    "fig.add_trace(\n",
    "    go.Line(\n",
    "        x=df_posterior2.index,\n",
    "        y=df_posterior2['probs'],\n",
    "        name='Posterior 2'\n",
    "    )\n",
    ")\n",
    "\n",
    "\n",
    "fig.update_layout(\n",
    "    xaxis_title='Difference (Value)',\n",
    "    yaxis_title='PDF',\n",
    "    title='Posterior vs Prior Distribution for Showcase 2'\n",
    ")\n",
    "\n",
    "fig.show()"
   ]
  },
  {
   "cell_type": "code",
   "execution_count": 33,
   "id": "c42401ca-2088-43f3-80a7-9bd19aad2799",
   "metadata": {},
   "outputs": [
    {
     "data": {
      "text/plain": [
       "(np.float64(34311.86825135375), np.float64(30299.488817891375))"
      ]
     },
     "execution_count": 33,
     "metadata": {},
     "output_type": "execute_result"
    }
   ],
   "source": [
    "np.sum(df_posterior2.index*df_posterior2['probs']), np.mean(df['showcase_1'])"
   ]
  },
  {
   "cell_type": "markdown",
   "id": "c6cb7721-7d0f-43df-ad73-cc3d7b7e137e",
   "metadata": {},
   "source": [
    "Because our initial guess is on the higher end of the range, the posterior distribution has shifted to the right. We can check the posterior mean to see by how much. <br/>\n",
    "\n",
    "Before we saw the prizes, we expected to see a showcase with a value close to 30,000. After making a guess of 38,000, we updated the prior distribution. Based on the combination of the prior and our guess, we now expect the actual price to be about 34k."
   ]
  },
  {
   "cell_type": "markdown",
   "id": "65601127-8231-4be9-93ad-39ba1e9ead45",
   "metadata": {},
   "source": [
    "### Probability of Winning"
   ]
  },
  {
   "cell_type": "code",
   "execution_count": 34,
   "id": "c9fbb8a8-cd28-48aa-903e-63bb63535ede",
   "metadata": {},
   "outputs": [],
   "source": [
    "# From the point of view of one player against another.\n",
    "# use only the performance of past player for simplicity, ignoring the value of the showcase.\n",
    "def prob_overbid(sample_diff):\n",
    "    return np.mean(sample_diff > 0)\n",
    "\n",
    "# Now suppose one player underbids by certain values. \n",
    "# What is the probability that another player underbids by more?\n",
    "def prob_worse_than(diff, sample_diff):\n",
    "    return np.mean(sample_diff < diff)"
   ]
  },
  {
   "cell_type": "code",
   "execution_count": 35,
   "id": "6d74cef1-6e1e-4bfe-b53b-8fc22fcc7ba7",
   "metadata": {},
   "outputs": [
    {
     "data": {
      "text/plain": [
       "np.float64(0.29073482428115016)"
      ]
     },
     "execution_count": 35,
     "metadata": {},
     "output_type": "execute_result"
    }
   ],
   "source": [
    "# the estimate for probability that player 2 will overbids\n",
    "prob_overbid(sample_diff2)"
   ]
  },
  {
   "cell_type": "code",
   "execution_count": 36,
   "id": "13397db7-c508-4ca1-b77f-4e8ed9501593",
   "metadata": {},
   "outputs": [
    {
     "data": {
      "text/plain": [
       "np.float64(0.38338658146964855)"
      ]
     },
     "execution_count": 36,
     "metadata": {},
     "output_type": "execute_result"
    }
   ],
   "source": [
    "# the estimate for player 2 underbids by more than 5,000\n",
    "prob_worse_than(-5000, sample_diff2)"
   ]
  },
  {
   "cell_type": "code",
   "execution_count": 37,
   "id": "0b8a2210-43f8-44cb-8147-e47f5f5c1fa9",
   "metadata": {},
   "outputs": [],
   "source": [
    "def compute_prob_win(diff, sample_diff):\n",
    "    # if you overbid you lose\n",
    "    if diff>0:\n",
    "        return 0\n",
    "\n",
    "    # if the opponent overbids, you win\n",
    "    p1 = prob_overbid(sample_diff)\n",
    "\n",
    "    # or if their bid is worse than yours, you win\n",
    "    p2 = prob_worse_than(diff, sample_diff)\n",
    "\n",
    "    # p1 and p2 are mutually exclusive, so we can add them\n",
    "    return p1+p2"
   ]
  },
  {
   "cell_type": "markdown",
   "id": "16c2597f-a91d-4ebc-b755-eaa2ae76eb29",
   "metadata": {},
   "source": [
    "Here is the probability that we win, given that we underbid by 5,000. <br/>\n",
    "The smaller the underbid (closer to the actual value), the higher the probability we win."
   ]
  },
  {
   "cell_type": "code",
   "execution_count": 38,
   "id": "925aa55e-d6d1-4edc-84a2-a016ea366614",
   "metadata": {},
   "outputs": [
    {
     "data": {
      "text/plain": [
       "np.float64(0.6741214057507987)"
      ]
     },
     "execution_count": 38,
     "metadata": {},
     "output_type": "execute_result"
    }
   ],
   "source": [
    "compute_prob_win(-5000, sample_diff2)"
   ]
  },
  {
   "cell_type": "code",
   "execution_count": 39,
   "id": "fdf2f48e-1397-48b0-b621-5f63e6000f1b",
   "metadata": {},
   "outputs": [],
   "source": [
    "xs = np.linspace(-30000, 5000, 121) # hypothetical values of bid (simulate underbids and overbids) or range of possible differences between bid and the actual price\n",
    "ys = [compute_prob_win(x, sample_diff2) for x in xs]"
   ]
  },
  {
   "cell_type": "code",
   "execution_count": 40,
   "id": "4df8b89d-d3eb-4feb-bb42-8f559868b861",
   "metadata": {},
   "outputs": [
    {
     "data": {
      "application/vnd.plotly.v1+json": {
       "config": {
        "plotlyServerURL": "https://plot.ly"
       },
       "data": [
        {
         "type": "scatter",
         "x": {
          "bdata": "AAAAAABM3cBVVVVVFQPdwKuqqqoqutzAAAAAAEBx3MBVVVVVVSjcwKuqqqpq39vAAAAAAICW28BVVVVVlU3bwKuqqqqqBNvAAAAAAMC72sBVVVVV1XLawKuqqqrqKdrAAAAAAADh2cBVVVVVFZjZwKuqqqoqT9nAAAAAAEAG2cBVVVVVVb3YwKqqqqpqdNjAAAAAAIAr2MBVVVVVleLXwKqqqqqqmdfAAAAAAMBQ18BVVVVV1QfXwKqqqqrqvtbAAAAAAAB21sBVVVVVFS3WwKqqqqoq5NXAAAAAAECb1cBVVVVVVVLVwKqqqqpqCdXAAAAAAIDA1MBVVVVVlXfUwKqqqqqqLtTAAAAAAMDl08BVVVVV1ZzTwKqqqqrqU9PAAAAAAAAL08BVVVVVFcLSwKqqqqoqedLAAAAAAEAw0sBVVVVVVefRwKqqqqpqntHAAAAAAIBV0cBVVVVVlQzRwKqqqqqqw9DAAAAAAMB60MBVVVVV1THQwFVVVVXV0c/AAAAAAABAz8CqqqqqKq7OwFVVVVVVHM7A/////3+KzcCqqqqqqvjMwFVVVVXVZszA///////Uy8CqqqqqKkPLwFVVVVVVscrAAAAAAIAfysCqqqqqqo3JwFRVVVXV+8jAAAAAAABqyMCqqqqqKtjHwFRVVVVVRsfAAAAAAIC0xsCqqqqqqiLGwFRVVVXVkMXAAAAAAAD/xMCqqqqqKm3EwFRVVVVV28PAAAAAAIBJw8CqqqqqqrfCwFRVVVXVJcLAAAAAAACUwcCqqqqqKgLBwFRVVVVVcMDAAAAAAAC9v8BUVVVVVZm+wKiqqqqqdb3AAAAAAABSvMBUVVVVVS67wKiqqqqqCrrAAAAAAADnuMBUVVVVVcO3wKiqqqqqn7bAAAAAAAB8tcBUVVVVVVi0wKiqqqqqNLPAAAAAAAARssBUVVVVVe2wwFBVVVVVk6/AAAAAAABMrcCoqqqqqgSrwFBVVVVVvajAAAAAAAB2psCoqqqqqi6kwFBVVVVV56HAAAAAAABAn8BQVVVVVbGawKCqqqqqIpbA8P////+TkcCgqqqqqgqKwEBVVVVV7YDAgP////8/b8AAVlVVVdVEQIBVVVVV1XRAIAAAAACIg0BgVVVVVaWMQGBVVVVV4ZJAEAAAAABwl0Cwqqqqqv6bQLCqqqqqRqBACAAAAACOokBYVVVVVdWkQLCqqqqqHKdAAAAAAABkqUBgVVVVVaurQLCqqqqq8q1AAAAAAAAdsECwqqqqqkCxQFhVVVVVZLJAAAAAAACIs0A=",
          "dtype": "f8"
         },
         "y": [
          0.2939297124600639,
          0.2939297124600639,
          0.2939297124600639,
          0.2939297124600639,
          0.2939297124600639,
          0.2939297124600639,
          0.2939297124600639,
          0.2939297124600639,
          0.2939297124600639,
          0.2939297124600639,
          0.2939297124600639,
          0.2939297124600639,
          0.2939297124600639,
          0.2971246006389776,
          0.2971246006389776,
          0.2971246006389776,
          0.2971246006389776,
          0.2971246006389776,
          0.2971246006389776,
          0.2971246006389776,
          0.2971246006389776,
          0.2971246006389776,
          0.2971246006389776,
          0.2971246006389776,
          0.2971246006389776,
          0.2971246006389776,
          0.2971246006389776,
          0.2971246006389776,
          0.3035143769968051,
          0.3035143769968051,
          0.30670926517571884,
          0.30670926517571884,
          0.30670926517571884,
          0.30670926517571884,
          0.30670926517571884,
          0.30670926517571884,
          0.30670926517571884,
          0.30670926517571884,
          0.30670926517571884,
          0.31309904153354634,
          0.31309904153354634,
          0.31309904153354634,
          0.31309904153354634,
          0.31309904153354634,
          0.31309904153354634,
          0.31309904153354634,
          0.3194888178913738,
          0.3194888178913738,
          0.329073482428115,
          0.329073482428115,
          0.329073482428115,
          0.33226837060702874,
          0.33865814696485624,
          0.34185303514376997,
          0.34185303514376997,
          0.3450479233226837,
          0.3546325878594249,
          0.36421725239616615,
          0.36741214057507987,
          0.3769968051118211,
          0.3801916932907348,
          0.3865814696485623,
          0.3961661341853035,
          0.3993610223642172,
          0.41214057507987223,
          0.41214057507987223,
          0.41214057507987223,
          0.42172523961661346,
          0.43450479233226835,
          0.45047923322683703,
          0.45686900958466453,
          0.47284345047923326,
          0.48562300319488816,
          0.5047923322683706,
          0.5175718849840256,
          0.5335463258785942,
          0.5399361022364217,
          0.5463258785942492,
          0.5591054313099042,
          0.5686900958466454,
          0.5942492012779552,
          0.6006389776357828,
          0.6230031948881789,
          0.6389776357827477,
          0.6549520766773163,
          0.6645367412140575,
          0.6741214057507987,
          0.6964856230031948,
          0.7092651757188498,
          0.7284345047923323,
          0.7539936102236422,
          0.7667731629392971,
          0.7859424920127795,
          0.8115015974440895,
          0.8274760383386581,
          0.865814696485623,
          0.8753993610223643,
          0.8913738019169329,
          0.9105431309904153,
          0.9329073482428115,
          0.9424920127795527,
          0.9616613418530352,
          0.9872204472843451,
          0,
          0,
          0,
          0,
          0,
          0,
          0,
          0,
          0,
          0,
          0,
          0,
          0,
          0,
          0,
          0,
          0,
          0
         ]
        }
       ],
       "layout": {
        "template": {
         "data": {
          "bar": [
           {
            "error_x": {
             "color": "#2a3f5f"
            },
            "error_y": {
             "color": "#2a3f5f"
            },
            "marker": {
             "line": {
              "color": "#E5ECF6",
              "width": 0.5
             },
             "pattern": {
              "fillmode": "overlay",
              "size": 10,
              "solidity": 0.2
             }
            },
            "type": "bar"
           }
          ],
          "barpolar": [
           {
            "marker": {
             "line": {
              "color": "#E5ECF6",
              "width": 0.5
             },
             "pattern": {
              "fillmode": "overlay",
              "size": 10,
              "solidity": 0.2
             }
            },
            "type": "barpolar"
           }
          ],
          "carpet": [
           {
            "aaxis": {
             "endlinecolor": "#2a3f5f",
             "gridcolor": "white",
             "linecolor": "white",
             "minorgridcolor": "white",
             "startlinecolor": "#2a3f5f"
            },
            "baxis": {
             "endlinecolor": "#2a3f5f",
             "gridcolor": "white",
             "linecolor": "white",
             "minorgridcolor": "white",
             "startlinecolor": "#2a3f5f"
            },
            "type": "carpet"
           }
          ],
          "choropleth": [
           {
            "colorbar": {
             "outlinewidth": 0,
             "ticks": ""
            },
            "type": "choropleth"
           }
          ],
          "contour": [
           {
            "colorbar": {
             "outlinewidth": 0,
             "ticks": ""
            },
            "colorscale": [
             [
              0,
              "#0d0887"
             ],
             [
              0.1111111111111111,
              "#46039f"
             ],
             [
              0.2222222222222222,
              "#7201a8"
             ],
             [
              0.3333333333333333,
              "#9c179e"
             ],
             [
              0.4444444444444444,
              "#bd3786"
             ],
             [
              0.5555555555555556,
              "#d8576b"
             ],
             [
              0.6666666666666666,
              "#ed7953"
             ],
             [
              0.7777777777777778,
              "#fb9f3a"
             ],
             [
              0.8888888888888888,
              "#fdca26"
             ],
             [
              1,
              "#f0f921"
             ]
            ],
            "type": "contour"
           }
          ],
          "contourcarpet": [
           {
            "colorbar": {
             "outlinewidth": 0,
             "ticks": ""
            },
            "type": "contourcarpet"
           }
          ],
          "heatmap": [
           {
            "colorbar": {
             "outlinewidth": 0,
             "ticks": ""
            },
            "colorscale": [
             [
              0,
              "#0d0887"
             ],
             [
              0.1111111111111111,
              "#46039f"
             ],
             [
              0.2222222222222222,
              "#7201a8"
             ],
             [
              0.3333333333333333,
              "#9c179e"
             ],
             [
              0.4444444444444444,
              "#bd3786"
             ],
             [
              0.5555555555555556,
              "#d8576b"
             ],
             [
              0.6666666666666666,
              "#ed7953"
             ],
             [
              0.7777777777777778,
              "#fb9f3a"
             ],
             [
              0.8888888888888888,
              "#fdca26"
             ],
             [
              1,
              "#f0f921"
             ]
            ],
            "type": "heatmap"
           }
          ],
          "histogram": [
           {
            "marker": {
             "pattern": {
              "fillmode": "overlay",
              "size": 10,
              "solidity": 0.2
             }
            },
            "type": "histogram"
           }
          ],
          "histogram2d": [
           {
            "colorbar": {
             "outlinewidth": 0,
             "ticks": ""
            },
            "colorscale": [
             [
              0,
              "#0d0887"
             ],
             [
              0.1111111111111111,
              "#46039f"
             ],
             [
              0.2222222222222222,
              "#7201a8"
             ],
             [
              0.3333333333333333,
              "#9c179e"
             ],
             [
              0.4444444444444444,
              "#bd3786"
             ],
             [
              0.5555555555555556,
              "#d8576b"
             ],
             [
              0.6666666666666666,
              "#ed7953"
             ],
             [
              0.7777777777777778,
              "#fb9f3a"
             ],
             [
              0.8888888888888888,
              "#fdca26"
             ],
             [
              1,
              "#f0f921"
             ]
            ],
            "type": "histogram2d"
           }
          ],
          "histogram2dcontour": [
           {
            "colorbar": {
             "outlinewidth": 0,
             "ticks": ""
            },
            "colorscale": [
             [
              0,
              "#0d0887"
             ],
             [
              0.1111111111111111,
              "#46039f"
             ],
             [
              0.2222222222222222,
              "#7201a8"
             ],
             [
              0.3333333333333333,
              "#9c179e"
             ],
             [
              0.4444444444444444,
              "#bd3786"
             ],
             [
              0.5555555555555556,
              "#d8576b"
             ],
             [
              0.6666666666666666,
              "#ed7953"
             ],
             [
              0.7777777777777778,
              "#fb9f3a"
             ],
             [
              0.8888888888888888,
              "#fdca26"
             ],
             [
              1,
              "#f0f921"
             ]
            ],
            "type": "histogram2dcontour"
           }
          ],
          "mesh3d": [
           {
            "colorbar": {
             "outlinewidth": 0,
             "ticks": ""
            },
            "type": "mesh3d"
           }
          ],
          "parcoords": [
           {
            "line": {
             "colorbar": {
              "outlinewidth": 0,
              "ticks": ""
             }
            },
            "type": "parcoords"
           }
          ],
          "pie": [
           {
            "automargin": true,
            "type": "pie"
           }
          ],
          "scatter": [
           {
            "fillpattern": {
             "fillmode": "overlay",
             "size": 10,
             "solidity": 0.2
            },
            "type": "scatter"
           }
          ],
          "scatter3d": [
           {
            "line": {
             "colorbar": {
              "outlinewidth": 0,
              "ticks": ""
             }
            },
            "marker": {
             "colorbar": {
              "outlinewidth": 0,
              "ticks": ""
             }
            },
            "type": "scatter3d"
           }
          ],
          "scattercarpet": [
           {
            "marker": {
             "colorbar": {
              "outlinewidth": 0,
              "ticks": ""
             }
            },
            "type": "scattercarpet"
           }
          ],
          "scattergeo": [
           {
            "marker": {
             "colorbar": {
              "outlinewidth": 0,
              "ticks": ""
             }
            },
            "type": "scattergeo"
           }
          ],
          "scattergl": [
           {
            "marker": {
             "colorbar": {
              "outlinewidth": 0,
              "ticks": ""
             }
            },
            "type": "scattergl"
           }
          ],
          "scattermap": [
           {
            "marker": {
             "colorbar": {
              "outlinewidth": 0,
              "ticks": ""
             }
            },
            "type": "scattermap"
           }
          ],
          "scattermapbox": [
           {
            "marker": {
             "colorbar": {
              "outlinewidth": 0,
              "ticks": ""
             }
            },
            "type": "scattermapbox"
           }
          ],
          "scatterpolar": [
           {
            "marker": {
             "colorbar": {
              "outlinewidth": 0,
              "ticks": ""
             }
            },
            "type": "scatterpolar"
           }
          ],
          "scatterpolargl": [
           {
            "marker": {
             "colorbar": {
              "outlinewidth": 0,
              "ticks": ""
             }
            },
            "type": "scatterpolargl"
           }
          ],
          "scatterternary": [
           {
            "marker": {
             "colorbar": {
              "outlinewidth": 0,
              "ticks": ""
             }
            },
            "type": "scatterternary"
           }
          ],
          "surface": [
           {
            "colorbar": {
             "outlinewidth": 0,
             "ticks": ""
            },
            "colorscale": [
             [
              0,
              "#0d0887"
             ],
             [
              0.1111111111111111,
              "#46039f"
             ],
             [
              0.2222222222222222,
              "#7201a8"
             ],
             [
              0.3333333333333333,
              "#9c179e"
             ],
             [
              0.4444444444444444,
              "#bd3786"
             ],
             [
              0.5555555555555556,
              "#d8576b"
             ],
             [
              0.6666666666666666,
              "#ed7953"
             ],
             [
              0.7777777777777778,
              "#fb9f3a"
             ],
             [
              0.8888888888888888,
              "#fdca26"
             ],
             [
              1,
              "#f0f921"
             ]
            ],
            "type": "surface"
           }
          ],
          "table": [
           {
            "cells": {
             "fill": {
              "color": "#EBF0F8"
             },
             "line": {
              "color": "white"
             }
            },
            "header": {
             "fill": {
              "color": "#C8D4E3"
             },
             "line": {
              "color": "white"
             }
            },
            "type": "table"
           }
          ]
         },
         "layout": {
          "annotationdefaults": {
           "arrowcolor": "#2a3f5f",
           "arrowhead": 0,
           "arrowwidth": 1
          },
          "autotypenumbers": "strict",
          "coloraxis": {
           "colorbar": {
            "outlinewidth": 0,
            "ticks": ""
           }
          },
          "colorscale": {
           "diverging": [
            [
             0,
             "#8e0152"
            ],
            [
             0.1,
             "#c51b7d"
            ],
            [
             0.2,
             "#de77ae"
            ],
            [
             0.3,
             "#f1b6da"
            ],
            [
             0.4,
             "#fde0ef"
            ],
            [
             0.5,
             "#f7f7f7"
            ],
            [
             0.6,
             "#e6f5d0"
            ],
            [
             0.7,
             "#b8e186"
            ],
            [
             0.8,
             "#7fbc41"
            ],
            [
             0.9,
             "#4d9221"
            ],
            [
             1,
             "#276419"
            ]
           ],
           "sequential": [
            [
             0,
             "#0d0887"
            ],
            [
             0.1111111111111111,
             "#46039f"
            ],
            [
             0.2222222222222222,
             "#7201a8"
            ],
            [
             0.3333333333333333,
             "#9c179e"
            ],
            [
             0.4444444444444444,
             "#bd3786"
            ],
            [
             0.5555555555555556,
             "#d8576b"
            ],
            [
             0.6666666666666666,
             "#ed7953"
            ],
            [
             0.7777777777777778,
             "#fb9f3a"
            ],
            [
             0.8888888888888888,
             "#fdca26"
            ],
            [
             1,
             "#f0f921"
            ]
           ],
           "sequentialminus": [
            [
             0,
             "#0d0887"
            ],
            [
             0.1111111111111111,
             "#46039f"
            ],
            [
             0.2222222222222222,
             "#7201a8"
            ],
            [
             0.3333333333333333,
             "#9c179e"
            ],
            [
             0.4444444444444444,
             "#bd3786"
            ],
            [
             0.5555555555555556,
             "#d8576b"
            ],
            [
             0.6666666666666666,
             "#ed7953"
            ],
            [
             0.7777777777777778,
             "#fb9f3a"
            ],
            [
             0.8888888888888888,
             "#fdca26"
            ],
            [
             1,
             "#f0f921"
            ]
           ]
          },
          "colorway": [
           "#636efa",
           "#EF553B",
           "#00cc96",
           "#ab63fa",
           "#FFA15A",
           "#19d3f3",
           "#FF6692",
           "#B6E880",
           "#FF97FF",
           "#FECB52"
          ],
          "font": {
           "color": "#2a3f5f"
          },
          "geo": {
           "bgcolor": "white",
           "lakecolor": "white",
           "landcolor": "#E5ECF6",
           "showlakes": true,
           "showland": true,
           "subunitcolor": "white"
          },
          "hoverlabel": {
           "align": "left"
          },
          "hovermode": "closest",
          "mapbox": {
           "style": "light"
          },
          "paper_bgcolor": "white",
          "plot_bgcolor": "#E5ECF6",
          "polar": {
           "angularaxis": {
            "gridcolor": "white",
            "linecolor": "white",
            "ticks": ""
           },
           "bgcolor": "#E5ECF6",
           "radialaxis": {
            "gridcolor": "white",
            "linecolor": "white",
            "ticks": ""
           }
          },
          "scene": {
           "xaxis": {
            "backgroundcolor": "#E5ECF6",
            "gridcolor": "white",
            "gridwidth": 2,
            "linecolor": "white",
            "showbackground": true,
            "ticks": "",
            "zerolinecolor": "white"
           },
           "yaxis": {
            "backgroundcolor": "#E5ECF6",
            "gridcolor": "white",
            "gridwidth": 2,
            "linecolor": "white",
            "showbackground": true,
            "ticks": "",
            "zerolinecolor": "white"
           },
           "zaxis": {
            "backgroundcolor": "#E5ECF6",
            "gridcolor": "white",
            "gridwidth": 2,
            "linecolor": "white",
            "showbackground": true,
            "ticks": "",
            "zerolinecolor": "white"
           }
          },
          "shapedefaults": {
           "line": {
            "color": "#2a3f5f"
           }
          },
          "ternary": {
           "aaxis": {
            "gridcolor": "white",
            "linecolor": "white",
            "ticks": ""
           },
           "baxis": {
            "gridcolor": "white",
            "linecolor": "white",
            "ticks": ""
           },
           "bgcolor": "#E5ECF6",
           "caxis": {
            "gridcolor": "white",
            "linecolor": "white",
            "ticks": ""
           }
          },
          "title": {
           "x": 0.05
          },
          "xaxis": {
           "automargin": true,
           "gridcolor": "white",
           "linecolor": "white",
           "ticks": "",
           "title": {
            "standoff": 15
           },
           "zerolinecolor": "white",
           "zerolinewidth": 2
          },
          "yaxis": {
           "automargin": true,
           "gridcolor": "white",
           "linecolor": "white",
           "ticks": "",
           "title": {
            "standoff": 15
           },
           "zerolinecolor": "white",
           "zerolinewidth": 2
          }
         }
        },
        "title": {
         "text": "Simulation of Probability to Win Given Bid (Underbid and Overbid)"
        },
        "xaxis": {
         "title": {
          "text": "Hypothetical Values of Bid"
         }
        },
        "yaxis": {
         "title": {
          "text": "Probability"
         }
        }
       }
      },
      "image/png": "[encoded data removed]"
     },
     "metadata": {},
     "output_type": "display_data"
    }
   ],
   "source": [
    "fig = go.Figure()\n",
    "\n",
    "fig.add_trace(\n",
    "    go.Line(\n",
    "        x=xs,\n",
    "        y=ys\n",
    "    )\n",
    ")\n",
    "\n",
    "\n",
    "fig.update_layout(\n",
    "    xaxis_title='Hypothetical Values of Bid',\n",
    "    yaxis_title='Probability',\n",
    "    title='Simulation of Probability to Win Given Bid (Underbid and Overbid)'\n",
    ")\n",
    "\n",
    "fig.show()"
   ]
  },
  {
   "cell_type": "markdown",
   "id": "1596608d-11f2-4f2e-bf89-f5e11ede5591",
   "metadata": {},
   "source": [
    "If you underbid by 30,000, the chance of winning is about 30%, which is mostly the chance your opponent overbids.<br/>\n",
    "As your bids gets closer to the actual price, your chance of winning approaches 1.<br/>\n",
    "And, of course, if you overbid, you lose (even if your opponent also overbids)."
   ]
  },
  {
   "cell_type": "markdown",
   "id": "dc5b3014-2414-4487-a59e-b7f81820272e",
   "metadata": {},
   "source": [
    "### Decision Analysis\n",
    "\n",
    "In reality the contestants don't know how much they have underbid by, because they don't know the actual price. But they do have posterior distribution that represents their beliefs about the actual price, and they can use that to estimate their probability of winning with a given bid."
   ]
  },
  {
   "cell_type": "code",
   "execution_count": 95,
   "id": "b7ada1d3-952a-4590-b94c-466b6f6fec35",
   "metadata": {},
   "outputs": [],
   "source": [
    "def total_prob_win(bid, posterior, sample_diff):\n",
    "    # compute the total probability of winning with a given bid\n",
    "    # bid: your bid\n",
    "    # posterior: pdf of showcase value\n",
    "    # sample_diff: sequence of differences for the opponent\n",
    "    # return probability of winning\n",
    "    total = 0\n",
    "    for price, prob in posterior.items():\n",
    "        diff = bid - price\n",
    "\n",
    "        # bayesian marginalization or total probability of winning\n",
    "        total += prob * compute_prob_win(diff, sample_diff) # weighting the probability of winning at each possible true price by the probability that price is correct\n",
    "    return total"
   ]
  },
  {
   "cell_type": "markdown",
   "id": "cbedcd06-cd6e-4fc3-b522-4caf028edd9b",
   "metadata": {},
   "source": [
    "The above function implement the law of total probability: <br/>\n",
    "P(win) = sum of P(price) P(win|price)"
   ]
  },
  {
   "cell_type": "code",
   "execution_count": 84,
   "id": "686ceffd-b117-49c2-b263-fb8afb403e2f",
   "metadata": {},
   "outputs": [
    {
     "data": {
      "text/plain": [
       "np.float64(0.42460236122382744)"
      ]
     },
     "execution_count": 84,
     "metadata": {},
     "output_type": "execute_result"
    }
   ],
   "source": [
    "bid = 26000\n",
    "\n",
    "total_prob_win(bid, df_posterior1['probs'], sample_diff2)"
   ]
  },
  {
   "cell_type": "markdown",
   "id": "c3134582-92eb-4201-9842-7322a0680de1",
   "metadata": {},
   "source": [
    "Now we can loop through a series of possible bids and compute the probability of winning for each one"
   ]
  },
  {
   "cell_type": "code",
   "execution_count": 67,
   "id": "1702d68a-4326-4d32-a01b-b9f35aca1e52",
   "metadata": {},
   "outputs": [],
   "source": [
    "bids = df_posterior1.index"
   ]
  },
  {
   "cell_type": "code",
   "execution_count": 71,
   "id": "d4a4563c-cc11-4e56-a11f-a21cbc43f675",
   "metadata": {},
   "outputs": [],
   "source": [
    "probs = [total_prob_win(bid, df_posterior1['probs'], sample_diff2) for bid in bids]"
   ]
  },
  {
   "cell_type": "code",
   "execution_count": 76,
   "id": "5376f3b8-dee4-4991-a1ec-53b9b2ec33c0",
   "metadata": {},
   "outputs": [
    {
     "data": {
      "application/vnd.plotly.v1+json": {
       "config": {
        "plotlyServerURL": "https://plot.ly"
       },
       "data": [
        {
         "type": "scatter",
         "x": {
          "bdata": "AAAAAAAAAAAAAAAAAECPQAAAAAAAQJ9AAAAAAABwp0AAAAAAAECvQAAAAAAAiLNAAAAAAABwt0AAAAAAAFi7QAAAAAAAQL9AAAAAAACUwUAAAAAAAIjDQAAAAAAAfMVAAAAAAABwx0AAAAAAAGTJQAAAAAAAWMtAAAAAAABMzUAAAAAAAEDPQAAAAAAAmtBAAAAAAACU0UAAAAAAAI7SQAAAAAAAiNNAAAAAAACC1EAAAAAAAHzVQAAAAAAAdtZAAAAAAABw10AAAAAAAGrYQAAAAAAAZNlAAAAAAABe2kAAAAAAAFjbQAAAAAAAUtxAAAAAAABM3UAAAAAAAEbeQAAAAAAAQN9AAAAAAAAd4EAAAAAAAJrgQAAAAAAAF+FAAAAAAACU4UAAAAAAABHiQAAAAAAAjuJAAAAAAAAL40AAAAAAAIjjQAAAAAAABeRAAAAAAACC5EAAAAAAAP/kQAAAAAAAfOVAAAAAAAD55UAAAAAAAHbmQAAAAAAA8+ZAAAAAAABw50AAAAAAAO3nQAAAAAAAauhAAAAAAADn6EAAAAAAAGTpQAAAAAAA4elAAAAAAABe6kAAAAAAANvqQAAAAAAAWOtAAAAAAADV60AAAAAAAFLsQAAAAAAAz+xAAAAAAABM7UAAAAAAAMntQAAAAAAARu5AAAAAAADD7kAAAAAAAEDvQAAAAAAAve9AAAAAAAAd8EAAAAAAgFvwQAAAAAAAmvBAAAAAAIDY8EAAAAAAABfxQAAAAACAVfFAAAAAAACU8UAAAAAAgNLxQAAAAAAAEfJAAAAAAIBP8kAAAAAAAI7yQAAAAACAzPJAAAAAAAAL80AAAAAAgEnzQAAAAAAAiPNA",
          "dtype": "f8"
         },
         "y": [
          0.2971317540972391,
          0.2983159814822073,
          0.29982885595526565,
          0.30176026054642047,
          0.30425101258518483,
          0.30749915302858677,
          0.31175189865705905,
          0.3172906015650225,
          0.32442107880122767,
          0.3334770533696792,
          0.3448278603971297,
          0.3588684666972741,
          0.3759821257186151,
          0.3964941084113272,
          0.4206390373196298,
          0.44852211821249865,
          0.47998350761749603,
          0.5142339985833454,
          0.5492381288008851,
          0.5811646225798855,
          0.6045798978921055,
          0.6138594913274742,
          0.6053224517749188,
          0.5786994220172552,
          0.5368653625060213,
          0.48415007740546834,
          0.42460236122382744,
          0.36138782241371886,
          0.29735665363801556,
          0.2357647011541357,
          0.18012791333509998,
          0.1332177194606354,
          0.09612358331917836,
          0.06817672042000379,
          0.047677951673002684,
          0.032783112018443396,
          0.02201295742788863,
          0.014323043955943712,
          0.008967939903471271,
          0.005372411384151129,
          0.003069707062642251,
          0.001678325842036389,
          0.000890851936485224,
          0.0004708584139416982,
          0.00025361259143481726,
          0.00013963792026867224,
          7.733038919745945e-05,
          4.2373851375831795e-05,
          2.2858849061321573e-05,
          1.212479824227698e-05,
          6.255381905506585e-06,
          3.071654918984475e-06,
          1.4057051017590494e-06,
          5.945038282301009e-07,
          2.3481490001486411e-07,
          8.928888924647988e-08,
          3.399960471636278e-08,
          1.3203281995954913e-08,
          5.083092957256536e-09,
          1.8282619745803143e-09,
          5.807447045882919e-10,
          1.5682957936593303e-10,
          3.521560401341383e-11,
          6.494743895870414e-12,
          9.770591327566222e-13,
          1.1942056533796574e-13,
          1.1829860038114578e-14,
          9.482876650545711e-16,
          6.144639985696866e-17,
          3.216015630913956e-18,
          1.3588182431543083e-19,
          4.632776374476376e-21,
          1.2741349390307972e-22,
          2.8259995737415877e-24,
          5.053861533238847e-26,
          7.286170354783484e-28,
          8.467288849626251e-30,
          7.930745500260775e-32,
          5.9864942223186535e-34,
          3.641532803305653e-36,
          1.778417818619538e-38
         ]
        }
       ],
       "layout": {
        "plot_bgcolor": "rgba(0,0,0,0)",
        "template": {
         "data": {
          "bar": [
           {
            "error_x": {
             "color": "#2a3f5f"
            },
            "error_y": {
             "color": "#2a3f5f"
            },
            "marker": {
             "line": {
              "color": "#E5ECF6",
              "width": 0.5
             },
             "pattern": {
              "fillmode": "overlay",
              "size": 10,
              "solidity": 0.2
             }
            },
            "type": "bar"
           }
          ],
          "barpolar": [
           {
            "marker": {
             "line": {
              "color": "#E5ECF6",
              "width": 0.5
             },
             "pattern": {
              "fillmode": "overlay",
              "size": 10,
              "solidity": 0.2
             }
            },
            "type": "barpolar"
           }
          ],
          "carpet": [
           {
            "aaxis": {
             "endlinecolor": "#2a3f5f",
             "gridcolor": "white",
             "linecolor": "white",
             "minorgridcolor": "white",
             "startlinecolor": "#2a3f5f"
            },
            "baxis": {
             "endlinecolor": "#2a3f5f",
             "gridcolor": "white",
             "linecolor": "white",
             "minorgridcolor": "white",
             "startlinecolor": "#2a3f5f"
            },
            "type": "carpet"
           }
          ],
          "choropleth": [
           {
            "colorbar": {
             "outlinewidth": 0,
             "ticks": ""
            },
            "type": "choropleth"
           }
          ],
          "contour": [
           {
            "colorbar": {
             "outlinewidth": 0,
             "ticks": ""
            },
            "colorscale": [
             [
              0,
              "#0d0887"
             ],
             [
              0.1111111111111111,
              "#46039f"
             ],
             [
              0.2222222222222222,
              "#7201a8"
             ],
             [
              0.3333333333333333,
              "#9c179e"
             ],
             [
              0.4444444444444444,
              "#bd3786"
             ],
             [
              0.5555555555555556,
              "#d8576b"
             ],
             [
              0.6666666666666666,
              "#ed7953"
             ],
             [
              0.7777777777777778,
              "#fb9f3a"
             ],
             [
              0.8888888888888888,
              "#fdca26"
             ],
             [
              1,
              "#f0f921"
             ]
            ],
            "type": "contour"
           }
          ],
          "contourcarpet": [
           {
            "colorbar": {
             "outlinewidth": 0,
             "ticks": ""
            },
            "type": "contourcarpet"
           }
          ],
          "heatmap": [
           {
            "colorbar": {
             "outlinewidth": 0,
             "ticks": ""
            },
            "colorscale": [
             [
              0,
              "#0d0887"
             ],
             [
              0.1111111111111111,
              "#46039f"
             ],
             [
              0.2222222222222222,
              "#7201a8"
             ],
             [
              0.3333333333333333,
              "#9c179e"
             ],
             [
              0.4444444444444444,
              "#bd3786"
             ],
             [
              0.5555555555555556,
              "#d8576b"
             ],
             [
              0.6666666666666666,
              "#ed7953"
             ],
             [
              0.7777777777777778,
              "#fb9f3a"
             ],
             [
              0.8888888888888888,
              "#fdca26"
             ],
             [
              1,
              "#f0f921"
             ]
            ],
            "type": "heatmap"
           }
          ],
          "histogram": [
           {
            "marker": {
             "pattern": {
              "fillmode": "overlay",
              "size": 10,
              "solidity": 0.2
             }
            },
            "type": "histogram"
           }
          ],
          "histogram2d": [
           {
            "colorbar": {
             "outlinewidth": 0,
             "ticks": ""
            },
            "colorscale": [
             [
              0,
              "#0d0887"
             ],
             [
              0.1111111111111111,
              "#46039f"
             ],
             [
              0.2222222222222222,
              "#7201a8"
             ],
             [
              0.3333333333333333,
              "#9c179e"
             ],
             [
              0.4444444444444444,
              "#bd3786"
             ],
             [
              0.5555555555555556,
              "#d8576b"
             ],
             [
              0.6666666666666666,
              "#ed7953"
             ],
             [
              0.7777777777777778,
              "#fb9f3a"
             ],
             [
              0.8888888888888888,
              "#fdca26"
             ],
             [
              1,
              "#f0f921"
             ]
            ],
            "type": "histogram2d"
           }
          ],
          "histogram2dcontour": [
           {
            "colorbar": {
             "outlinewidth": 0,
             "ticks": ""
            },
            "colorscale": [
             [
              0,
              "#0d0887"
             ],
             [
              0.1111111111111111,
              "#46039f"
             ],
             [
              0.2222222222222222,
              "#7201a8"
             ],
             [
              0.3333333333333333,
              "#9c179e"
             ],
             [
              0.4444444444444444,
              "#bd3786"
             ],
             [
              0.5555555555555556,
              "#d8576b"
             ],
             [
              0.6666666666666666,
              "#ed7953"
             ],
             [
              0.7777777777777778,
              "#fb9f3a"
             ],
             [
              0.8888888888888888,
              "#fdca26"
             ],
             [
              1,
              "#f0f921"
             ]
            ],
            "type": "histogram2dcontour"
           }
          ],
          "mesh3d": [
           {
            "colorbar": {
             "outlinewidth": 0,
             "ticks": ""
            },
            "type": "mesh3d"
           }
          ],
          "parcoords": [
           {
            "line": {
             "colorbar": {
              "outlinewidth": 0,
              "ticks": ""
             }
            },
            "type": "parcoords"
           }
          ],
          "pie": [
           {
            "automargin": true,
            "type": "pie"
           }
          ],
          "scatter": [
           {
            "fillpattern": {
             "fillmode": "overlay",
             "size": 10,
             "solidity": 0.2
            },
            "type": "scatter"
           }
          ],
          "scatter3d": [
           {
            "line": {
             "colorbar": {
              "outlinewidth": 0,
              "ticks": ""
             }
            },
            "marker": {
             "colorbar": {
              "outlinewidth": 0,
              "ticks": ""
             }
            },
            "type": "scatter3d"
           }
          ],
          "scattercarpet": [
           {
            "marker": {
             "colorbar": {
              "outlinewidth": 0,
              "ticks": ""
             }
            },
            "type": "scattercarpet"
           }
          ],
          "scattergeo": [
           {
            "marker": {
             "colorbar": {
              "outlinewidth": 0,
              "ticks": ""
             }
            },
            "type": "scattergeo"
           }
          ],
          "scattergl": [
           {
            "marker": {
             "colorbar": {
              "outlinewidth": 0,
              "ticks": ""
             }
            },
            "type": "scattergl"
           }
          ],
          "scattermap": [
           {
            "marker": {
             "colorbar": {
              "outlinewidth": 0,
              "ticks": ""
             }
            },
            "type": "scattermap"
           }
          ],
          "scattermapbox": [
           {
            "marker": {
             "colorbar": {
              "outlinewidth": 0,
              "ticks": ""
             }
            },
            "type": "scattermapbox"
           }
          ],
          "scatterpolar": [
           {
            "marker": {
             "colorbar": {
              "outlinewidth": 0,
              "ticks": ""
             }
            },
            "type": "scatterpolar"
           }
          ],
          "scatterpolargl": [
           {
            "marker": {
             "colorbar": {
              "outlinewidth": 0,
              "ticks": ""
             }
            },
            "type": "scatterpolargl"
           }
          ],
          "scatterternary": [
           {
            "marker": {
             "colorbar": {
              "outlinewidth": 0,
              "ticks": ""
             }
            },
            "type": "scatterternary"
           }
          ],
          "surface": [
           {
            "colorbar": {
             "outlinewidth": 0,
             "ticks": ""
            },
            "colorscale": [
             [
              0,
              "#0d0887"
             ],
             [
              0.1111111111111111,
              "#46039f"
             ],
             [
              0.2222222222222222,
              "#7201a8"
             ],
             [
              0.3333333333333333,
              "#9c179e"
             ],
             [
              0.4444444444444444,
              "#bd3786"
             ],
             [
              0.5555555555555556,
              "#d8576b"
             ],
             [
              0.6666666666666666,
              "#ed7953"
             ],
             [
              0.7777777777777778,
              "#fb9f3a"
             ],
             [
              0.8888888888888888,
              "#fdca26"
             ],
             [
              1,
              "#f0f921"
             ]
            ],
            "type": "surface"
           }
          ],
          "table": [
           {
            "cells": {
             "fill": {
              "color": "#EBF0F8"
             },
             "line": {
              "color": "white"
             }
            },
            "header": {
             "fill": {
              "color": "#C8D4E3"
             },
             "line": {
              "color": "white"
             }
            },
            "type": "table"
           }
          ]
         },
         "layout": {
          "annotationdefaults": {
           "arrowcolor": "#2a3f5f",
           "arrowhead": 0,
           "arrowwidth": 1
          },
          "autotypenumbers": "strict",
          "coloraxis": {
           "colorbar": {
            "outlinewidth": 0,
            "ticks": ""
           }
          },
          "colorscale": {
           "diverging": [
            [
             0,
             "#8e0152"
            ],
            [
             0.1,
             "#c51b7d"
            ],
            [
             0.2,
             "#de77ae"
            ],
            [
             0.3,
             "#f1b6da"
            ],
            [
             0.4,
             "#fde0ef"
            ],
            [
             0.5,
             "#f7f7f7"
            ],
            [
             0.6,
             "#e6f5d0"
            ],
            [
             0.7,
             "#b8e186"
            ],
            [
             0.8,
             "#7fbc41"
            ],
            [
             0.9,
             "#4d9221"
            ],
            [
             1,
             "#276419"
            ]
           ],
           "sequential": [
            [
             0,
             "#0d0887"
            ],
            [
             0.1111111111111111,
             "#46039f"
            ],
            [
             0.2222222222222222,
             "#7201a8"
            ],
            [
             0.3333333333333333,
             "#9c179e"
            ],
            [
             0.4444444444444444,
             "#bd3786"
            ],
            [
             0.5555555555555556,
             "#d8576b"
            ],
            [
             0.6666666666666666,
             "#ed7953"
            ],
            [
             0.7777777777777778,
             "#fb9f3a"
            ],
            [
             0.8888888888888888,
             "#fdca26"
            ],
            [
             1,
             "#f0f921"
            ]
           ],
           "sequentialminus": [
            [
             0,
             "#0d0887"
            ],
            [
             0.1111111111111111,
             "#46039f"
            ],
            [
             0.2222222222222222,
             "#7201a8"
            ],
            [
             0.3333333333333333,
             "#9c179e"
            ],
            [
             0.4444444444444444,
             "#bd3786"
            ],
            [
             0.5555555555555556,
             "#d8576b"
            ],
            [
             0.6666666666666666,
             "#ed7953"
            ],
            [
             0.7777777777777778,
             "#fb9f3a"
            ],
            [
             0.8888888888888888,
             "#fdca26"
            ],
            [
             1,
             "#f0f921"
            ]
           ]
          },
          "colorway": [
           "#636efa",
           "#EF553B",
           "#00cc96",
           "#ab63fa",
           "#FFA15A",
           "#19d3f3",
           "#FF6692",
           "#B6E880",
           "#FF97FF",
           "#FECB52"
          ],
          "font": {
           "color": "#2a3f5f"
          },
          "geo": {
           "bgcolor": "white",
           "lakecolor": "white",
           "landcolor": "#E5ECF6",
           "showlakes": true,
           "showland": true,
           "subunitcolor": "white"
          },
          "hoverlabel": {
           "align": "left"
          },
          "hovermode": "closest",
          "mapbox": {
           "style": "light"
          },
          "paper_bgcolor": "white",
          "plot_bgcolor": "#E5ECF6",
          "polar": {
           "angularaxis": {
            "gridcolor": "white",
            "linecolor": "white",
            "ticks": ""
           },
           "bgcolor": "#E5ECF6",
           "radialaxis": {
            "gridcolor": "white",
            "linecolor": "white",
            "ticks": ""
           }
          },
          "scene": {
           "xaxis": {
            "backgroundcolor": "#E5ECF6",
            "gridcolor": "white",
            "gridwidth": 2,
            "linecolor": "white",
            "showbackground": true,
            "ticks": "",
            "zerolinecolor": "white"
           },
           "yaxis": {
            "backgroundcolor": "#E5ECF6",
            "gridcolor": "white",
            "gridwidth": 2,
            "linecolor": "white",
            "showbackground": true,
            "ticks": "",
            "zerolinecolor": "white"
           },
           "zaxis": {
            "backgroundcolor": "#E5ECF6",
            "gridcolor": "white",
            "gridwidth": 2,
            "linecolor": "white",
            "showbackground": true,
            "ticks": "",
            "zerolinecolor": "white"
           }
          },
          "shapedefaults": {
           "line": {
            "color": "#2a3f5f"
           }
          },
          "ternary": {
           "aaxis": {
            "gridcolor": "white",
            "linecolor": "white",
            "ticks": ""
           },
           "baxis": {
            "gridcolor": "white",
            "linecolor": "white",
            "ticks": ""
           },
           "bgcolor": "#E5ECF6",
           "caxis": {
            "gridcolor": "white",
            "linecolor": "white",
            "ticks": ""
           }
          },
          "title": {
           "x": 0.05
          },
          "xaxis": {
           "automargin": true,
           "gridcolor": "white",
           "linecolor": "white",
           "ticks": "",
           "title": {
            "standoff": 15
           },
           "zerolinecolor": "white",
           "zerolinewidth": 2
          },
          "yaxis": {
           "automargin": true,
           "gridcolor": "white",
           "linecolor": "white",
           "ticks": "",
           "title": {
            "standoff": 15
           },
           "zerolinecolor": "white",
           "zerolinewidth": 2
          }
         }
        },
        "title": {
         "text": "Optimal Bid: Probability of Winning"
        },
        "xaxis": {
         "title": {
          "text": "Bid $"
         }
        },
        "yaxis": {
         "title": {
          "text": "Probability of Winning"
         }
        }
       }
      },
      "image/png": "[encoded data removed]"
     },
     "metadata": {},
     "output_type": "display_data"
    }
   ],
   "source": [
    "fig = go.Figure()\n",
    "\n",
    "fig.add_trace(\n",
    "    go.Line(\n",
    "        x=bids,\n",
    "        y=probs\n",
    "    )\n",
    ")\n",
    "\n",
    "fig.update_layout(\n",
    "    xaxis_title='Bid $',\n",
    "    yaxis_title='Probability of Winning',\n",
    "    plot_bgcolor='rgba(0,0,0,0)',\n",
    "    title='Optimal Bid: Probability of Winning'\n",
    ")\n",
    "\n",
    "fig.show()"
   ]
  },
  {
   "cell_type": "code",
   "execution_count": 88,
   "id": "ad1920b4-6448-455a-8bbf-1dcc186aec5a",
   "metadata": {},
   "outputs": [],
   "source": [
    "df_da_result = pd.DataFrame(index=bids, data=probs, columns=['probs'])"
   ]
  },
  {
   "cell_type": "code",
   "execution_count": 89,
   "id": "c0bdf671-e795-4895-80a2-b0eee9f6d41c",
   "metadata": {},
   "outputs": [
    {
     "data": {
      "text/plain": [
       "probs    21000.0\n",
       "dtype: float64"
      ]
     },
     "execution_count": 89,
     "metadata": {},
     "output_type": "execute_result"
    }
   ],
   "source": [
    "df_da_result.idxmax()"
   ]
  },
  {
   "cell_type": "code",
   "execution_count": 90,
   "id": "b89fd972-61dc-4f28-be73-8c8ba60b40b0",
   "metadata": {},
   "outputs": [
    {
     "data": {
      "text/plain": [
       "np.float64(0.6138594913274742)"
      ]
     },
     "execution_count": 90,
     "metadata": {},
     "output_type": "execute_result"
    }
   ],
   "source": [
    "df_da_result.probs.max()"
   ]
  },
  {
   "cell_type": "code",
   "execution_count": 93,
   "id": "d85a58ba-98b8-4d9d-8079-d32f1ee2f5dc",
   "metadata": {},
   "outputs": [
    {
     "data": {
      "text/plain": [
       "np.float64(0.6138594913274742)"
      ]
     },
     "execution_count": 93,
     "metadata": {},
     "output_type": "execute_result"
    }
   ],
   "source": [
    "bid = 21000\n",
    "\n",
    "total_prob_win(bid, df_posterior1['probs'], sample_diff2)"
   ]
  },
  {
   "cell_type": "markdown",
   "id": "35bd8398-a64b-4d74-bbf0-58297ca42d8d",
   "metadata": {},
   "source": [
    "### Maximizing Expected Gain"
   ]
  },
  {
   "cell_type": "code",
   "execution_count": null,
   "id": "118c8d79-0be5-42c9-b0d3-071b9f6479b9",
   "metadata": {},
   "outputs": [],
   "source": []
  },
  {
   "cell_type": "code",
   "execution_count": null,
   "id": "6303bfd4-9363-45bb-a699-0fe1ab5659d4",
   "metadata": {},
   "outputs": [],
   "source": []
  },
  {
   "cell_type": "code",
   "execution_count": null,
   "id": "a0878ab6-bcfe-499f-b8e3-dc98c7a94619",
   "metadata": {},
   "outputs": [],
   "source": []
  },
  {
   "cell_type": "code",
   "execution_count": null,
   "id": "938100cb-e3c3-4345-84a0-2d54416af803",
   "metadata": {},
   "outputs": [],
   "source": []
  },
  {
   "cell_type": "code",
   "execution_count": null,
   "id": "7e6bd9b9-ce8b-45d5-aa55-ccc3ca777317",
   "metadata": {},
   "outputs": [],
   "source": []
  },
  {
   "cell_type": "code",
   "execution_count": null,
   "id": "af3e43f7-5e56-49fb-8000-bc3ecc85aa2c",
   "metadata": {},
   "outputs": [],
   "source": []
  }
 ],
 "metadata": {
  "kernelspec": {
   "display_name": "Python 3 (ipykernel)",
   "language": "python",
   "name": "python3"
  },
  "language_info": {
   "codemirror_mode": {
    "name": "ipython",
    "version": 3
   },
   "file_extension": ".py",
   "mimetype": "text/x-python",
   "name": "python",
   "nbconvert_exporter": "python",
   "pygments_lexer": "ipython3",
   "version": "3.11.0"
  }
 },
 "nbformat": 4,
 "nbformat_minor": 5
}
