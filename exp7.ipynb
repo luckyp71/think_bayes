{
 "cells": [
  {
   "cell_type": "markdown",
   "id": "ba885805-9080-4f4b-b892-d01c60691324",
   "metadata": {},
   "source": [
    "# Classification"
   ]
  },
  {
   "cell_type": "code",
   "execution_count": 1,
   "id": "07c8425a-20b7-4a0c-ac9a-541dcd2917d8",
   "metadata": {},
   "outputs": [],
   "source": [
    "import numpy as np\n",
    "import pandas as pd\n",
    "import scipy.stats as stats\n",
    "import plotly.graph_objects as go\n",
    "from plotly.subplots import make_subplots\n",
    "import matplotlib.pyplot as plt"
   ]
  },
  {
   "cell_type": "code",
   "execution_count": 2,
   "id": "3b3f21e2-9580-45c3-af00-be5c8662dad7",
   "metadata": {},
   "outputs": [],
   "source": [
    "df = pd.read_csv('./data/penguins_raw.csv')"
   ]
  },
  {
   "cell_type": "code",
   "execution_count": 3,
   "id": "6675c296-73b4-4aa3-97c2-cf7422d421b4",
   "metadata": {},
   "outputs": [
    {
     "name": "stdout",
     "output_type": "stream",
     "text": [
      "<class 'pandas.core.frame.DataFrame'>\n",
      "RangeIndex: 344 entries, 0 to 343\n",
      "Data columns (total 17 columns):\n",
      " #   Column               Non-Null Count  Dtype  \n",
      "---  ------               --------------  -----  \n",
      " 0   studyName            344 non-null    object \n",
      " 1   Sample Number        344 non-null    int64  \n",
      " 2   Species              344 non-null    object \n",
      " 3   Region               344 non-null    object \n",
      " 4   Island               344 non-null    object \n",
      " 5   Stage                344 non-null    object \n",
      " 6   Individual ID        344 non-null    object \n",
      " 7   Clutch Completion    344 non-null    object \n",
      " 8   Date Egg             344 non-null    object \n",
      " 9   Culmen Length (mm)   342 non-null    float64\n",
      " 10  Culmen Depth (mm)    342 non-null    float64\n",
      " 11  Flipper Length (mm)  342 non-null    float64\n",
      " 12  Body Mass (g)        342 non-null    float64\n",
      " 13  Sex                  333 non-null    object \n",
      " 14  Delta 15 N (o/oo)    330 non-null    float64\n",
      " 15  Delta 13 C (o/oo)    331 non-null    float64\n",
      " 16  Comments             54 non-null     object \n",
      "dtypes: float64(6), int64(1), object(10)\n",
      "memory usage: 45.8+ KB\n"
     ]
    }
   ],
   "source": [
    "df.info()"
   ]
  },
  {
   "cell_type": "code",
   "execution_count": 4,
   "id": "c59e2186-11e7-4665-aa44-3808fbf7af85",
   "metadata": {},
   "outputs": [],
   "source": [
    "df = df[['Species', 'Culmen Length (mm)','Culmen Depth (mm)','Flipper Length (mm)',\n",
    "   'Body Mass (g)']]\n",
    "\n",
    "df.columns = ['species', 'culmen_length', 'culmen_depth', 'flipper_length', 'body_mass']\n",
    "\n",
    "df['species'] = df['species'].apply(lambda x: x.split()[0])"
   ]
  },
  {
   "cell_type": "code",
   "execution_count": 5,
   "id": "49904460-f0b9-499e-a229-1f21e957a077",
   "metadata": {},
   "outputs": [
    {
     "data": {
      "text/html": [
       "<div>\n",
       "<style scoped>\n",
       "    .dataframe tbody tr th:only-of-type {\n",
       "        vertical-align: middle;\n",
       "    }\n",
       "\n",
       "    .dataframe tbody tr th {\n",
       "        vertical-align: top;\n",
       "    }\n",
       "\n",
       "    .dataframe thead th {\n",
       "        text-align: right;\n",
       "    }\n",
       "</style>\n",
       "<table border=\"1\" class=\"dataframe\">\n",
       "  <thead>\n",
       "    <tr style=\"text-align: right;\">\n",
       "      <th></th>\n",
       "      <th>species</th>\n",
       "      <th>culmen_length</th>\n",
       "      <th>culmen_depth</th>\n",
       "      <th>flipper_length</th>\n",
       "      <th>body_mass</th>\n",
       "    </tr>\n",
       "  </thead>\n",
       "  <tbody>\n",
       "    <tr>\n",
       "      <th>0</th>\n",
       "      <td>Adelie</td>\n",
       "      <td>39.1</td>\n",
       "      <td>18.7</td>\n",
       "      <td>181.0</td>\n",
       "      <td>3750.0</td>\n",
       "    </tr>\n",
       "    <tr>\n",
       "      <th>1</th>\n",
       "      <td>Adelie</td>\n",
       "      <td>39.5</td>\n",
       "      <td>17.4</td>\n",
       "      <td>186.0</td>\n",
       "      <td>3800.0</td>\n",
       "    </tr>\n",
       "    <tr>\n",
       "      <th>2</th>\n",
       "      <td>Adelie</td>\n",
       "      <td>40.3</td>\n",
       "      <td>18.0</td>\n",
       "      <td>195.0</td>\n",
       "      <td>3250.0</td>\n",
       "    </tr>\n",
       "    <tr>\n",
       "      <th>3</th>\n",
       "      <td>Adelie</td>\n",
       "      <td>NaN</td>\n",
       "      <td>NaN</td>\n",
       "      <td>NaN</td>\n",
       "      <td>NaN</td>\n",
       "    </tr>\n",
       "    <tr>\n",
       "      <th>4</th>\n",
       "      <td>Adelie</td>\n",
       "      <td>36.7</td>\n",
       "      <td>19.3</td>\n",
       "      <td>193.0</td>\n",
       "      <td>3450.0</td>\n",
       "    </tr>\n",
       "  </tbody>\n",
       "</table>\n",
       "</div>"
      ],
      "text/plain": [
       "  species  culmen_length  culmen_depth  flipper_length  body_mass\n",
       "0  Adelie           39.1          18.7           181.0     3750.0\n",
       "1  Adelie           39.5          17.4           186.0     3800.0\n",
       "2  Adelie           40.3          18.0           195.0     3250.0\n",
       "3  Adelie            NaN           NaN             NaN        NaN\n",
       "4  Adelie           36.7          19.3           193.0     3450.0"
      ]
     },
     "execution_count": 5,
     "metadata": {},
     "output_type": "execute_result"
    }
   ],
   "source": [
    "df.head()"
   ]
  },
  {
   "cell_type": "code",
   "execution_count": 6,
   "id": "c1a562d3-00ec-42f9-9ed0-8eb0f240764d",
   "metadata": {},
   "outputs": [
    {
     "data": {
      "text/plain": [
       "species\n",
       "Adelie       152\n",
       "Gentoo       124\n",
       "Chinstrap     68\n",
       "Name: count, dtype: int64"
      ]
     },
     "execution_count": 6,
     "metadata": {},
     "output_type": "execute_result"
    }
   ],
   "source": [
    "df.species.value_counts()"
   ]
  },
  {
   "cell_type": "code",
   "execution_count": 7,
   "id": "c9d886e0-e6d1-4b42-8e53-2740c45b0f89",
   "metadata": {},
   "outputs": [],
   "source": [
    "adelie_df = df[df['species']=='Adelie']\n",
    "gentoo_df = df[df['species']=='Gentoo']\n",
    "chinstrap_df = df[df['species']=='Chinstrap']"
   ]
  },
  {
   "cell_type": "markdown",
   "id": "e10ff4cf-3a87-4452-9787-ecaaae3dde1f",
   "metadata": {},
   "source": [
    "The measurements will be most useful for classification if there are substantial differences between species and small variation within species."
   ]
  },
  {
   "cell_type": "markdown",
   "id": "cef4e816-a83b-4556-8b93-741f730bade5",
   "metadata": {},
   "source": [
    "### CDF for culmen_length"
   ]
  },
  {
   "cell_type": "markdown",
   "id": "120460a6-a6e7-446c-a6bd-8a35ff28ed27",
   "metadata": {},
   "source": [
    "#### Adelie"
   ]
  },
  {
   "cell_type": "code",
   "execution_count": 8,
   "id": "509a31db-c228-44df-8e88-a9b7e5de1131",
   "metadata": {},
   "outputs": [
    {
     "data": {
      "text/html": [
       "<div>\n",
       "<style scoped>\n",
       "    .dataframe tbody tr th:only-of-type {\n",
       "        vertical-align: middle;\n",
       "    }\n",
       "\n",
       "    .dataframe tbody tr th {\n",
       "        vertical-align: top;\n",
       "    }\n",
       "\n",
       "    .dataframe thead th {\n",
       "        text-align: right;\n",
       "    }\n",
       "</style>\n",
       "<table border=\"1\" class=\"dataframe\">\n",
       "  <thead>\n",
       "    <tr style=\"text-align: right;\">\n",
       "      <th></th>\n",
       "      <th>culmen_length</th>\n",
       "      <th>culmen_depth</th>\n",
       "      <th>flipper_length</th>\n",
       "      <th>body_mass</th>\n",
       "    </tr>\n",
       "  </thead>\n",
       "  <tbody>\n",
       "    <tr>\n",
       "      <th>count</th>\n",
       "      <td>342.000000</td>\n",
       "      <td>342.000000</td>\n",
       "      <td>342.000000</td>\n",
       "      <td>342.000000</td>\n",
       "    </tr>\n",
       "    <tr>\n",
       "      <th>mean</th>\n",
       "      <td>43.921930</td>\n",
       "      <td>17.151170</td>\n",
       "      <td>200.915205</td>\n",
       "      <td>4201.754386</td>\n",
       "    </tr>\n",
       "    <tr>\n",
       "      <th>std</th>\n",
       "      <td>5.459584</td>\n",
       "      <td>1.974793</td>\n",
       "      <td>14.061714</td>\n",
       "      <td>801.954536</td>\n",
       "    </tr>\n",
       "    <tr>\n",
       "      <th>min</th>\n",
       "      <td>32.100000</td>\n",
       "      <td>13.100000</td>\n",
       "      <td>172.000000</td>\n",
       "      <td>2700.000000</td>\n",
       "    </tr>\n",
       "    <tr>\n",
       "      <th>25%</th>\n",
       "      <td>39.225000</td>\n",
       "      <td>15.600000</td>\n",
       "      <td>190.000000</td>\n",
       "      <td>3550.000000</td>\n",
       "    </tr>\n",
       "    <tr>\n",
       "      <th>50%</th>\n",
       "      <td>44.450000</td>\n",
       "      <td>17.300000</td>\n",
       "      <td>197.000000</td>\n",
       "      <td>4050.000000</td>\n",
       "    </tr>\n",
       "    <tr>\n",
       "      <th>75%</th>\n",
       "      <td>48.500000</td>\n",
       "      <td>18.700000</td>\n",
       "      <td>213.000000</td>\n",
       "      <td>4750.000000</td>\n",
       "    </tr>\n",
       "    <tr>\n",
       "      <th>max</th>\n",
       "      <td>59.600000</td>\n",
       "      <td>21.500000</td>\n",
       "      <td>231.000000</td>\n",
       "      <td>6300.000000</td>\n",
       "    </tr>\n",
       "  </tbody>\n",
       "</table>\n",
       "</div>"
      ],
      "text/plain": [
       "       culmen_length  culmen_depth  flipper_length    body_mass\n",
       "count     342.000000    342.000000      342.000000   342.000000\n",
       "mean       43.921930     17.151170      200.915205  4201.754386\n",
       "std         5.459584      1.974793       14.061714   801.954536\n",
       "min        32.100000     13.100000      172.000000  2700.000000\n",
       "25%        39.225000     15.600000      190.000000  3550.000000\n",
       "50%        44.450000     17.300000      197.000000  4050.000000\n",
       "75%        48.500000     18.700000      213.000000  4750.000000\n",
       "max        59.600000     21.500000      231.000000  6300.000000"
      ]
     },
     "execution_count": 8,
     "metadata": {},
     "output_type": "execute_result"
    }
   ],
   "source": [
    "df.describe()"
   ]
  },
  {
   "cell_type": "code",
   "execution_count": 49,
   "id": "ddc11c04-baa9-4fe6-9710-1a9267c22f04",
   "metadata": {},
   "outputs": [],
   "source": [
    "# Estimate mean and std of culmen_length for each species\n",
    "mean_adelie, std_adelie = stats.norm.fit(adelie_df['culmen_length'].dropna())\n",
    "mean_gentoo, std_gentoo = stats.norm.fit(gentoo_df['culmen_length'].dropna())\n",
    "mean_chin, std_chin = stats.norm.fit(chinstrap_df['culmen_length'].dropna())\n",
    "\n",
    "\n",
    "# Create possible values (quantities) for culmen_length\n",
    "qs = np.linspace(start=df.culmen_length.min(), stop=df.culmen_length.max(), num=30)\n",
    "\n",
    "cdf_adelie = stats.norm.cdf(qs, loc=mean_adelie, scale=std_adelie)\n",
    "cdf_gentoo = stats.norm.cdf(qs, loc=mean_gentoo, scale=std_gentoo)\n",
    "cdf_chin = stats.norm.cdf(qs, loc=mean_chin, scale=std_chin)\n",
    "\n",
    "adelie_series = pd.Series(data=cdf_adelie, index=qs)\n",
    "gentoo_series = pd.Series(data=cdf_gentoo, index=qs)\n",
    "chin_series = pd.Series(data=cdf_chin, index=qs)"
   ]
  },
  {
   "cell_type": "code",
   "execution_count": 50,
   "id": "0acbefd0-e038-46b6-94ca-69c4d74723bc",
   "metadata": {},
   "outputs": [
    {
     "data": {
      "application/vnd.plotly.v1+json": {
       "config": {
        "plotlyServerURL": "https://plot.ly"
       },
       "data": [
        {
         "mode": "lines",
         "name": "Adelie",
         "type": "scatter",
         "x": {
          "bdata": "zczMzMwMQEDfYkjnLYZAQPD4wwGP/0BAAo8/HPB4QUAUJbs2UfJBQCW7NlGya0JAN1GyaxPlQkBJ5y2GdF5DQFp9qaDV10NAbBMluzZRREB+qaDVl8pEQI8/HPD4Q0VAodWXClq9RUCyaxMluzZGQMQBjz8csEZA1pcKWn0pR0DoLYZ03qJHQPnDAY8/HEhAC1p9qaCVSEAc8PjDAQ9JQC6GdN5iiElAQBzw+MMBSkBSsmsTJXtKQGNI5y2G9EpAdd5iSOdtS0CGdN5iSOdLQJgKWn2pYExAqqDVlwraTEC8NlGya1NNQM3MzMzMzE1A",
          "dtype": "f8"
         },
         "y": {
          "bdata": "KZKOS3X8dz9W5uaDfDyPP0GuJmIRJaI//HoV+6Xbsj+0xbjKO5jBP7CeMV0Zm80/8V/xdcSW1j9nuGFvYHzfP2xrxrQgOeQ/RVIOMT8z6D9qvN9/0E/rP7D/RrMdde0/BdlxE/nC7j/w2yxv0HXvP7m2+BJAyu8/mtNNj2Lt7z9NYyQiRfrvP9CEvkNv/u8/rz7l8p7/7z/QnvYu6//vP5Rkdgz8/+8/fRwxVv//7z8UrM3m///vP+5isvz//+8/qhie////7z8h/vX////vP+EY/////+8/mu3/////7z+1/v/////vP+z//////+8/",
          "dtype": "f8"
         }
        },
        {
         "mode": "lines",
         "name": "Gento",
         "type": "scatter",
         "x": {
          "bdata": "zczMzMwMQEDfYkjnLYZAQPD4wwGP/0BAAo8/HPB4QUAUJbs2UfJBQCW7NlGya0JAN1GyaxPlQkBJ5y2GdF5DQFp9qaDV10NAbBMluzZRREB+qaDVl8pEQI8/HPD4Q0VAodWXClq9RUCyaxMluzZGQMQBjz8csEZA1pcKWn0pR0DoLYZ03qJHQPnDAY8/HEhAC1p9qaCVSEAc8PjDAQ9JQC6GdN5iiElAQBzw+MMBSkBSsmsTJXtKQGNI5y2G9EpAdd5iSOdtS0CGdN5iSOdLQJgKWn2pYExAqqDVlwraTEC8NlGya1NNQM3MzMzMzE1A",
          "dtype": "f8"
         },
         "y": {
          "bdata": "9OHbVmVtkT6Z7uYuJMa0PmjbksIsltY+kg5/Kl9o9j4eBOu9K0sUP+M/mxWByTA/8NdW9kViST80EJzT3Y1hP4IYQytvOnY/5LX9flnMiT8F0oHCBXubP9WI1YNM6ao/mNlxvRdHuD8srJwGNTrEP5K1CenNOc8//jWhIjVq1j/sJBcRbRHeP6hdyEFU8+I/Ho/bHMeY5j+BgXiFT6/pP3blRG5REOw/AXWDghe77T9g48qPI8vuP0Pzm7jiaO8/2GuV+Ra87z+NUhKdAuTvP7mm1sVu9e8/gIoLZln87z+Qz3nI2P7vP3cEscyq/+8/",
          "dtype": "f8"
         }
        },
        {
         "mode": "lines",
         "name": "Chin",
         "type": "scatter",
         "x": {
          "bdata": "zczMzMwMQEDfYkjnLYZAQPD4wwGP/0BAAo8/HPB4QUAUJbs2UfJBQCW7NlGya0JAN1GyaxPlQkBJ5y2GdF5DQFp9qaDV10NAbBMluzZRREB+qaDVl8pEQI8/HPD4Q0VAodWXClq9RUCyaxMluzZGQMQBjz8csEZA1pcKWn0pR0DoLYZ03qJHQPnDAY8/HEhAC1p9qaCVSEAc8PjDAQ9JQC6GdN5iiElAQBzw+MMBSkBSsmsTJXtKQGNI5y2G9EpAdd5iSOdtS0CGdN5iSOdLQJgKWn2pYExAqqDVlwraTEC8NlGya1NNQM3MzMzMzE1A",
          "dtype": "f8"
         },
         "y": {
          "bdata": "r3Go1fvhjT4f+47U9wuwPrq1Bgr02c8+kVs+Xm447T48YdEwyckIP9lfnFXrcyM/NlPnse9BPD91VgSTewFTP/rW/x7lsGc/z3F5jvZiez+kRyJIFmONP5zRNQvTTZ0/jgBChx4xqz+IpebcroS3PxZYjv1R/8I/OBCf8a27zD/gxJKtJmfUP0cD+VrJTds/QCcubOFJ4T9xY9hQgNLkP0bwXOff/Oc/xIwxTCSa6j9OqZHQt5fsP3406OJp/e0/RsGZk+Tk7j9DyyoA/27vPz3EruL0uu8/1ZeveHnh7z9iuOMde/PvPzxicMM9++8/",
          "dtype": "f8"
         }
        }
       ],
       "layout": {
        "plot_bgcolor": "rgba(0,0,0,0)",
        "template": {
         "data": {
          "bar": [
           {
            "error_x": {
             "color": "#2a3f5f"
            },
            "error_y": {
             "color": "#2a3f5f"
            },
            "marker": {
             "line": {
              "color": "#E5ECF6",
              "width": 0.5
             },
             "pattern": {
              "fillmode": "overlay",
              "size": 10,
              "solidity": 0.2
             }
            },
            "type": "bar"
           }
          ],
          "barpolar": [
           {
            "marker": {
             "line": {
              "color": "#E5ECF6",
              "width": 0.5
             },
             "pattern": {
              "fillmode": "overlay",
              "size": 10,
              "solidity": 0.2
             }
            },
            "type": "barpolar"
           }
          ],
          "carpet": [
           {
            "aaxis": {
             "endlinecolor": "#2a3f5f",
             "gridcolor": "white",
             "linecolor": "white",
             "minorgridcolor": "white",
             "startlinecolor": "#2a3f5f"
            },
            "baxis": {
             "endlinecolor": "#2a3f5f",
             "gridcolor": "white",
             "linecolor": "white",
             "minorgridcolor": "white",
             "startlinecolor": "#2a3f5f"
            },
            "type": "carpet"
           }
          ],
          "choropleth": [
           {
            "colorbar": {
             "outlinewidth": 0,
             "ticks": ""
            },
            "type": "choropleth"
           }
          ],
          "contour": [
           {
            "colorbar": {
             "outlinewidth": 0,
             "ticks": ""
            },
            "colorscale": [
             [
              0,
              "#0d0887"
             ],
             [
              0.1111111111111111,
              "#46039f"
             ],
             [
              0.2222222222222222,
              "#7201a8"
             ],
             [
              0.3333333333333333,
              "#9c179e"
             ],
             [
              0.4444444444444444,
              "#bd3786"
             ],
             [
              0.5555555555555556,
              "#d8576b"
             ],
             [
              0.6666666666666666,
              "#ed7953"
             ],
             [
              0.7777777777777778,
              "#fb9f3a"
             ],
             [
              0.8888888888888888,
              "#fdca26"
             ],
             [
              1,
              "#f0f921"
             ]
            ],
            "type": "contour"
           }
          ],
          "contourcarpet": [
           {
            "colorbar": {
             "outlinewidth": 0,
             "ticks": ""
            },
            "type": "contourcarpet"
           }
          ],
          "heatmap": [
           {
            "colorbar": {
             "outlinewidth": 0,
             "ticks": ""
            },
            "colorscale": [
             [
              0,
              "#0d0887"
             ],
             [
              0.1111111111111111,
              "#46039f"
             ],
             [
              0.2222222222222222,
              "#7201a8"
             ],
             [
              0.3333333333333333,
              "#9c179e"
             ],
             [
              0.4444444444444444,
              "#bd3786"
             ],
             [
              0.5555555555555556,
              "#d8576b"
             ],
             [
              0.6666666666666666,
              "#ed7953"
             ],
             [
              0.7777777777777778,
              "#fb9f3a"
             ],
             [
              0.8888888888888888,
              "#fdca26"
             ],
             [
              1,
              "#f0f921"
             ]
            ],
            "type": "heatmap"
           }
          ],
          "histogram": [
           {
            "marker": {
             "pattern": {
              "fillmode": "overlay",
              "size": 10,
              "solidity": 0.2
             }
            },
            "type": "histogram"
           }
          ],
          "histogram2d": [
           {
            "colorbar": {
             "outlinewidth": 0,
             "ticks": ""
            },
            "colorscale": [
             [
              0,
              "#0d0887"
             ],
             [
              0.1111111111111111,
              "#46039f"
             ],
             [
              0.2222222222222222,
              "#7201a8"
             ],
             [
              0.3333333333333333,
              "#9c179e"
             ],
             [
              0.4444444444444444,
              "#bd3786"
             ],
             [
              0.5555555555555556,
              "#d8576b"
             ],
             [
              0.6666666666666666,
              "#ed7953"
             ],
             [
              0.7777777777777778,
              "#fb9f3a"
             ],
             [
              0.8888888888888888,
              "#fdca26"
             ],
             [
              1,
              "#f0f921"
             ]
            ],
            "type": "histogram2d"
           }
          ],
          "histogram2dcontour": [
           {
            "colorbar": {
             "outlinewidth": 0,
             "ticks": ""
            },
            "colorscale": [
             [
              0,
              "#0d0887"
             ],
             [
              0.1111111111111111,
              "#46039f"
             ],
             [
              0.2222222222222222,
              "#7201a8"
             ],
             [
              0.3333333333333333,
              "#9c179e"
             ],
             [
              0.4444444444444444,
              "#bd3786"
             ],
             [
              0.5555555555555556,
              "#d8576b"
             ],
             [
              0.6666666666666666,
              "#ed7953"
             ],
             [
              0.7777777777777778,
              "#fb9f3a"
             ],
             [
              0.8888888888888888,
              "#fdca26"
             ],
             [
              1,
              "#f0f921"
             ]
            ],
            "type": "histogram2dcontour"
           }
          ],
          "mesh3d": [
           {
            "colorbar": {
             "outlinewidth": 0,
             "ticks": ""
            },
            "type": "mesh3d"
           }
          ],
          "parcoords": [
           {
            "line": {
             "colorbar": {
              "outlinewidth": 0,
              "ticks": ""
             }
            },
            "type": "parcoords"
           }
          ],
          "pie": [
           {
            "automargin": true,
            "type": "pie"
           }
          ],
          "scatter": [
           {
            "fillpattern": {
             "fillmode": "overlay",
             "size": 10,
             "solidity": 0.2
            },
            "type": "scatter"
           }
          ],
          "scatter3d": [
           {
            "line": {
             "colorbar": {
              "outlinewidth": 0,
              "ticks": ""
             }
            },
            "marker": {
             "colorbar": {
              "outlinewidth": 0,
              "ticks": ""
             }
            },
            "type": "scatter3d"
           }
          ],
          "scattercarpet": [
           {
            "marker": {
             "colorbar": {
              "outlinewidth": 0,
              "ticks": ""
             }
            },
            "type": "scattercarpet"
           }
          ],
          "scattergeo": [
           {
            "marker": {
             "colorbar": {
              "outlinewidth": 0,
              "ticks": ""
             }
            },
            "type": "scattergeo"
           }
          ],
          "scattergl": [
           {
            "marker": {
             "colorbar": {
              "outlinewidth": 0,
              "ticks": ""
             }
            },
            "type": "scattergl"
           }
          ],
          "scattermap": [
           {
            "marker": {
             "colorbar": {
              "outlinewidth": 0,
              "ticks": ""
             }
            },
            "type": "scattermap"
           }
          ],
          "scattermapbox": [
           {
            "marker": {
             "colorbar": {
              "outlinewidth": 0,
              "ticks": ""
             }
            },
            "type": "scattermapbox"
           }
          ],
          "scatterpolar": [
           {
            "marker": {
             "colorbar": {
              "outlinewidth": 0,
              "ticks": ""
             }
            },
            "type": "scatterpolar"
           }
          ],
          "scatterpolargl": [
           {
            "marker": {
             "colorbar": {
              "outlinewidth": 0,
              "ticks": ""
             }
            },
            "type": "scatterpolargl"
           }
          ],
          "scatterternary": [
           {
            "marker": {
             "colorbar": {
              "outlinewidth": 0,
              "ticks": ""
             }
            },
            "type": "scatterternary"
           }
          ],
          "surface": [
           {
            "colorbar": {
             "outlinewidth": 0,
             "ticks": ""
            },
            "colorscale": [
             [
              0,
              "#0d0887"
             ],
             [
              0.1111111111111111,
              "#46039f"
             ],
             [
              0.2222222222222222,
              "#7201a8"
             ],
             [
              0.3333333333333333,
              "#9c179e"
             ],
             [
              0.4444444444444444,
              "#bd3786"
             ],
             [
              0.5555555555555556,
              "#d8576b"
             ],
             [
              0.6666666666666666,
              "#ed7953"
             ],
             [
              0.7777777777777778,
              "#fb9f3a"
             ],
             [
              0.8888888888888888,
              "#fdca26"
             ],
             [
              1,
              "#f0f921"
             ]
            ],
            "type": "surface"
           }
          ],
          "table": [
           {
            "cells": {
             "fill": {
              "color": "#EBF0F8"
             },
             "line": {
              "color": "white"
             }
            },
            "header": {
             "fill": {
              "color": "#C8D4E3"
             },
             "line": {
              "color": "white"
             }
            },
            "type": "table"
           }
          ]
         },
         "layout": {
          "annotationdefaults": {
           "arrowcolor": "#2a3f5f",
           "arrowhead": 0,
           "arrowwidth": 1
          },
          "autotypenumbers": "strict",
          "coloraxis": {
           "colorbar": {
            "outlinewidth": 0,
            "ticks": ""
           }
          },
          "colorscale": {
           "diverging": [
            [
             0,
             "#8e0152"
            ],
            [
             0.1,
             "#c51b7d"
            ],
            [
             0.2,
             "#de77ae"
            ],
            [
             0.3,
             "#f1b6da"
            ],
            [
             0.4,
             "#fde0ef"
            ],
            [
             0.5,
             "#f7f7f7"
            ],
            [
             0.6,
             "#e6f5d0"
            ],
            [
             0.7,
             "#b8e186"
            ],
            [
             0.8,
             "#7fbc41"
            ],
            [
             0.9,
             "#4d9221"
            ],
            [
             1,
             "#276419"
            ]
           ],
           "sequential": [
            [
             0,
             "#0d0887"
            ],
            [
             0.1111111111111111,
             "#46039f"
            ],
            [
             0.2222222222222222,
             "#7201a8"
            ],
            [
             0.3333333333333333,
             "#9c179e"
            ],
            [
             0.4444444444444444,
             "#bd3786"
            ],
            [
             0.5555555555555556,
             "#d8576b"
            ],
            [
             0.6666666666666666,
             "#ed7953"
            ],
            [
             0.7777777777777778,
             "#fb9f3a"
            ],
            [
             0.8888888888888888,
             "#fdca26"
            ],
            [
             1,
             "#f0f921"
            ]
           ],
           "sequentialminus": [
            [
             0,
             "#0d0887"
            ],
            [
             0.1111111111111111,
             "#46039f"
            ],
            [
             0.2222222222222222,
             "#7201a8"
            ],
            [
             0.3333333333333333,
             "#9c179e"
            ],
            [
             0.4444444444444444,
             "#bd3786"
            ],
            [
             0.5555555555555556,
             "#d8576b"
            ],
            [
             0.6666666666666666,
             "#ed7953"
            ],
            [
             0.7777777777777778,
             "#fb9f3a"
            ],
            [
             0.8888888888888888,
             "#fdca26"
            ],
            [
             1,
             "#f0f921"
            ]
           ]
          },
          "colorway": [
           "#636efa",
           "#EF553B",
           "#00cc96",
           "#ab63fa",
           "#FFA15A",
           "#19d3f3",
           "#FF6692",
           "#B6E880",
           "#FF97FF",
           "#FECB52"
          ],
          "font": {
           "color": "#2a3f5f"
          },
          "geo": {
           "bgcolor": "white",
           "lakecolor": "white",
           "landcolor": "#E5ECF6",
           "showlakes": true,
           "showland": true,
           "subunitcolor": "white"
          },
          "hoverlabel": {
           "align": "left"
          },
          "hovermode": "closest",
          "mapbox": {
           "style": "light"
          },
          "paper_bgcolor": "white",
          "plot_bgcolor": "#E5ECF6",
          "polar": {
           "angularaxis": {
            "gridcolor": "white",
            "linecolor": "white",
            "ticks": ""
           },
           "bgcolor": "#E5ECF6",
           "radialaxis": {
            "gridcolor": "white",
            "linecolor": "white",
            "ticks": ""
           }
          },
          "scene": {
           "xaxis": {
            "backgroundcolor": "#E5ECF6",
            "gridcolor": "white",
            "gridwidth": 2,
            "linecolor": "white",
            "showbackground": true,
            "ticks": "",
            "zerolinecolor": "white"
           },
           "yaxis": {
            "backgroundcolor": "#E5ECF6",
            "gridcolor": "white",
            "gridwidth": 2,
            "linecolor": "white",
            "showbackground": true,
            "ticks": "",
            "zerolinecolor": "white"
           },
           "zaxis": {
            "backgroundcolor": "#E5ECF6",
            "gridcolor": "white",
            "gridwidth": 2,
            "linecolor": "white",
            "showbackground": true,
            "ticks": "",
            "zerolinecolor": "white"
           }
          },
          "shapedefaults": {
           "line": {
            "color": "#2a3f5f"
           }
          },
          "ternary": {
           "aaxis": {
            "gridcolor": "white",
            "linecolor": "white",
            "ticks": ""
           },
           "baxis": {
            "gridcolor": "white",
            "linecolor": "white",
            "ticks": ""
           },
           "bgcolor": "#E5ECF6",
           "caxis": {
            "gridcolor": "white",
            "linecolor": "white",
            "ticks": ""
           }
          },
          "title": {
           "x": 0.05
          },
          "xaxis": {
           "automargin": true,
           "gridcolor": "white",
           "linecolor": "white",
           "ticks": "",
           "title": {
            "standoff": 15
           },
           "zerolinecolor": "white",
           "zerolinewidth": 2
          },
          "yaxis": {
           "automargin": true,
           "gridcolor": "white",
           "linecolor": "white",
           "ticks": "",
           "title": {
            "standoff": 15
           },
           "zerolinecolor": "white",
           "zerolinewidth": 2
          }
         }
        },
        "title": {
         "text": "CDF Culmen Length for Each Species"
        },
        "xaxis": {
         "title": {
          "text": "Culmen Length"
         }
        },
        "yaxis": {
         "title": {
          "text": "PDF"
         }
        }
       }
      },
      "image/png": "[encoded data removed]"
     },
     "metadata": {},
     "output_type": "display_data"
    }
   ],
   "source": [
    "fig = go.Figure()\n",
    "\n",
    "fig.add_trace(\n",
    "    go.Line(\n",
    "        x=adelie_series.index,\n",
    "        y=adelie_series,\n",
    "        mode='lines',\n",
    "        name='Adelie'\n",
    "    )\n",
    ")\n",
    "\n",
    "fig.add_trace(\n",
    "    go.Line(\n",
    "        x=gentoo_series.index,\n",
    "        y=gentoo_series,\n",
    "        mode='lines',\n",
    "        name='Gento'\n",
    "    )\n",
    ")\n",
    "\n",
    "fig.add_trace(\n",
    "    go.Line(\n",
    "        x=chin_series.index,\n",
    "        y=chin_series,\n",
    "        mode='lines',\n",
    "        name='Chin'\n",
    "    )\n",
    ")\n",
    "\n",
    "fig.update_layout(\n",
    "    plot_bgcolor='rgba(0,0,0,0)',\n",
    "    title='CDF Culmen Length for Each Species',\n",
    "    xaxis_title='Culmen Length',\n",
    "    yaxis_title='PDF'\n",
    ")"
   ]
  },
  {
   "cell_type": "markdown",
   "id": "2527d3c8-6c2b-4738-a5a8-cf7aedae46e2",
   "metadata": {},
   "source": [
    "It looks like we can use culmen length to identify Adelie penguins, but the distributiion for the other two species almost entirely overlap."
   ]
  },
  {
   "cell_type": "code",
   "execution_count": 52,
   "id": "01c692c8-4c92-4d97-96b9-4ffdeb4f781d",
   "metadata": {},
   "outputs": [],
   "source": [
    "mean_adelie, std_adelie = stats.norm.fit(adelie_df['flipper_length'].dropna())\n",
    "mean_gentoo, std_gentoo = stats.norm.fit(gentoo_df['flipper_length'].dropna())\n",
    "mean_chin, std_chin = stats.norm.fit(chinstrap_df['flipper_length'].dropna())\n",
    "\n",
    "# use original df to cover all possible values of flipper length\n",
    "qs = np.linspace(start=df['flipper_length'].min(),\n",
    "                stop=df['flipper_length'].max(),\n",
    "                num=30)\n",
    "\n",
    "cdf_adelie = stats.norm.cdf(qs, loc=mean_adelie, scale=std_adelie)\n",
    "cdf_gentoo = stats.norm.cdf(qs, loc=mean_gentoo, scale=std_gentoo)\n",
    "cdf_chin = stats.norm.cdf(qs, loc=mean_chin, scale=std_chin)\n",
    "\n",
    "adelie_series = pd.Series(data=cdf_adelie, index=qs)\n",
    "gentoo_series = pd.Series(data=cdf_gentoo, index=qs)\n",
    "chin_series = pd.Series(data=cdf_chin, index=qs)"
   ]
  },
  {
   "cell_type": "code",
   "execution_count": 53,
   "id": "7e45aa28-5642-456e-bb8d-1057431b25be",
   "metadata": {},
   "outputs": [
    {
     "data": {
      "application/vnd.plotly.v1+json": {
       "config": {
        "plotlyServerURL": "https://plot.ly"
       },
       "data": [
        {
         "mode": "lines",
         "name": "Adelie",
         "type": "scatter",
         "x": {
          "bdata": "AAAAAACAZUCoEZZ7GsFlQE8jLPc0AmZA9zTCck9DZkCfRljuaYRmQEdY7mmExWZA7mmE5Z4GZ0CWexphuUdnQD6NsNzTiGdA5p5GWO7JZ0CNsNzTCAtoQDXCck8jTGhA3dMIyz2NaECE5Z5GWM5oQCz3NMJyD2lA1AjLPY1QaUB8GmG5p5FpQCMs9zTC0mlAyz2NsNwTakBzTyMs91RqQBphuacRlmpAwnJPIyzXakBqhOWeRhhrQBKWexphWWtAuacRlnuaa0BhuacRlttrQAnLPY2wHGxAsNzTCMtdbEBY7mmE5Z5sQAAAAAAA4GxA",
          "dtype": "f8"
         },
         "y": {
          "bdata": "cxzNWmwSaD9aqGdD0OB9P0b3eEvU+JA/aWdrwNCsoT9pFgEso+ewP9RMKPbGw70//Fsi1BwwyD/5SkvFDDXSP12Gefbaf9k/p8c/rsSy4D++OjT1n5TkPySXvr7DC+g/JI6FJrLa6j88CrSUo+vsP2tNrufyTO4/J8NFnjMj7z//ppZQKJnvP3lGjTcd1O8/junD2t3u7z9BlsUq4/nvP3eIME8C/u8/n6gBjmj/7z/QIhv61v/vPw4KF+D1/+8/DYNuuf3/7z+cC82I///vP9Ewzun//+8/zYw9/P//7z8TuWv////vP2g66////+8/",
          "dtype": "f8"
         }
        },
        {
         "mode": "lines",
         "name": "Gento",
         "type": "scatter",
         "x": {
          "bdata": "AAAAAACAZUCoEZZ7GsFlQE8jLPc0AmZA9zTCck9DZkCfRljuaYRmQEdY7mmExWZA7mmE5Z4GZ0CWexphuUdnQD6NsNzTiGdA5p5GWO7JZ0CNsNzTCAtoQDXCck8jTGhA3dMIyz2NaECE5Z5GWM5oQCz3NMJyD2lA1AjLPY1QaUB8GmG5p5FpQCMs9zTC0mlAyz2NsNwTakBzTyMs91RqQBphuacRlmpAwnJPIyzXakBqhOWeRhhrQBKWexphWWtAuacRlnuaa0BhuacRlttrQAnLPY2wHGxAsNzTCMtdbEBY7mmE5Z5sQAAAAAAA4GxA",
          "dtype": "f8"
         },
         "y": {
          "bdata": "CE6aN6cXdz3dqO3trAOqPawmg5UMl9o9eVgh8/mpCD4gq7Kr18M0PhFSg4lYvl8+ZcNYnZsIhj65so67BsmrPomu9sDU1s8+YeeUeFuV8D6gvM9gSWwPP7oNSoNzFys/pBFB+vNERT948faafG9eP6EjPdEy3XM/dqZsjAuuhz9cjDrsA9GZPy1hI+UKyak/CLmdeAultz/mNatqY/XDP8Snl2gwHs8/ZhqU7J9+1j+4PfHRyk7ePyaO/DJrJOM/0XR5CR/V5j+wDjgSSe3pP7IitptIR+w/fXhdXePl7T/t/dMAq+juPz7ZQ18Me+8/",
          "dtype": "f8"
         }
        },
        {
         "mode": "lines",
         "name": "Chin",
         "type": "scatter",
         "x": {
          "bdata": "AAAAAACAZUCoEZZ7GsFlQE8jLPc0AmZA9zTCck9DZkCfRljuaYRmQEdY7mmExWZA7mmE5Z4GZ0CWexphuUdnQD6NsNzTiGdA5p5GWO7JZ0CNsNzTCAtoQDXCck8jTGhA3dMIyz2NaECE5Z5GWM5oQCz3NMJyD2lA1AjLPY1QaUB8GmG5p5FpQCMs9zTC0mlAyz2NsNwTakBzTyMs91RqQBphuacRlmpAwnJPIyzXakBqhOWeRhhrQBKWexphWWtAuacRlnuaa0BhuacRlttrQAnLPY2wHGxAsNzTCMtdbEBY7mmE5Z5sQAAAAAAA4GxA",
          "dtype": "f8"
         },
         "y": {
          "bdata": "0N45/vYOOT/Cl8DEQBRRP1hdIBuTjmU/vNWAkpU2eT9EwCfdMVqLP2BjY9GYjZs/UL8ho7DOqT+EykFhNYO2P+BiW7yIU8I/EJwHgDfpyz/0s7d71PDTPypQWR6/09o/ZWOJ7S0Q4T+aC0mFg6DkP9tv72g81ec/jCU7Imd96j/2N0basYTsP4AM4nXw8e0/+jMWWJre7j8pKW7J32vvP6caEbmPue8/PnA/Buvg7z890FsvSfPvP4OwVdYu++8/BZ7yj0/+7z/9Oum5c//vP+bkau7V/+8/XtgmV/T/7z8t2cQD/f/vP53yS0v//+8/",
          "dtype": "f8"
         }
        }
       ],
       "layout": {
        "plot_bgcolor": "rgba(0,0,0,0)",
        "template": {
         "data": {
          "bar": [
           {
            "error_x": {
             "color": "#2a3f5f"
            },
            "error_y": {
             "color": "#2a3f5f"
            },
            "marker": {
             "line": {
              "color": "#E5ECF6",
              "width": 0.5
             },
             "pattern": {
              "fillmode": "overlay",
              "size": 10,
              "solidity": 0.2
             }
            },
            "type": "bar"
           }
          ],
          "barpolar": [
           {
            "marker": {
             "line": {
              "color": "#E5ECF6",
              "width": 0.5
             },
             "pattern": {
              "fillmode": "overlay",
              "size": 10,
              "solidity": 0.2
             }
            },
            "type": "barpolar"
           }
          ],
          "carpet": [
           {
            "aaxis": {
             "endlinecolor": "#2a3f5f",
             "gridcolor": "white",
             "linecolor": "white",
             "minorgridcolor": "white",
             "startlinecolor": "#2a3f5f"
            },
            "baxis": {
             "endlinecolor": "#2a3f5f",
             "gridcolor": "white",
             "linecolor": "white",
             "minorgridcolor": "white",
             "startlinecolor": "#2a3f5f"
            },
            "type": "carpet"
           }
          ],
          "choropleth": [
           {
            "colorbar": {
             "outlinewidth": 0,
             "ticks": ""
            },
            "type": "choropleth"
           }
          ],
          "contour": [
           {
            "colorbar": {
             "outlinewidth": 0,
             "ticks": ""
            },
            "colorscale": [
             [
              0,
              "#0d0887"
             ],
             [
              0.1111111111111111,
              "#46039f"
             ],
             [
              0.2222222222222222,
              "#7201a8"
             ],
             [
              0.3333333333333333,
              "#9c179e"
             ],
             [
              0.4444444444444444,
              "#bd3786"
             ],
             [
              0.5555555555555556,
              "#d8576b"
             ],
             [
              0.6666666666666666,
              "#ed7953"
             ],
             [
              0.7777777777777778,
              "#fb9f3a"
             ],
             [
              0.8888888888888888,
              "#fdca26"
             ],
             [
              1,
              "#f0f921"
             ]
            ],
            "type": "contour"
           }
          ],
          "contourcarpet": [
           {
            "colorbar": {
             "outlinewidth": 0,
             "ticks": ""
            },
            "type": "contourcarpet"
           }
          ],
          "heatmap": [
           {
            "colorbar": {
             "outlinewidth": 0,
             "ticks": ""
            },
            "colorscale": [
             [
              0,
              "#0d0887"
             ],
             [
              0.1111111111111111,
              "#46039f"
             ],
             [
              0.2222222222222222,
              "#7201a8"
             ],
             [
              0.3333333333333333,
              "#9c179e"
             ],
             [
              0.4444444444444444,
              "#bd3786"
             ],
             [
              0.5555555555555556,
              "#d8576b"
             ],
             [
              0.6666666666666666,
              "#ed7953"
             ],
             [
              0.7777777777777778,
              "#fb9f3a"
             ],
             [
              0.8888888888888888,
              "#fdca26"
             ],
             [
              1,
              "#f0f921"
             ]
            ],
            "type": "heatmap"
           }
          ],
          "histogram": [
           {
            "marker": {
             "pattern": {
              "fillmode": "overlay",
              "size": 10,
              "solidity": 0.2
             }
            },
            "type": "histogram"
           }
          ],
          "histogram2d": [
           {
            "colorbar": {
             "outlinewidth": 0,
             "ticks": ""
            },
            "colorscale": [
             [
              0,
              "#0d0887"
             ],
             [
              0.1111111111111111,
              "#46039f"
             ],
             [
              0.2222222222222222,
              "#7201a8"
             ],
             [
              0.3333333333333333,
              "#9c179e"
             ],
             [
              0.4444444444444444,
              "#bd3786"
             ],
             [
              0.5555555555555556,
              "#d8576b"
             ],
             [
              0.6666666666666666,
              "#ed7953"
             ],
             [
              0.7777777777777778,
              "#fb9f3a"
             ],
             [
              0.8888888888888888,
              "#fdca26"
             ],
             [
              1,
              "#f0f921"
             ]
            ],
            "type": "histogram2d"
           }
          ],
          "histogram2dcontour": [
           {
            "colorbar": {
             "outlinewidth": 0,
             "ticks": ""
            },
            "colorscale": [
             [
              0,
              "#0d0887"
             ],
             [
              0.1111111111111111,
              "#46039f"
             ],
             [
              0.2222222222222222,
              "#7201a8"
             ],
             [
              0.3333333333333333,
              "#9c179e"
             ],
             [
              0.4444444444444444,
              "#bd3786"
             ],
             [
              0.5555555555555556,
              "#d8576b"
             ],
             [
              0.6666666666666666,
              "#ed7953"
             ],
             [
              0.7777777777777778,
              "#fb9f3a"
             ],
             [
              0.8888888888888888,
              "#fdca26"
             ],
             [
              1,
              "#f0f921"
             ]
            ],
            "type": "histogram2dcontour"
           }
          ],
          "mesh3d": [
           {
            "colorbar": {
             "outlinewidth": 0,
             "ticks": ""
            },
            "type": "mesh3d"
           }
          ],
          "parcoords": [
           {
            "line": {
             "colorbar": {
              "outlinewidth": 0,
              "ticks": ""
             }
            },
            "type": "parcoords"
           }
          ],
          "pie": [
           {
            "automargin": true,
            "type": "pie"
           }
          ],
          "scatter": [
           {
            "fillpattern": {
             "fillmode": "overlay",
             "size": 10,
             "solidity": 0.2
            },
            "type": "scatter"
           }
          ],
          "scatter3d": [
           {
            "line": {
             "colorbar": {
              "outlinewidth": 0,
              "ticks": ""
             }
            },
            "marker": {
             "colorbar": {
              "outlinewidth": 0,
              "ticks": ""
             }
            },
            "type": "scatter3d"
           }
          ],
          "scattercarpet": [
           {
            "marker": {
             "colorbar": {
              "outlinewidth": 0,
              "ticks": ""
             }
            },
            "type": "scattercarpet"
           }
          ],
          "scattergeo": [
           {
            "marker": {
             "colorbar": {
              "outlinewidth": 0,
              "ticks": ""
             }
            },
            "type": "scattergeo"
           }
          ],
          "scattergl": [
           {
            "marker": {
             "colorbar": {
              "outlinewidth": 0,
              "ticks": ""
             }
            },
            "type": "scattergl"
           }
          ],
          "scattermap": [
           {
            "marker": {
             "colorbar": {
              "outlinewidth": 0,
              "ticks": ""
             }
            },
            "type": "scattermap"
           }
          ],
          "scattermapbox": [
           {
            "marker": {
             "colorbar": {
              "outlinewidth": 0,
              "ticks": ""
             }
            },
            "type": "scattermapbox"
           }
          ],
          "scatterpolar": [
           {
            "marker": {
             "colorbar": {
              "outlinewidth": 0,
              "ticks": ""
             }
            },
            "type": "scatterpolar"
           }
          ],
          "scatterpolargl": [
           {
            "marker": {
             "colorbar": {
              "outlinewidth": 0,
              "ticks": ""
             }
            },
            "type": "scatterpolargl"
           }
          ],
          "scatterternary": [
           {
            "marker": {
             "colorbar": {
              "outlinewidth": 0,
              "ticks": ""
             }
            },
            "type": "scatterternary"
           }
          ],
          "surface": [
           {
            "colorbar": {
             "outlinewidth": 0,
             "ticks": ""
            },
            "colorscale": [
             [
              0,
              "#0d0887"
             ],
             [
              0.1111111111111111,
              "#46039f"
             ],
             [
              0.2222222222222222,
              "#7201a8"
             ],
             [
              0.3333333333333333,
              "#9c179e"
             ],
             [
              0.4444444444444444,
              "#bd3786"
             ],
             [
              0.5555555555555556,
              "#d8576b"
             ],
             [
              0.6666666666666666,
              "#ed7953"
             ],
             [
              0.7777777777777778,
              "#fb9f3a"
             ],
             [
              0.8888888888888888,
              "#fdca26"
             ],
             [
              1,
              "#f0f921"
             ]
            ],
            "type": "surface"
           }
          ],
          "table": [
           {
            "cells": {
             "fill": {
              "color": "#EBF0F8"
             },
             "line": {
              "color": "white"
             }
            },
            "header": {
             "fill": {
              "color": "#C8D4E3"
             },
             "line": {
              "color": "white"
             }
            },
            "type": "table"
           }
          ]
         },
         "layout": {
          "annotationdefaults": {
           "arrowcolor": "#2a3f5f",
           "arrowhead": 0,
           "arrowwidth": 1
          },
          "autotypenumbers": "strict",
          "coloraxis": {
           "colorbar": {
            "outlinewidth": 0,
            "ticks": ""
           }
          },
          "colorscale": {
           "diverging": [
            [
             0,
             "#8e0152"
            ],
            [
             0.1,
             "#c51b7d"
            ],
            [
             0.2,
             "#de77ae"
            ],
            [
             0.3,
             "#f1b6da"
            ],
            [
             0.4,
             "#fde0ef"
            ],
            [
             0.5,
             "#f7f7f7"
            ],
            [
             0.6,
             "#e6f5d0"
            ],
            [
             0.7,
             "#b8e186"
            ],
            [
             0.8,
             "#7fbc41"
            ],
            [
             0.9,
             "#4d9221"
            ],
            [
             1,
             "#276419"
            ]
           ],
           "sequential": [
            [
             0,
             "#0d0887"
            ],
            [
             0.1111111111111111,
             "#46039f"
            ],
            [
             0.2222222222222222,
             "#7201a8"
            ],
            [
             0.3333333333333333,
             "#9c179e"
            ],
            [
             0.4444444444444444,
             "#bd3786"
            ],
            [
             0.5555555555555556,
             "#d8576b"
            ],
            [
             0.6666666666666666,
             "#ed7953"
            ],
            [
             0.7777777777777778,
             "#fb9f3a"
            ],
            [
             0.8888888888888888,
             "#fdca26"
            ],
            [
             1,
             "#f0f921"
            ]
           ],
           "sequentialminus": [
            [
             0,
             "#0d0887"
            ],
            [
             0.1111111111111111,
             "#46039f"
            ],
            [
             0.2222222222222222,
             "#7201a8"
            ],
            [
             0.3333333333333333,
             "#9c179e"
            ],
            [
             0.4444444444444444,
             "#bd3786"
            ],
            [
             0.5555555555555556,
             "#d8576b"
            ],
            [
             0.6666666666666666,
             "#ed7953"
            ],
            [
             0.7777777777777778,
             "#fb9f3a"
            ],
            [
             0.8888888888888888,
             "#fdca26"
            ],
            [
             1,
             "#f0f921"
            ]
           ]
          },
          "colorway": [
           "#636efa",
           "#EF553B",
           "#00cc96",
           "#ab63fa",
           "#FFA15A",
           "#19d3f3",
           "#FF6692",
           "#B6E880",
           "#FF97FF",
           "#FECB52"
          ],
          "font": {
           "color": "#2a3f5f"
          },
          "geo": {
           "bgcolor": "white",
           "lakecolor": "white",
           "landcolor": "#E5ECF6",
           "showlakes": true,
           "showland": true,
           "subunitcolor": "white"
          },
          "hoverlabel": {
           "align": "left"
          },
          "hovermode": "closest",
          "mapbox": {
           "style": "light"
          },
          "paper_bgcolor": "white",
          "plot_bgcolor": "#E5ECF6",
          "polar": {
           "angularaxis": {
            "gridcolor": "white",
            "linecolor": "white",
            "ticks": ""
           },
           "bgcolor": "#E5ECF6",
           "radialaxis": {
            "gridcolor": "white",
            "linecolor": "white",
            "ticks": ""
           }
          },
          "scene": {
           "xaxis": {
            "backgroundcolor": "#E5ECF6",
            "gridcolor": "white",
            "gridwidth": 2,
            "linecolor": "white",
            "showbackground": true,
            "ticks": "",
            "zerolinecolor": "white"
           },
           "yaxis": {
            "backgroundcolor": "#E5ECF6",
            "gridcolor": "white",
            "gridwidth": 2,
            "linecolor": "white",
            "showbackground": true,
            "ticks": "",
            "zerolinecolor": "white"
           },
           "zaxis": {
            "backgroundcolor": "#E5ECF6",
            "gridcolor": "white",
            "gridwidth": 2,
            "linecolor": "white",
            "showbackground": true,
            "ticks": "",
            "zerolinecolor": "white"
           }
          },
          "shapedefaults": {
           "line": {
            "color": "#2a3f5f"
           }
          },
          "ternary": {
           "aaxis": {
            "gridcolor": "white",
            "linecolor": "white",
            "ticks": ""
           },
           "baxis": {
            "gridcolor": "white",
            "linecolor": "white",
            "ticks": ""
           },
           "bgcolor": "#E5ECF6",
           "caxis": {
            "gridcolor": "white",
            "linecolor": "white",
            "ticks": ""
           }
          },
          "title": {
           "x": 0.05
          },
          "xaxis": {
           "automargin": true,
           "gridcolor": "white",
           "linecolor": "white",
           "ticks": "",
           "title": {
            "standoff": 15
           },
           "zerolinecolor": "white",
           "zerolinewidth": 2
          },
          "yaxis": {
           "automargin": true,
           "gridcolor": "white",
           "linecolor": "white",
           "ticks": "",
           "title": {
            "standoff": 15
           },
           "zerolinecolor": "white",
           "zerolinewidth": 2
          }
         }
        },
        "title": {
         "text": "CDF Flipper Length for Each Species"
        },
        "xaxis": {
         "title": {
          "text": "Culmen Length"
         }
        },
        "yaxis": {
         "title": {
          "text": "PDF"
         }
        }
       }
      },
      "image/png": "[encoded data removed]"
     },
     "metadata": {},
     "output_type": "display_data"
    }
   ],
   "source": [
    "fig = go.Figure()\n",
    "\n",
    "fig.add_trace(\n",
    "    go.Line(\n",
    "        x=adelie_series.index,\n",
    "        y=adelie_series,\n",
    "        mode='lines',\n",
    "        name='Adelie'\n",
    "    )\n",
    ")\n",
    "\n",
    "fig.add_trace(\n",
    "    go.Line(\n",
    "        x=gentoo_series.index,\n",
    "        y=gentoo_series,\n",
    "        mode='lines',\n",
    "        name='Gento'\n",
    "    )\n",
    ")\n",
    "\n",
    "fig.add_trace(\n",
    "    go.Line(\n",
    "        x=chin_series.index,\n",
    "        y=chin_series,\n",
    "        mode='lines',\n",
    "        name='Chin'\n",
    "    )\n",
    ")\n",
    "\n",
    "fig.update_layout(\n",
    "    plot_bgcolor='rgba(0,0,0,0)',\n",
    "    title='CDF Flipper Length for Each Species',\n",
    "    xaxis_title='Culmen Length',\n",
    "    yaxis_title='PDF'\n",
    ")"
   ]
  },
  {
   "cell_type": "markdown",
   "id": "006ec673-68e5-43da-921f-79306a6eaeb0",
   "metadata": {},
   "source": [
    "Using flipper length, we can distinguish Gentoo penguins from the other two species. So with these two features, it seems like we should be able to classify penguins with some accuracy."
   ]
  },
  {
   "cell_type": "code",
   "execution_count": 13,
   "id": "4fe72f9b-8cc0-46f9-9dbd-ba93fbaeb90e",
   "metadata": {},
   "outputs": [
    {
     "data": {
      "text/plain": [
       "np.float64(0.05487494158668887)"
      ]
     },
     "execution_count": 13,
     "metadata": {},
     "output_type": "execute_result"
    }
   ],
   "source": [
    "stats.norm.pdf(193, loc=mean_adelie, scale=std_adelie)"
   ]
  },
  {
   "cell_type": "code",
   "execution_count": 14,
   "id": "9de24524-5145-4881-82b5-fad10c58ea02",
   "metadata": {},
   "outputs": [
    {
     "data": {
      "text/plain": [
       "np.float64(0.052044994828400935)"
      ]
     },
     "execution_count": 14,
     "metadata": {},
     "output_type": "execute_result"
    }
   ],
   "source": [
    "stats.norm.pdf(193, loc=mean_chin, scale=std_chin)"
   ]
  },
  {
   "cell_type": "code",
   "execution_count": 15,
   "id": "45b3129f-03f3-4b1d-8f0b-b7fd049946a1",
   "metadata": {},
   "outputs": [
    {
     "data": {
      "text/plain": [
       "np.float64(0.00016448643355987643)"
      ]
     },
     "execution_count": 15,
     "metadata": {},
     "output_type": "execute_result"
    }
   ],
   "source": [
    "stats.norm.pdf(193, loc=mean_gentoo, scale=std_chin)"
   ]
  },
  {
   "cell_type": "markdown",
   "id": "b6de11ee-6626-4a5b-bdf9-53bcf81887ad",
   "metadata": {},
   "source": [
    "### Normal Model"
   ]
  },
  {
   "cell_type": "code",
   "execution_count": 16,
   "id": "d73097c8-b215-41f2-a6d5-8689f3ddaf3a",
   "metadata": {},
   "outputs": [],
   "source": [
    "def make_norm_map(df, colname, by='species'):\n",
    "    norm_map = {}\n",
    "    grouped = df.groupby(by)[colname]\n",
    "    for species, group in grouped:\n",
    "        mean = group.mean()\n",
    "        std = group.std()\n",
    "        norm_map[species] = stats.norm(mean, std)\n",
    "    return norm_map"
   ]
  },
  {
   "cell_type": "code",
   "execution_count": 17,
   "id": "382d723b-841d-40fd-b4de-61b423179a37",
   "metadata": {},
   "outputs": [
    {
     "data": {
      "text/plain": [
       "({'Adelie': <scipy.stats._distn_infrastructure.rv_continuous_frozen at 0x707b04a153d0>,\n",
       "  'Chinstrap': <scipy.stats._distn_infrastructure.rv_continuous_frozen at 0x707b04a23190>,\n",
       "  'Gentoo': <scipy.stats._distn_infrastructure.rv_continuous_frozen at 0x707b05426b10>},\n",
       " dict_keys(['Adelie', 'Chinstrap', 'Gentoo']))"
      ]
     },
     "execution_count": 17,
     "metadata": {},
     "output_type": "execute_result"
    }
   ],
   "source": [
    "flipper_map = make_norm_map(df, 'flipper_length')\n",
    "flipper_map, flipper_map.keys()"
   ]
  },
  {
   "cell_type": "code",
   "execution_count": 18,
   "id": "4ab1d9a0-a3da-42bc-8bb3-ef57a6e70220",
   "metadata": {},
   "outputs": [
    {
     "data": {
      "text/plain": [
       "np.float64(0.054732511875530694)"
      ]
     },
     "execution_count": 18,
     "metadata": {},
     "output_type": "execute_result"
    }
   ],
   "source": [
    "flipper_map['Adelie'].pdf(193) # the pdf is slightly different with the pdf of adelie flipper length before. it's due to difference result between scipy and pandas computation"
   ]
  },
  {
   "cell_type": "code",
   "execution_count": 19,
   "id": "d968b34e-f6bd-4bd2-8412-09cc7f155700",
   "metadata": {},
   "outputs": [
    {
     "data": {
      "text/plain": [
       "[np.float64(0.054732511875530694),\n",
       " np.float64(0.05172135615888162),\n",
       " np.float64(5.8660453661990634e-05)]"
      ]
     },
     "execution_count": 19,
     "metadata": {},
     "output_type": "execute_result"
    }
   ],
   "source": [
    "data = 193\n",
    "hypos = flipper_map.keys()\n",
    "likelihood = [flipper_map[hypo].pdf(data) for hypo in hypos]\n",
    "likelihood"
   ]
  },
  {
   "cell_type": "markdown",
   "id": "3f841835-db78-4aba-beb5-287a40800a1b",
   "metadata": {},
   "source": [
    "### The Update\n",
    "\n",
    "Before we see the data, let's assume the three species are equally likely"
   ]
  },
  {
   "cell_type": "code",
   "execution_count": 20,
   "id": "fa4077dc-91e1-4835-9b34-24c5e7657b9a",
   "metadata": {},
   "outputs": [
    {
     "data": {
      "text/html": [
       "<div>\n",
       "<style scoped>\n",
       "    .dataframe tbody tr th:only-of-type {\n",
       "        vertical-align: middle;\n",
       "    }\n",
       "\n",
       "    .dataframe tbody tr th {\n",
       "        vertical-align: top;\n",
       "    }\n",
       "\n",
       "    .dataframe thead th {\n",
       "        text-align: right;\n",
       "    }\n",
       "</style>\n",
       "<table border=\"1\" class=\"dataframe\">\n",
       "  <thead>\n",
       "    <tr style=\"text-align: right;\">\n",
       "      <th></th>\n",
       "      <th>probs</th>\n",
       "    </tr>\n",
       "  </thead>\n",
       "  <tbody>\n",
       "    <tr>\n",
       "      <th>Adelie</th>\n",
       "      <td>0.333333</td>\n",
       "    </tr>\n",
       "    <tr>\n",
       "      <th>Chinstrap</th>\n",
       "      <td>0.333333</td>\n",
       "    </tr>\n",
       "    <tr>\n",
       "      <th>Gentoo</th>\n",
       "      <td>0.333333</td>\n",
       "    </tr>\n",
       "  </tbody>\n",
       "</table>\n",
       "</div>"
      ],
      "text/plain": [
       "              probs\n",
       "Adelie     0.333333\n",
       "Chinstrap  0.333333\n",
       "Gentoo     0.333333"
      ]
     },
     "execution_count": 20,
     "metadata": {},
     "output_type": "execute_result"
    }
   ],
   "source": [
    "prior = pd.DataFrame(index=hypos, data=[1/3]*3, columns=['probs'])\n",
    "prior"
   ]
  },
  {
   "cell_type": "code",
   "execution_count": 21,
   "id": "9d4c50bd-8a89-49ae-ae66-967ddce48af9",
   "metadata": {},
   "outputs": [
    {
     "data": {
      "text/plain": [
       "Adelie       0.513860\n",
       "Chinstrap    0.485589\n",
       "Gentoo       0.000551\n",
       "Name: probs, dtype: float64"
      ]
     },
     "execution_count": 21,
     "metadata": {},
     "output_type": "execute_result"
    }
   ],
   "source": [
    "posterior = prior['probs'] * likelihood\n",
    "posterior = posterior/posterior.sum()\n",
    "posterior"
   ]
  },
  {
   "cell_type": "markdown",
   "id": "ab7d7d5d-e28f-4dc2-8d0a-fb00a8ed12a2",
   "metadata": {},
   "source": [
    "A penguin with a 193 mm flipper is unlikely to be a Gentoo, but might be either an Adelie or a Chinstrap (assuming that the three species were equally likely before the measurement)"
   ]
  },
  {
   "cell_type": "code",
   "execution_count": 22,
   "id": "907de5c7-56ae-4e26-aceb-a5caaa0e4ad2",
   "metadata": {},
   "outputs": [],
   "source": [
    "def update_posterior(prior, data, norm_map):\n",
    "    # update hypothetical species\n",
    "    hypos = prior.index\n",
    "    likelihood = [norm_map[hypo].pdf(data) for hypo in hypos]\n",
    "    posterior = prior['probs'] * likelihood\n",
    "    posterior = posterior/posterior.sum()\n",
    "    return pd.DataFrame(index=hypos, data=posterior, columns=['probs'])"
   ]
  },
  {
   "cell_type": "code",
   "execution_count": 23,
   "id": "b4e89f95-6353-4ec7-84f6-c7e60a0a6d7a",
   "metadata": {},
   "outputs": [
    {
     "data": {
      "text/html": [
       "<div>\n",
       "<style scoped>\n",
       "    .dataframe tbody tr th:only-of-type {\n",
       "        vertical-align: middle;\n",
       "    }\n",
       "\n",
       "    .dataframe tbody tr th {\n",
       "        vertical-align: top;\n",
       "    }\n",
       "\n",
       "    .dataframe thead th {\n",
       "        text-align: right;\n",
       "    }\n",
       "</style>\n",
       "<table border=\"1\" class=\"dataframe\">\n",
       "  <thead>\n",
       "    <tr style=\"text-align: right;\">\n",
       "      <th></th>\n",
       "      <th>probs</th>\n",
       "    </tr>\n",
       "  </thead>\n",
       "  <tbody>\n",
       "    <tr>\n",
       "      <th>Adelie</th>\n",
       "      <td>0.513860</td>\n",
       "    </tr>\n",
       "    <tr>\n",
       "      <th>Chinstrap</th>\n",
       "      <td>0.485589</td>\n",
       "    </tr>\n",
       "    <tr>\n",
       "      <th>Gentoo</th>\n",
       "      <td>0.000551</td>\n",
       "    </tr>\n",
       "  </tbody>\n",
       "</table>\n",
       "</div>"
      ],
      "text/plain": [
       "              probs\n",
       "Adelie     0.513860\n",
       "Chinstrap  0.485589\n",
       "Gentoo     0.000551"
      ]
     },
     "execution_count": 23,
     "metadata": {},
     "output_type": "execute_result"
    }
   ],
   "source": [
    "update_posterior(prior, 193, flipper_map)"
   ]
  },
  {
   "cell_type": "code",
   "execution_count": 24,
   "id": "f2755604-8ad7-4a3e-9226-02c45fe1a649",
   "metadata": {},
   "outputs": [
    {
     "data": {
      "text/plain": [
       "{'Adelie': <scipy.stats._distn_infrastructure.rv_continuous_frozen at 0x707b04a34090>,\n",
       " 'Chinstrap': <scipy.stats._distn_infrastructure.rv_continuous_frozen at 0x707b04a2bf90>,\n",
       " 'Gentoo': <scipy.stats._distn_infrastructure.rv_continuous_frozen at 0x707b04a34750>}"
      ]
     },
     "execution_count": 24,
     "metadata": {},
     "output_type": "execute_result"
    }
   ],
   "source": [
    "culmen_map = make_norm_map(df, 'culmen_length')\n",
    "culmen_map"
   ]
  },
  {
   "cell_type": "code",
   "execution_count": 25,
   "id": "9bb856e8-23a5-4ea6-bd59-176e28649968",
   "metadata": {},
   "outputs": [
    {
     "data": {
      "text/html": [
       "<div>\n",
       "<style scoped>\n",
       "    .dataframe tbody tr th:only-of-type {\n",
       "        vertical-align: middle;\n",
       "    }\n",
       "\n",
       "    .dataframe tbody tr th {\n",
       "        vertical-align: top;\n",
       "    }\n",
       "\n",
       "    .dataframe thead th {\n",
       "        text-align: right;\n",
       "    }\n",
       "</style>\n",
       "<table border=\"1\" class=\"dataframe\">\n",
       "  <thead>\n",
       "    <tr style=\"text-align: right;\">\n",
       "      <th></th>\n",
       "      <th>probs</th>\n",
       "    </tr>\n",
       "  </thead>\n",
       "  <tbody>\n",
       "    <tr>\n",
       "      <th>Adelie</th>\n",
       "      <td>0.000104</td>\n",
       "    </tr>\n",
       "    <tr>\n",
       "      <th>Chinstrap</th>\n",
       "      <td>0.546444</td>\n",
       "    </tr>\n",
       "    <tr>\n",
       "      <th>Gentoo</th>\n",
       "      <td>0.453452</td>\n",
       "    </tr>\n",
       "  </tbody>\n",
       "</table>\n",
       "</div>"
      ],
      "text/plain": [
       "              probs\n",
       "Adelie     0.000104\n",
       "Chinstrap  0.546444\n",
       "Gentoo     0.453452"
      ]
     },
     "execution_count": 25,
     "metadata": {},
     "output_type": "execute_result"
    }
   ],
   "source": [
    "update_posterior(prior, 50, culmen_map)"
   ]
  },
  {
   "cell_type": "markdown",
   "id": "bdb1197d-ffe9-4792-b488-9278c3fe7507",
   "metadata": {},
   "source": [
    "A penguin with culmen length 50 mm is about equally likely to be a chinstrap or a gentoo.<br/>\n",
    "This is just example to perform classification using one feature. In real scenario, we generally can't identify species with confidence by using one feature. We can do better using multiple features."
   ]
  },
  {
   "cell_type": "markdown",
   "id": "86128411-166f-48c5-be47-a2f6247184b7",
   "metadata": {},
   "source": [
    "### Naive Bayesian Classification"
   ]
  },
  {
   "cell_type": "code",
   "execution_count": 26,
   "id": "0dd4c623-3dbf-4d54-ba21-8b8ff25874f8",
   "metadata": {},
   "outputs": [],
   "source": [
    "def update_naive(prior, data_seq, norm_maps):\n",
    "    \"\"\" Naive Bayesian Classiier\n",
    "\n",
    "    prior: prior or previous posterior\n",
    "    data_seq: list of measurements\n",
    "    norm_maps list of maps from species to distribution\n",
    "\n",
    "    returns: representing the posterior distribution    \n",
    "    \"\"\"\n",
    "    posterior = prior.copy()\n",
    "    for data, norm_map in zip(data_seq, norm_maps):\n",
    "        posterior = update_posterior(posterior, data, norm_map)\n",
    "    return posterior"
   ]
  },
  {
   "cell_type": "code",
   "execution_count": 54,
   "id": "3cbe57bb-dd16-4c2b-9f76-aef21110613d",
   "metadata": {},
   "outputs": [
    {
     "data": {
      "text/html": [
       "<div>\n",
       "<style scoped>\n",
       "    .dataframe tbody tr th:only-of-type {\n",
       "        vertical-align: middle;\n",
       "    }\n",
       "\n",
       "    .dataframe tbody tr th {\n",
       "        vertical-align: top;\n",
       "    }\n",
       "\n",
       "    .dataframe thead th {\n",
       "        text-align: right;\n",
       "    }\n",
       "</style>\n",
       "<table border=\"1\" class=\"dataframe\">\n",
       "  <thead>\n",
       "    <tr style=\"text-align: right;\">\n",
       "      <th></th>\n",
       "      <th>probs</th>\n",
       "    </tr>\n",
       "  </thead>\n",
       "  <tbody>\n",
       "    <tr>\n",
       "      <th>Adelie</th>\n",
       "      <td>0.000201</td>\n",
       "    </tr>\n",
       "    <tr>\n",
       "      <th>Chinstrap</th>\n",
       "      <td>0.998859</td>\n",
       "    </tr>\n",
       "    <tr>\n",
       "      <th>Gentoo</th>\n",
       "      <td>0.000940</td>\n",
       "    </tr>\n",
       "  </tbody>\n",
       "</table>\n",
       "</div>"
      ],
      "text/plain": [
       "              probs\n",
       "Adelie     0.000201\n",
       "Chinstrap  0.998859\n",
       "Gentoo     0.000940"
      ]
     },
     "execution_count": 54,
     "metadata": {},
     "output_type": "execute_result"
    }
   ],
   "source": [
    "colnames = ['flipper_length', 'culmen_length']\n",
    "norm_maps = [flipper_map, culmen_map]\n",
    "data_seq = 193, 50\n",
    "posterior = update_naive(prior, data_seq, norm_maps)\n",
    "posterior"
   ]
  },
  {
   "cell_type": "code",
   "execution_count": 55,
   "id": "f5112989-805a-4d21-9bb8-9637aaa2af8f",
   "metadata": {},
   "outputs": [
    {
     "data": {
      "text/plain": [
       "('Chinstrap', np.float64(0.998859006762245))"
      ]
     },
     "execution_count": 55,
     "metadata": {},
     "output_type": "execute_result"
    }
   ],
   "source": [
    "posterior['probs'].idxmax(), posterior['probs'].max()"
   ]
  },
  {
   "cell_type": "markdown",
   "id": "849038f0-7d7c-482c-adb3-345be91dce18",
   "metadata": {},
   "source": [
    "It's almost certain to be a Chinstrap"
   ]
  },
  {
   "cell_type": "code",
   "execution_count": 56,
   "id": "2cb0ec01-69f8-4f32-9c05-b226c1ed0a57",
   "metadata": {},
   "outputs": [],
   "source": [
    "df.dropna(inplace=True)"
   ]
  },
  {
   "cell_type": "code",
   "execution_count": 57,
   "id": "b33cefbc-0a88-4e74-989b-61f94499e112",
   "metadata": {},
   "outputs": [
    {
     "name": "stderr",
     "output_type": "stream",
     "text": [
      "/tmp/ipykernel_16915/1668780398.py:6: FutureWarning:\n",
      "\n",
      "Setting an item of incompatible dtype is deprecated and will raise an error in a future version of pandas. Value 'Adelie' has dtype incompatible with float64, please explicitly cast to a compatible dtype first.\n",
      "\n"
     ]
    }
   ],
   "source": [
    "df['predicted'] = np.nan\n",
    "df['prediction_proba'] = np.nan\n",
    "for i, row in df.iterrows():\n",
    "    data_seq = row[colnames]\n",
    "    posterior = update_naive(prior, data_seq, norm_maps)\n",
    "    df.loc[i, 'predicted'] = posterior['probs'].idxmax()\n",
    "    df.loc[i, 'prediction_proba'] = posterior['probs'].max()"
   ]
  },
  {
   "cell_type": "code",
   "execution_count": 58,
   "id": "d6c055ee-b3c7-44ed-bd1e-db4e56571cca",
   "metadata": {},
   "outputs": [
    {
     "data": {
      "text/html": [
       "<div>\n",
       "<style scoped>\n",
       "    .dataframe tbody tr th:only-of-type {\n",
       "        vertical-align: middle;\n",
       "    }\n",
       "\n",
       "    .dataframe tbody tr th {\n",
       "        vertical-align: top;\n",
       "    }\n",
       "\n",
       "    .dataframe thead th {\n",
       "        text-align: right;\n",
       "    }\n",
       "</style>\n",
       "<table border=\"1\" class=\"dataframe\">\n",
       "  <thead>\n",
       "    <tr style=\"text-align: right;\">\n",
       "      <th></th>\n",
       "      <th>species</th>\n",
       "      <th>culmen_length</th>\n",
       "      <th>culmen_depth</th>\n",
       "      <th>flipper_length</th>\n",
       "      <th>body_mass</th>\n",
       "      <th>predicted</th>\n",
       "      <th>prediction_proba</th>\n",
       "      <th>predicted_2</th>\n",
       "      <th>prediction_proba_2</th>\n",
       "    </tr>\n",
       "  </thead>\n",
       "  <tbody>\n",
       "    <tr>\n",
       "      <th>19</th>\n",
       "      <td>Adelie</td>\n",
       "      <td>46.0</td>\n",
       "      <td>21.5</td>\n",
       "      <td>194.0</td>\n",
       "      <td>4200.0</td>\n",
       "      <td>Chinstrap</td>\n",
       "      <td>0.956442</td>\n",
       "      <td>Chinstrap</td>\n",
       "      <td>0.956118</td>\n",
       "    </tr>\n",
       "    <tr>\n",
       "      <th>43</th>\n",
       "      <td>Adelie</td>\n",
       "      <td>44.1</td>\n",
       "      <td>19.7</td>\n",
       "      <td>196.0</td>\n",
       "      <td>4400.0</td>\n",
       "      <td>Chinstrap</td>\n",
       "      <td>0.744722</td>\n",
       "      <td>Chinstrap</td>\n",
       "      <td>0.612256</td>\n",
       "    </tr>\n",
       "    <tr>\n",
       "      <th>73</th>\n",
       "      <td>Adelie</td>\n",
       "      <td>45.8</td>\n",
       "      <td>18.9</td>\n",
       "      <td>197.0</td>\n",
       "      <td>4150.0</td>\n",
       "      <td>Chinstrap</td>\n",
       "      <td>0.953223</td>\n",
       "      <td>Chinstrap</td>\n",
       "      <td>0.928898</td>\n",
       "    </tr>\n",
       "    <tr>\n",
       "      <th>95</th>\n",
       "      <td>Adelie</td>\n",
       "      <td>40.8</td>\n",
       "      <td>18.9</td>\n",
       "      <td>208.0</td>\n",
       "      <td>4300.0</td>\n",
       "      <td>Gentoo</td>\n",
       "      <td>0.534221</td>\n",
       "      <td>Gentoo</td>\n",
       "      <td>0.822767</td>\n",
       "    </tr>\n",
       "    <tr>\n",
       "      <th>109</th>\n",
       "      <td>Adelie</td>\n",
       "      <td>43.2</td>\n",
       "      <td>19.0</td>\n",
       "      <td>197.0</td>\n",
       "      <td>4775.0</td>\n",
       "      <td>Chinstrap</td>\n",
       "      <td>0.545556</td>\n",
       "      <td>Adelie</td>\n",
       "      <td>0.662218</td>\n",
       "    </tr>\n",
       "    <tr>\n",
       "      <th>111</th>\n",
       "      <td>Adelie</td>\n",
       "      <td>45.6</td>\n",
       "      <td>20.3</td>\n",
       "      <td>191.0</td>\n",
       "      <td>4600.0</td>\n",
       "      <td>Chinstrap</td>\n",
       "      <td>0.905875</td>\n",
       "      <td>Chinstrap</td>\n",
       "      <td>0.941438</td>\n",
       "    </tr>\n",
       "    <tr>\n",
       "      <th>129</th>\n",
       "      <td>Adelie</td>\n",
       "      <td>44.1</td>\n",
       "      <td>18.0</td>\n",
       "      <td>210.0</td>\n",
       "      <td>4000.0</td>\n",
       "      <td>Gentoo</td>\n",
       "      <td>0.869688</td>\n",
       "      <td>Gentoo</td>\n",
       "      <td>0.984430</td>\n",
       "    </tr>\n",
       "    <tr>\n",
       "      <th>131</th>\n",
       "      <td>Adelie</td>\n",
       "      <td>43.1</td>\n",
       "      <td>19.2</td>\n",
       "      <td>197.0</td>\n",
       "      <td>3500.0</td>\n",
       "      <td>Chinstrap</td>\n",
       "      <td>0.518025</td>\n",
       "      <td>Adelie</td>\n",
       "      <td>0.687794</td>\n",
       "    </tr>\n",
       "    <tr>\n",
       "      <th>250</th>\n",
       "      <td>Gentoo</td>\n",
       "      <td>48.4</td>\n",
       "      <td>14.4</td>\n",
       "      <td>203.0</td>\n",
       "      <td>4625.0</td>\n",
       "      <td>Chinstrap</td>\n",
       "      <td>0.850998</td>\n",
       "      <td>Chinstrap</td>\n",
       "      <td>0.979281</td>\n",
       "    </tr>\n",
       "    <tr>\n",
       "      <th>296</th>\n",
       "      <td>Chinstrap</td>\n",
       "      <td>42.4</td>\n",
       "      <td>17.3</td>\n",
       "      <td>181.0</td>\n",
       "      <td>3600.0</td>\n",
       "      <td>Adelie</td>\n",
       "      <td>0.922290</td>\n",
       "      <td>Adelie</td>\n",
       "      <td>0.556684</td>\n",
       "    </tr>\n",
       "    <tr>\n",
       "      <th>298</th>\n",
       "      <td>Chinstrap</td>\n",
       "      <td>43.2</td>\n",
       "      <td>16.6</td>\n",
       "      <td>187.0</td>\n",
       "      <td>2900.0</td>\n",
       "      <td>Adelie</td>\n",
       "      <td>0.736802</td>\n",
       "      <td>Chinstrap</td>\n",
       "      <td>0.531808</td>\n",
       "    </tr>\n",
       "    <tr>\n",
       "      <th>306</th>\n",
       "      <td>Chinstrap</td>\n",
       "      <td>40.9</td>\n",
       "      <td>16.6</td>\n",
       "      <td>187.0</td>\n",
       "      <td>3200.0</td>\n",
       "      <td>Adelie</td>\n",
       "      <td>0.970264</td>\n",
       "      <td>Adelie</td>\n",
       "      <td>0.922670</td>\n",
       "    </tr>\n",
       "    <tr>\n",
       "      <th>308</th>\n",
       "      <td>Chinstrap</td>\n",
       "      <td>42.5</td>\n",
       "      <td>16.7</td>\n",
       "      <td>187.0</td>\n",
       "      <td>3350.0</td>\n",
       "      <td>Adelie</td>\n",
       "      <td>0.858824</td>\n",
       "      <td>Adelie</td>\n",
       "      <td>0.665893</td>\n",
       "    </tr>\n",
       "    <tr>\n",
       "      <th>313</th>\n",
       "      <td>Chinstrap</td>\n",
       "      <td>52.0</td>\n",
       "      <td>20.7</td>\n",
       "      <td>210.0</td>\n",
       "      <td>4800.0</td>\n",
       "      <td>Gentoo</td>\n",
       "      <td>0.715566</td>\n",
       "      <td>Chinstrap</td>\n",
       "      <td>0.928703</td>\n",
       "    </tr>\n",
       "    <tr>\n",
       "      <th>316</th>\n",
       "      <td>Chinstrap</td>\n",
       "      <td>49.0</td>\n",
       "      <td>19.5</td>\n",
       "      <td>210.0</td>\n",
       "      <td>3950.0</td>\n",
       "      <td>Gentoo</td>\n",
       "      <td>0.805383</td>\n",
       "      <td>Gentoo</td>\n",
       "      <td>0.708049</td>\n",
       "    </tr>\n",
       "    <tr>\n",
       "      <th>323</th>\n",
       "      <td>Chinstrap</td>\n",
       "      <td>49.0</td>\n",
       "      <td>19.6</td>\n",
       "      <td>212.0</td>\n",
       "      <td>4300.0</td>\n",
       "      <td>Gentoo</td>\n",
       "      <td>0.909807</td>\n",
       "      <td>Gentoo</td>\n",
       "      <td>0.912396</td>\n",
       "    </tr>\n",
       "    <tr>\n",
       "      <th>330</th>\n",
       "      <td>Chinstrap</td>\n",
       "      <td>42.5</td>\n",
       "      <td>17.3</td>\n",
       "      <td>187.0</td>\n",
       "      <td>3350.0</td>\n",
       "      <td>Adelie</td>\n",
       "      <td>0.858824</td>\n",
       "      <td>Adelie</td>\n",
       "      <td>0.665893</td>\n",
       "    </tr>\n",
       "    <tr>\n",
       "      <th>342</th>\n",
       "      <td>Chinstrap</td>\n",
       "      <td>50.8</td>\n",
       "      <td>19.0</td>\n",
       "      <td>210.0</td>\n",
       "      <td>4100.0</td>\n",
       "      <td>Gentoo</td>\n",
       "      <td>0.757409</td>\n",
       "      <td>Chinstrap</td>\n",
       "      <td>0.751669</td>\n",
       "    </tr>\n",
       "  </tbody>\n",
       "</table>\n",
       "</div>"
      ],
      "text/plain": [
       "       species  culmen_length  culmen_depth  flipper_length  body_mass  \\\n",
       "19      Adelie           46.0          21.5           194.0     4200.0   \n",
       "43      Adelie           44.1          19.7           196.0     4400.0   \n",
       "73      Adelie           45.8          18.9           197.0     4150.0   \n",
       "95      Adelie           40.8          18.9           208.0     4300.0   \n",
       "109     Adelie           43.2          19.0           197.0     4775.0   \n",
       "111     Adelie           45.6          20.3           191.0     4600.0   \n",
       "129     Adelie           44.1          18.0           210.0     4000.0   \n",
       "131     Adelie           43.1          19.2           197.0     3500.0   \n",
       "250     Gentoo           48.4          14.4           203.0     4625.0   \n",
       "296  Chinstrap           42.4          17.3           181.0     3600.0   \n",
       "298  Chinstrap           43.2          16.6           187.0     2900.0   \n",
       "306  Chinstrap           40.9          16.6           187.0     3200.0   \n",
       "308  Chinstrap           42.5          16.7           187.0     3350.0   \n",
       "313  Chinstrap           52.0          20.7           210.0     4800.0   \n",
       "316  Chinstrap           49.0          19.5           210.0     3950.0   \n",
       "323  Chinstrap           49.0          19.6           212.0     4300.0   \n",
       "330  Chinstrap           42.5          17.3           187.0     3350.0   \n",
       "342  Chinstrap           50.8          19.0           210.0     4100.0   \n",
       "\n",
       "     predicted  prediction_proba predicted_2  prediction_proba_2  \n",
       "19   Chinstrap          0.956442   Chinstrap            0.956118  \n",
       "43   Chinstrap          0.744722   Chinstrap            0.612256  \n",
       "73   Chinstrap          0.953223   Chinstrap            0.928898  \n",
       "95      Gentoo          0.534221      Gentoo            0.822767  \n",
       "109  Chinstrap          0.545556      Adelie            0.662218  \n",
       "111  Chinstrap          0.905875   Chinstrap            0.941438  \n",
       "129     Gentoo          0.869688      Gentoo            0.984430  \n",
       "131  Chinstrap          0.518025      Adelie            0.687794  \n",
       "250  Chinstrap          0.850998   Chinstrap            0.979281  \n",
       "296     Adelie          0.922290      Adelie            0.556684  \n",
       "298     Adelie          0.736802   Chinstrap            0.531808  \n",
       "306     Adelie          0.970264      Adelie            0.922670  \n",
       "308     Adelie          0.858824      Adelie            0.665893  \n",
       "313     Gentoo          0.715566   Chinstrap            0.928703  \n",
       "316     Gentoo          0.805383      Gentoo            0.708049  \n",
       "323     Gentoo          0.909807      Gentoo            0.912396  \n",
       "330     Adelie          0.858824      Adelie            0.665893  \n",
       "342     Gentoo          0.757409   Chinstrap            0.751669  "
      ]
     },
     "execution_count": 58,
     "metadata": {},
     "output_type": "execute_result"
    }
   ],
   "source": [
    "df[df['species'] != df['predicted']]"
   ]
  },
  {
   "cell_type": "code",
   "execution_count": 59,
   "id": "5c6893b5-02f9-4efd-87b8-2dda55171cd8",
   "metadata": {},
   "outputs": [
    {
     "data": {
      "text/plain": [
       "(0.9473684210526315, 18, 342)"
      ]
     },
     "execution_count": 59,
     "metadata": {},
     "output_type": "execute_result"
    }
   ],
   "source": [
    "wrong_prediction = len(df[df['species'] != df['predicted']])\n",
    "\n",
    "(len(df)-wrong_prediction)/len(df), wrong_prediction, len(df)"
   ]
  },
  {
   "cell_type": "markdown",
   "id": "6af6dbce-0f9c-4e8b-947a-c2437fe1bf74",
   "metadata": {},
   "source": [
    "We got 18 wrong prediction out of 342 observations, which means we got 0.947 accuracy by using flipper length and culmen_length features.<br/>\n",
    "\n",
    "The classifier we used is called \"naive\" because it ignores correlations between the features."
   ]
  },
  {
   "cell_type": "markdown",
   "id": "62b355df-78cc-4c8c-a622-22d913eb8fd7",
   "metadata": {},
   "source": [
    "### Joint Distributions"
   ]
  },
  {
   "cell_type": "code",
   "execution_count": 60,
   "id": "a88800ef-2652-4f97-b35b-23f3fc8eb743",
   "metadata": {},
   "outputs": [
    {
     "data": {
      "application/vnd.plotly.v1+json": {
       "config": {
        "plotlyServerURL": "https://plot.ly"
       },
       "data": [
        {
         "mode": "markers",
         "name": "Adelie",
         "type": "scatter",
         "x": {
          "bdata": "AAAAAACgZkAAAAAAAEBnQAAAAAAAYGhAAAAAAAAgaEAAAAAAAMBnQAAAAAAAoGZAAAAAAABgaEAAAAAAACBoQAAAAAAAwGdAAAAAAABAZ0AAAAAAAIBmQAAAAAAAwGZAAAAAAADgZ0AAAAAAAMBoQAAAAAAAIGdAAAAAAABgaEAAAAAAAKBoQAAAAAAAAGdAAAAAAABAaEAAAAAAAMBlQAAAAAAAgGZAAAAAAACgZ0AAAAAAACBnQAAAAAAAgGZAAAAAAABgZ0AAAAAAAOBmQAAAAAAAYGdAAAAAAACAZUAAAAAAAIBmQAAAAAAAQGZAAAAAAABAZkAAAAAAAIBnQAAAAAAAAGdAAAAAAABgaEAAAAAAAIBoQAAAAAAAwGdAAAAAAACAZkAAAAAAAKBmQAAAAAAAAGdAAAAAAADAZkAAAAAAAGBoQAAAAAAAQGdAAAAAAACAaEAAAAAAACBnQAAAAAAAwGdAAAAAAADAZkAAAAAAAGBmQAAAAAAAwGdAAAAAAADgZ0AAAAAAAEBnQAAAAAAAgGdAAAAAAADAZ0AAAAAAAABpQAAAAAAAYGdAAAAAAADgZ0AAAAAAAEBnQAAAAAAAIGhAAAAAAACgZkAAAAAAAEBoQAAAAAAAIGdAAAAAAABgaEAAAAAAACBnQAAAAAAAAGhAAAAAAAAAZ0AAAAAAAABoQAAAAAAAYGhAAAAAAACAZ0AAAAAAAMBnQAAAAAAAwGhAAAAAAADAZ0AAAAAAAMBnQAAAAAAAgGhAAAAAAACgaEAAAAAAAMBnQAAAAAAAYGhAAAAAAADgZ0AAAAAAAABnQAAAAAAAYGdAAAAAAABgaEAAAAAAAKBnQAAAAAAAgGhAAAAAAABgZ0AAAAAAACBoQAAAAAAA4GdAAAAAAABAaEAAAAAAAMBnQAAAAAAAoGdAAAAAAACgZ0AAAAAAAMBnQAAAAAAAQGlAAAAAAACgaUAAAAAAACBnQAAAAAAAQGdAAAAAAABgZ0AAAAAAAABqQAAAAAAAwGdAAAAAAACAaEAAAAAAAEBmQAAAAAAAAGhAAAAAAAAAaEAAAAAAAGBpQAAAAAAA4GZAAAAAAADAZ0AAAAAAACBoQAAAAAAAAGdAAAAAAADgaEAAAAAAAMBnQAAAAAAAoGZAAAAAAACgaEAAAAAAAMBoQAAAAAAA4GdAAAAAAAAgaEAAAAAAAKBoQAAAAAAA4GdAAAAAAACAaEAAAAAAAIBnQAAAAAAA4GhAAAAAAACgZ0AAAAAAAKBnQAAAAAAAYGdAAAAAAADAaEAAAAAAAABmQAAAAAAAQGlAAAAAAABAZ0AAAAAAAOBoQAAAAAAA4GdAAAAAAABgaEAAAAAAAOBnQAAAAAAAQGpAAAAAAADAZ0AAAAAAAKBoQAAAAAAAIGhAAAAAAADgaEAAAAAAAGBnQAAAAAAAwGdAAAAAAADgZ0AAAAAAAABpQAAAAAAAIGdAAAAAAAAgaEAAAAAAACBoQAAAAAAAYGdAAAAAAACAZ0AAAAAAAMBnQAAAAAAAAGhAAAAAAAAgZ0AAAAAAAMBnQAAAAAAAAGdAAAAAAABgaEAAAAAAACBoQAAAAAAAYGdAAAAAAAAgaUA=",
          "dtype": "f8"
         },
         "y": {
          "bdata": "zczMzMyMQ0AAAAAAAMBDQGZmZmZmJkRAmpmZmZlZQkBmZmZmZqZDQDMzMzMzc0NAmpmZmZmZQ0DNzMzMzAxBQAAAAAAAAEVAZmZmZmbmQkBmZmZmZuZCQM3MzMzMjERAzczMzMxMQ0DNzMzMzExBQM3MzMzMTEJAmpmZmZlZQ0AAAAAAAEBFQDMzMzMzM0FAAAAAAAAAR0BmZmZmZuZCQJqZmZmZ2UJAMzMzMzPzQUCamZmZmRlDQGZmZmZmZkNAZmZmZmamQUDNzMzMzExEQAAAAAAAQERAMzMzMzPzQkAAAAAAAEBEQAAAAAAAwENAmpmZmZmZQkAAAAAAAMBDQDMzMzMzc0RAMzMzMzMzQkCamZmZmZlDQGZmZmZmZkNAmpmZmZkZRUDNzMzMzMxCQGZmZmZm5kNAAAAAAABAQkBmZmZmZmZEQAAAAAAAAEJAzczMzMwMRkAAAAAAAIBCQM3MzMzMzENAzczMzMyMREAAAAAAAMBCQAAAAAAAAEJAZmZmZmYmRUDNzMzMzMxDQM3MzMzMDERAAAAAAACAQUAAAAAAAABFQAAAAAAAQEFAMzMzMzOzREAAAAAAAIBDQM3MzMzMTERAAAAAAABAQkDNzMzMzMxCQJqZmZmZ2UFAZmZmZmamREDNzMzMzMxCQM3MzMzMjERAMzMzMzMzQkDNzMzMzMxEQAAAAAAAwEFAzczMzMyMREAzMzMzM/NBQGZmZmZm5kRAAAAAAADAQECamZmZmdlDQM3MzMzMzENAZmZmZmbmRkAAAAAAAMBBQGZmZmZmZkVAMzMzMzNzRECamZmZmZlCQJqZmZmZGUJAzczMzMwMRUDNzMzMzExBQDMzMzMzc0VAmpmZmZlZQkDNzMzMzIxBQGZmZmZmpkJAZmZmZmamREBmZmZmZiZCQDMzMzMzc0JAZmZmZmYmQ0AzMzMzM3NDQJqZmZmZ2UFAzczMzMyMREAAAAAAAABBQM3MzMzMzENAmpmZmZkZQkBmZmZmZmZEQM3MzMzMDENAZmZmZmYmREDNzMzMzIxAQJqZmZmZmUVAAAAAAACAQUAAAAAAAIBEQJqZmZmZ2UJAZmZmZmbmQkAzMzMzM/NCQJqZmZmZ2UNAzczMzMxMQ0CamZmZmRlDQM3MzMzMDENAmpmZmZmZRUDNzMzMzAxDQM3MzMzMzEZAmpmZmZnZQ0CamZmZmRlFQM3MzMzMzENAmpmZmZlZRUDNzMzMzExDQGZmZmZmpkJAmpmZmZnZQUDNzMzMzIxEQJqZmZmZGUJAmpmZmZnZQkCamZmZmRlEQDMzMzMzs0RAmpmZmZmZQUDNzMzMzExEQGZmZmZmZkNAAAAAAADAREAAAAAAAIBDQM3MzMzMDEZAAAAAAABAQ0DNzMzMzIxFQGZmZmZmZkJAAAAAAADAQkDNzMzMzAxDQM3MzMzMjERAzczMzMzMQUCamZmZmRlEQAAAAAAAgEJAmpmZmZnZQ0CamZmZmRlEQM3MzMzMTERAzczMzMwMQECamZmZmVlEQGZmZmZmpkJAAAAAAACAQ0CamZmZmZlDQM3MzMzMTEJAAAAAAAAAQkBmZmZmZuZCQAAAAAAAAEJAAAAAAADAREA=",
          "dtype": "f8"
         }
        },
        {
         "mode": "markers",
         "name": "Chinstrap",
         "type": "scatter",
         "x": {
          "bdata": "AAAAAAAAaEAAAAAAAIBoQAAAAAAAIGhAAAAAAACAZ0AAAAAAAKBoQAAAAAAAwGhAAAAAAABAZkAAAAAAAKBoQAAAAAAAYGhAAAAAAADAaEAAAAAAACBoQAAAAAAAQGhAAAAAAAAgZ0AAAAAAACBpQAAAAAAAwGdAAAAAAAAgaUAAAAAAAKBoQAAAAAAAoGZAAAAAAADAZ0AAAAAAAGBoQAAAAAAAoGZAAAAAAADgZ0AAAAAAAGBnQAAAAAAAIGhAAAAAAABgaEAAAAAAAKBoQAAAAAAAAGlAAAAAAAAAaUAAAAAAAOBnQAAAAAAAoGlAAAAAAABgZ0AAAAAAACBpQAAAAAAAYGdAAAAAAABgaUAAAAAAAGBoQAAAAAAA4GhAAAAAAABgaEAAAAAAAEBqQAAAAAAAAGhAAAAAAACgaUAAAAAAAEBqQAAAAAAAYGdAAAAAAACAaEAAAAAAAIBoQAAAAAAAgGhAAAAAAAAgaUAAAAAAAMBnQAAAAAAAgGpAAAAAAABgZ0AAAAAAAMBoQAAAAAAA4GhAAAAAAAAgaUAAAAAAACBoQAAAAAAAYGlAAAAAAABgZ0AAAAAAAKBoQAAAAAAA4GdAAAAAAABgaUAAAAAAAEBpQAAAAAAAQGhAAAAAAADAaUAAAAAAAKBnQAAAAAAAYGhAAAAAAADgaUAAAAAAAEBpQAAAAAAAIGhAAAAAAABAakAAAAAAAMBoQA==",
          "dtype": "f8"
         },
         "y": {
          "bdata": "AAAAAABAR0AAAAAAAABJQGZmZmZmpklAMzMzMzOzRkCamZmZmVlKQJqZmZmZmUZAzczMzMwMR0BmZmZmZqZJQAAAAAAAAEdAZmZmZmamSUDNzMzMzExHQJqZmZmZ2UlAAAAAAACAR0AAAAAAAABKQDMzMzMz80ZAAAAAAABASUBmZmZmZiZJQAAAAAAAAE1AMzMzMzMzR0CamZmZmZlIQDMzMzMzM0VAAAAAAABASECamZmZmZlFQM3MzMzMTElAmpmZmZlZR0AAAAAAAABKQAAAAAAAQElAAAAAAADASEAzMzMzMzNHQGZmZmZmZkpAMzMzMzNzRECamZmZmRlLQAAAAAAAQEVAAAAAAACASUCamZmZmdlIQAAAAAAAwEdAzczMzMzMR0AAAAAAAABKQDMzMzMzc0dAAAAAAADASkAAAAAAAIBIQJqZmZmZGUdAMzMzMzNzSUAAAAAAAMBGQDMzMzMzc0lAZmZmZmZmSUDNzMzMzAxJQAAAAAAAgEhAAAAAAADASUBmZmZmZuZIQM3MzMzMDEhAMzMzMzOzSUCamZmZmdlGQJqZmZmZWUlAAAAAAABARUCamZmZmRlKQJqZmZmZmUZAZmZmZmamSECamZmZmRlJQM3MzMzMzEZAMzMzMzPzSUBmZmZmZmZHQJqZmZmZ2UZAZmZmZmbmS0AAAAAAAMBFQM3MzMzMzEhAZmZmZmZmSUCamZmZmRlJQA==",
          "dtype": "f8"
         }
        },
        {
         "mode": "markers",
         "name": "Gentoo",
         "type": "scatter",
         "x": {
          "bdata": "AAAAAABgakAAAAAAAMBsQAAAAAAAQGpAAAAAAABAa0AAAAAAAOBqQAAAAAAAQGpAAAAAAABgakAAAAAAAGBrQAAAAAAAIGpAAAAAAADgakAAAAAAAMBqQAAAAAAAAGtAAAAAAADAakAAAAAAAKBqQAAAAAAAQGpAAAAAAAAga0AAAAAAAEBqQAAAAAAAoGtAAAAAAAAgakAAAAAAAMBrQAAAAAAAQGtAAAAAAADgakAAAAAAAKBqQAAAAAAA4GpAAAAAAADgakAAAAAAAOBqQAAAAAAAAGtAAAAAAADgakAAAAAAAEBqQAAAAAAAgGtAAAAAAADAa0AAAAAAACBqQAAAAAAA4GlAAAAAAADAbEAAAAAAAIBrQAAAAAAAgGtAAAAAAACgakAAAAAAAGBrQAAAAAAAAGpAAAAAAAAAakAAAAAAAABqQAAAAAAAIGxAAAAAAABAakAAAAAAAABrQAAAAAAAwGtAAAAAAAAga0AAAAAAAEBqQAAAAAAAIGxAAAAAAACgakAAAAAAAOBqQAAAAAAAQGpAAAAAAACAa0AAAAAAAEBqQAAAAAAAIGxAAAAAAAAga0AAAAAAAIBrQAAAAAAAAGpAAAAAAACAa0AAAAAAAABqQAAAAAAAAGxAAAAAAAAAakAAAAAAAKBrQAAAAAAAwGpAAAAAAADgbEAAAAAAAGBrQAAAAAAAwGxAAAAAAADAakAAAAAAAKBsQAAAAAAAgGtAAAAAAADga0AAAAAAAABrQAAAAAAAoGtAAAAAAACga0AAAAAAACBrQAAAAAAAAGtAAAAAAADAbEAAAAAAACBqQAAAAAAAgGtAAAAAAADgakAAAAAAAOBrQAAAAAAAgGpAAAAAAACga0AAAAAAAIBqQAAAAAAAAGxAAAAAAACAakAAAAAAAIBsQAAAAAAAQGtAAAAAAABAa0AAAAAAAIBqQAAAAAAAwGxAAAAAAABAa0AAAAAAAIBsQAAAAAAAgGpAAAAAAAAAbEAAAAAAAMBqQAAAAAAAQGxAAAAAAAAAa0AAAAAAAMBrQAAAAAAAYGlAAAAAAAAgbEAAAAAAAGBrQAAAAAAAgGxAAAAAAADgakAAAAAAAIBsQAAAAAAAAGtAAAAAAADgakAAAAAAAEBqQAAAAAAAYGtAAAAAAAAAakAAAAAAACBqQAAAAAAAAGtAAAAAAACgbEAAAAAAAKBqQAAAAAAAwGxAAAAAAAAga0AAAAAAAMBsQAAAAAAAIGtAAAAAAADAa0AAAAAAAMBqQAAAAAAA4GpAAAAAAADAa0AAAAAAAIBqQAAAAAAAoGpA",
          "dtype": "f8"
         },
         "y": {
          "bdata": "zczMzMwMR0AAAAAAAABJQJqZmZmZWUhAAAAAAAAASUDNzMzMzMxHQAAAAAAAQEdAMzMzMzOzRkCamZmZmVlHQGZmZmZmpkVAZmZmZmZmR0AzMzMzM3NEQAAAAAAAgEhAAAAAAADARkAzMzMzMzNIQGZmZmZm5kZAZmZmZmamSEAAAAAAAABFQJqZmZmZmUhAmpmZmZkZR0CamZmZmVlIQJqZmZmZGUlAzczMzMyMRkAAAAAAAEBHQGZmZmZmJkdAMzMzMzNzRUDNzMzMzAxHQAAAAAAAQEZAZmZmZmbmR0CamZmZmRlIQAAAAAAAAElAZmZmZmamR0BmZmZmZmZFQM3MzMzMjEZAzczMzMzMTUDNzMzMzIxIQDMzMzMzM0hAzczMzMxMRUAzMzMzMzNGQAAAAAAAAEZAmpmZmZlZSECamZmZmVlFQM3MzMzMzEhAZmZmZmamRkDNzMzMzMxIQAAAAAAAQElAzczMzMzMRUAAAAAAAMBGQAAAAAAAQElAMzMzMzNzRkCamZmZmZlGQM3MzMzMTEdAAAAAAABASEDNzMzMzIxGQM3MzMzMDElAAAAAAABAR0AAAAAAAIBGQGZmZmZm5kVAAAAAAADARkCamZmZmZlFQDMzMzMzM0lAZmZmZmamRkCamZmZmRlHQJqZmZmZ2UZAZmZmZmYmS0BmZmZmZuZGQGZmZmZm5khAmpmZmZkZR0AAAAAAAMBIQAAAAAAAwEVAmpmZmZlZSUCamZmZmdlHQDMzMzMzM0dAmpmZmZkZSEAAAAAAAEBHQDMzMzMzM0dAzczMzMxMSEAAAAAAAMBHQM3MzMzMjElAmpmZmZmZRkCamZmZmZlGQM3MzMzMjEhAAAAAAABASkAzMzMzM7NHQAAAAAAAAElAMzMzMzNzRkBmZmZmZmZJQDMzMzMzs0VAZmZmZmamSUAAAAAAAMBHQM3MzMzMDEpAAAAAAADAR0CamZmZmRlKQAAAAAAAwEZAAAAAAADASEAAAAAAAEBGQGZmZmZmZklAMzMzMzOzSEAzMzMzM3NHQDMzMzMzM0hAzczMzMyMSUAAAAAAAEBIQDMzMzMz80tAmpmZmZmZR0DNzMzMzIxIQGZmZmZmpkdAZmZmZmZmR0CamZmZmdlEQDMzMzMzs0pAZmZmZmamRUDNzMzMzAxIQAAAAAAAQElAZmZmZmbmSEAAAAAAAMBFQAAAAAAAwElAmpmZmZkZR0DNzMzMzIxLQAAAAAAAQEZAZmZmZmZmSECamZmZmZlHQGZmZmZmZkdAMzMzMzMzSUCamZmZmZlGQDMzMzMz80hA",
          "dtype": "f8"
         }
        }
       ],
       "layout": {
        "paper_bgcolor": "rgba(0,0,0,0)",
        "plot_bgcolor": "rgba(0,0,0,0)",
        "template": {
         "data": {
          "bar": [
           {
            "error_x": {
             "color": "#2a3f5f"
            },
            "error_y": {
             "color": "#2a3f5f"
            },
            "marker": {
             "line": {
              "color": "#E5ECF6",
              "width": 0.5
             },
             "pattern": {
              "fillmode": "overlay",
              "size": 10,
              "solidity": 0.2
             }
            },
            "type": "bar"
           }
          ],
          "barpolar": [
           {
            "marker": {
             "line": {
              "color": "#E5ECF6",
              "width": 0.5
             },
             "pattern": {
              "fillmode": "overlay",
              "size": 10,
              "solidity": 0.2
             }
            },
            "type": "barpolar"
           }
          ],
          "carpet": [
           {
            "aaxis": {
             "endlinecolor": "#2a3f5f",
             "gridcolor": "white",
             "linecolor": "white",
             "minorgridcolor": "white",
             "startlinecolor": "#2a3f5f"
            },
            "baxis": {
             "endlinecolor": "#2a3f5f",
             "gridcolor": "white",
             "linecolor": "white",
             "minorgridcolor": "white",
             "startlinecolor": "#2a3f5f"
            },
            "type": "carpet"
           }
          ],
          "choropleth": [
           {
            "colorbar": {
             "outlinewidth": 0,
             "ticks": ""
            },
            "type": "choropleth"
           }
          ],
          "contour": [
           {
            "colorbar": {
             "outlinewidth": 0,
             "ticks": ""
            },
            "colorscale": [
             [
              0,
              "#0d0887"
             ],
             [
              0.1111111111111111,
              "#46039f"
             ],
             [
              0.2222222222222222,
              "#7201a8"
             ],
             [
              0.3333333333333333,
              "#9c179e"
             ],
             [
              0.4444444444444444,
              "#bd3786"
             ],
             [
              0.5555555555555556,
              "#d8576b"
             ],
             [
              0.6666666666666666,
              "#ed7953"
             ],
             [
              0.7777777777777778,
              "#fb9f3a"
             ],
             [
              0.8888888888888888,
              "#fdca26"
             ],
             [
              1,
              "#f0f921"
             ]
            ],
            "type": "contour"
           }
          ],
          "contourcarpet": [
           {
            "colorbar": {
             "outlinewidth": 0,
             "ticks": ""
            },
            "type": "contourcarpet"
           }
          ],
          "heatmap": [
           {
            "colorbar": {
             "outlinewidth": 0,
             "ticks": ""
            },
            "colorscale": [
             [
              0,
              "#0d0887"
             ],
             [
              0.1111111111111111,
              "#46039f"
             ],
             [
              0.2222222222222222,
              "#7201a8"
             ],
             [
              0.3333333333333333,
              "#9c179e"
             ],
             [
              0.4444444444444444,
              "#bd3786"
             ],
             [
              0.5555555555555556,
              "#d8576b"
             ],
             [
              0.6666666666666666,
              "#ed7953"
             ],
             [
              0.7777777777777778,
              "#fb9f3a"
             ],
             [
              0.8888888888888888,
              "#fdca26"
             ],
             [
              1,
              "#f0f921"
             ]
            ],
            "type": "heatmap"
           }
          ],
          "histogram": [
           {
            "marker": {
             "pattern": {
              "fillmode": "overlay",
              "size": 10,
              "solidity": 0.2
             }
            },
            "type": "histogram"
           }
          ],
          "histogram2d": [
           {
            "colorbar": {
             "outlinewidth": 0,
             "ticks": ""
            },
            "colorscale": [
             [
              0,
              "#0d0887"
             ],
             [
              0.1111111111111111,
              "#46039f"
             ],
             [
              0.2222222222222222,
              "#7201a8"
             ],
             [
              0.3333333333333333,
              "#9c179e"
             ],
             [
              0.4444444444444444,
              "#bd3786"
             ],
             [
              0.5555555555555556,
              "#d8576b"
             ],
             [
              0.6666666666666666,
              "#ed7953"
             ],
             [
              0.7777777777777778,
              "#fb9f3a"
             ],
             [
              0.8888888888888888,
              "#fdca26"
             ],
             [
              1,
              "#f0f921"
             ]
            ],
            "type": "histogram2d"
           }
          ],
          "histogram2dcontour": [
           {
            "colorbar": {
             "outlinewidth": 0,
             "ticks": ""
            },
            "colorscale": [
             [
              0,
              "#0d0887"
             ],
             [
              0.1111111111111111,
              "#46039f"
             ],
             [
              0.2222222222222222,
              "#7201a8"
             ],
             [
              0.3333333333333333,
              "#9c179e"
             ],
             [
              0.4444444444444444,
              "#bd3786"
             ],
             [
              0.5555555555555556,
              "#d8576b"
             ],
             [
              0.6666666666666666,
              "#ed7953"
             ],
             [
              0.7777777777777778,
              "#fb9f3a"
             ],
             [
              0.8888888888888888,
              "#fdca26"
             ],
             [
              1,
              "#f0f921"
             ]
            ],
            "type": "histogram2dcontour"
           }
          ],
          "mesh3d": [
           {
            "colorbar": {
             "outlinewidth": 0,
             "ticks": ""
            },
            "type": "mesh3d"
           }
          ],
          "parcoords": [
           {
            "line": {
             "colorbar": {
              "outlinewidth": 0,
              "ticks": ""
             }
            },
            "type": "parcoords"
           }
          ],
          "pie": [
           {
            "automargin": true,
            "type": "pie"
           }
          ],
          "scatter": [
           {
            "fillpattern": {
             "fillmode": "overlay",
             "size": 10,
             "solidity": 0.2
            },
            "type": "scatter"
           }
          ],
          "scatter3d": [
           {
            "line": {
             "colorbar": {
              "outlinewidth": 0,
              "ticks": ""
             }
            },
            "marker": {
             "colorbar": {
              "outlinewidth": 0,
              "ticks": ""
             }
            },
            "type": "scatter3d"
           }
          ],
          "scattercarpet": [
           {
            "marker": {
             "colorbar": {
              "outlinewidth": 0,
              "ticks": ""
             }
            },
            "type": "scattercarpet"
           }
          ],
          "scattergeo": [
           {
            "marker": {
             "colorbar": {
              "outlinewidth": 0,
              "ticks": ""
             }
            },
            "type": "scattergeo"
           }
          ],
          "scattergl": [
           {
            "marker": {
             "colorbar": {
              "outlinewidth": 0,
              "ticks": ""
             }
            },
            "type": "scattergl"
           }
          ],
          "scattermap": [
           {
            "marker": {
             "colorbar": {
              "outlinewidth": 0,
              "ticks": ""
             }
            },
            "type": "scattermap"
           }
          ],
          "scattermapbox": [
           {
            "marker": {
             "colorbar": {
              "outlinewidth": 0,
              "ticks": ""
             }
            },
            "type": "scattermapbox"
           }
          ],
          "scatterpolar": [
           {
            "marker": {
             "colorbar": {
              "outlinewidth": 0,
              "ticks": ""
             }
            },
            "type": "scatterpolar"
           }
          ],
          "scatterpolargl": [
           {
            "marker": {
             "colorbar": {
              "outlinewidth": 0,
              "ticks": ""
             }
            },
            "type": "scatterpolargl"
           }
          ],
          "scatterternary": [
           {
            "marker": {
             "colorbar": {
              "outlinewidth": 0,
              "ticks": ""
             }
            },
            "type": "scatterternary"
           }
          ],
          "surface": [
           {
            "colorbar": {
             "outlinewidth": 0,
             "ticks": ""
            },
            "colorscale": [
             [
              0,
              "#0d0887"
             ],
             [
              0.1111111111111111,
              "#46039f"
             ],
             [
              0.2222222222222222,
              "#7201a8"
             ],
             [
              0.3333333333333333,
              "#9c179e"
             ],
             [
              0.4444444444444444,
              "#bd3786"
             ],
             [
              0.5555555555555556,
              "#d8576b"
             ],
             [
              0.6666666666666666,
              "#ed7953"
             ],
             [
              0.7777777777777778,
              "#fb9f3a"
             ],
             [
              0.8888888888888888,
              "#fdca26"
             ],
             [
              1,
              "#f0f921"
             ]
            ],
            "type": "surface"
           }
          ],
          "table": [
           {
            "cells": {
             "fill": {
              "color": "#EBF0F8"
             },
             "line": {
              "color": "white"
             }
            },
            "header": {
             "fill": {
              "color": "#C8D4E3"
             },
             "line": {
              "color": "white"
             }
            },
            "type": "table"
           }
          ]
         },
         "layout": {
          "annotationdefaults": {
           "arrowcolor": "#2a3f5f",
           "arrowhead": 0,
           "arrowwidth": 1
          },
          "autotypenumbers": "strict",
          "coloraxis": {
           "colorbar": {
            "outlinewidth": 0,
            "ticks": ""
           }
          },
          "colorscale": {
           "diverging": [
            [
             0,
             "#8e0152"
            ],
            [
             0.1,
             "#c51b7d"
            ],
            [
             0.2,
             "#de77ae"
            ],
            [
             0.3,
             "#f1b6da"
            ],
            [
             0.4,
             "#fde0ef"
            ],
            [
             0.5,
             "#f7f7f7"
            ],
            [
             0.6,
             "#e6f5d0"
            ],
            [
             0.7,
             "#b8e186"
            ],
            [
             0.8,
             "#7fbc41"
            ],
            [
             0.9,
             "#4d9221"
            ],
            [
             1,
             "#276419"
            ]
           ],
           "sequential": [
            [
             0,
             "#0d0887"
            ],
            [
             0.1111111111111111,
             "#46039f"
            ],
            [
             0.2222222222222222,
             "#7201a8"
            ],
            [
             0.3333333333333333,
             "#9c179e"
            ],
            [
             0.4444444444444444,
             "#bd3786"
            ],
            [
             0.5555555555555556,
             "#d8576b"
            ],
            [
             0.6666666666666666,
             "#ed7953"
            ],
            [
             0.7777777777777778,
             "#fb9f3a"
            ],
            [
             0.8888888888888888,
             "#fdca26"
            ],
            [
             1,
             "#f0f921"
            ]
           ],
           "sequentialminus": [
            [
             0,
             "#0d0887"
            ],
            [
             0.1111111111111111,
             "#46039f"
            ],
            [
             0.2222222222222222,
             "#7201a8"
            ],
            [
             0.3333333333333333,
             "#9c179e"
            ],
            [
             0.4444444444444444,
             "#bd3786"
            ],
            [
             0.5555555555555556,
             "#d8576b"
            ],
            [
             0.6666666666666666,
             "#ed7953"
            ],
            [
             0.7777777777777778,
             "#fb9f3a"
            ],
            [
             0.8888888888888888,
             "#fdca26"
            ],
            [
             1,
             "#f0f921"
            ]
           ]
          },
          "colorway": [
           "#636efa",
           "#EF553B",
           "#00cc96",
           "#ab63fa",
           "#FFA15A",
           "#19d3f3",
           "#FF6692",
           "#B6E880",
           "#FF97FF",
           "#FECB52"
          ],
          "font": {
           "color": "#2a3f5f"
          },
          "geo": {
           "bgcolor": "white",
           "lakecolor": "white",
           "landcolor": "#E5ECF6",
           "showlakes": true,
           "showland": true,
           "subunitcolor": "white"
          },
          "hoverlabel": {
           "align": "left"
          },
          "hovermode": "closest",
          "mapbox": {
           "style": "light"
          },
          "paper_bgcolor": "white",
          "plot_bgcolor": "#E5ECF6",
          "polar": {
           "angularaxis": {
            "gridcolor": "white",
            "linecolor": "white",
            "ticks": ""
           },
           "bgcolor": "#E5ECF6",
           "radialaxis": {
            "gridcolor": "white",
            "linecolor": "white",
            "ticks": ""
           }
          },
          "scene": {
           "xaxis": {
            "backgroundcolor": "#E5ECF6",
            "gridcolor": "white",
            "gridwidth": 2,
            "linecolor": "white",
            "showbackground": true,
            "ticks": "",
            "zerolinecolor": "white"
           },
           "yaxis": {
            "backgroundcolor": "#E5ECF6",
            "gridcolor": "white",
            "gridwidth": 2,
            "linecolor": "white",
            "showbackground": true,
            "ticks": "",
            "zerolinecolor": "white"
           },
           "zaxis": {
            "backgroundcolor": "#E5ECF6",
            "gridcolor": "white",
            "gridwidth": 2,
            "linecolor": "white",
            "showbackground": true,
            "ticks": "",
            "zerolinecolor": "white"
           }
          },
          "shapedefaults": {
           "line": {
            "color": "#2a3f5f"
           }
          },
          "ternary": {
           "aaxis": {
            "gridcolor": "white",
            "linecolor": "white",
            "ticks": ""
           },
           "baxis": {
            "gridcolor": "white",
            "linecolor": "white",
            "ticks": ""
           },
           "bgcolor": "#E5ECF6",
           "caxis": {
            "gridcolor": "white",
            "linecolor": "white",
            "ticks": ""
           }
          },
          "title": {
           "x": 0.05
          },
          "xaxis": {
           "automargin": true,
           "gridcolor": "white",
           "linecolor": "white",
           "ticks": "",
           "title": {
            "standoff": 15
           },
           "zerolinecolor": "white",
           "zerolinewidth": 2
          },
          "yaxis": {
           "automargin": true,
           "gridcolor": "white",
           "linecolor": "white",
           "ticks": "",
           "title": {
            "standoff": 15
           },
           "zerolinecolor": "white",
           "zerolinewidth": 2
          }
         }
        },
        "title": {
         "text": "Scatter Plot for Flipper Length vs Culmen Length"
        },
        "xaxis": {
         "title": {
          "text": "Flipper Length"
         }
        },
        "yaxis": {
         "title": {
          "text": "Culmen Length"
         }
        }
       }
      },
      "image/png": "[encoded data removed]"
     },
     "metadata": {},
     "output_type": "display_data"
    }
   ],
   "source": [
    "fig = go.Figure()\n",
    "grouped = df.groupby('species')\n",
    "\n",
    "for species, group in grouped:\n",
    "    fig.add_trace(\n",
    "        go.Scatter(x=group['flipper_length'],\n",
    "                   y=group['culmen_length'],\n",
    "                   mode='markers',\n",
    "                  name=species\n",
    "                  )\n",
    "    )\n",
    "\n",
    "fig.update_layout(\n",
    "    title='Scatter Plot for Flipper Length vs Culmen Length',\n",
    "    paper_bgcolor='rgba(0,0,0,0)',\n",
    "    plot_bgcolor='rgba(0,0,0,0)',\n",
    "    xaxis_title='Flipper Length',\n",
    "    yaxis_title='Culmen Length'\n",
    ")\n",
    "\n",
    "fig.show()"
   ]
  },
  {
   "cell_type": "code",
   "execution_count": 61,
   "id": "23e035f7-2bf5-4a95-8f86-0899bf1fc260",
   "metadata": {},
   "outputs": [],
   "source": [
    "def make_norm_pdf(norm_dist, n=101):\n",
    "    mean, std = norm_dist.mean(), norm_dist.std()\n",
    "    low = mean - std*3 # use 3 std from the mean as the lowest quantities\n",
    "    high = mean + std*3 # use std from the mean as the highest quantities\n",
    "    qs = np.linspace(low, high, n)\n",
    "    ps = norm_dist.pdf(qs)\n",
    "    ps = ps/ps.sum()\n",
    "    series = pd.Series(index=qs, data=ps)\n",
    "    return series"
   ]
  },
  {
   "cell_type": "code",
   "execution_count": 62,
   "id": "af5ea141-ba80-463f-bdf3-1f2419755eaf",
   "metadata": {},
   "outputs": [],
   "source": [
    "hypos = df.species.value_counts().index.to_list()\n",
    "join_map = {}\n",
    "for secies in hypos:\n",
    "    pdf_flipper = make_norm_pdf(flipper_map[species])\n",
    "    pdf_culmen = make_norm_pdf(culmen_map[species])\n",
    "\n",
    "    X, Y = np.meshgrid(pdf_flipper, pdf_culmen)\n",
    "    join_df = pd.DataFrame(X*Y, columns=pdf_flipper.index, index=pdf_culmen.index)\n",
    "    join_map[species] = join_df"
   ]
  },
  {
   "cell_type": "code",
   "execution_count": 36,
   "id": "37b1bebf-6366-4f7e-baca-4c920400c047",
   "metadata": {},
   "outputs": [
    {
     "data": {
      "text/html": [
       "<div>\n",
       "<style scoped>\n",
       "    .dataframe tbody tr th:only-of-type {\n",
       "        vertical-align: middle;\n",
       "    }\n",
       "\n",
       "    .dataframe tbody tr th {\n",
       "        vertical-align: top;\n",
       "    }\n",
       "\n",
       "    .dataframe thead th {\n",
       "        text-align: right;\n",
       "    }\n",
       "</style>\n",
       "<table border=\"1\" class=\"dataframe\">\n",
       "  <thead>\n",
       "    <tr style=\"text-align: right;\">\n",
       "      <th></th>\n",
       "      <th>197.732064</th>\n",
       "      <th>198.121163</th>\n",
       "      <th>198.510262</th>\n",
       "      <th>198.899360</th>\n",
       "      <th>199.288459</th>\n",
       "      <th>199.677557</th>\n",
       "      <th>200.066656</th>\n",
       "      <th>200.455754</th>\n",
       "      <th>200.844853</th>\n",
       "      <th>201.233951</th>\n",
       "      <th>...</th>\n",
       "      <th>233.140032</th>\n",
       "      <th>233.529131</th>\n",
       "      <th>233.918229</th>\n",
       "      <th>234.307328</th>\n",
       "      <th>234.696427</th>\n",
       "      <th>235.085525</th>\n",
       "      <th>235.474624</th>\n",
       "      <th>235.863722</th>\n",
       "      <th>236.252821</th>\n",
       "      <th>236.641919</th>\n",
       "    </tr>\n",
       "  </thead>\n",
       "  <tbody>\n",
       "    <tr>\n",
       "      <th>38.259306</th>\n",
       "      <td>7.105520e-08</td>\n",
       "      <td>8.491553e-08</td>\n",
       "      <td>1.011149e-07</td>\n",
       "      <td>1.199718e-07</td>\n",
       "      <td>1.418340e-07</td>\n",
       "      <td>1.670774e-07</td>\n",
       "      <td>1.961063e-07</td>\n",
       "      <td>2.293518e-07</td>\n",
       "      <td>2.672694e-07</td>\n",
       "      <td>3.103364e-07</td>\n",
       "      <td>...</td>\n",
       "      <td>3.103364e-07</td>\n",
       "      <td>2.672694e-07</td>\n",
       "      <td>2.293518e-07</td>\n",
       "      <td>1.961063e-07</td>\n",
       "      <td>1.670774e-07</td>\n",
       "      <td>1.418340e-07</td>\n",
       "      <td>1.199718e-07</td>\n",
       "      <td>1.011149e-07</td>\n",
       "      <td>8.491553e-08</td>\n",
       "      <td>7.105520e-08</td>\n",
       "    </tr>\n",
       "    <tr>\n",
       "      <th>38.444217</th>\n",
       "      <td>8.491553e-08</td>\n",
       "      <td>1.014795e-07</td>\n",
       "      <td>1.208388e-07</td>\n",
       "      <td>1.433741e-07</td>\n",
       "      <td>1.695007e-07</td>\n",
       "      <td>1.996682e-07</td>\n",
       "      <td>2.343597e-07</td>\n",
       "      <td>2.740901e-07</td>\n",
       "      <td>3.194041e-07</td>\n",
       "      <td>3.708720e-07</td>\n",
       "      <td>...</td>\n",
       "      <td>3.708720e-07</td>\n",
       "      <td>3.194041e-07</td>\n",
       "      <td>2.740901e-07</td>\n",
       "      <td>2.343597e-07</td>\n",
       "      <td>1.996682e-07</td>\n",
       "      <td>1.695007e-07</td>\n",
       "      <td>1.433741e-07</td>\n",
       "      <td>1.208388e-07</td>\n",
       "      <td>1.014795e-07</td>\n",
       "      <td>8.491553e-08</td>\n",
       "    </tr>\n",
       "    <tr>\n",
       "      <th>38.629129</th>\n",
       "      <td>1.011149e-07</td>\n",
       "      <td>1.208388e-07</td>\n",
       "      <td>1.438911e-07</td>\n",
       "      <td>1.707255e-07</td>\n",
       "      <td>2.018363e-07</td>\n",
       "      <td>2.377589e-07</td>\n",
       "      <td>2.790684e-07</td>\n",
       "      <td>3.263783e-07</td>\n",
       "      <td>3.803367e-07</td>\n",
       "      <td>4.416232e-07</td>\n",
       "      <td>...</td>\n",
       "      <td>4.416232e-07</td>\n",
       "      <td>3.803367e-07</td>\n",
       "      <td>3.263783e-07</td>\n",
       "      <td>2.790684e-07</td>\n",
       "      <td>2.377589e-07</td>\n",
       "      <td>2.018363e-07</td>\n",
       "      <td>1.707255e-07</td>\n",
       "      <td>1.438911e-07</td>\n",
       "      <td>1.208388e-07</td>\n",
       "      <td>1.011149e-07</td>\n",
       "    </tr>\n",
       "    <tr>\n",
       "      <th>38.814040</th>\n",
       "      <td>1.199718e-07</td>\n",
       "      <td>1.433741e-07</td>\n",
       "      <td>1.707255e-07</td>\n",
       "      <td>2.025642e-07</td>\n",
       "      <td>2.394769e-07</td>\n",
       "      <td>2.820987e-07</td>\n",
       "      <td>3.311121e-07</td>\n",
       "      <td>3.872448e-07</td>\n",
       "      <td>4.512660e-07</td>\n",
       "      <td>5.239818e-07</td>\n",
       "      <td>...</td>\n",
       "      <td>5.239818e-07</td>\n",
       "      <td>4.512660e-07</td>\n",
       "      <td>3.872448e-07</td>\n",
       "      <td>3.311121e-07</td>\n",
       "      <td>2.820987e-07</td>\n",
       "      <td>2.394769e-07</td>\n",
       "      <td>2.025642e-07</td>\n",
       "      <td>1.707255e-07</td>\n",
       "      <td>1.433741e-07</td>\n",
       "      <td>1.199718e-07</td>\n",
       "    </tr>\n",
       "    <tr>\n",
       "      <th>38.998952</th>\n",
       "      <td>1.418340e-07</td>\n",
       "      <td>1.695007e-07</td>\n",
       "      <td>2.018363e-07</td>\n",
       "      <td>2.394769e-07</td>\n",
       "      <td>2.831161e-07</td>\n",
       "      <td>3.335047e-07</td>\n",
       "      <td>3.914497e-07</td>\n",
       "      <td>4.578113e-07</td>\n",
       "      <td>5.334989e-07</td>\n",
       "      <td>6.194655e-07</td>\n",
       "      <td>...</td>\n",
       "      <td>6.194655e-07</td>\n",
       "      <td>5.334989e-07</td>\n",
       "      <td>4.578113e-07</td>\n",
       "      <td>3.914497e-07</td>\n",
       "      <td>3.335047e-07</td>\n",
       "      <td>2.831161e-07</td>\n",
       "      <td>2.394769e-07</td>\n",
       "      <td>2.018363e-07</td>\n",
       "      <td>1.695007e-07</td>\n",
       "      <td>1.418340e-07</td>\n",
       "    </tr>\n",
       "  </tbody>\n",
       "</table>\n",
       "<p>5 rows × 101 columns</p>\n",
       "</div>"
      ],
      "text/plain": [
       "             197.732064    198.121163    198.510262    198.899360  \\\n",
       "38.259306  7.105520e-08  8.491553e-08  1.011149e-07  1.199718e-07   \n",
       "38.444217  8.491553e-08  1.014795e-07  1.208388e-07  1.433741e-07   \n",
       "38.629129  1.011149e-07  1.208388e-07  1.438911e-07  1.707255e-07   \n",
       "38.814040  1.199718e-07  1.433741e-07  1.707255e-07  2.025642e-07   \n",
       "38.998952  1.418340e-07  1.695007e-07  2.018363e-07  2.394769e-07   \n",
       "\n",
       "             199.288459    199.677557    200.066656    200.455754  \\\n",
       "38.259306  1.418340e-07  1.670774e-07  1.961063e-07  2.293518e-07   \n",
       "38.444217  1.695007e-07  1.996682e-07  2.343597e-07  2.740901e-07   \n",
       "38.629129  2.018363e-07  2.377589e-07  2.790684e-07  3.263783e-07   \n",
       "38.814040  2.394769e-07  2.820987e-07  3.311121e-07  3.872448e-07   \n",
       "38.998952  2.831161e-07  3.335047e-07  3.914497e-07  4.578113e-07   \n",
       "\n",
       "             200.844853    201.233951  ...    233.140032    233.529131  \\\n",
       "38.259306  2.672694e-07  3.103364e-07  ...  3.103364e-07  2.672694e-07   \n",
       "38.444217  3.194041e-07  3.708720e-07  ...  3.708720e-07  3.194041e-07   \n",
       "38.629129  3.803367e-07  4.416232e-07  ...  4.416232e-07  3.803367e-07   \n",
       "38.814040  4.512660e-07  5.239818e-07  ...  5.239818e-07  4.512660e-07   \n",
       "38.998952  5.334989e-07  6.194655e-07  ...  6.194655e-07  5.334989e-07   \n",
       "\n",
       "             233.918229    234.307328    234.696427    235.085525  \\\n",
       "38.259306  2.293518e-07  1.961063e-07  1.670774e-07  1.418340e-07   \n",
       "38.444217  2.740901e-07  2.343597e-07  1.996682e-07  1.695007e-07   \n",
       "38.629129  3.263783e-07  2.790684e-07  2.377589e-07  2.018363e-07   \n",
       "38.814040  3.872448e-07  3.311121e-07  2.820987e-07  2.394769e-07   \n",
       "38.998952  4.578113e-07  3.914497e-07  3.335047e-07  2.831161e-07   \n",
       "\n",
       "             235.474624    235.863722    236.252821    236.641919  \n",
       "38.259306  1.199718e-07  1.011149e-07  8.491553e-08  7.105520e-08  \n",
       "38.444217  1.433741e-07  1.208388e-07  1.014795e-07  8.491553e-08  \n",
       "38.629129  1.707255e-07  1.438911e-07  1.208388e-07  1.011149e-07  \n",
       "38.814040  2.025642e-07  1.707255e-07  1.433741e-07  1.199718e-07  \n",
       "38.998952  2.394769e-07  2.018363e-07  1.695007e-07  1.418340e-07  \n",
       "\n",
       "[5 rows x 101 columns]"
      ]
     },
     "execution_count": 36,
     "metadata": {},
     "output_type": "execute_result"
    }
   ],
   "source": [
    "join_map['Gentoo'].head()"
   ]
  },
  {
   "cell_type": "markdown",
   "id": "85a09c77-6b6f-4563-8268-50f884ffdd5e",
   "metadata": {},
   "source": [
    "### Multivariate Normal Distribution\n",
    "\n",
    "A univariate normal distribution is characterized by its mean and standard deviation.<br/>\n",
    "A multivariate normal distributioin is characterized by the means of the features and the **covariance matrix**, which contains:\n",
    "- **variances** which quantify the spread of the features\n",
    "- **covariances** which quantify the relationships among them"
   ]
  },
  {
   "cell_type": "code",
   "execution_count": 63,
   "id": "99d4658b-8dae-4fae-a42f-081f33ec39db",
   "metadata": {},
   "outputs": [],
   "source": [
    "features = df[['flipper_length', 'culmen_length']]\n",
    "mean = features.mean()\n",
    "cov = features.cov()"
   ]
  },
  {
   "cell_type": "code",
   "execution_count": 64,
   "id": "b2b68ecc-4fcb-4e0f-8046-fc63cfc20c18",
   "metadata": {},
   "outputs": [
    {
     "data": {
      "text/html": [
       "<div>\n",
       "<style scoped>\n",
       "    .dataframe tbody tr th:only-of-type {\n",
       "        vertical-align: middle;\n",
       "    }\n",
       "\n",
       "    .dataframe tbody tr th {\n",
       "        vertical-align: top;\n",
       "    }\n",
       "\n",
       "    .dataframe thead th {\n",
       "        text-align: right;\n",
       "    }\n",
       "</style>\n",
       "<table border=\"1\" class=\"dataframe\">\n",
       "  <thead>\n",
       "    <tr style=\"text-align: right;\">\n",
       "      <th></th>\n",
       "      <th>flipper_length</th>\n",
       "      <th>culmen_length</th>\n",
       "    </tr>\n",
       "  </thead>\n",
       "  <tbody>\n",
       "    <tr>\n",
       "      <th>flipper_length</th>\n",
       "      <td>197.731792</td>\n",
       "      <td>50.375765</td>\n",
       "    </tr>\n",
       "    <tr>\n",
       "      <th>culmen_length</th>\n",
       "      <td>50.375765</td>\n",
       "      <td>29.807054</td>\n",
       "    </tr>\n",
       "  </tbody>\n",
       "</table>\n",
       "</div>"
      ],
      "text/plain": [
       "                flipper_length  culmen_length\n",
       "flipper_length      197.731792      50.375765\n",
       "culmen_length        50.375765      29.807054"
      ]
     },
     "execution_count": 64,
     "metadata": {},
     "output_type": "execute_result"
    }
   ],
   "source": [
    "cov"
   ]
  },
  {
   "cell_type": "markdown",
   "id": "6bcd1d20-2180-4a6c-90ff-a9830bf2dd3d",
   "metadata": {},
   "source": [
    "The elements on the diagonal are the variances; the elements off the diagonal are covariances."
   ]
  },
  {
   "cell_type": "code",
   "execution_count": 65,
   "id": "eeff8a3b-b23e-40b0-8a0e-6091b1b75bd9",
   "metadata": {},
   "outputs": [],
   "source": [
    "colnames = features.columns.to_list()\n",
    "grouped = df.groupby('species')\n",
    "multinorm_map = {}\n",
    "for species, group in grouped:\n",
    "    features = group[colnames]\n",
    "    mean = features.mean()\n",
    "    cov = features.cov()\n",
    "    multinorm_map[species] = stats.multivariate_normal(mean=mean, cov=cov)"
   ]
  },
  {
   "cell_type": "code",
   "execution_count": 66,
   "id": "1b7d2231-c26d-4485-88d0-d6e049d0fc10",
   "metadata": {},
   "outputs": [
    {
     "data": {
      "text/plain": [
       "{'Adelie': <scipy.stats._multivariate.multivariate_normal_frozen at 0x707b028f0890>,\n",
       " 'Chinstrap': <scipy.stats._multivariate.multivariate_normal_frozen at 0x707b049fa210>,\n",
       " 'Gentoo': <scipy.stats._multivariate.multivariate_normal_frozen at 0x707b028de910>}"
      ]
     },
     "execution_count": 66,
     "metadata": {},
     "output_type": "execute_result"
    }
   ],
   "source": [
    "multinorm_map"
   ]
  },
  {
   "cell_type": "code",
   "execution_count": 70,
   "id": "b0b72800-352d-463a-8473-e9224b588b6b",
   "metadata": {},
   "outputs": [
    {
     "data": {
      "text/html": [
       "<div>\n",
       "<style scoped>\n",
       "    .dataframe tbody tr th:only-of-type {\n",
       "        vertical-align: middle;\n",
       "    }\n",
       "\n",
       "    .dataframe tbody tr th {\n",
       "        vertical-align: top;\n",
       "    }\n",
       "\n",
       "    .dataframe thead th {\n",
       "        text-align: right;\n",
       "    }\n",
       "</style>\n",
       "<table border=\"1\" class=\"dataframe\">\n",
       "  <thead>\n",
       "    <tr style=\"text-align: right;\">\n",
       "      <th></th>\n",
       "      <th>probs</th>\n",
       "    </tr>\n",
       "  </thead>\n",
       "  <tbody>\n",
       "    <tr>\n",
       "      <th>Adelie</th>\n",
       "      <td>0.002740</td>\n",
       "    </tr>\n",
       "    <tr>\n",
       "      <th>Chinstrap</th>\n",
       "      <td>0.997257</td>\n",
       "    </tr>\n",
       "    <tr>\n",
       "      <th>Gentoo</th>\n",
       "      <td>0.000003</td>\n",
       "    </tr>\n",
       "  </tbody>\n",
       "</table>\n",
       "</div>"
      ],
      "text/plain": [
       "              probs\n",
       "Adelie     0.002740\n",
       "Chinstrap  0.997257\n",
       "Gentoo     0.000003"
      ]
     },
     "execution_count": 70,
     "metadata": {},
     "output_type": "execute_result"
    }
   ],
   "source": [
    "# test update posterior\n",
    "data = [193, 48] # flipper_length and culmen_length respectively\n",
    "update_posterior(prior, data, multinorm_map)"
   ]
  },
  {
   "cell_type": "markdown",
   "id": "cc14a4b9-728d-4ab4-b44d-6abdda179628",
   "metadata": {},
   "source": [
    "A penguin with those measurements is almost certainly a Chinstrap."
   ]
  },
  {
   "cell_type": "code",
   "execution_count": 71,
   "id": "40da3352-d175-47d7-b641-2a4d79d659b5",
   "metadata": {},
   "outputs": [
    {
     "name": "stderr",
     "output_type": "stream",
     "text": [
      "/tmp/ipykernel_16915/679419869.py:6: FutureWarning:\n",
      "\n",
      "Setting an item of incompatible dtype is deprecated and will raise an error in a future version of pandas. Value 'Adelie' has dtype incompatible with float64, please explicitly cast to a compatible dtype first.\n",
      "\n"
     ]
    }
   ],
   "source": [
    "df['predicted_2'] = np.nan\n",
    "df['prediction_proba_2'] = np.nan\n",
    "for i, row in df.iterrows():\n",
    "    data = row[colnames]\n",
    "    posterior = update_posterior(prior, data, multinorm_map)\n",
    "    df.loc[i, 'predicted_2'] = posterior['probs'].idxmax()\n",
    "    df.loc[i, 'prediction_proba_2'] = posterior['probs'].max()"
   ]
  },
  {
   "cell_type": "code",
   "execution_count": 72,
   "id": "9f7bf468-06dd-4e39-97ae-3c4dc3b6dde1",
   "metadata": {},
   "outputs": [
    {
     "data": {
      "text/plain": [
       "(0.9532163742690059, 16, 342)"
      ]
     },
     "execution_count": 72,
     "metadata": {},
     "output_type": "execute_result"
    }
   ],
   "source": [
    "wrong_prediction = len(df[df['species'] != df['predicted_2']])\n",
    "\n",
    "(len(df)-wrong_prediction)/len(df), wrong_prediction, len(df)"
   ]
  },
  {
   "cell_type": "markdown",
   "id": "4b37f2de-4ce5-4058-b458-86d92a4655dc",
   "metadata": {},
   "source": [
    "It turns out to be a little better, the accuracy is 95.3%, compared to 94.7% for the naive bayesian classifier."
   ]
  },
  {
   "cell_type": "code",
   "execution_count": null,
   "id": "94b4c73b-4624-440a-80b3-6b44fb0e31d5",
   "metadata": {},
   "outputs": [],
   "source": []
  },
  {
   "cell_type": "code",
   "execution_count": null,
   "id": "1af6ffc6-8ee0-47db-bd70-b6ce9072c8e5",
   "metadata": {},
   "outputs": [],
   "source": []
  },
  {
   "cell_type": "code",
   "execution_count": null,
   "id": "01798312-d770-4021-bf00-6e0c432e6f0c",
   "metadata": {},
   "outputs": [],
   "source": []
  }
 ],
 "metadata": {
  "kernelspec": {
   "display_name": "Python 3 (ipykernel)",
   "language": "python",
   "name": "python3"
  },
  "language_info": {
   "codemirror_mode": {
    "name": "ipython",
    "version": 3
   },
   "file_extension": ".py",
   "mimetype": "text/x-python",
   "name": "python",
   "nbconvert_exporter": "python",
   "pygments_lexer": "ipython3",
   "version": "3.11.0"
  }
 },
 "nbformat": 4,
 "nbformat_minor": 5
}
