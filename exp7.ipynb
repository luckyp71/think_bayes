{
 "cells": [
  {
   "cell_type": "markdown",
   "id": "ba885805-9080-4f4b-b892-d01c60691324",
   "metadata": {},
   "source": [
    "# Classification"
   ]
  },
  {
   "cell_type": "code",
   "execution_count": 52,
   "id": "07c8425a-20b7-4a0c-ac9a-541dcd2917d8",
   "metadata": {},
   "outputs": [],
   "source": [
    "import numpy as np\n",
    "import pandas as pd\n",
    "import scipy.stats as stats\n",
    "import plotly.graph_objects as go\n",
    "from plotly.subplots import make_subplots\n",
    "import matplotlib.pyplot as plt"
   ]
  },
  {
   "cell_type": "code",
   "execution_count": 2,
   "id": "3b3f21e2-9580-45c3-af00-be5c8662dad7",
   "metadata": {},
   "outputs": [],
   "source": [
    "df = pd.read_csv('./data/penguins_raw.csv')"
   ]
  },
  {
   "cell_type": "code",
   "execution_count": 3,
   "id": "6675c296-73b4-4aa3-97c2-cf7422d421b4",
   "metadata": {},
   "outputs": [
    {
     "name": "stdout",
     "output_type": "stream",
     "text": [
      "<class 'pandas.core.frame.DataFrame'>\n",
      "RangeIndex: 344 entries, 0 to 343\n",
      "Data columns (total 17 columns):\n",
      " #   Column               Non-Null Count  Dtype  \n",
      "---  ------               --------------  -----  \n",
      " 0   studyName            344 non-null    object \n",
      " 1   Sample Number        344 non-null    int64  \n",
      " 2   Species              344 non-null    object \n",
      " 3   Region               344 non-null    object \n",
      " 4   Island               344 non-null    object \n",
      " 5   Stage                344 non-null    object \n",
      " 6   Individual ID        344 non-null    object \n",
      " 7   Clutch Completion    344 non-null    object \n",
      " 8   Date Egg             344 non-null    object \n",
      " 9   Culmen Length (mm)   342 non-null    float64\n",
      " 10  Culmen Depth (mm)    342 non-null    float64\n",
      " 11  Flipper Length (mm)  342 non-null    float64\n",
      " 12  Body Mass (g)        342 non-null    float64\n",
      " 13  Sex                  333 non-null    object \n",
      " 14  Delta 15 N (o/oo)    330 non-null    float64\n",
      " 15  Delta 13 C (o/oo)    331 non-null    float64\n",
      " 16  Comments             54 non-null     object \n",
      "dtypes: float64(6), int64(1), object(10)\n",
      "memory usage: 45.8+ KB\n"
     ]
    }
   ],
   "source": [
    "df.info()"
   ]
  },
  {
   "cell_type": "code",
   "execution_count": 9,
   "id": "c59e2186-11e7-4665-aa44-3808fbf7af85",
   "metadata": {},
   "outputs": [],
   "source": [
    "df = df[['Species', 'Culmen Length (mm)','Culmen Depth (mm)','Flipper Length (mm)',\n",
    "   'Body Mass (g)']]\n",
    "\n",
    "df.columns = ['species', 'culmen_length', 'culmen_depth', 'flipper_length', 'body_mass']\n",
    "\n",
    "df['species'] = df['species'].apply(lambda x: x.split()[0])"
   ]
  },
  {
   "cell_type": "code",
   "execution_count": 10,
   "id": "49904460-f0b9-499e-a229-1f21e957a077",
   "metadata": {},
   "outputs": [
    {
     "data": {
      "text/html": [
       "<div>\n",
       "<style scoped>\n",
       "    .dataframe tbody tr th:only-of-type {\n",
       "        vertical-align: middle;\n",
       "    }\n",
       "\n",
       "    .dataframe tbody tr th {\n",
       "        vertical-align: top;\n",
       "    }\n",
       "\n",
       "    .dataframe thead th {\n",
       "        text-align: right;\n",
       "    }\n",
       "</style>\n",
       "<table border=\"1\" class=\"dataframe\">\n",
       "  <thead>\n",
       "    <tr style=\"text-align: right;\">\n",
       "      <th></th>\n",
       "      <th>species</th>\n",
       "      <th>culmen_length</th>\n",
       "      <th>culmen_depth</th>\n",
       "      <th>flipper_length</th>\n",
       "      <th>body_mass</th>\n",
       "    </tr>\n",
       "  </thead>\n",
       "  <tbody>\n",
       "    <tr>\n",
       "      <th>0</th>\n",
       "      <td>Adelie</td>\n",
       "      <td>39.1</td>\n",
       "      <td>18.7</td>\n",
       "      <td>181.0</td>\n",
       "      <td>3750.0</td>\n",
       "    </tr>\n",
       "    <tr>\n",
       "      <th>1</th>\n",
       "      <td>Adelie</td>\n",
       "      <td>39.5</td>\n",
       "      <td>17.4</td>\n",
       "      <td>186.0</td>\n",
       "      <td>3800.0</td>\n",
       "    </tr>\n",
       "    <tr>\n",
       "      <th>2</th>\n",
       "      <td>Adelie</td>\n",
       "      <td>40.3</td>\n",
       "      <td>18.0</td>\n",
       "      <td>195.0</td>\n",
       "      <td>3250.0</td>\n",
       "    </tr>\n",
       "    <tr>\n",
       "      <th>4</th>\n",
       "      <td>Adelie</td>\n",
       "      <td>36.7</td>\n",
       "      <td>19.3</td>\n",
       "      <td>193.0</td>\n",
       "      <td>3450.0</td>\n",
       "    </tr>\n",
       "    <tr>\n",
       "      <th>5</th>\n",
       "      <td>Adelie</td>\n",
       "      <td>39.3</td>\n",
       "      <td>20.6</td>\n",
       "      <td>190.0</td>\n",
       "      <td>3650.0</td>\n",
       "    </tr>\n",
       "  </tbody>\n",
       "</table>\n",
       "</div>"
      ],
      "text/plain": [
       "  species  culmen_length  culmen_depth  flipper_length  body_mass\n",
       "0  Adelie           39.1          18.7           181.0     3750.0\n",
       "1  Adelie           39.5          17.4           186.0     3800.0\n",
       "2  Adelie           40.3          18.0           195.0     3250.0\n",
       "4  Adelie           36.7          19.3           193.0     3450.0\n",
       "5  Adelie           39.3          20.6           190.0     3650.0"
      ]
     },
     "execution_count": 10,
     "metadata": {},
     "output_type": "execute_result"
    }
   ],
   "source": [
    "df.head()"
   ]
  },
  {
   "cell_type": "code",
   "execution_count": 11,
   "id": "c1a562d3-00ec-42f9-9ed0-8eb0f240764d",
   "metadata": {},
   "outputs": [
    {
     "data": {
      "text/plain": [
       "species\n",
       "Adelie       151\n",
       "Gentoo       123\n",
       "Chinstrap     68\n",
       "Name: count, dtype: int64"
      ]
     },
     "execution_count": 11,
     "metadata": {},
     "output_type": "execute_result"
    }
   ],
   "source": [
    "df.species.value_counts()"
   ]
  },
  {
   "cell_type": "code",
   "execution_count": 40,
   "id": "c9d886e0-e6d1-4b42-8e53-2740c45b0f89",
   "metadata": {},
   "outputs": [],
   "source": [
    "adelie_df = df[df['species']=='Adelie']\n",
    "gentoo_df = df[df['species']=='Gentoo']\n",
    "chinstrap_df = df[df['species']=='Chinstrap']"
   ]
  },
  {
   "cell_type": "markdown",
   "id": "e10ff4cf-3a87-4452-9787-ecaaae3dde1f",
   "metadata": {},
   "source": [
    "The measurements will be most useful for classification if there are substantial differences between species and small variation within species."
   ]
  },
  {
   "cell_type": "markdown",
   "id": "cef4e816-a83b-4556-8b93-741f730bade5",
   "metadata": {},
   "source": [
    "### CDF for culmen_length"
   ]
  },
  {
   "cell_type": "markdown",
   "id": "120460a6-a6e7-446c-a6bd-8a35ff28ed27",
   "metadata": {},
   "source": [
    "#### Adelie"
   ]
  },
  {
   "cell_type": "code",
   "execution_count": 113,
   "id": "509a31db-c228-44df-8e88-a9b7e5de1131",
   "metadata": {},
   "outputs": [
    {
     "data": {
      "text/html": [
       "<div>\n",
       "<style scoped>\n",
       "    .dataframe tbody tr th:only-of-type {\n",
       "        vertical-align: middle;\n",
       "    }\n",
       "\n",
       "    .dataframe tbody tr th {\n",
       "        vertical-align: top;\n",
       "    }\n",
       "\n",
       "    .dataframe thead th {\n",
       "        text-align: right;\n",
       "    }\n",
       "</style>\n",
       "<table border=\"1\" class=\"dataframe\">\n",
       "  <thead>\n",
       "    <tr style=\"text-align: right;\">\n",
       "      <th></th>\n",
       "      <th>culmen_length</th>\n",
       "      <th>culmen_depth</th>\n",
       "      <th>flipper_length</th>\n",
       "      <th>body_mass</th>\n",
       "    </tr>\n",
       "  </thead>\n",
       "  <tbody>\n",
       "    <tr>\n",
       "      <th>count</th>\n",
       "      <td>342.000000</td>\n",
       "      <td>342.000000</td>\n",
       "      <td>342.000000</td>\n",
       "      <td>342.000000</td>\n",
       "    </tr>\n",
       "    <tr>\n",
       "      <th>mean</th>\n",
       "      <td>43.921930</td>\n",
       "      <td>17.151170</td>\n",
       "      <td>200.915205</td>\n",
       "      <td>4201.754386</td>\n",
       "    </tr>\n",
       "    <tr>\n",
       "      <th>std</th>\n",
       "      <td>5.459584</td>\n",
       "      <td>1.974793</td>\n",
       "      <td>14.061714</td>\n",
       "      <td>801.954536</td>\n",
       "    </tr>\n",
       "    <tr>\n",
       "      <th>min</th>\n",
       "      <td>32.100000</td>\n",
       "      <td>13.100000</td>\n",
       "      <td>172.000000</td>\n",
       "      <td>2700.000000</td>\n",
       "    </tr>\n",
       "    <tr>\n",
       "      <th>25%</th>\n",
       "      <td>39.225000</td>\n",
       "      <td>15.600000</td>\n",
       "      <td>190.000000</td>\n",
       "      <td>3550.000000</td>\n",
       "    </tr>\n",
       "    <tr>\n",
       "      <th>50%</th>\n",
       "      <td>44.450000</td>\n",
       "      <td>17.300000</td>\n",
       "      <td>197.000000</td>\n",
       "      <td>4050.000000</td>\n",
       "    </tr>\n",
       "    <tr>\n",
       "      <th>75%</th>\n",
       "      <td>48.500000</td>\n",
       "      <td>18.700000</td>\n",
       "      <td>213.000000</td>\n",
       "      <td>4750.000000</td>\n",
       "    </tr>\n",
       "    <tr>\n",
       "      <th>max</th>\n",
       "      <td>59.600000</td>\n",
       "      <td>21.500000</td>\n",
       "      <td>231.000000</td>\n",
       "      <td>6300.000000</td>\n",
       "    </tr>\n",
       "  </tbody>\n",
       "</table>\n",
       "</div>"
      ],
      "text/plain": [
       "       culmen_length  culmen_depth  flipper_length    body_mass\n",
       "count     342.000000    342.000000      342.000000   342.000000\n",
       "mean       43.921930     17.151170      200.915205  4201.754386\n",
       "std         5.459584      1.974793       14.061714   801.954536\n",
       "min        32.100000     13.100000      172.000000  2700.000000\n",
       "25%        39.225000     15.600000      190.000000  3550.000000\n",
       "50%        44.450000     17.300000      197.000000  4050.000000\n",
       "75%        48.500000     18.700000      213.000000  4750.000000\n",
       "max        59.600000     21.500000      231.000000  6300.000000"
      ]
     },
     "execution_count": 113,
     "metadata": {},
     "output_type": "execute_result"
    }
   ],
   "source": [
    "df.describe()"
   ]
  },
  {
   "cell_type": "code",
   "execution_count": 136,
   "id": "ddc11c04-baa9-4fe6-9710-1a9267c22f04",
   "metadata": {},
   "outputs": [],
   "source": [
    "# Estimate mean and std of culmen_length for each species\n",
    "mean_adelie, std_adelie = stats.norm.fit(adelie_df['culmen_length'])\n",
    "mean_gentoo, std_gentoo = stats.norm.fit(gentoo_df['culmen_length'])\n",
    "mean_chin, std_chin = stats.norm.fit(chinstrap_df['culmen_length'])\n",
    "\n",
    "\n",
    "# Create possible values (quantities) for culmen_length\n",
    "qs = np.linspace(start=df.culmen_length.min(), stop=df.culmen_length.max(), num=30)\n",
    "\n",
    "cdf_adelie = stats.norm.cdf(qs, loc=mean_adelie, scale=std_adelie)\n",
    "cdf_gentoo = stats.norm.cdf(qs, loc=mean_gentoo, scale=std_gentoo)\n",
    "cdf_chin = stats.norm.cdf(qs, loc=mean_chin, scale=std_chin)\n",
    "\n",
    "adelie_series = pd.Series(data=cdf_adelie, index=qs)\n",
    "gentoo_series = pd.Series(data=cdf_gentoo, index=qs)\n",
    "chin_series = pd.Series(data=cdf_chin, index=qs)"
   ]
  },
  {
   "cell_type": "code",
   "execution_count": 137,
   "id": "0acbefd0-e038-46b6-94ca-69c4d74723bc",
   "metadata": {},
   "outputs": [
    {
     "data": {
      "application/vnd.plotly.v1+json": {
       "config": {
        "plotlyServerURL": "https://plot.ly"
       },
       "data": [
        {
         "mode": "lines",
         "name": "Adelie",
         "type": "scatter",
         "x": {
          "bdata": "zczMzMwMQEDfYkjnLYZAQPD4wwGP/0BAAo8/HPB4QUAUJbs2UfJBQCW7NlGya0JAN1GyaxPlQkBJ5y2GdF5DQFp9qaDV10NAbBMluzZRREB+qaDVl8pEQI8/HPD4Q0VAodWXClq9RUCyaxMluzZGQMQBjz8csEZA1pcKWn0pR0DoLYZ03qJHQPnDAY8/HEhAC1p9qaCVSEAc8PjDAQ9JQC6GdN5iiElAQBzw+MMBSkBSsmsTJXtKQGNI5y2G9EpAdd5iSOdtS0CGdN5iSOdLQJgKWn2pYExAqqDVlwraTEC8NlGya1NNQM3MzMzMzE1A",
          "dtype": "f8"
         },
         "y": {
          "bdata": "KZKOS3X8dz9W5uaDfDyPP0GuJmIRJaI//HoV+6Xbsj+0xbjKO5jBP7CeMV0Zm80/8V/xdcSW1j9nuGFvYHzfP2xrxrQgOeQ/RVIOMT8z6D9qvN9/0E/rP7D/RrMdde0/BdlxE/nC7j/w2yxv0HXvP7m2+BJAyu8/mtNNj2Lt7z9NYyQiRfrvP9CEvkNv/u8/rz7l8p7/7z/QnvYu6//vP5Rkdgz8/+8/fRwxVv//7z8UrM3m///vP+5isvz//+8/qhie////7z8h/vX////vP+EY/////+8/mu3/////7z+1/v/////vP+z//////+8/",
          "dtype": "f8"
         }
        },
        {
         "mode": "lines",
         "name": "Gento",
         "type": "scatter",
         "x": {
          "bdata": "zczMzMwMQEDfYkjnLYZAQPD4wwGP/0BAAo8/HPB4QUAUJbs2UfJBQCW7NlGya0JAN1GyaxPlQkBJ5y2GdF5DQFp9qaDV10NAbBMluzZRREB+qaDVl8pEQI8/HPD4Q0VAodWXClq9RUCyaxMluzZGQMQBjz8csEZA1pcKWn0pR0DoLYZ03qJHQPnDAY8/HEhAC1p9qaCVSEAc8PjDAQ9JQC6GdN5iiElAQBzw+MMBSkBSsmsTJXtKQGNI5y2G9EpAdd5iSOdtS0CGdN5iSOdLQJgKWn2pYExAqqDVlwraTEC8NlGya1NNQM3MzMzMzE1A",
          "dtype": "f8"
         },
         "y": {
          "bdata": "9OHbVmVtkT6Z7uYuJMa0PmjbksIsltY+kg5/Kl9o9j4eBOu9K0sUP+M/mxWByTA/8NdW9kViST80EJzT3Y1hP4IYQytvOnY/5LX9flnMiT8F0oHCBXubP9WI1YNM6ao/mNlxvRdHuD8srJwGNTrEP5K1CenNOc8//jWhIjVq1j/sJBcRbRHeP6hdyEFU8+I/Ho/bHMeY5j+BgXiFT6/pP3blRG5REOw/AXWDghe77T9g48qPI8vuP0Pzm7jiaO8/2GuV+Ra87z+NUhKdAuTvP7mm1sVu9e8/gIoLZln87z+Qz3nI2P7vP3cEscyq/+8/",
          "dtype": "f8"
         }
        },
        {
         "mode": "lines",
         "name": "Chin",
         "type": "scatter",
         "x": {
          "bdata": "zczMzMwMQEDfYkjnLYZAQPD4wwGP/0BAAo8/HPB4QUAUJbs2UfJBQCW7NlGya0JAN1GyaxPlQkBJ5y2GdF5DQFp9qaDV10NAbBMluzZRREB+qaDVl8pEQI8/HPD4Q0VAodWXClq9RUCyaxMluzZGQMQBjz8csEZA1pcKWn0pR0DoLYZ03qJHQPnDAY8/HEhAC1p9qaCVSEAc8PjDAQ9JQC6GdN5iiElAQBzw+MMBSkBSsmsTJXtKQGNI5y2G9EpAdd5iSOdtS0CGdN5iSOdLQJgKWn2pYExAqqDVlwraTEC8NlGya1NNQM3MzMzMzE1A",
          "dtype": "f8"
         },
         "y": {
          "bdata": "r3Go1fvhjT4f+47U9wuwPrq1Bgr02c8+kVs+Xm447T48YdEwyckIP9lfnFXrcyM/NlPnse9BPD91VgSTewFTP/rW/x7lsGc/z3F5jvZiez+kRyJIFmONP5zRNQvTTZ0/jgBChx4xqz+IpebcroS3PxZYjv1R/8I/OBCf8a27zD/gxJKtJmfUP0cD+VrJTds/QCcubOFJ4T9xY9hQgNLkP0bwXOff/Oc/xIwxTCSa6j9OqZHQt5fsP3406OJp/e0/RsGZk+Tk7j9DyyoA/27vPz3EruL0uu8/1ZeveHnh7z9iuOMde/PvPzxicMM9++8/",
          "dtype": "f8"
         }
        }
       ],
       "layout": {
        "plot_bgcolor": "rgba(0,0,0,0)",
        "template": {
         "data": {
          "bar": [
           {
            "error_x": {
             "color": "#2a3f5f"
            },
            "error_y": {
             "color": "#2a3f5f"
            },
            "marker": {
             "line": {
              "color": "#E5ECF6",
              "width": 0.5
             },
             "pattern": {
              "fillmode": "overlay",
              "size": 10,
              "solidity": 0.2
             }
            },
            "type": "bar"
           }
          ],
          "barpolar": [
           {
            "marker": {
             "line": {
              "color": "#E5ECF6",
              "width": 0.5
             },
             "pattern": {
              "fillmode": "overlay",
              "size": 10,
              "solidity": 0.2
             }
            },
            "type": "barpolar"
           }
          ],
          "carpet": [
           {
            "aaxis": {
             "endlinecolor": "#2a3f5f",
             "gridcolor": "white",
             "linecolor": "white",
             "minorgridcolor": "white",
             "startlinecolor": "#2a3f5f"
            },
            "baxis": {
             "endlinecolor": "#2a3f5f",
             "gridcolor": "white",
             "linecolor": "white",
             "minorgridcolor": "white",
             "startlinecolor": "#2a3f5f"
            },
            "type": "carpet"
           }
          ],
          "choropleth": [
           {
            "colorbar": {
             "outlinewidth": 0,
             "ticks": ""
            },
            "type": "choropleth"
           }
          ],
          "contour": [
           {
            "colorbar": {
             "outlinewidth": 0,
             "ticks": ""
            },
            "colorscale": [
             [
              0,
              "#0d0887"
             ],
             [
              0.1111111111111111,
              "#46039f"
             ],
             [
              0.2222222222222222,
              "#7201a8"
             ],
             [
              0.3333333333333333,
              "#9c179e"
             ],
             [
              0.4444444444444444,
              "#bd3786"
             ],
             [
              0.5555555555555556,
              "#d8576b"
             ],
             [
              0.6666666666666666,
              "#ed7953"
             ],
             [
              0.7777777777777778,
              "#fb9f3a"
             ],
             [
              0.8888888888888888,
              "#fdca26"
             ],
             [
              1,
              "#f0f921"
             ]
            ],
            "type": "contour"
           }
          ],
          "contourcarpet": [
           {
            "colorbar": {
             "outlinewidth": 0,
             "ticks": ""
            },
            "type": "contourcarpet"
           }
          ],
          "heatmap": [
           {
            "colorbar": {
             "outlinewidth": 0,
             "ticks": ""
            },
            "colorscale": [
             [
              0,
              "#0d0887"
             ],
             [
              0.1111111111111111,
              "#46039f"
             ],
             [
              0.2222222222222222,
              "#7201a8"
             ],
             [
              0.3333333333333333,
              "#9c179e"
             ],
             [
              0.4444444444444444,
              "#bd3786"
             ],
             [
              0.5555555555555556,
              "#d8576b"
             ],
             [
              0.6666666666666666,
              "#ed7953"
             ],
             [
              0.7777777777777778,
              "#fb9f3a"
             ],
             [
              0.8888888888888888,
              "#fdca26"
             ],
             [
              1,
              "#f0f921"
             ]
            ],
            "type": "heatmap"
           }
          ],
          "histogram": [
           {
            "marker": {
             "pattern": {
              "fillmode": "overlay",
              "size": 10,
              "solidity": 0.2
             }
            },
            "type": "histogram"
           }
          ],
          "histogram2d": [
           {
            "colorbar": {
             "outlinewidth": 0,
             "ticks": ""
            },
            "colorscale": [
             [
              0,
              "#0d0887"
             ],
             [
              0.1111111111111111,
              "#46039f"
             ],
             [
              0.2222222222222222,
              "#7201a8"
             ],
             [
              0.3333333333333333,
              "#9c179e"
             ],
             [
              0.4444444444444444,
              "#bd3786"
             ],
             [
              0.5555555555555556,
              "#d8576b"
             ],
             [
              0.6666666666666666,
              "#ed7953"
             ],
             [
              0.7777777777777778,
              "#fb9f3a"
             ],
             [
              0.8888888888888888,
              "#fdca26"
             ],
             [
              1,
              "#f0f921"
             ]
            ],
            "type": "histogram2d"
           }
          ],
          "histogram2dcontour": [
           {
            "colorbar": {
             "outlinewidth": 0,
             "ticks": ""
            },
            "colorscale": [
             [
              0,
              "#0d0887"
             ],
             [
              0.1111111111111111,
              "#46039f"
             ],
             [
              0.2222222222222222,
              "#7201a8"
             ],
             [
              0.3333333333333333,
              "#9c179e"
             ],
             [
              0.4444444444444444,
              "#bd3786"
             ],
             [
              0.5555555555555556,
              "#d8576b"
             ],
             [
              0.6666666666666666,
              "#ed7953"
             ],
             [
              0.7777777777777778,
              "#fb9f3a"
             ],
             [
              0.8888888888888888,
              "#fdca26"
             ],
             [
              1,
              "#f0f921"
             ]
            ],
            "type": "histogram2dcontour"
           }
          ],
          "mesh3d": [
           {
            "colorbar": {
             "outlinewidth": 0,
             "ticks": ""
            },
            "type": "mesh3d"
           }
          ],
          "parcoords": [
           {
            "line": {
             "colorbar": {
              "outlinewidth": 0,
              "ticks": ""
             }
            },
            "type": "parcoords"
           }
          ],
          "pie": [
           {
            "automargin": true,
            "type": "pie"
           }
          ],
          "scatter": [
           {
            "fillpattern": {
             "fillmode": "overlay",
             "size": 10,
             "solidity": 0.2
            },
            "type": "scatter"
           }
          ],
          "scatter3d": [
           {
            "line": {
             "colorbar": {
              "outlinewidth": 0,
              "ticks": ""
             }
            },
            "marker": {
             "colorbar": {
              "outlinewidth": 0,
              "ticks": ""
             }
            },
            "type": "scatter3d"
           }
          ],
          "scattercarpet": [
           {
            "marker": {
             "colorbar": {
              "outlinewidth": 0,
              "ticks": ""
             }
            },
            "type": "scattercarpet"
           }
          ],
          "scattergeo": [
           {
            "marker": {
             "colorbar": {
              "outlinewidth": 0,
              "ticks": ""
             }
            },
            "type": "scattergeo"
           }
          ],
          "scattergl": [
           {
            "marker": {
             "colorbar": {
              "outlinewidth": 0,
              "ticks": ""
             }
            },
            "type": "scattergl"
           }
          ],
          "scattermap": [
           {
            "marker": {
             "colorbar": {
              "outlinewidth": 0,
              "ticks": ""
             }
            },
            "type": "scattermap"
           }
          ],
          "scattermapbox": [
           {
            "marker": {
             "colorbar": {
              "outlinewidth": 0,
              "ticks": ""
             }
            },
            "type": "scattermapbox"
           }
          ],
          "scatterpolar": [
           {
            "marker": {
             "colorbar": {
              "outlinewidth": 0,
              "ticks": ""
             }
            },
            "type": "scatterpolar"
           }
          ],
          "scatterpolargl": [
           {
            "marker": {
             "colorbar": {
              "outlinewidth": 0,
              "ticks": ""
             }
            },
            "type": "scatterpolargl"
           }
          ],
          "scatterternary": [
           {
            "marker": {
             "colorbar": {
              "outlinewidth": 0,
              "ticks": ""
             }
            },
            "type": "scatterternary"
           }
          ],
          "surface": [
           {
            "colorbar": {
             "outlinewidth": 0,
             "ticks": ""
            },
            "colorscale": [
             [
              0,
              "#0d0887"
             ],
             [
              0.1111111111111111,
              "#46039f"
             ],
             [
              0.2222222222222222,
              "#7201a8"
             ],
             [
              0.3333333333333333,
              "#9c179e"
             ],
             [
              0.4444444444444444,
              "#bd3786"
             ],
             [
              0.5555555555555556,
              "#d8576b"
             ],
             [
              0.6666666666666666,
              "#ed7953"
             ],
             [
              0.7777777777777778,
              "#fb9f3a"
             ],
             [
              0.8888888888888888,
              "#fdca26"
             ],
             [
              1,
              "#f0f921"
             ]
            ],
            "type": "surface"
           }
          ],
          "table": [
           {
            "cells": {
             "fill": {
              "color": "#EBF0F8"
             },
             "line": {
              "color": "white"
             }
            },
            "header": {
             "fill": {
              "color": "#C8D4E3"
             },
             "line": {
              "color": "white"
             }
            },
            "type": "table"
           }
          ]
         },
         "layout": {
          "annotationdefaults": {
           "arrowcolor": "#2a3f5f",
           "arrowhead": 0,
           "arrowwidth": 1
          },
          "autotypenumbers": "strict",
          "coloraxis": {
           "colorbar": {
            "outlinewidth": 0,
            "ticks": ""
           }
          },
          "colorscale": {
           "diverging": [
            [
             0,
             "#8e0152"
            ],
            [
             0.1,
             "#c51b7d"
            ],
            [
             0.2,
             "#de77ae"
            ],
            [
             0.3,
             "#f1b6da"
            ],
            [
             0.4,
             "#fde0ef"
            ],
            [
             0.5,
             "#f7f7f7"
            ],
            [
             0.6,
             "#e6f5d0"
            ],
            [
             0.7,
             "#b8e186"
            ],
            [
             0.8,
             "#7fbc41"
            ],
            [
             0.9,
             "#4d9221"
            ],
            [
             1,
             "#276419"
            ]
           ],
           "sequential": [
            [
             0,
             "#0d0887"
            ],
            [
             0.1111111111111111,
             "#46039f"
            ],
            [
             0.2222222222222222,
             "#7201a8"
            ],
            [
             0.3333333333333333,
             "#9c179e"
            ],
            [
             0.4444444444444444,
             "#bd3786"
            ],
            [
             0.5555555555555556,
             "#d8576b"
            ],
            [
             0.6666666666666666,
             "#ed7953"
            ],
            [
             0.7777777777777778,
             "#fb9f3a"
            ],
            [
             0.8888888888888888,
             "#fdca26"
            ],
            [
             1,
             "#f0f921"
            ]
           ],
           "sequentialminus": [
            [
             0,
             "#0d0887"
            ],
            [
             0.1111111111111111,
             "#46039f"
            ],
            [
             0.2222222222222222,
             "#7201a8"
            ],
            [
             0.3333333333333333,
             "#9c179e"
            ],
            [
             0.4444444444444444,
             "#bd3786"
            ],
            [
             0.5555555555555556,
             "#d8576b"
            ],
            [
             0.6666666666666666,
             "#ed7953"
            ],
            [
             0.7777777777777778,
             "#fb9f3a"
            ],
            [
             0.8888888888888888,
             "#fdca26"
            ],
            [
             1,
             "#f0f921"
            ]
           ]
          },
          "colorway": [
           "#636efa",
           "#EF553B",
           "#00cc96",
           "#ab63fa",
           "#FFA15A",
           "#19d3f3",
           "#FF6692",
           "#B6E880",
           "#FF97FF",
           "#FECB52"
          ],
          "font": {
           "color": "#2a3f5f"
          },
          "geo": {
           "bgcolor": "white",
           "lakecolor": "white",
           "landcolor": "#E5ECF6",
           "showlakes": true,
           "showland": true,
           "subunitcolor": "white"
          },
          "hoverlabel": {
           "align": "left"
          },
          "hovermode": "closest",
          "mapbox": {
           "style": "light"
          },
          "paper_bgcolor": "white",
          "plot_bgcolor": "#E5ECF6",
          "polar": {
           "angularaxis": {
            "gridcolor": "white",
            "linecolor": "white",
            "ticks": ""
           },
           "bgcolor": "#E5ECF6",
           "radialaxis": {
            "gridcolor": "white",
            "linecolor": "white",
            "ticks": ""
           }
          },
          "scene": {
           "xaxis": {
            "backgroundcolor": "#E5ECF6",
            "gridcolor": "white",
            "gridwidth": 2,
            "linecolor": "white",
            "showbackground": true,
            "ticks": "",
            "zerolinecolor": "white"
           },
           "yaxis": {
            "backgroundcolor": "#E5ECF6",
            "gridcolor": "white",
            "gridwidth": 2,
            "linecolor": "white",
            "showbackground": true,
            "ticks": "",
            "zerolinecolor": "white"
           },
           "zaxis": {
            "backgroundcolor": "#E5ECF6",
            "gridcolor": "white",
            "gridwidth": 2,
            "linecolor": "white",
            "showbackground": true,
            "ticks": "",
            "zerolinecolor": "white"
           }
          },
          "shapedefaults": {
           "line": {
            "color": "#2a3f5f"
           }
          },
          "ternary": {
           "aaxis": {
            "gridcolor": "white",
            "linecolor": "white",
            "ticks": ""
           },
           "baxis": {
            "gridcolor": "white",
            "linecolor": "white",
            "ticks": ""
           },
           "bgcolor": "#E5ECF6",
           "caxis": {
            "gridcolor": "white",
            "linecolor": "white",
            "ticks": ""
           }
          },
          "title": {
           "x": 0.05
          },
          "xaxis": {
           "automargin": true,
           "gridcolor": "white",
           "linecolor": "white",
           "ticks": "",
           "title": {
            "standoff": 15
           },
           "zerolinecolor": "white",
           "zerolinewidth": 2
          },
          "yaxis": {
           "automargin": true,
           "gridcolor": "white",
           "linecolor": "white",
           "ticks": "",
           "title": {
            "standoff": 15
           },
           "zerolinecolor": "white",
           "zerolinewidth": 2
          }
         }
        },
        "title": {
         "text": "CDF Culmen Length for Each Species"
        },
        "xaxis": {
         "title": {
          "text": "Culmen Length"
         }
        },
        "yaxis": {
         "title": {
          "text": "PDF"
         }
        }
       }
      },
      "image/png": "[encoded data removed]"
     },
     "metadata": {},
     "output_type": "display_data"
    }
   ],
   "source": [
    "fig = go.Figure()\n",
    "\n",
    "fig.add_trace(\n",
    "    go.Line(\n",
    "        x=adelie_series.index,\n",
    "        y=adelie_series,\n",
    "        mode='lines',\n",
    "        name='Adelie'\n",
    "    )\n",
    ")\n",
    "\n",
    "fig.add_trace(\n",
    "    go.Line(\n",
    "        x=gentoo_series.index,\n",
    "        y=gentoo_series,\n",
    "        mode='lines',\n",
    "        name='Gento'\n",
    "    )\n",
    ")\n",
    "\n",
    "fig.add_trace(\n",
    "    go.Line(\n",
    "        x=chin_series.index,\n",
    "        y=chin_series,\n",
    "        mode='lines',\n",
    "        name='Chin'\n",
    "    )\n",
    ")\n",
    "\n",
    "fig.update_layout(\n",
    "    plot_bgcolor='rgba(0,0,0,0)',\n",
    "    title='CDF Culmen Length for Each Species',\n",
    "    xaxis_title='Culmen Length',\n",
    "    yaxis_title='PDF'\n",
    ")"
   ]
  },
  {
   "cell_type": "markdown",
   "id": "2527d3c8-6c2b-4738-a5a8-cf7aedae46e2",
   "metadata": {},
   "source": [
    "It looks like we can use culmen length to identify Adelie penguins, but the distributiion for the other two species almost entirely overlap."
   ]
  },
  {
   "cell_type": "code",
   "execution_count": 138,
   "id": "01c692c8-4c92-4d97-96b9-4ffdeb4f781d",
   "metadata": {},
   "outputs": [],
   "source": [
    "mean_adelie, std_adelie = stats.norm.fit(adelie_df['flipper_length'])\n",
    "mean_gentoo, std_gentoo = stats.norm.fit(gentoo_df['flipper_length'])\n",
    "mean_chin, std_chin = stats.norm.fit(chinstrap_df['flipper_length'])\n",
    "\n",
    "# use original df to cover all possible values of flipper length\n",
    "qs = np.linspace(start=df['flipper_length'].min(),\n",
    "                stop=df['flipper_length'].max(),\n",
    "                num=30)\n",
    "\n",
    "cdf_adelie = stats.norm.cdf(qs, loc=mean_adelie, scale=std_adelie)\n",
    "cdf_gentoo = stats.norm.cdf(qs, loc=mean_gentoo, scale=std_gentoo)\n",
    "cdf_chin = stats.norm.cdf(qs, loc=mean_chin, scale=std_chin)\n",
    "\n",
    "adelie_series = pd.Series(data=cdf_adelie, index=qs)\n",
    "gentoo_series = pd.Series(data=cdf_gentoo, index=qs)\n",
    "chin_series = pd.Series(data=cdf_chin, index=qs)"
   ]
  },
  {
   "cell_type": "code",
   "execution_count": 139,
   "id": "7e45aa28-5642-456e-bb8d-1057431b25be",
   "metadata": {},
   "outputs": [
    {
     "data": {
      "application/vnd.plotly.v1+json": {
       "config": {
        "plotlyServerURL": "https://plot.ly"
       },
       "data": [
        {
         "mode": "lines",
         "name": "Adelie",
         "type": "scatter",
         "x": {
          "bdata": "AAAAAACAZUCoEZZ7GsFlQE8jLPc0AmZA9zTCck9DZkCfRljuaYRmQEdY7mmExWZA7mmE5Z4GZ0CWexphuUdnQD6NsNzTiGdA5p5GWO7JZ0CNsNzTCAtoQDXCck8jTGhA3dMIyz2NaECE5Z5GWM5oQCz3NMJyD2lA1AjLPY1QaUB8GmG5p5FpQCMs9zTC0mlAyz2NsNwTakBzTyMs91RqQBphuacRlmpAwnJPIyzXakBqhOWeRhhrQBKWexphWWtAuacRlnuaa0BhuacRlttrQAnLPY2wHGxAsNzTCMtdbEBY7mmE5Z5sQAAAAAAA4GxA",
          "dtype": "f8"
         },
         "y": {
          "bdata": "cxzNWmwSaD9aqGdD0OB9P0b3eEvU+JA/aWdrwNCsoT9pFgEso+ewP9RMKPbGw70//Fsi1BwwyD/5SkvFDDXSP12Gefbaf9k/p8c/rsSy4D++OjT1n5TkPySXvr7DC+g/JI6FJrLa6j88CrSUo+vsP2tNrufyTO4/J8NFnjMj7z//ppZQKJnvP3lGjTcd1O8/junD2t3u7z9BlsUq4/nvP3eIME8C/u8/n6gBjmj/7z/QIhv61v/vPw4KF+D1/+8/DYNuuf3/7z+cC82I///vP9Ewzun//+8/zYw9/P//7z8TuWv////vP2g66////+8/",
          "dtype": "f8"
         }
        },
        {
         "mode": "lines",
         "name": "Gento",
         "type": "scatter",
         "x": {
          "bdata": "AAAAAACAZUCoEZZ7GsFlQE8jLPc0AmZA9zTCck9DZkCfRljuaYRmQEdY7mmExWZA7mmE5Z4GZ0CWexphuUdnQD6NsNzTiGdA5p5GWO7JZ0CNsNzTCAtoQDXCck8jTGhA3dMIyz2NaECE5Z5GWM5oQCz3NMJyD2lA1AjLPY1QaUB8GmG5p5FpQCMs9zTC0mlAyz2NsNwTakBzTyMs91RqQBphuacRlmpAwnJPIyzXakBqhOWeRhhrQBKWexphWWtAuacRlnuaa0BhuacRlttrQAnLPY2wHGxAsNzTCMtdbEBY7mmE5Z5sQAAAAAAA4GxA",
          "dtype": "f8"
         },
         "y": {
          "bdata": "CE6aN6cXdz3dqO3trAOqPawmg5UMl9o9eVgh8/mpCD4gq7Kr18M0PhFSg4lYvl8+ZcNYnZsIhj65so67BsmrPomu9sDU1s8+YeeUeFuV8D6gvM9gSWwPP7oNSoNzFys/pBFB+vNERT948faafG9eP6EjPdEy3XM/dqZsjAuuhz9cjDrsA9GZPy1hI+UKyak/CLmdeAultz/mNatqY/XDP8Snl2gwHs8/ZhqU7J9+1j+4PfHRyk7ePyaO/DJrJOM/0XR5CR/V5j+wDjgSSe3pP7IitptIR+w/fXhdXePl7T/t/dMAq+juPz7ZQ18Me+8/",
          "dtype": "f8"
         }
        },
        {
         "mode": "lines",
         "name": "Chin",
         "type": "scatter",
         "x": {
          "bdata": "AAAAAACAZUCoEZZ7GsFlQE8jLPc0AmZA9zTCck9DZkCfRljuaYRmQEdY7mmExWZA7mmE5Z4GZ0CWexphuUdnQD6NsNzTiGdA5p5GWO7JZ0CNsNzTCAtoQDXCck8jTGhA3dMIyz2NaECE5Z5GWM5oQCz3NMJyD2lA1AjLPY1QaUB8GmG5p5FpQCMs9zTC0mlAyz2NsNwTakBzTyMs91RqQBphuacRlmpAwnJPIyzXakBqhOWeRhhrQBKWexphWWtAuacRlnuaa0BhuacRlttrQAnLPY2wHGxAsNzTCMtdbEBY7mmE5Z5sQAAAAAAA4GxA",
          "dtype": "f8"
         },
         "y": {
          "bdata": "0N45/vYOOT/Cl8DEQBRRP1hdIBuTjmU/vNWAkpU2eT9EwCfdMVqLP2BjY9GYjZs/UL8ho7DOqT+EykFhNYO2P+BiW7yIU8I/EJwHgDfpyz/0s7d71PDTPypQWR6/09o/ZWOJ7S0Q4T+aC0mFg6DkP9tv72g81ec/jCU7Imd96j/2N0basYTsP4AM4nXw8e0/+jMWWJre7j8pKW7J32vvP6caEbmPue8/PnA/Buvg7z890FsvSfPvP4OwVdYu++8/BZ7yj0/+7z/9Oum5c//vP+bkau7V/+8/XtgmV/T/7z8t2cQD/f/vP53yS0v//+8/",
          "dtype": "f8"
         }
        }
       ],
       "layout": {
        "plot_bgcolor": "rgba(0,0,0,0)",
        "template": {
         "data": {
          "bar": [
           {
            "error_x": {
             "color": "#2a3f5f"
            },
            "error_y": {
             "color": "#2a3f5f"
            },
            "marker": {
             "line": {
              "color": "#E5ECF6",
              "width": 0.5
             },
             "pattern": {
              "fillmode": "overlay",
              "size": 10,
              "solidity": 0.2
             }
            },
            "type": "bar"
           }
          ],
          "barpolar": [
           {
            "marker": {
             "line": {
              "color": "#E5ECF6",
              "width": 0.5
             },
             "pattern": {
              "fillmode": "overlay",
              "size": 10,
              "solidity": 0.2
             }
            },
            "type": "barpolar"
           }
          ],
          "carpet": [
           {
            "aaxis": {
             "endlinecolor": "#2a3f5f",
             "gridcolor": "white",
             "linecolor": "white",
             "minorgridcolor": "white",
             "startlinecolor": "#2a3f5f"
            },
            "baxis": {
             "endlinecolor": "#2a3f5f",
             "gridcolor": "white",
             "linecolor": "white",
             "minorgridcolor": "white",
             "startlinecolor": "#2a3f5f"
            },
            "type": "carpet"
           }
          ],
          "choropleth": [
           {
            "colorbar": {
             "outlinewidth": 0,
             "ticks": ""
            },
            "type": "choropleth"
           }
          ],
          "contour": [
           {
            "colorbar": {
             "outlinewidth": 0,
             "ticks": ""
            },
            "colorscale": [
             [
              0,
              "#0d0887"
             ],
             [
              0.1111111111111111,
              "#46039f"
             ],
             [
              0.2222222222222222,
              "#7201a8"
             ],
             [
              0.3333333333333333,
              "#9c179e"
             ],
             [
              0.4444444444444444,
              "#bd3786"
             ],
             [
              0.5555555555555556,
              "#d8576b"
             ],
             [
              0.6666666666666666,
              "#ed7953"
             ],
             [
              0.7777777777777778,
              "#fb9f3a"
             ],
             [
              0.8888888888888888,
              "#fdca26"
             ],
             [
              1,
              "#f0f921"
             ]
            ],
            "type": "contour"
           }
          ],
          "contourcarpet": [
           {
            "colorbar": {
             "outlinewidth": 0,
             "ticks": ""
            },
            "type": "contourcarpet"
           }
          ],
          "heatmap": [
           {
            "colorbar": {
             "outlinewidth": 0,
             "ticks": ""
            },
            "colorscale": [
             [
              0,
              "#0d0887"
             ],
             [
              0.1111111111111111,
              "#46039f"
             ],
             [
              0.2222222222222222,
              "#7201a8"
             ],
             [
              0.3333333333333333,
              "#9c179e"
             ],
             [
              0.4444444444444444,
              "#bd3786"
             ],
             [
              0.5555555555555556,
              "#d8576b"
             ],
             [
              0.6666666666666666,
              "#ed7953"
             ],
             [
              0.7777777777777778,
              "#fb9f3a"
             ],
             [
              0.8888888888888888,
              "#fdca26"
             ],
             [
              1,
              "#f0f921"
             ]
            ],
            "type": "heatmap"
           }
          ],
          "histogram": [
           {
            "marker": {
             "pattern": {
              "fillmode": "overlay",
              "size": 10,
              "solidity": 0.2
             }
            },
            "type": "histogram"
           }
          ],
          "histogram2d": [
           {
            "colorbar": {
             "outlinewidth": 0,
             "ticks": ""
            },
            "colorscale": [
             [
              0,
              "#0d0887"
             ],
             [
              0.1111111111111111,
              "#46039f"
             ],
             [
              0.2222222222222222,
              "#7201a8"
             ],
             [
              0.3333333333333333,
              "#9c179e"
             ],
             [
              0.4444444444444444,
              "#bd3786"
             ],
             [
              0.5555555555555556,
              "#d8576b"
             ],
             [
              0.6666666666666666,
              "#ed7953"
             ],
             [
              0.7777777777777778,
              "#fb9f3a"
             ],
             [
              0.8888888888888888,
              "#fdca26"
             ],
             [
              1,
              "#f0f921"
             ]
            ],
            "type": "histogram2d"
           }
          ],
          "histogram2dcontour": [
           {
            "colorbar": {
             "outlinewidth": 0,
             "ticks": ""
            },
            "colorscale": [
             [
              0,
              "#0d0887"
             ],
             [
              0.1111111111111111,
              "#46039f"
             ],
             [
              0.2222222222222222,
              "#7201a8"
             ],
             [
              0.3333333333333333,
              "#9c179e"
             ],
             [
              0.4444444444444444,
              "#bd3786"
             ],
             [
              0.5555555555555556,
              "#d8576b"
             ],
             [
              0.6666666666666666,
              "#ed7953"
             ],
             [
              0.7777777777777778,
              "#fb9f3a"
             ],
             [
              0.8888888888888888,
              "#fdca26"
             ],
             [
              1,
              "#f0f921"
             ]
            ],
            "type": "histogram2dcontour"
           }
          ],
          "mesh3d": [
           {
            "colorbar": {
             "outlinewidth": 0,
             "ticks": ""
            },
            "type": "mesh3d"
           }
          ],
          "parcoords": [
           {
            "line": {
             "colorbar": {
              "outlinewidth": 0,
              "ticks": ""
             }
            },
            "type": "parcoords"
           }
          ],
          "pie": [
           {
            "automargin": true,
            "type": "pie"
           }
          ],
          "scatter": [
           {
            "fillpattern": {
             "fillmode": "overlay",
             "size": 10,
             "solidity": 0.2
            },
            "type": "scatter"
           }
          ],
          "scatter3d": [
           {
            "line": {
             "colorbar": {
              "outlinewidth": 0,
              "ticks": ""
             }
            },
            "marker": {
             "colorbar": {
              "outlinewidth": 0,
              "ticks": ""
             }
            },
            "type": "scatter3d"
           }
          ],
          "scattercarpet": [
           {
            "marker": {
             "colorbar": {
              "outlinewidth": 0,
              "ticks": ""
             }
            },
            "type": "scattercarpet"
           }
          ],
          "scattergeo": [
           {
            "marker": {
             "colorbar": {
              "outlinewidth": 0,
              "ticks": ""
             }
            },
            "type": "scattergeo"
           }
          ],
          "scattergl": [
           {
            "marker": {
             "colorbar": {
              "outlinewidth": 0,
              "ticks": ""
             }
            },
            "type": "scattergl"
           }
          ],
          "scattermap": [
           {
            "marker": {
             "colorbar": {
              "outlinewidth": 0,
              "ticks": ""
             }
            },
            "type": "scattermap"
           }
          ],
          "scattermapbox": [
           {
            "marker": {
             "colorbar": {
              "outlinewidth": 0,
              "ticks": ""
             }
            },
            "type": "scattermapbox"
           }
          ],
          "scatterpolar": [
           {
            "marker": {
             "colorbar": {
              "outlinewidth": 0,
              "ticks": ""
             }
            },
            "type": "scatterpolar"
           }
          ],
          "scatterpolargl": [
           {
            "marker": {
             "colorbar": {
              "outlinewidth": 0,
              "ticks": ""
             }
            },
            "type": "scatterpolargl"
           }
          ],
          "scatterternary": [
           {
            "marker": {
             "colorbar": {
              "outlinewidth": 0,
              "ticks": ""
             }
            },
            "type": "scatterternary"
           }
          ],
          "surface": [
           {
            "colorbar": {
             "outlinewidth": 0,
             "ticks": ""
            },
            "colorscale": [
             [
              0,
              "#0d0887"
             ],
             [
              0.1111111111111111,
              "#46039f"
             ],
             [
              0.2222222222222222,
              "#7201a8"
             ],
             [
              0.3333333333333333,
              "#9c179e"
             ],
             [
              0.4444444444444444,
              "#bd3786"
             ],
             [
              0.5555555555555556,
              "#d8576b"
             ],
             [
              0.6666666666666666,
              "#ed7953"
             ],
             [
              0.7777777777777778,
              "#fb9f3a"
             ],
             [
              0.8888888888888888,
              "#fdca26"
             ],
             [
              1,
              "#f0f921"
             ]
            ],
            "type": "surface"
           }
          ],
          "table": [
           {
            "cells": {
             "fill": {
              "color": "#EBF0F8"
             },
             "line": {
              "color": "white"
             }
            },
            "header": {
             "fill": {
              "color": "#C8D4E3"
             },
             "line": {
              "color": "white"
             }
            },
            "type": "table"
           }
          ]
         },
         "layout": {
          "annotationdefaults": {
           "arrowcolor": "#2a3f5f",
           "arrowhead": 0,
           "arrowwidth": 1
          },
          "autotypenumbers": "strict",
          "coloraxis": {
           "colorbar": {
            "outlinewidth": 0,
            "ticks": ""
           }
          },
          "colorscale": {
           "diverging": [
            [
             0,
             "#8e0152"
            ],
            [
             0.1,
             "#c51b7d"
            ],
            [
             0.2,
             "#de77ae"
            ],
            [
             0.3,
             "#f1b6da"
            ],
            [
             0.4,
             "#fde0ef"
            ],
            [
             0.5,
             "#f7f7f7"
            ],
            [
             0.6,
             "#e6f5d0"
            ],
            [
             0.7,
             "#b8e186"
            ],
            [
             0.8,
             "#7fbc41"
            ],
            [
             0.9,
             "#4d9221"
            ],
            [
             1,
             "#276419"
            ]
           ],
           "sequential": [
            [
             0,
             "#0d0887"
            ],
            [
             0.1111111111111111,
             "#46039f"
            ],
            [
             0.2222222222222222,
             "#7201a8"
            ],
            [
             0.3333333333333333,
             "#9c179e"
            ],
            [
             0.4444444444444444,
             "#bd3786"
            ],
            [
             0.5555555555555556,
             "#d8576b"
            ],
            [
             0.6666666666666666,
             "#ed7953"
            ],
            [
             0.7777777777777778,
             "#fb9f3a"
            ],
            [
             0.8888888888888888,
             "#fdca26"
            ],
            [
             1,
             "#f0f921"
            ]
           ],
           "sequentialminus": [
            [
             0,
             "#0d0887"
            ],
            [
             0.1111111111111111,
             "#46039f"
            ],
            [
             0.2222222222222222,
             "#7201a8"
            ],
            [
             0.3333333333333333,
             "#9c179e"
            ],
            [
             0.4444444444444444,
             "#bd3786"
            ],
            [
             0.5555555555555556,
             "#d8576b"
            ],
            [
             0.6666666666666666,
             "#ed7953"
            ],
            [
             0.7777777777777778,
             "#fb9f3a"
            ],
            [
             0.8888888888888888,
             "#fdca26"
            ],
            [
             1,
             "#f0f921"
            ]
           ]
          },
          "colorway": [
           "#636efa",
           "#EF553B",
           "#00cc96",
           "#ab63fa",
           "#FFA15A",
           "#19d3f3",
           "#FF6692",
           "#B6E880",
           "#FF97FF",
           "#FECB52"
          ],
          "font": {
           "color": "#2a3f5f"
          },
          "geo": {
           "bgcolor": "white",
           "lakecolor": "white",
           "landcolor": "#E5ECF6",
           "showlakes": true,
           "showland": true,
           "subunitcolor": "white"
          },
          "hoverlabel": {
           "align": "left"
          },
          "hovermode": "closest",
          "mapbox": {
           "style": "light"
          },
          "paper_bgcolor": "white",
          "plot_bgcolor": "#E5ECF6",
          "polar": {
           "angularaxis": {
            "gridcolor": "white",
            "linecolor": "white",
            "ticks": ""
           },
           "bgcolor": "#E5ECF6",
           "radialaxis": {
            "gridcolor": "white",
            "linecolor": "white",
            "ticks": ""
           }
          },
          "scene": {
           "xaxis": {
            "backgroundcolor": "#E5ECF6",
            "gridcolor": "white",
            "gridwidth": 2,
            "linecolor": "white",
            "showbackground": true,
            "ticks": "",
            "zerolinecolor": "white"
           },
           "yaxis": {
            "backgroundcolor": "#E5ECF6",
            "gridcolor": "white",
            "gridwidth": 2,
            "linecolor": "white",
            "showbackground": true,
            "ticks": "",
            "zerolinecolor": "white"
           },
           "zaxis": {
            "backgroundcolor": "#E5ECF6",
            "gridcolor": "white",
            "gridwidth": 2,
            "linecolor": "white",
            "showbackground": true,
            "ticks": "",
            "zerolinecolor": "white"
           }
          },
          "shapedefaults": {
           "line": {
            "color": "#2a3f5f"
           }
          },
          "ternary": {
           "aaxis": {
            "gridcolor": "white",
            "linecolor": "white",
            "ticks": ""
           },
           "baxis": {
            "gridcolor": "white",
            "linecolor": "white",
            "ticks": ""
           },
           "bgcolor": "#E5ECF6",
           "caxis": {
            "gridcolor": "white",
            "linecolor": "white",
            "ticks": ""
           }
          },
          "title": {
           "x": 0.05
          },
          "xaxis": {
           "automargin": true,
           "gridcolor": "white",
           "linecolor": "white",
           "ticks": "",
           "title": {
            "standoff": 15
           },
           "zerolinecolor": "white",
           "zerolinewidth": 2
          },
          "yaxis": {
           "automargin": true,
           "gridcolor": "white",
           "linecolor": "white",
           "ticks": "",
           "title": {
            "standoff": 15
           },
           "zerolinecolor": "white",
           "zerolinewidth": 2
          }
         }
        },
        "title": {
         "text": "CDF Flipper Length for Each Species"
        },
        "xaxis": {
         "title": {
          "text": "Culmen Length"
         }
        },
        "yaxis": {
         "title": {
          "text": "PDF"
         }
        }
       }
      },
      "image/png": "[encoded data removed]"
     },
     "metadata": {},
     "output_type": "display_data"
    }
   ],
   "source": [
    "fig = go.Figure()\n",
    "\n",
    "fig.add_trace(\n",
    "    go.Line(\n",
    "        x=adelie_series.index,\n",
    "        y=adelie_series,\n",
    "        mode='lines',\n",
    "        name='Adelie'\n",
    "    )\n",
    ")\n",
    "\n",
    "fig.add_trace(\n",
    "    go.Line(\n",
    "        x=gentoo_series.index,\n",
    "        y=gentoo_series,\n",
    "        mode='lines',\n",
    "        name='Gento'\n",
    "    )\n",
    ")\n",
    "\n",
    "fig.add_trace(\n",
    "    go.Line(\n",
    "        x=chin_series.index,\n",
    "        y=chin_series,\n",
    "        mode='lines',\n",
    "        name='Chin'\n",
    "    )\n",
    ")\n",
    "\n",
    "fig.update_layout(\n",
    "    plot_bgcolor='rgba(0,0,0,0)',\n",
    "    title='CDF Flipper Length for Each Species',\n",
    "    xaxis_title='Culmen Length',\n",
    "    yaxis_title='PDF'\n",
    ")"
   ]
  },
  {
   "cell_type": "markdown",
   "id": "006ec673-68e5-43da-921f-79306a6eaeb0",
   "metadata": {},
   "source": [
    "Using flipper length, we can distinguish Gentoo penguins from the other two species. So with these two features, it seems like we should be able to classify penguins with some accuracy."
   ]
  },
  {
   "cell_type": "code",
   "execution_count": 141,
   "id": "4fe72f9b-8cc0-46f9-9dbd-ba93fbaeb90e",
   "metadata": {},
   "outputs": [
    {
     "data": {
      "text/plain": [
       "np.float64(0.05487494158668887)"
      ]
     },
     "execution_count": 141,
     "metadata": {},
     "output_type": "execute_result"
    }
   ],
   "source": [
    "stats.norm.pdf(193, loc=mean_adelie, scale=std_adelie)"
   ]
  },
  {
   "cell_type": "code",
   "execution_count": 143,
   "id": "9de24524-5145-4881-82b5-fad10c58ea02",
   "metadata": {},
   "outputs": [
    {
     "data": {
      "text/plain": [
       "np.float64(0.052044994828400935)"
      ]
     },
     "execution_count": 143,
     "metadata": {},
     "output_type": "execute_result"
    }
   ],
   "source": [
    "stats.norm.pdf(193, loc=mean_chin, scale=std_chin)"
   ]
  },
  {
   "cell_type": "code",
   "execution_count": 142,
   "id": "45b3129f-03f3-4b1d-8f0b-b7fd049946a1",
   "metadata": {},
   "outputs": [
    {
     "data": {
      "text/plain": [
       "np.float64(0.00016448643355987643)"
      ]
     },
     "execution_count": 142,
     "metadata": {},
     "output_type": "execute_result"
    }
   ],
   "source": [
    "stats.norm.pdf(193, loc=mean_gentoo, scale=std_chin)"
   ]
  },
  {
   "cell_type": "markdown",
   "id": "b6de11ee-6626-4a5b-bdf9-53bcf81887ad",
   "metadata": {},
   "source": [
    "### Normal Model"
   ]
  },
  {
   "cell_type": "code",
   "execution_count": 146,
   "id": "d73097c8-b215-41f2-a6d5-8689f3ddaf3a",
   "metadata": {},
   "outputs": [],
   "source": [
    "def make_norm_map(df, colname, by='species'):\n",
    "    norm_map = {}\n",
    "    grouped = df.groupby(by)[colname]\n",
    "    for species, group in grouped:\n",
    "        mean = group.mean()\n",
    "        std = group.std()\n",
    "        norm_map[species] = stats.norm(mean, std)\n",
    "    return norm_map"
   ]
  },
  {
   "cell_type": "code",
   "execution_count": 162,
   "id": "382d723b-841d-40fd-b4de-61b423179a37",
   "metadata": {},
   "outputs": [
    {
     "data": {
      "text/plain": [
       "({'Adelie': <scipy.stats._distn_infrastructure.rv_continuous_frozen at 0x76b9ff710b50>,\n",
       "  'Chinstrap': <scipy.stats._distn_infrastructure.rv_continuous_frozen at 0x76b9ff701ed0>,\n",
       "  'Gentoo': <scipy.stats._distn_infrastructure.rv_continuous_frozen at 0x76b9ff712310>},\n",
       " dict_keys(['Adelie', 'Chinstrap', 'Gentoo']))"
      ]
     },
     "execution_count": 162,
     "metadata": {},
     "output_type": "execute_result"
    }
   ],
   "source": [
    "flipper_map = make_norm_map(df, 'flipper_length')\n",
    "flipper_map, flipper_map.keys()"
   ]
  },
  {
   "cell_type": "code",
   "execution_count": 150,
   "id": "4ab1d9a0-a3da-42bc-8bb3-ef57a6e70220",
   "metadata": {},
   "outputs": [
    {
     "data": {
      "text/plain": [
       "np.float64(0.054732511875530694)"
      ]
     },
     "execution_count": 150,
     "metadata": {},
     "output_type": "execute_result"
    }
   ],
   "source": [
    "flipper_map['Adelie'].pdf(193) # the pdf is slightly different with the pdf of adelie flipper length before. it's due to difference result between scipy and pandas computation"
   ]
  },
  {
   "cell_type": "code",
   "execution_count": 161,
   "id": "d968b34e-f6bd-4bd2-8412-09cc7f155700",
   "metadata": {},
   "outputs": [
    {
     "data": {
      "text/plain": [
       "[np.float64(0.054732511875530694),\n",
       " np.float64(0.05172135615888162),\n",
       " np.float64(5.8660453661990634e-05)]"
      ]
     },
     "execution_count": 161,
     "metadata": {},
     "output_type": "execute_result"
    }
   ],
   "source": [
    "data = 193\n",
    "hypos = flipper_map.keys()\n",
    "likelihood = [flipper_map[hypo].pdf(data) for hypo in hypos]\n",
    "likelihood"
   ]
  },
  {
   "cell_type": "code",
   "execution_count": null,
   "id": "02b72fd0-0b36-4013-88d3-73933642877d",
   "metadata": {},
   "outputs": [],
   "source": []
  }
 ],
 "metadata": {
  "kernelspec": {
   "display_name": "Python 3 (ipykernel)",
   "language": "python",
   "name": "python3"
  },
  "language_info": {
   "codemirror_mode": {
    "name": "ipython",
    "version": 3
   },
   "file_extension": ".py",
   "mimetype": "text/x-python",
   "name": "python",
   "nbconvert_exporter": "python",
   "pygments_lexer": "ipython3",
   "version": "3.11.0"
  }
 },
 "nbformat": 4,
 "nbformat_minor": 5
}
